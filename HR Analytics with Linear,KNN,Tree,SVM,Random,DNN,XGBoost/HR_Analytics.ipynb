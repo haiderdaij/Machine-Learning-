{
  "nbformat": 4,
  "nbformat_minor": 0,
  "metadata": {
    "colab": {
      "name": "HR Analytics",
      "provenance": [],
      "collapsed_sections": [
        "tCmS8V8ENJw4",
        "B7Hi-TgOp5jd",
        "VaTbwZEmqX8X",
        "3SijsvtxajRB",
        "OCKzKBehptcB",
        "UZ16E2CkWvY5",
        "apPyaS4fEfDV",
        "-mN-Za-ErQcv",
        "ohfSqSEQ0cK5",
        "ZRvQD4v5r2LP",
        "TL68anvH3Afp",
        "e6ZTztW33u1I",
        "nNmrLE1_r-GX",
        "ageW-bbM4kzr",
        "X0EE92B75vjP",
        "_tHJLl1DAraE",
        "dCKzl96V6K7S",
        "SQYBZ4eX6uAI"
      ],
      "toc_visible": true
    },
    "kernelspec": {
      "name": "python3",
      "display_name": "Python 3"
    },
    "language_info": {
      "name": "python"
    }
  },
  "cells": [
    {
      "cell_type": "markdown",
      "metadata": {
        "id": "tCmS8V8ENJw4"
      },
      "source": [
        "#HR Analytics: Job Change of Data Scientists\n"
      ]
    },
    {
      "cell_type": "markdown",
      "metadata": {
        "id": "N38-ryuvNWVL"
      },
      "source": [
        "Predict: who will move to a new job?"
      ]
    },
    {
      "cell_type": "markdown",
      "metadata": {
        "id": "G0c3epnKNfyL"
      },
      "source": [
        "Context and Content:\n",
        "\n",
        "\n",
        "A company which is active in Big Data and Data Science wants to hire data scientists among people who successfully pass some courses which conduct by the company. Many people signup for their training. Company wants to know which of these candidates are really wants to work for the company after training or looking for a new employment because it helps to reduce the cost and time as well as the quality of training or planning the courses and categorization of candidates. Information related to demographics, education, experience are in hands from candidates signup and enrollment.\n",
        "\n",
        "This dataset designed to understand the factors that lead a person to leave current job for HR researches too. By model(s) that uses the current credentials,demographics,experience data you will predict the probability of a candidate to look for a new job or will work for the company, as well as interpreting affected factors on employee decision.\n",
        "\n",
        "The whole data divided to train and test . Target isn't included in test but the test target values data file is in hands for related tasks. A sample submission correspond to enrollee_id of test set provided too with columns : enrollee _id , target"
      ]
    },
    {
      "cell_type": "markdown",
      "metadata": {
        "id": "hRuFAJwIN5l7"
      },
      "source": [
        "Features:\n",
        "\n",
        "enrollee_id : Unique ID for candidate\n",
        "\n",
        "city: City code\n",
        "\n",
        "city_ development _index : Developement index of the city (scaled)\n",
        "\n",
        "gender: Gender of candidate\n",
        "\n",
        "relevent_experience: Relevant experience of candidate\n",
        "\n",
        "enrolled_university: Type of University course enrolled if any\n",
        "\n",
        "education_level: Education level of candidate\n",
        "\n",
        "major_discipline :Education major discipline of candidate\n",
        "\n",
        "experience: Candidate total experience in years\n",
        "\n",
        "company_size: No of employees in current employer's company\n",
        "\n",
        "company_type : Type of current employer\n",
        "\n",
        "lastnewjob: Difference in years between previous job and current job\n",
        "\n",
        "training_hours: training hours completed\n",
        "\n",
        "target: 0 – Not looking for job change, 1 – Looking for a job change"
      ]
    },
    {
      "cell_type": "markdown",
      "metadata": {
        "id": "B7Hi-TgOp5jd"
      },
      "source": [
        "#load the datasets from kaggle"
      ]
    },
    {
      "cell_type": "code",
      "metadata": {
        "id": "OnTBPTOtNiD4"
      },
      "source": [
        "mkdir ~/.kaggle/"
      ],
      "execution_count": null,
      "outputs": []
    },
    {
      "cell_type": "code",
      "metadata": {
        "id": "DIerzbClpU1R"
      },
      "source": [
        "!cp kaggle.json ~/.kaggle/"
      ],
      "execution_count": null,
      "outputs": []
    },
    {
      "cell_type": "code",
      "metadata": {
        "id": "2PuVRd-6pj-H"
      },
      "source": [
        "!chmod 600 ~/.kaggle/kaggle.json"
      ],
      "execution_count": null,
      "outputs": []
    },
    {
      "cell_type": "code",
      "metadata": {
        "colab": {
          "base_uri": "https://localhost:8080/"
        },
        "id": "iU3MsEtrpmqs",
        "outputId": "b4ce9c18-0ac1-4d07-e5f2-dbc07cc6dd25"
      },
      "source": [
        "!kaggle datasets download -d arashnic/hr-analytics-job-change-of-data-scientists"
      ],
      "execution_count": null,
      "outputs": [
        {
          "output_type": "stream",
          "name": "stdout",
          "text": [
            "Downloading hr-analytics-job-change-of-data-scientists.zip to /content\n",
            "\r  0% 0.00/295k [00:00<?, ?B/s]\n",
            "\r100% 295k/295k [00:00<00:00, 40.2MB/s]\n"
          ]
        }
      ]
    },
    {
      "cell_type": "code",
      "metadata": {
        "colab": {
          "base_uri": "https://localhost:8080/"
        },
        "id": "eMt4YnpGpsdk",
        "outputId": "8e2da97a-1c55-45cb-928c-7995110aece7"
      },
      "source": [
        "!unzip hr-analytics-job-change-of-data-scientists.zip"
      ],
      "execution_count": null,
      "outputs": [
        {
          "output_type": "stream",
          "name": "stdout",
          "text": [
            "Archive:  hr-analytics-job-change-of-data-scientists.zip\n",
            "  inflating: aug_test.csv            \n",
            "  inflating: aug_train.csv           \n",
            "  inflating: sample_submission.csv   \n"
          ]
        }
      ]
    },
    {
      "cell_type": "markdown",
      "metadata": {
        "id": "VaTbwZEmqX8X"
      },
      "source": [
        "#prepare the datasets"
      ]
    },
    {
      "cell_type": "code",
      "metadata": {
        "id": "dl_M3BSqqI1l"
      },
      "source": [
        "#importing libraries to manipulate,analysis and visualizate the datasets. \n",
        "#Also using them for the models: entering an algorithms into the datasets to train and test the models \n",
        "\n",
        "import matplotlib.pyplot as plt\n",
        "import seaborn as sns\n",
        "import pandas as pd\n",
        "import numpy as np\n",
        "from sklearn import preprocessing,metrics,model_selection,linear_model,neighbors,svm,tree\n",
        "from mlxtend.plotting import plot_confusion_matrix\n",
        "from sklearn.ensemble import RandomForestClassifier\n",
        "import tensorflow as tf\n",
        "import xgboost as xgb"
      ],
      "execution_count": null,
      "outputs": []
    },
    {
      "cell_type": "code",
      "metadata": {
        "colab": {
          "base_uri": "https://localhost:8080/",
          "height": 439
        },
        "id": "wbatQL5T3iIf",
        "outputId": "693aff83-57f1-4790-9f54-070557731af2"
      },
      "source": [
        "#read the path of what I need \"training.csv\"\n",
        "\n",
        "df=pd.read_csv('/content/aug_train.csv') \n",
        "df"
      ],
      "execution_count": null,
      "outputs": [
        {
          "output_type": "execute_result",
          "data": {
            "text/html": [
              "<div>\n",
              "<style scoped>\n",
              "    .dataframe tbody tr th:only-of-type {\n",
              "        vertical-align: middle;\n",
              "    }\n",
              "\n",
              "    .dataframe tbody tr th {\n",
              "        vertical-align: top;\n",
              "    }\n",
              "\n",
              "    .dataframe thead th {\n",
              "        text-align: right;\n",
              "    }\n",
              "</style>\n",
              "<table border=\"1\" class=\"dataframe\">\n",
              "  <thead>\n",
              "    <tr style=\"text-align: right;\">\n",
              "      <th></th>\n",
              "      <th>enrollee_id</th>\n",
              "      <th>city</th>\n",
              "      <th>city_development_index</th>\n",
              "      <th>gender</th>\n",
              "      <th>relevent_experience</th>\n",
              "      <th>enrolled_university</th>\n",
              "      <th>education_level</th>\n",
              "      <th>major_discipline</th>\n",
              "      <th>experience</th>\n",
              "      <th>company_size</th>\n",
              "      <th>company_type</th>\n",
              "      <th>last_new_job</th>\n",
              "      <th>training_hours</th>\n",
              "      <th>target</th>\n",
              "    </tr>\n",
              "  </thead>\n",
              "  <tbody>\n",
              "    <tr>\n",
              "      <th>0</th>\n",
              "      <td>8949</td>\n",
              "      <td>city_103</td>\n",
              "      <td>0.920</td>\n",
              "      <td>Male</td>\n",
              "      <td>Has relevent experience</td>\n",
              "      <td>no_enrollment</td>\n",
              "      <td>Graduate</td>\n",
              "      <td>STEM</td>\n",
              "      <td>&gt;20</td>\n",
              "      <td>NaN</td>\n",
              "      <td>NaN</td>\n",
              "      <td>1</td>\n",
              "      <td>36</td>\n",
              "      <td>1.0</td>\n",
              "    </tr>\n",
              "    <tr>\n",
              "      <th>1</th>\n",
              "      <td>29725</td>\n",
              "      <td>city_40</td>\n",
              "      <td>0.776</td>\n",
              "      <td>Male</td>\n",
              "      <td>No relevent experience</td>\n",
              "      <td>no_enrollment</td>\n",
              "      <td>Graduate</td>\n",
              "      <td>STEM</td>\n",
              "      <td>15</td>\n",
              "      <td>50-99</td>\n",
              "      <td>Pvt Ltd</td>\n",
              "      <td>&gt;4</td>\n",
              "      <td>47</td>\n",
              "      <td>0.0</td>\n",
              "    </tr>\n",
              "    <tr>\n",
              "      <th>2</th>\n",
              "      <td>11561</td>\n",
              "      <td>city_21</td>\n",
              "      <td>0.624</td>\n",
              "      <td>NaN</td>\n",
              "      <td>No relevent experience</td>\n",
              "      <td>Full time course</td>\n",
              "      <td>Graduate</td>\n",
              "      <td>STEM</td>\n",
              "      <td>5</td>\n",
              "      <td>NaN</td>\n",
              "      <td>NaN</td>\n",
              "      <td>never</td>\n",
              "      <td>83</td>\n",
              "      <td>0.0</td>\n",
              "    </tr>\n",
              "    <tr>\n",
              "      <th>3</th>\n",
              "      <td>33241</td>\n",
              "      <td>city_115</td>\n",
              "      <td>0.789</td>\n",
              "      <td>NaN</td>\n",
              "      <td>No relevent experience</td>\n",
              "      <td>NaN</td>\n",
              "      <td>Graduate</td>\n",
              "      <td>Business Degree</td>\n",
              "      <td>&lt;1</td>\n",
              "      <td>NaN</td>\n",
              "      <td>Pvt Ltd</td>\n",
              "      <td>never</td>\n",
              "      <td>52</td>\n",
              "      <td>1.0</td>\n",
              "    </tr>\n",
              "    <tr>\n",
              "      <th>4</th>\n",
              "      <td>666</td>\n",
              "      <td>city_162</td>\n",
              "      <td>0.767</td>\n",
              "      <td>Male</td>\n",
              "      <td>Has relevent experience</td>\n",
              "      <td>no_enrollment</td>\n",
              "      <td>Masters</td>\n",
              "      <td>STEM</td>\n",
              "      <td>&gt;20</td>\n",
              "      <td>50-99</td>\n",
              "      <td>Funded Startup</td>\n",
              "      <td>4</td>\n",
              "      <td>8</td>\n",
              "      <td>0.0</td>\n",
              "    </tr>\n",
              "    <tr>\n",
              "      <th>...</th>\n",
              "      <td>...</td>\n",
              "      <td>...</td>\n",
              "      <td>...</td>\n",
              "      <td>...</td>\n",
              "      <td>...</td>\n",
              "      <td>...</td>\n",
              "      <td>...</td>\n",
              "      <td>...</td>\n",
              "      <td>...</td>\n",
              "      <td>...</td>\n",
              "      <td>...</td>\n",
              "      <td>...</td>\n",
              "      <td>...</td>\n",
              "      <td>...</td>\n",
              "    </tr>\n",
              "    <tr>\n",
              "      <th>19153</th>\n",
              "      <td>7386</td>\n",
              "      <td>city_173</td>\n",
              "      <td>0.878</td>\n",
              "      <td>Male</td>\n",
              "      <td>No relevent experience</td>\n",
              "      <td>no_enrollment</td>\n",
              "      <td>Graduate</td>\n",
              "      <td>Humanities</td>\n",
              "      <td>14</td>\n",
              "      <td>NaN</td>\n",
              "      <td>NaN</td>\n",
              "      <td>1</td>\n",
              "      <td>42</td>\n",
              "      <td>1.0</td>\n",
              "    </tr>\n",
              "    <tr>\n",
              "      <th>19154</th>\n",
              "      <td>31398</td>\n",
              "      <td>city_103</td>\n",
              "      <td>0.920</td>\n",
              "      <td>Male</td>\n",
              "      <td>Has relevent experience</td>\n",
              "      <td>no_enrollment</td>\n",
              "      <td>Graduate</td>\n",
              "      <td>STEM</td>\n",
              "      <td>14</td>\n",
              "      <td>NaN</td>\n",
              "      <td>NaN</td>\n",
              "      <td>4</td>\n",
              "      <td>52</td>\n",
              "      <td>1.0</td>\n",
              "    </tr>\n",
              "    <tr>\n",
              "      <th>19155</th>\n",
              "      <td>24576</td>\n",
              "      <td>city_103</td>\n",
              "      <td>0.920</td>\n",
              "      <td>Male</td>\n",
              "      <td>Has relevent experience</td>\n",
              "      <td>no_enrollment</td>\n",
              "      <td>Graduate</td>\n",
              "      <td>STEM</td>\n",
              "      <td>&gt;20</td>\n",
              "      <td>50-99</td>\n",
              "      <td>Pvt Ltd</td>\n",
              "      <td>4</td>\n",
              "      <td>44</td>\n",
              "      <td>0.0</td>\n",
              "    </tr>\n",
              "    <tr>\n",
              "      <th>19156</th>\n",
              "      <td>5756</td>\n",
              "      <td>city_65</td>\n",
              "      <td>0.802</td>\n",
              "      <td>Male</td>\n",
              "      <td>Has relevent experience</td>\n",
              "      <td>no_enrollment</td>\n",
              "      <td>High School</td>\n",
              "      <td>NaN</td>\n",
              "      <td>&lt;1</td>\n",
              "      <td>500-999</td>\n",
              "      <td>Pvt Ltd</td>\n",
              "      <td>2</td>\n",
              "      <td>97</td>\n",
              "      <td>0.0</td>\n",
              "    </tr>\n",
              "    <tr>\n",
              "      <th>19157</th>\n",
              "      <td>23834</td>\n",
              "      <td>city_67</td>\n",
              "      <td>0.855</td>\n",
              "      <td>NaN</td>\n",
              "      <td>No relevent experience</td>\n",
              "      <td>no_enrollment</td>\n",
              "      <td>Primary School</td>\n",
              "      <td>NaN</td>\n",
              "      <td>2</td>\n",
              "      <td>NaN</td>\n",
              "      <td>NaN</td>\n",
              "      <td>1</td>\n",
              "      <td>127</td>\n",
              "      <td>0.0</td>\n",
              "    </tr>\n",
              "  </tbody>\n",
              "</table>\n",
              "<p>19158 rows × 14 columns</p>\n",
              "</div>"
            ],
            "text/plain": [
              "       enrollee_id      city  ...  training_hours target\n",
              "0             8949  city_103  ...              36    1.0\n",
              "1            29725   city_40  ...              47    0.0\n",
              "2            11561   city_21  ...              83    0.0\n",
              "3            33241  city_115  ...              52    1.0\n",
              "4              666  city_162  ...               8    0.0\n",
              "...            ...       ...  ...             ...    ...\n",
              "19153         7386  city_173  ...              42    1.0\n",
              "19154        31398  city_103  ...              52    1.0\n",
              "19155        24576  city_103  ...              44    0.0\n",
              "19156         5756   city_65  ...              97    0.0\n",
              "19157        23834   city_67  ...             127    0.0\n",
              "\n",
              "[19158 rows x 14 columns]"
            ]
          },
          "metadata": {},
          "execution_count": 7
        }
      ]
    },
    {
      "cell_type": "code",
      "metadata": {
        "colab": {
          "base_uri": "https://localhost:8080/"
        },
        "id": "J1aiSjIFbYkr",
        "outputId": "efec4dc8-6505-4c88-dbb8-e26cc62cf944"
      },
      "source": [
        "df.info()"
      ],
      "execution_count": null,
      "outputs": [
        {
          "output_type": "stream",
          "name": "stdout",
          "text": [
            "<class 'pandas.core.frame.DataFrame'>\n",
            "RangeIndex: 19158 entries, 0 to 19157\n",
            "Data columns (total 14 columns):\n",
            " #   Column                  Non-Null Count  Dtype  \n",
            "---  ------                  --------------  -----  \n",
            " 0   enrollee_id             19158 non-null  int64  \n",
            " 1   city                    19158 non-null  object \n",
            " 2   city_development_index  19158 non-null  float64\n",
            " 3   gender                  14650 non-null  object \n",
            " 4   relevent_experience     19158 non-null  object \n",
            " 5   enrolled_university     18772 non-null  object \n",
            " 6   education_level         18698 non-null  object \n",
            " 7   major_discipline        16345 non-null  object \n",
            " 8   experience              19093 non-null  object \n",
            " 9   company_size            13220 non-null  object \n",
            " 10  company_type            13018 non-null  object \n",
            " 11  last_new_job            18735 non-null  object \n",
            " 12  training_hours          19158 non-null  int64  \n",
            " 13  target                  19158 non-null  float64\n",
            "dtypes: float64(2), int64(2), object(10)\n",
            "memory usage: 2.0+ MB\n"
          ]
        }
      ]
    },
    {
      "cell_type": "code",
      "metadata": {
        "id": "0WMXSsUCayHI"
      },
      "source": [
        "#remove NAN from rows of columns \n",
        "\n",
        "df['last_new_job'].replace(np.nan,inplace=True)\n",
        "df['company_size'].fillna(method='ffill')\n",
        "df['experience'].replace(np.nan,inplace=True)"
      ],
      "execution_count": null,
      "outputs": []
    },
    {
      "cell_type": "code",
      "metadata": {
        "id": "HcDkVLSZi3DW"
      },
      "source": [
        "#Convert all non numeric thing to numerical by create function building from scratch\n",
        "\n",
        "def Convert_text_to_num(x):\n",
        "    set_x=set(x)\n",
        "    index_W={}\n",
        "    W_index={}\n",
        "    for i,W in enumerate(set_x):\n",
        "      index_W[i]=W\n",
        "      W_index[W]=i\n",
        "    x=x.replace(W_index)\n",
        "    return x"
      ],
      "execution_count": null,
      "outputs": []
    },
    {
      "cell_type": "code",
      "metadata": {
        "colab": {
          "base_uri": "https://localhost:8080/",
          "height": 439
        },
        "id": "t4wlPuTAjEuT",
        "outputId": "53d52bcd-5fc9-4ca6-cdda-82b1224ca1fd"
      },
      "source": [
        "df.experience=Convert_text_to_num(df.experience)\n",
        "df.company_size=Convert_text_to_num(df.company_size)\n",
        "df.last_new_job=Convert_text_to_num(df.last_new_job)\n",
        "df.city=Convert_text_to_num(df.city)\n",
        "\n",
        "df.isnull()"
      ],
      "execution_count": null,
      "outputs": [
        {
          "output_type": "execute_result",
          "data": {
            "text/html": [
              "<div>\n",
              "<style scoped>\n",
              "    .dataframe tbody tr th:only-of-type {\n",
              "        vertical-align: middle;\n",
              "    }\n",
              "\n",
              "    .dataframe tbody tr th {\n",
              "        vertical-align: top;\n",
              "    }\n",
              "\n",
              "    .dataframe thead th {\n",
              "        text-align: right;\n",
              "    }\n",
              "</style>\n",
              "<table border=\"1\" class=\"dataframe\">\n",
              "  <thead>\n",
              "    <tr style=\"text-align: right;\">\n",
              "      <th></th>\n",
              "      <th>enrollee_id</th>\n",
              "      <th>city</th>\n",
              "      <th>city_development_index</th>\n",
              "      <th>gender</th>\n",
              "      <th>relevent_experience</th>\n",
              "      <th>enrolled_university</th>\n",
              "      <th>education_level</th>\n",
              "      <th>major_discipline</th>\n",
              "      <th>experience</th>\n",
              "      <th>company_size</th>\n",
              "      <th>company_type</th>\n",
              "      <th>last_new_job</th>\n",
              "      <th>training_hours</th>\n",
              "      <th>target</th>\n",
              "    </tr>\n",
              "  </thead>\n",
              "  <tbody>\n",
              "    <tr>\n",
              "      <th>0</th>\n",
              "      <td>False</td>\n",
              "      <td>False</td>\n",
              "      <td>False</td>\n",
              "      <td>False</td>\n",
              "      <td>False</td>\n",
              "      <td>False</td>\n",
              "      <td>False</td>\n",
              "      <td>False</td>\n",
              "      <td>False</td>\n",
              "      <td>False</td>\n",
              "      <td>True</td>\n",
              "      <td>False</td>\n",
              "      <td>False</td>\n",
              "      <td>False</td>\n",
              "    </tr>\n",
              "    <tr>\n",
              "      <th>1</th>\n",
              "      <td>False</td>\n",
              "      <td>False</td>\n",
              "      <td>False</td>\n",
              "      <td>False</td>\n",
              "      <td>False</td>\n",
              "      <td>False</td>\n",
              "      <td>False</td>\n",
              "      <td>False</td>\n",
              "      <td>False</td>\n",
              "      <td>False</td>\n",
              "      <td>False</td>\n",
              "      <td>False</td>\n",
              "      <td>False</td>\n",
              "      <td>False</td>\n",
              "    </tr>\n",
              "    <tr>\n",
              "      <th>2</th>\n",
              "      <td>False</td>\n",
              "      <td>False</td>\n",
              "      <td>False</td>\n",
              "      <td>True</td>\n",
              "      <td>False</td>\n",
              "      <td>False</td>\n",
              "      <td>False</td>\n",
              "      <td>False</td>\n",
              "      <td>False</td>\n",
              "      <td>False</td>\n",
              "      <td>True</td>\n",
              "      <td>False</td>\n",
              "      <td>False</td>\n",
              "      <td>False</td>\n",
              "    </tr>\n",
              "    <tr>\n",
              "      <th>3</th>\n",
              "      <td>False</td>\n",
              "      <td>False</td>\n",
              "      <td>False</td>\n",
              "      <td>True</td>\n",
              "      <td>False</td>\n",
              "      <td>True</td>\n",
              "      <td>False</td>\n",
              "      <td>False</td>\n",
              "      <td>False</td>\n",
              "      <td>False</td>\n",
              "      <td>False</td>\n",
              "      <td>False</td>\n",
              "      <td>False</td>\n",
              "      <td>False</td>\n",
              "    </tr>\n",
              "    <tr>\n",
              "      <th>4</th>\n",
              "      <td>False</td>\n",
              "      <td>False</td>\n",
              "      <td>False</td>\n",
              "      <td>False</td>\n",
              "      <td>False</td>\n",
              "      <td>False</td>\n",
              "      <td>False</td>\n",
              "      <td>False</td>\n",
              "      <td>False</td>\n",
              "      <td>False</td>\n",
              "      <td>False</td>\n",
              "      <td>False</td>\n",
              "      <td>False</td>\n",
              "      <td>False</td>\n",
              "    </tr>\n",
              "    <tr>\n",
              "      <th>...</th>\n",
              "      <td>...</td>\n",
              "      <td>...</td>\n",
              "      <td>...</td>\n",
              "      <td>...</td>\n",
              "      <td>...</td>\n",
              "      <td>...</td>\n",
              "      <td>...</td>\n",
              "      <td>...</td>\n",
              "      <td>...</td>\n",
              "      <td>...</td>\n",
              "      <td>...</td>\n",
              "      <td>...</td>\n",
              "      <td>...</td>\n",
              "      <td>...</td>\n",
              "    </tr>\n",
              "    <tr>\n",
              "      <th>19153</th>\n",
              "      <td>False</td>\n",
              "      <td>False</td>\n",
              "      <td>False</td>\n",
              "      <td>False</td>\n",
              "      <td>False</td>\n",
              "      <td>False</td>\n",
              "      <td>False</td>\n",
              "      <td>False</td>\n",
              "      <td>False</td>\n",
              "      <td>False</td>\n",
              "      <td>True</td>\n",
              "      <td>False</td>\n",
              "      <td>False</td>\n",
              "      <td>False</td>\n",
              "    </tr>\n",
              "    <tr>\n",
              "      <th>19154</th>\n",
              "      <td>False</td>\n",
              "      <td>False</td>\n",
              "      <td>False</td>\n",
              "      <td>False</td>\n",
              "      <td>False</td>\n",
              "      <td>False</td>\n",
              "      <td>False</td>\n",
              "      <td>False</td>\n",
              "      <td>False</td>\n",
              "      <td>False</td>\n",
              "      <td>True</td>\n",
              "      <td>False</td>\n",
              "      <td>False</td>\n",
              "      <td>False</td>\n",
              "    </tr>\n",
              "    <tr>\n",
              "      <th>19155</th>\n",
              "      <td>False</td>\n",
              "      <td>False</td>\n",
              "      <td>False</td>\n",
              "      <td>False</td>\n",
              "      <td>False</td>\n",
              "      <td>False</td>\n",
              "      <td>False</td>\n",
              "      <td>False</td>\n",
              "      <td>False</td>\n",
              "      <td>False</td>\n",
              "      <td>False</td>\n",
              "      <td>False</td>\n",
              "      <td>False</td>\n",
              "      <td>False</td>\n",
              "    </tr>\n",
              "    <tr>\n",
              "      <th>19156</th>\n",
              "      <td>False</td>\n",
              "      <td>False</td>\n",
              "      <td>False</td>\n",
              "      <td>False</td>\n",
              "      <td>False</td>\n",
              "      <td>False</td>\n",
              "      <td>False</td>\n",
              "      <td>True</td>\n",
              "      <td>False</td>\n",
              "      <td>False</td>\n",
              "      <td>False</td>\n",
              "      <td>False</td>\n",
              "      <td>False</td>\n",
              "      <td>False</td>\n",
              "    </tr>\n",
              "    <tr>\n",
              "      <th>19157</th>\n",
              "      <td>False</td>\n",
              "      <td>False</td>\n",
              "      <td>False</td>\n",
              "      <td>True</td>\n",
              "      <td>False</td>\n",
              "      <td>False</td>\n",
              "      <td>False</td>\n",
              "      <td>True</td>\n",
              "      <td>False</td>\n",
              "      <td>False</td>\n",
              "      <td>True</td>\n",
              "      <td>False</td>\n",
              "      <td>False</td>\n",
              "      <td>False</td>\n",
              "    </tr>\n",
              "  </tbody>\n",
              "</table>\n",
              "<p>19158 rows × 14 columns</p>\n",
              "</div>"
            ],
            "text/plain": [
              "       enrollee_id   city  ...  training_hours  target\n",
              "0            False  False  ...           False   False\n",
              "1            False  False  ...           False   False\n",
              "2            False  False  ...           False   False\n",
              "3            False  False  ...           False   False\n",
              "4            False  False  ...           False   False\n",
              "...            ...    ...  ...             ...     ...\n",
              "19153        False  False  ...           False   False\n",
              "19154        False  False  ...           False   False\n",
              "19155        False  False  ...           False   False\n",
              "19156        False  False  ...           False   False\n",
              "19157        False  False  ...           False   False\n",
              "\n",
              "[19158 rows x 14 columns]"
            ]
          },
          "metadata": {},
          "execution_count": 11
        }
      ]
    },
    {
      "cell_type": "code",
      "metadata": {
        "colab": {
          "base_uri": "https://localhost:8080/"
        },
        "id": "utDygXhecLBZ",
        "outputId": "b4d2bf0a-6191-465b-9674-e47202e66be1"
      },
      "source": [
        "df.info()"
      ],
      "execution_count": null,
      "outputs": [
        {
          "output_type": "stream",
          "name": "stdout",
          "text": [
            "<class 'pandas.core.frame.DataFrame'>\n",
            "RangeIndex: 19158 entries, 0 to 19157\n",
            "Data columns (total 14 columns):\n",
            " #   Column                  Non-Null Count  Dtype  \n",
            "---  ------                  --------------  -----  \n",
            " 0   enrollee_id             19158 non-null  int64  \n",
            " 1   city                    19158 non-null  int64  \n",
            " 2   city_development_index  19158 non-null  float64\n",
            " 3   gender                  14650 non-null  object \n",
            " 4   relevent_experience     19158 non-null  object \n",
            " 5   enrolled_university     18772 non-null  object \n",
            " 6   education_level         18698 non-null  object \n",
            " 7   major_discipline        16345 non-null  object \n",
            " 8   experience              19158 non-null  int64  \n",
            " 9   company_size            19158 non-null  int64  \n",
            " 10  company_type            13018 non-null  object \n",
            " 11  last_new_job            19158 non-null  int64  \n",
            " 12  training_hours          19158 non-null  int64  \n",
            " 13  target                  19158 non-null  float64\n",
            "dtypes: float64(2), int64(6), object(6)\n",
            "memory usage: 2.0+ MB\n"
          ]
        }
      ]
    },
    {
      "cell_type": "code",
      "metadata": {
        "colab": {
          "base_uri": "https://localhost:8080/"
        },
        "id": "8R4aql8Q1oKC",
        "outputId": "62eb4925-50fb-4ba5-8b73-ec02c7ed2919"
      },
      "source": [
        "df['gender'].value_counts() #To see the contents of each column"
      ],
      "execution_count": null,
      "outputs": [
        {
          "output_type": "execute_result",
          "data": {
            "text/plain": [
              "Male      13221\n",
              "Female     1238\n",
              "Other       191\n",
              "Name: gender, dtype: int64"
            ]
          },
          "metadata": {},
          "execution_count": 13
        }
      ]
    },
    {
      "cell_type": "code",
      "metadata": {
        "id": "QT6eulh2MRyV"
      },
      "source": [
        "#Convert all non numeric thing to numerical by create labels value \n",
        "\n",
        "female_label,male_label,other_label = (0,1,2)\n",
        "Has_relevent_experience_label,No_relevent_experience_label = (0,1)\n",
        "no_enrollment_label,Full_time_course_label,Part_time_course_label = (0,1,2)\n",
        "Graduate_label,Masters_label,High_School_label,Phd_label,Primary_School_label = (0,1,2,3,4)\n",
        "STEM_label,Humanities_label,Other_label,Business_Degree_label,Arts_label,No_Major_label = (0,1,2,3,4,5)\n",
        "Pvt_Ltd_label,Funded_Startup_label,Public_Sector_label,Early_Stage_Startup_label,NGO_label,Other_c_label = (0,1,2,3,4,5)\n",
        "\n",
        "df['gender']=df['gender'].map({\n",
        "    'Male': male_label,\n",
        "    'Female': female_label,\n",
        "    'Other': other_label\n",
        "})\n",
        "df['relevent_experience']=df['relevent_experience'].map({\n",
        "    'No relevent experience': No_relevent_experience_label,\n",
        "    'Has relevent experience': Has_relevent_experience_label\n",
        "})\n",
        "df['enrolled_university']=df['enrolled_university'].map({\n",
        "    'no_enrollment' : no_enrollment_label,\n",
        "    'Full time course' : Full_time_course_label,\n",
        "    'Part time course' : Part_time_course_label\n",
        "})\n",
        "df['education_level']=df['education_level'].map({\n",
        "    'Graduate' : Graduate_label,\n",
        "    'Masters' : Masters_label,\n",
        "    'High School' : High_School_label,\n",
        "    'Phd' : Phd_label,\n",
        "    'Primary School' : Primary_School_label       \n",
        "})\n",
        "df['major_discipline']=df['major_discipline'].map({\n",
        "    'STEM' : STEM_label,\n",
        "    'Humanities' : Humanities_label,\n",
        "    'Other' : Other_label,\n",
        "    'Business Degree' : Business_Degree_label,\n",
        "    'Arts' : Arts_label,\n",
        "    'No Major' : No_Major_label\n",
        "})\n",
        "df['company_type']=df['company_type'].map({\n",
        "    'Pvt Ltd' : Pvt_Ltd_label,\n",
        "    'Funded Startup' : Funded_Startup_label,\n",
        "    'Public Sector' : Public_Sector_label,\n",
        "    'Early Stage Startup' : Early_Stage_Startup_label,\n",
        "    'NGO' : NGO_label,\n",
        "    'Other' : Other_c_label\n",
        "})"
      ],
      "execution_count": null,
      "outputs": []
    },
    {
      "cell_type": "code",
      "metadata": {
        "colab": {
          "base_uri": "https://localhost:8080/"
        },
        "id": "6w0O7qTbvEHy",
        "outputId": "1019768d-d058-4162-f485-ecd67588dad7"
      },
      "source": [
        "df.info()"
      ],
      "execution_count": null,
      "outputs": [
        {
          "output_type": "stream",
          "name": "stdout",
          "text": [
            "<class 'pandas.core.frame.DataFrame'>\n",
            "RangeIndex: 19158 entries, 0 to 19157\n",
            "Data columns (total 14 columns):\n",
            " #   Column                  Non-Null Count  Dtype  \n",
            "---  ------                  --------------  -----  \n",
            " 0   enrollee_id             19158 non-null  int64  \n",
            " 1   city                    19158 non-null  int64  \n",
            " 2   city_development_index  19158 non-null  float64\n",
            " 3   gender                  14650 non-null  float64\n",
            " 4   relevent_experience     19158 non-null  int64  \n",
            " 5   enrolled_university     18772 non-null  float64\n",
            " 6   education_level         18698 non-null  float64\n",
            " 7   major_discipline        16345 non-null  float64\n",
            " 8   experience              19158 non-null  int64  \n",
            " 9   company_size            19158 non-null  int64  \n",
            " 10  company_type            13018 non-null  float64\n",
            " 11  last_new_job            19158 non-null  int64  \n",
            " 12  training_hours          19158 non-null  int64  \n",
            " 13  target                  19158 non-null  float64\n",
            "dtypes: float64(7), int64(7)\n",
            "memory usage: 2.0 MB\n"
          ]
        }
      ]
    },
    {
      "cell_type": "code",
      "metadata": {
        "id": "uhFr7csPu1QI"
      },
      "source": [
        "#remove NAN from rows of columns \n",
        "\n",
        "df['gender'].fillna(method='ffill',inplace=True)\n",
        "df['major_discipline'].fillna(method='ffill',inplace=True)\n",
        "df['enrolled_university'].fillna(method='ffill',inplace=True)\n",
        "df['company_type'].fillna(df.groupby('company_size')['company_type'].transform(\"median\"),inplace=True)\n",
        "df['education_level'].fillna(df.groupby('relevent_experience')['education_level'].transform(\"median\"),inplace=True)"
      ],
      "execution_count": null,
      "outputs": []
    },
    {
      "cell_type": "code",
      "metadata": {
        "colab": {
          "base_uri": "https://localhost:8080/",
          "height": 439
        },
        "id": "mZE36ugSyCGe",
        "outputId": "2cd10035-b8fd-4d69-ca41-33f06b25a606"
      },
      "source": [
        "df.isnull()"
      ],
      "execution_count": null,
      "outputs": [
        {
          "output_type": "execute_result",
          "data": {
            "text/html": [
              "<div>\n",
              "<style scoped>\n",
              "    .dataframe tbody tr th:only-of-type {\n",
              "        vertical-align: middle;\n",
              "    }\n",
              "\n",
              "    .dataframe tbody tr th {\n",
              "        vertical-align: top;\n",
              "    }\n",
              "\n",
              "    .dataframe thead th {\n",
              "        text-align: right;\n",
              "    }\n",
              "</style>\n",
              "<table border=\"1\" class=\"dataframe\">\n",
              "  <thead>\n",
              "    <tr style=\"text-align: right;\">\n",
              "      <th></th>\n",
              "      <th>enrollee_id</th>\n",
              "      <th>city</th>\n",
              "      <th>city_development_index</th>\n",
              "      <th>gender</th>\n",
              "      <th>relevent_experience</th>\n",
              "      <th>enrolled_university</th>\n",
              "      <th>education_level</th>\n",
              "      <th>major_discipline</th>\n",
              "      <th>experience</th>\n",
              "      <th>company_size</th>\n",
              "      <th>company_type</th>\n",
              "      <th>last_new_job</th>\n",
              "      <th>training_hours</th>\n",
              "      <th>target</th>\n",
              "    </tr>\n",
              "  </thead>\n",
              "  <tbody>\n",
              "    <tr>\n",
              "      <th>0</th>\n",
              "      <td>False</td>\n",
              "      <td>False</td>\n",
              "      <td>False</td>\n",
              "      <td>False</td>\n",
              "      <td>False</td>\n",
              "      <td>False</td>\n",
              "      <td>False</td>\n",
              "      <td>False</td>\n",
              "      <td>False</td>\n",
              "      <td>False</td>\n",
              "      <td>False</td>\n",
              "      <td>False</td>\n",
              "      <td>False</td>\n",
              "      <td>False</td>\n",
              "    </tr>\n",
              "    <tr>\n",
              "      <th>1</th>\n",
              "      <td>False</td>\n",
              "      <td>False</td>\n",
              "      <td>False</td>\n",
              "      <td>False</td>\n",
              "      <td>False</td>\n",
              "      <td>False</td>\n",
              "      <td>False</td>\n",
              "      <td>False</td>\n",
              "      <td>False</td>\n",
              "      <td>False</td>\n",
              "      <td>False</td>\n",
              "      <td>False</td>\n",
              "      <td>False</td>\n",
              "      <td>False</td>\n",
              "    </tr>\n",
              "    <tr>\n",
              "      <th>2</th>\n",
              "      <td>False</td>\n",
              "      <td>False</td>\n",
              "      <td>False</td>\n",
              "      <td>False</td>\n",
              "      <td>False</td>\n",
              "      <td>False</td>\n",
              "      <td>False</td>\n",
              "      <td>False</td>\n",
              "      <td>False</td>\n",
              "      <td>False</td>\n",
              "      <td>False</td>\n",
              "      <td>False</td>\n",
              "      <td>False</td>\n",
              "      <td>False</td>\n",
              "    </tr>\n",
              "    <tr>\n",
              "      <th>3</th>\n",
              "      <td>False</td>\n",
              "      <td>False</td>\n",
              "      <td>False</td>\n",
              "      <td>False</td>\n",
              "      <td>False</td>\n",
              "      <td>False</td>\n",
              "      <td>False</td>\n",
              "      <td>False</td>\n",
              "      <td>False</td>\n",
              "      <td>False</td>\n",
              "      <td>False</td>\n",
              "      <td>False</td>\n",
              "      <td>False</td>\n",
              "      <td>False</td>\n",
              "    </tr>\n",
              "    <tr>\n",
              "      <th>4</th>\n",
              "      <td>False</td>\n",
              "      <td>False</td>\n",
              "      <td>False</td>\n",
              "      <td>False</td>\n",
              "      <td>False</td>\n",
              "      <td>False</td>\n",
              "      <td>False</td>\n",
              "      <td>False</td>\n",
              "      <td>False</td>\n",
              "      <td>False</td>\n",
              "      <td>False</td>\n",
              "      <td>False</td>\n",
              "      <td>False</td>\n",
              "      <td>False</td>\n",
              "    </tr>\n",
              "    <tr>\n",
              "      <th>...</th>\n",
              "      <td>...</td>\n",
              "      <td>...</td>\n",
              "      <td>...</td>\n",
              "      <td>...</td>\n",
              "      <td>...</td>\n",
              "      <td>...</td>\n",
              "      <td>...</td>\n",
              "      <td>...</td>\n",
              "      <td>...</td>\n",
              "      <td>...</td>\n",
              "      <td>...</td>\n",
              "      <td>...</td>\n",
              "      <td>...</td>\n",
              "      <td>...</td>\n",
              "    </tr>\n",
              "    <tr>\n",
              "      <th>19153</th>\n",
              "      <td>False</td>\n",
              "      <td>False</td>\n",
              "      <td>False</td>\n",
              "      <td>False</td>\n",
              "      <td>False</td>\n",
              "      <td>False</td>\n",
              "      <td>False</td>\n",
              "      <td>False</td>\n",
              "      <td>False</td>\n",
              "      <td>False</td>\n",
              "      <td>False</td>\n",
              "      <td>False</td>\n",
              "      <td>False</td>\n",
              "      <td>False</td>\n",
              "    </tr>\n",
              "    <tr>\n",
              "      <th>19154</th>\n",
              "      <td>False</td>\n",
              "      <td>False</td>\n",
              "      <td>False</td>\n",
              "      <td>False</td>\n",
              "      <td>False</td>\n",
              "      <td>False</td>\n",
              "      <td>False</td>\n",
              "      <td>False</td>\n",
              "      <td>False</td>\n",
              "      <td>False</td>\n",
              "      <td>False</td>\n",
              "      <td>False</td>\n",
              "      <td>False</td>\n",
              "      <td>False</td>\n",
              "    </tr>\n",
              "    <tr>\n",
              "      <th>19155</th>\n",
              "      <td>False</td>\n",
              "      <td>False</td>\n",
              "      <td>False</td>\n",
              "      <td>False</td>\n",
              "      <td>False</td>\n",
              "      <td>False</td>\n",
              "      <td>False</td>\n",
              "      <td>False</td>\n",
              "      <td>False</td>\n",
              "      <td>False</td>\n",
              "      <td>False</td>\n",
              "      <td>False</td>\n",
              "      <td>False</td>\n",
              "      <td>False</td>\n",
              "    </tr>\n",
              "    <tr>\n",
              "      <th>19156</th>\n",
              "      <td>False</td>\n",
              "      <td>False</td>\n",
              "      <td>False</td>\n",
              "      <td>False</td>\n",
              "      <td>False</td>\n",
              "      <td>False</td>\n",
              "      <td>False</td>\n",
              "      <td>False</td>\n",
              "      <td>False</td>\n",
              "      <td>False</td>\n",
              "      <td>False</td>\n",
              "      <td>False</td>\n",
              "      <td>False</td>\n",
              "      <td>False</td>\n",
              "    </tr>\n",
              "    <tr>\n",
              "      <th>19157</th>\n",
              "      <td>False</td>\n",
              "      <td>False</td>\n",
              "      <td>False</td>\n",
              "      <td>False</td>\n",
              "      <td>False</td>\n",
              "      <td>False</td>\n",
              "      <td>False</td>\n",
              "      <td>False</td>\n",
              "      <td>False</td>\n",
              "      <td>False</td>\n",
              "      <td>False</td>\n",
              "      <td>False</td>\n",
              "      <td>False</td>\n",
              "      <td>False</td>\n",
              "    </tr>\n",
              "  </tbody>\n",
              "</table>\n",
              "<p>19158 rows × 14 columns</p>\n",
              "</div>"
            ],
            "text/plain": [
              "       enrollee_id   city  ...  training_hours  target\n",
              "0            False  False  ...           False   False\n",
              "1            False  False  ...           False   False\n",
              "2            False  False  ...           False   False\n",
              "3            False  False  ...           False   False\n",
              "4            False  False  ...           False   False\n",
              "...            ...    ...  ...             ...     ...\n",
              "19153        False  False  ...           False   False\n",
              "19154        False  False  ...           False   False\n",
              "19155        False  False  ...           False   False\n",
              "19156        False  False  ...           False   False\n",
              "19157        False  False  ...           False   False\n",
              "\n",
              "[19158 rows x 14 columns]"
            ]
          },
          "metadata": {},
          "execution_count": 17
        }
      ]
    },
    {
      "cell_type": "code",
      "metadata": {
        "colab": {
          "base_uri": "https://localhost:8080/"
        },
        "id": "hD_M_Zumzbl6",
        "outputId": "6d2f2fc4-74a3-4044-df9e-3351b1fd3b6b"
      },
      "source": [
        "df.info()"
      ],
      "execution_count": null,
      "outputs": [
        {
          "output_type": "stream",
          "name": "stdout",
          "text": [
            "<class 'pandas.core.frame.DataFrame'>\n",
            "RangeIndex: 19158 entries, 0 to 19157\n",
            "Data columns (total 14 columns):\n",
            " #   Column                  Non-Null Count  Dtype  \n",
            "---  ------                  --------------  -----  \n",
            " 0   enrollee_id             19158 non-null  int64  \n",
            " 1   city                    19158 non-null  int64  \n",
            " 2   city_development_index  19158 non-null  float64\n",
            " 3   gender                  19158 non-null  float64\n",
            " 4   relevent_experience     19158 non-null  int64  \n",
            " 5   enrolled_university     19158 non-null  float64\n",
            " 6   education_level         19158 non-null  float64\n",
            " 7   major_discipline        19158 non-null  float64\n",
            " 8   experience              19158 non-null  int64  \n",
            " 9   company_size            19158 non-null  int64  \n",
            " 10  company_type            19158 non-null  float64\n",
            " 11  last_new_job            19158 non-null  int64  \n",
            " 12  training_hours          19158 non-null  int64  \n",
            " 13  target                  19158 non-null  float64\n",
            "dtypes: float64(7), int64(7)\n",
            "memory usage: 2.0 MB\n"
          ]
        }
      ]
    },
    {
      "cell_type": "markdown",
      "metadata": {
        "id": "3SijsvtxajRB"
      },
      "source": [
        "#Gender Bias"
      ]
    },
    {
      "cell_type": "code",
      "metadata": {
        "colab": {
          "base_uri": "https://localhost:8080/",
          "height": 431
        },
        "id": "ZmP0r975BBui",
        "outputId": "aebe50a1-3695-42e2-8810-c85c50f8ba45"
      },
      "source": [
        "sns.set(font_scale=1.4)\n",
        "df['target'].value_counts().plot(kind='bar', figsize=(7, 6), rot=0)\n",
        "plt.xlabel(\"Target\", labelpad=14)\n",
        "plt.ylabel(\"Count of People\", labelpad=14)"
      ],
      "execution_count": null,
      "outputs": [
        {
          "output_type": "execute_result",
          "data": {
            "text/plain": [
              "Text(0, 0.5, 'Count of People')"
            ]
          },
          "metadata": {},
          "execution_count": 19
        },
        {
          "output_type": "display_data",
          "data": {
            "image/png": "[encoded data removed]",
            "text/plain": [
              "<Figure size 504x432 with 1 Axes>"
            ]
          },
          "metadata": {}
        }
      ]
    },
    {
      "cell_type": "code",
      "metadata": {
        "colab": {
          "base_uri": "https://localhost:8080/",
          "height": 431
        },
        "id": "KyE-3WXtrRHI",
        "outputId": "02e17b86-59ac-4cc4-bdb4-4e8699445caf"
      },
      "source": [
        "#show details of gender column\n",
        "\n",
        "sns.set(font_scale=1.4)\n",
        "df['gender'].value_counts().plot(kind='bar', figsize=(7, 6), rot=0)\n",
        "plt.xlabel(\"Gender\", labelpad=14)\n",
        "plt.ylabel(\"Count of People\", labelpad=14)"
      ],
      "execution_count": null,
      "outputs": [
        {
          "output_type": "execute_result",
          "data": {
            "text/plain": [
              "Text(0, 0.5, 'Count of People')"
            ]
          },
          "metadata": {},
          "execution_count": 20
        },
        {
          "output_type": "display_data",
          "data": {
            "image/png": "[encoded data removed]",
            "text/plain": [
              "<Figure size 504x432 with 1 Axes>"
            ]
          },
          "metadata": {}
        }
      ]
    },
    {
      "cell_type": "markdown",
      "metadata": {
        "id": "1aW80IzJoPr5"
      },
      "source": [
        "We have a gender bias here in the dataset, so I will make TWO models for male and female or (0,1).\n",
        "\n",
        "others don’t have a number that can be useful for models, so I will ignore them."
      ]
    },
    {
      "cell_type": "code",
      "metadata": {
        "id": "2O3DCoOSc_kE"
      },
      "source": [
        "new_df=df.query('gender in [0,1]',inplace=False)"
      ],
      "execution_count": null,
      "outputs": []
    },
    {
      "cell_type": "code",
      "metadata": {
        "colab": {
          "base_uri": "https://localhost:8080/"
        },
        "id": "nfFNJfA3dZNk",
        "outputId": "c1c83f57-582a-4658-f004-0ddc735a4cf4"
      },
      "source": [
        "new_df['gender'].value_counts()"
      ],
      "execution_count": null,
      "outputs": [
        {
          "output_type": "execute_result",
          "data": {
            "text/plain": [
              "1.0    17260\n",
              "0.0     1647\n",
              "Name: gender, dtype: int64"
            ]
          },
          "metadata": {},
          "execution_count": 22
        }
      ]
    },
    {
      "cell_type": "code",
      "metadata": {
        "id": "UVC8wiJNeDvQ"
      },
      "source": [
        "data_male=new_df.copy()\n",
        "data_male.query('gender in [1]',inplace=True) #this for male dataset or 1"
      ],
      "execution_count": null,
      "outputs": []
    },
    {
      "cell_type": "code",
      "metadata": {
        "colab": {
          "base_uri": "https://localhost:8080/"
        },
        "id": "hWQqUcMqevhG",
        "outputId": "1dbcd41c-700c-4b3f-8eda-dce2d41264f6"
      },
      "source": [
        "data_male['gender'].value_counts()"
      ],
      "execution_count": null,
      "outputs": [
        {
          "output_type": "execute_result",
          "data": {
            "text/plain": [
              "1.0    17260\n",
              "Name: gender, dtype: int64"
            ]
          },
          "metadata": {},
          "execution_count": 24
        }
      ]
    },
    {
      "cell_type": "code",
      "metadata": {
        "id": "q6pT59LofB-Z"
      },
      "source": [
        "data_female=new_df.copy()"
      ],
      "execution_count": null,
      "outputs": []
    },
    {
      "cell_type": "code",
      "metadata": {
        "id": "VgOBCNI0fIgl"
      },
      "source": [
        "data_female.query('gender in [0]',inplace=True) #and this for female dataset or 0"
      ],
      "execution_count": null,
      "outputs": []
    },
    {
      "cell_type": "code",
      "metadata": {
        "colab": {
          "base_uri": "https://localhost:8080/"
        },
        "id": "UnZc6PxzfTX0",
        "outputId": "464a7c49-97ff-497e-f7b1-8a96c103b866"
      },
      "source": [
        "data_female['gender'].value_counts()"
      ],
      "execution_count": null,
      "outputs": [
        {
          "output_type": "execute_result",
          "data": {
            "text/plain": [
              "0.0    1647\n",
              "Name: gender, dtype: int64"
            ]
          },
          "metadata": {},
          "execution_count": 27
        }
      ]
    },
    {
      "cell_type": "markdown",
      "metadata": {
        "id": "OCKzKBehptcB"
      },
      "source": [
        "#Male models"
      ]
    },
    {
      "cell_type": "markdown",
      "metadata": {
        "id": "UZ16E2CkWvY5"
      },
      "source": [
        "##preporessing "
      ]
    },
    {
      "cell_type": "code",
      "metadata": {
        "id": "IhJUOzQaW0-l"
      },
      "source": [
        "x_male=data_male[['enrollee_id','city_development_index','relevent_experience',\n",
        "       'enrolled_university','education_level','major_discipline','experience',\n",
        "       'company_size','company_type','last_new_job','training_hours','city','gender']]\n",
        "\n",
        "y_male=data_male['target'].values"
      ],
      "execution_count": null,
      "outputs": []
    },
    {
      "cell_type": "code",
      "metadata": {
        "colab": {
          "base_uri": "https://localhost:8080/"
        },
        "id": "EPWNFiOJYlh0",
        "outputId": "1aee25f1-71dc-4e69-bd0d-3e64d1769550"
      },
      "source": [
        "y1=y_male\n",
        "y1"
      ],
      "execution_count": null,
      "outputs": [
        {
          "output_type": "execute_result",
          "data": {
            "text/plain": [
              "array([1., 0., 0., ..., 0., 0., 0.])"
            ]
          },
          "metadata": {},
          "execution_count": 63
        }
      ]
    },
    {
      "cell_type": "code",
      "metadata": {
        "colab": {
          "base_uri": "https://localhost:8080/",
          "height": 439
        },
        "id": "9pUVj5tsYfWU",
        "outputId": "c24473ce-c2aa-4f87-d60d-4bcce3965703"
      },
      "source": [
        "x_male"
      ],
      "execution_count": null,
      "outputs": [
        {
          "output_type": "execute_result",
          "data": {
            "text/html": [
              "<div>\n",
              "<style scoped>\n",
              "    .dataframe tbody tr th:only-of-type {\n",
              "        vertical-align: middle;\n",
              "    }\n",
              "\n",
              "    .dataframe tbody tr th {\n",
              "        vertical-align: top;\n",
              "    }\n",
              "\n",
              "    .dataframe thead th {\n",
              "        text-align: right;\n",
              "    }\n",
              "</style>\n",
              "<table border=\"1\" class=\"dataframe\">\n",
              "  <thead>\n",
              "    <tr style=\"text-align: right;\">\n",
              "      <th></th>\n",
              "      <th>enrollee_id</th>\n",
              "      <th>city_development_index</th>\n",
              "      <th>relevent_experience</th>\n",
              "      <th>enrolled_university</th>\n",
              "      <th>education_level</th>\n",
              "      <th>major_discipline</th>\n",
              "      <th>experience</th>\n",
              "      <th>company_size</th>\n",
              "      <th>company_type</th>\n",
              "      <th>last_new_job</th>\n",
              "      <th>training_hours</th>\n",
              "      <th>city</th>\n",
              "      <th>gender</th>\n",
              "    </tr>\n",
              "  </thead>\n",
              "  <tbody>\n",
              "    <tr>\n",
              "      <th>0</th>\n",
              "      <td>8949</td>\n",
              "      <td>0.920</td>\n",
              "      <td>0</td>\n",
              "      <td>0.0</td>\n",
              "      <td>0.0</td>\n",
              "      <td>0.0</td>\n",
              "      <td>3</td>\n",
              "      <td>0</td>\n",
              "      <td>0.0</td>\n",
              "      <td>0</td>\n",
              "      <td>36</td>\n",
              "      <td>9</td>\n",
              "      <td>1.0</td>\n",
              "    </tr>\n",
              "    <tr>\n",
              "      <th>1</th>\n",
              "      <td>29725</td>\n",
              "      <td>0.776</td>\n",
              "      <td>1</td>\n",
              "      <td>0.0</td>\n",
              "      <td>0.0</td>\n",
              "      <td>0.0</td>\n",
              "      <td>11</td>\n",
              "      <td>8</td>\n",
              "      <td>0.0</td>\n",
              "      <td>2</td>\n",
              "      <td>47</td>\n",
              "      <td>69</td>\n",
              "      <td>1.0</td>\n",
              "    </tr>\n",
              "    <tr>\n",
              "      <th>2</th>\n",
              "      <td>11561</td>\n",
              "      <td>0.624</td>\n",
              "      <td>1</td>\n",
              "      <td>1.0</td>\n",
              "      <td>0.0</td>\n",
              "      <td>0.0</td>\n",
              "      <td>8</td>\n",
              "      <td>0</td>\n",
              "      <td>0.0</td>\n",
              "      <td>3</td>\n",
              "      <td>83</td>\n",
              "      <td>11</td>\n",
              "      <td>1.0</td>\n",
              "    </tr>\n",
              "    <tr>\n",
              "      <th>3</th>\n",
              "      <td>33241</td>\n",
              "      <td>0.789</td>\n",
              "      <td>1</td>\n",
              "      <td>1.0</td>\n",
              "      <td>0.0</td>\n",
              "      <td>3.0</td>\n",
              "      <td>12</td>\n",
              "      <td>0</td>\n",
              "      <td>0.0</td>\n",
              "      <td>3</td>\n",
              "      <td>52</td>\n",
              "      <td>38</td>\n",
              "      <td>1.0</td>\n",
              "    </tr>\n",
              "    <tr>\n",
              "      <th>4</th>\n",
              "      <td>666</td>\n",
              "      <td>0.767</td>\n",
              "      <td>0</td>\n",
              "      <td>0.0</td>\n",
              "      <td>1.0</td>\n",
              "      <td>0.0</td>\n",
              "      <td>3</td>\n",
              "      <td>8</td>\n",
              "      <td>1.0</td>\n",
              "      <td>4</td>\n",
              "      <td>8</td>\n",
              "      <td>72</td>\n",
              "      <td>1.0</td>\n",
              "    </tr>\n",
              "    <tr>\n",
              "      <th>...</th>\n",
              "      <td>...</td>\n",
              "      <td>...</td>\n",
              "      <td>...</td>\n",
              "      <td>...</td>\n",
              "      <td>...</td>\n",
              "      <td>...</td>\n",
              "      <td>...</td>\n",
              "      <td>...</td>\n",
              "      <td>...</td>\n",
              "      <td>...</td>\n",
              "      <td>...</td>\n",
              "      <td>...</td>\n",
              "      <td>...</td>\n",
              "    </tr>\n",
              "    <tr>\n",
              "      <th>19153</th>\n",
              "      <td>7386</td>\n",
              "      <td>0.878</td>\n",
              "      <td>1</td>\n",
              "      <td>0.0</td>\n",
              "      <td>0.0</td>\n",
              "      <td>1.0</td>\n",
              "      <td>14</td>\n",
              "      <td>0</td>\n",
              "      <td>0.0</td>\n",
              "      <td>0</td>\n",
              "      <td>42</td>\n",
              "      <td>17</td>\n",
              "      <td>1.0</td>\n",
              "    </tr>\n",
              "    <tr>\n",
              "      <th>19154</th>\n",
              "      <td>31398</td>\n",
              "      <td>0.920</td>\n",
              "      <td>0</td>\n",
              "      <td>0.0</td>\n",
              "      <td>0.0</td>\n",
              "      <td>0.0</td>\n",
              "      <td>14</td>\n",
              "      <td>0</td>\n",
              "      <td>0.0</td>\n",
              "      <td>4</td>\n",
              "      <td>52</td>\n",
              "      <td>9</td>\n",
              "      <td>1.0</td>\n",
              "    </tr>\n",
              "    <tr>\n",
              "      <th>19155</th>\n",
              "      <td>24576</td>\n",
              "      <td>0.920</td>\n",
              "      <td>0</td>\n",
              "      <td>0.0</td>\n",
              "      <td>0.0</td>\n",
              "      <td>0.0</td>\n",
              "      <td>3</td>\n",
              "      <td>8</td>\n",
              "      <td>0.0</td>\n",
              "      <td>4</td>\n",
              "      <td>44</td>\n",
              "      <td>9</td>\n",
              "      <td>1.0</td>\n",
              "    </tr>\n",
              "    <tr>\n",
              "      <th>19156</th>\n",
              "      <td>5756</td>\n",
              "      <td>0.802</td>\n",
              "      <td>0</td>\n",
              "      <td>0.0</td>\n",
              "      <td>2.0</td>\n",
              "      <td>0.0</td>\n",
              "      <td>12</td>\n",
              "      <td>4</td>\n",
              "      <td>0.0</td>\n",
              "      <td>1</td>\n",
              "      <td>97</td>\n",
              "      <td>54</td>\n",
              "      <td>1.0</td>\n",
              "    </tr>\n",
              "    <tr>\n",
              "      <th>19157</th>\n",
              "      <td>23834</td>\n",
              "      <td>0.855</td>\n",
              "      <td>1</td>\n",
              "      <td>0.0</td>\n",
              "      <td>4.0</td>\n",
              "      <td>0.0</td>\n",
              "      <td>15</td>\n",
              "      <td>0</td>\n",
              "      <td>0.0</td>\n",
              "      <td>0</td>\n",
              "      <td>127</td>\n",
              "      <td>26</td>\n",
              "      <td>1.0</td>\n",
              "    </tr>\n",
              "  </tbody>\n",
              "</table>\n",
              "<p>17260 rows × 13 columns</p>\n",
              "</div>"
            ],
            "text/plain": [
              "       enrollee_id  city_development_index  ...  city  gender\n",
              "0             8949                   0.920  ...     9     1.0\n",
              "1            29725                   0.776  ...    69     1.0\n",
              "2            11561                   0.624  ...    11     1.0\n",
              "3            33241                   0.789  ...    38     1.0\n",
              "4              666                   0.767  ...    72     1.0\n",
              "...            ...                     ...  ...   ...     ...\n",
              "19153         7386                   0.878  ...    17     1.0\n",
              "19154        31398                   0.920  ...     9     1.0\n",
              "19155        24576                   0.920  ...     9     1.0\n",
              "19156         5756                   0.802  ...    54     1.0\n",
              "19157        23834                   0.855  ...    26     1.0\n",
              "\n",
              "[17260 rows x 13 columns]"
            ]
          },
          "metadata": {},
          "execution_count": 64
        }
      ]
    },
    {
      "cell_type": "code",
      "metadata": {
        "colab": {
          "base_uri": "https://localhost:8080/"
        },
        "id": "xvGkLdtHYm70",
        "outputId": "5dfeb649-7bde-48d3-f5f6-2a5523d43e77"
      },
      "source": [
        "#y don’t need normalizer because its 0 or 1\n",
        "\n",
        "x_male_normalizer=preprocessing.StandardScaler()\n",
        "new_x_male=x_male_normalizer.fit_transform(x_male)\n",
        "new_x_male"
      ],
      "execution_count": null,
      "outputs": [
        {
          "output_type": "execute_result",
          "data": {
            "text/plain": [
              "array([[-0.81880778,  0.74456443, -0.61565805, ..., -0.48699241,\n",
              "        -0.81615469,  0.        ],\n",
              "       [ 1.33524331, -0.42005234,  1.62427828, ..., -0.30370911,\n",
              "         0.83024672,  0.        ],\n",
              "       [-0.54799619, -1.64937004,  1.62427828, ...,  0.29612717,\n",
              "        -0.76127465,  0.        ],\n",
              "       ...,\n",
              "       [ 0.80139613,  0.74456443, -0.61565805, ..., -0.35369546,\n",
              "        -0.81615469,  0.        ],\n",
              "       [-1.14985731, -0.20977431, -0.61565805, ...,  0.52939683,\n",
              "         0.41864637,  0.        ],\n",
              "       [ 0.72446574,  0.21886936,  1.62427828, ...,  1.02926038,\n",
              "        -0.34967429,  0.        ]])"
            ]
          },
          "metadata": {},
          "execution_count": 65
        }
      ]
    },
    {
      "cell_type": "code",
      "metadata": {
        "colab": {
          "base_uri": "https://localhost:8080/"
        },
        "id": "Mu3QJdzoNffv",
        "outputId": "49ce6843-4cdb-4ab6-8dce-8e402e021d31"
      },
      "source": [
        "x1=new_x_male\n",
        "x1"
      ],
      "execution_count": null,
      "outputs": [
        {
          "output_type": "execute_result",
          "data": {
            "text/plain": [
              "array([[-0.81880778,  0.74456443, -0.61565805, ..., -0.48699241,\n",
              "        -0.81615469,  0.        ],\n",
              "       [ 1.33524331, -0.42005234,  1.62427828, ..., -0.30370911,\n",
              "         0.83024672,  0.        ],\n",
              "       [-0.54799619, -1.64937004,  1.62427828, ...,  0.29612717,\n",
              "        -0.76127465,  0.        ],\n",
              "       ...,\n",
              "       [ 0.80139613,  0.74456443, -0.61565805, ..., -0.35369546,\n",
              "        -0.81615469,  0.        ],\n",
              "       [-1.14985731, -0.20977431, -0.61565805, ...,  0.52939683,\n",
              "         0.41864637,  0.        ],\n",
              "       [ 0.72446574,  0.21886936,  1.62427828, ...,  1.02926038,\n",
              "        -0.34967429,  0.        ]])"
            ]
          },
          "metadata": {},
          "execution_count": 66
        }
      ]
    },
    {
      "cell_type": "markdown",
      "metadata": {
        "id": "apPyaS4fEfDV"
      },
      "source": [
        "##Testing & training "
      ]
    },
    {
      "cell_type": "code",
      "metadata": {
        "id": "QNBMnQ-aEjSm"
      },
      "source": [
        "#30% for testing\n",
        "\n",
        "x1_train,x1_test,y1_train,y1_test=model_selection.train_test_split(x1,y1,test_size=0.3,random_state=42,stratify=y1)"
      ],
      "execution_count": null,
      "outputs": []
    },
    {
      "cell_type": "code",
      "metadata": {
        "colab": {
          "base_uri": "https://localhost:8080/"
        },
        "id": "H3kriUbMqdCc",
        "outputId": "524bb62d-0ead-4f04-c3c6-6b0575a225c4"
      },
      "source": [
        "x1_train.shape,x1_test.shape,y1_train.shape,y1_test.shape"
      ],
      "execution_count": null,
      "outputs": [
        {
          "output_type": "execute_result",
          "data": {
            "text/plain": [
              "((12082, 13), (5178, 13), (12082,), (5178,))"
            ]
          },
          "metadata": {},
          "execution_count": 68
        }
      ]
    },
    {
      "cell_type": "markdown",
      "metadata": {
        "id": "-mN-Za-ErQcv"
      },
      "source": [
        "##Linear model"
      ]
    },
    {
      "cell_type": "code",
      "metadata": {
        "colab": {
          "base_uri": "https://localhost:8080/"
        },
        "id": "WjrScpjwrWDz",
        "outputId": "7011b1b8-db44-4820-9ede-248b71a1923d"
      },
      "source": [
        "clf_male=linear_model.LogisticRegressionCV() #Classification\n",
        "clf_male.fit(x1_train,y1_train) #fit the model for training dataset"
      ],
      "execution_count": null,
      "outputs": [
        {
          "output_type": "execute_result",
          "data": {
            "text/plain": [
              "LogisticRegressionCV(Cs=10, class_weight=None, cv=None, dual=False,\n",
              "                     fit_intercept=True, intercept_scaling=1.0, l1_ratios=None,\n",
              "                     max_iter=100, multi_class='auto', n_jobs=None,\n",
              "                     penalty='l2', random_state=None, refit=True, scoring=None,\n",
              "                     solver='lbfgs', tol=0.0001, verbose=0)"
            ]
          },
          "metadata": {},
          "execution_count": 69
        }
      ]
    },
    {
      "cell_type": "code",
      "metadata": {
        "id": "r7sNIfzgtyes"
      },
      "source": [
        "pred_male=clf_male.predict(x1_test) #test the model"
      ],
      "execution_count": null,
      "outputs": []
    },
    {
      "cell_type": "code",
      "metadata": {
        "colab": {
          "base_uri": "https://localhost:8080/"
        },
        "id": "3otoGUPxt9FM",
        "outputId": "f79f9e41-bd7b-4f84-9134-9a8c470c4979"
      },
      "source": [
        "print(f'precision score is: {metrics.precision_score(y1_test,pred_male)}') #precision=TP/TP+FP\n",
        "print(f'recall score is: {metrics.recall_score(y1_test,pred_male)}') #recall=TP/TP+FN\n",
        "print(f'f1 score is: {metrics.f1_score(y1_test,pred_male)}') #f1=2*precision*recall/precision+recall\n",
        "print(f'accuracy score is: {metrics.accuracy_score(y1_test,pred_male)}') #accuracy=TP+TF/Total Samples"
      ],
      "execution_count": null,
      "outputs": [
        {
          "output_type": "stream",
          "name": "stdout",
          "text": [
            "precision score is: 0.5818181818181818\n",
            "recall score is: 0.27651217596229377\n",
            "f1 score is: 0.3748668796592119\n",
            "accuracy score is: 0.7732715334105832\n"
          ]
        }
      ]
    },
    {
      "cell_type": "code",
      "metadata": {
        "colab": {
          "base_uri": "https://localhost:8080/",
          "height": 549
        },
        "id": "BnordiJK0Kn_",
        "outputId": "ca4a88fa-bf2d-4ba0-8bbb-b59fd19e56e5"
      },
      "source": [
        "#show the confusion matrix \n",
        "\n",
        "confusion_matrix=metrics.confusion_matrix(y1_test,pred_male)\n",
        "fig= plot_confusion_matrix(conf_mat=confusion_matrix,cmap=plt.cm.Greys,figsize=(8,8))\n",
        "plt.xlabel('Prediction',fontsize=16)\n",
        "plt.ylabel('Actual',fontsize=16)\n",
        "plt.title('Confusion Matrix',fontsize=16)\n",
        "plt.show() #    TP  FP\n",
        "           #    FN  TN"
      ],
      "execution_count": null,
      "outputs": [
        {
          "output_type": "display_data",
          "data": {
            "image/png": "[encoded data removed]",
            "text/plain": [
              "<Figure size 576x576 with 1 Axes>"
            ]
          },
          "metadata": {}
        }
      ]
    },
    {
      "cell_type": "markdown",
      "metadata": {
        "id": "ohfSqSEQ0cK5"
      },
      "source": [
        "##KNN model"
      ]
    },
    {
      "cell_type": "code",
      "metadata": {
        "colab": {
          "base_uri": "https://localhost:8080/"
        },
        "id": "WMqGQzdF0d3N",
        "outputId": "ec9e1dd2-575c-4d0d-e318-cdf178572aed"
      },
      "source": [
        "KNN_model_male=neighbors.KNeighborsClassifier(n_neighbors=3) #Classification\n",
        "KNN_model_male.fit(x1_train,y1_train) #fit the model for training dataset"
      ],
      "execution_count": null,
      "outputs": [
        {
          "output_type": "execute_result",
          "data": {
            "text/plain": [
              "KNeighborsClassifier(algorithm='auto', leaf_size=30, metric='minkowski',\n",
              "                     metric_params=None, n_jobs=None, n_neighbors=3, p=2,\n",
              "                     weights='uniform')"
            ]
          },
          "metadata": {},
          "execution_count": 73
        }
      ]
    },
    {
      "cell_type": "code",
      "metadata": {
        "id": "cz3blSwq0yps"
      },
      "source": [
        "knn_pred_male=KNN_model_male.predict(x1_test) #test the model"
      ],
      "execution_count": null,
      "outputs": []
    },
    {
      "cell_type": "code",
      "metadata": {
        "colab": {
          "base_uri": "https://localhost:8080/"
        },
        "id": "e8p-QZHB0-qp",
        "outputId": "77a2627e-66b1-4246-a8a0-0d0f12b2e47d"
      },
      "source": [
        "print(f'precision score is: {metrics.precision_score(y1_test,knn_pred_male)}') #precision=TP/TP+FP\n",
        "print(f'recall score is: {metrics.recall_score(y1_test,knn_pred_male)}') #recall=TP/TP+FN\n",
        "print(f'f1 score is: {metrics.f1_score(y1_test,knn_pred_male)}') #f1=2*precision*recall/precision+recall\n",
        "print(f'accuracy score is: {metrics.accuracy_score(y1_test,knn_pred_male)}') #accuracy=TP+TF/Total Samples"
      ],
      "execution_count": null,
      "outputs": [
        {
          "output_type": "stream",
          "name": "stdout",
          "text": [
            "precision score is: 0.47960199004975124\n",
            "recall score is: 0.3786331500392773\n",
            "f1 score is: 0.42317822651448644\n",
            "accuracy score is: 0.746234067207416\n"
          ]
        }
      ]
    },
    {
      "cell_type": "code",
      "metadata": {
        "colab": {
          "base_uri": "https://localhost:8080/",
          "height": 549
        },
        "id": "OGULdwTx2la7",
        "outputId": "f073f176-0067-47ea-88e6-1e9022c9d946"
      },
      "source": [
        "#show the confusion matrix \n",
        "\n",
        "confusion_matrix=metrics.confusion_matrix(y1_test,knn_pred_male)\n",
        "fig= plot_confusion_matrix(conf_mat=confusion_matrix,cmap=plt.cm.Greens,figsize=(8,8))\n",
        "plt.xlabel('Prediction',fontsize=16)\n",
        "plt.ylabel('Actual',fontsize=16)\n",
        "plt.title('Confusion Matrix',fontsize=16)\n",
        "plt.show() #    TP  FP\n",
        "           #    FN  TN"
      ],
      "execution_count": null,
      "outputs": [
        {
          "output_type": "display_data",
          "data": {
            "image/png": "[encoded data removed]",
            "text/plain": [
              "<Figure size 576x576 with 1 Axes>"
            ]
          },
          "metadata": {}
        }
      ]
    },
    {
      "cell_type": "markdown",
      "metadata": {
        "id": "ZRvQD4v5r2LP"
      },
      "source": [
        "##Decision Tree model"
      ]
    },
    {
      "cell_type": "code",
      "metadata": {
        "colab": {
          "base_uri": "https://localhost:8080/"
        },
        "id": "azU25ceSr-Sm",
        "outputId": "7250aa1a-260f-42db-a352-383e0375257c"
      },
      "source": [
        "tree_model_male=tree.DecisionTreeClassifier() #Classification\n",
        "tree_model_male.fit(x1_train,y1_train) #fit the model for training dataset"
      ],
      "execution_count": null,
      "outputs": [
        {
          "output_type": "execute_result",
          "data": {
            "text/plain": [
              "DecisionTreeClassifier(ccp_alpha=0.0, class_weight=None, criterion='gini',\n",
              "                       max_depth=None, max_features=None, max_leaf_nodes=None,\n",
              "                       min_impurity_decrease=0.0, min_impurity_split=None,\n",
              "                       min_samples_leaf=1, min_samples_split=2,\n",
              "                       min_weight_fraction_leaf=0.0, presort='deprecated',\n",
              "                       random_state=None, splitter='best')"
            ]
          },
          "metadata": {},
          "execution_count": 77
        }
      ]
    },
    {
      "cell_type": "code",
      "metadata": {
        "id": "i78VNebpsSdt"
      },
      "source": [
        "tree_pred_male=tree_model_male.predict(x1_test) #test the model"
      ],
      "execution_count": null,
      "outputs": []
    },
    {
      "cell_type": "code",
      "metadata": {
        "colab": {
          "base_uri": "https://localhost:8080/"
        },
        "id": "ANX4Jvl2sZi_",
        "outputId": "78f799aa-829f-4237-ee03-479872011a08"
      },
      "source": [
        "print(f'precision score is: {metrics.precision_score(y1_test,tree_pred_male)}') #precision=TP/TP+FP\n",
        "print(f'recall score is: {metrics.recall_score(y1_test,tree_pred_male)}') #recall=TP/TP+FN\n",
        "print(f'f1 score is: {metrics.f1_score(y1_test,tree_pred_male)}') #f1=2*precision*recall/precision+recall\n",
        "print(f'accuracy score is: {metrics.accuracy_score(y1_test,tree_pred_male)}') #accuracy=TP+TF/Total Samples"
      ],
      "execution_count": null,
      "outputs": [
        {
          "output_type": "stream",
          "name": "stdout",
          "text": [
            "precision score is: 0.422140221402214\n",
            "recall score is: 0.4493322859387274\n",
            "f1 score is: 0.4353120243531202\n",
            "accuracy score is: 0.7134028582464272\n"
          ]
        }
      ]
    },
    {
      "cell_type": "code",
      "metadata": {
        "colab": {
          "base_uri": "https://localhost:8080/",
          "height": 549
        },
        "id": "6MvVuldFsmwa",
        "outputId": "18ea6dbe-f4a4-4d94-df34-9279aa4420e0"
      },
      "source": [
        "#show the confusion matrix \n",
        "\n",
        "confusion_matrix=metrics.confusion_matrix(y1_test,tree_pred_male)\n",
        "fig= plot_confusion_matrix(conf_mat=confusion_matrix,cmap=plt.cm.Blues,figsize=(8,8))\n",
        "plt.xlabel('Prediction',fontsize=16)\n",
        "plt.ylabel('Actual',fontsize=16)\n",
        "plt.title('Confusion Matrix',fontsize=16)\n",
        "plt.show() #    TP  FP\n",
        "           #    FN  TN"
      ],
      "execution_count": null,
      "outputs": [
        {
          "output_type": "display_data",
          "data": {
            "image/png": "[encoded data removed]",
            "text/plain": [
              "<Figure size 576x576 with 1 Axes>"
            ]
          },
          "metadata": {}
        }
      ]
    },
    {
      "cell_type": "code",
      "metadata": {
        "colab": {
          "base_uri": "https://localhost:8080/"
        },
        "id": "nblG5qO4l46u",
        "outputId": "438e1cda-9638-4a58-f3d9-53139ad64895"
      },
      "source": [
        "text_representation = tree.export_text(tree_model_male)\n",
        "print(text_representation)"
      ],
      "execution_count": null,
      "outputs": [
        {
          "output_type": "stream",
          "name": "stdout",
          "text": [
            "|--- feature_1 <= -1.65\n",
            "|   |--- feature_10 <= 0.37\n",
            "|   |   |--- feature_4 <= 1.05\n",
            "|   |   |   |--- feature_0 <= -1.18\n",
            "|   |   |   |   |--- feature_0 <= -1.21\n",
            "|   |   |   |   |   |--- feature_7 <= -0.92\n",
            "|   |   |   |   |   |   |--- feature_0 <= -1.24\n",
            "|   |   |   |   |   |   |   |--- feature_9 <= 1.37\n",
            "|   |   |   |   |   |   |   |   |--- feature_0 <= -1.43\n",
            "|   |   |   |   |   |   |   |   |   |--- feature_4 <= -0.08\n",
            "|   |   |   |   |   |   |   |   |   |   |--- class: 1.0\n",
            "|   |   |   |   |   |   |   |   |   |--- feature_4 >  -0.08\n",
            "|   |   |   |   |   |   |   |   |   |   |--- feature_2 <= 0.50\n",
            "|   |   |   |   |   |   |   |   |   |   |   |--- class: 1.0\n",
            "|   |   |   |   |   |   |   |   |   |   |--- feature_2 >  0.50\n",
            "|   |   |   |   |   |   |   |   |   |   |   |--- truncated branch of depth 2\n",
            "|   |   |   |   |   |   |   |   |--- feature_0 >  -1.43\n",
            "|   |   |   |   |   |   |   |   |   |--- feature_0 <= -1.37\n",
            "|   |   |   |   |   |   |   |   |   |   |--- class: 0.0\n",
            "|   |   |   |   |   |   |   |   |   |--- feature_0 >  -1.37\n",
            "|   |   |   |   |   |   |   |   |   |   |--- feature_10 <= -0.30\n",
            "|   |   |   |   |   |   |   |   |   |   |   |--- class: 1.0\n",
            "|   |   |   |   |   |   |   |   |   |   |--- feature_10 >  -0.30\n",
            "|   |   |   |   |   |   |   |   |   |   |   |--- truncated branch of depth 2\n",
            "|   |   |   |   |   |   |   |--- feature_9 >  1.37\n",
            "|   |   |   |   |   |   |   |   |--- class: 0.0\n",
            "|   |   |   |   |   |   |--- feature_0 >  -1.24\n",
            "|   |   |   |   |   |   |   |--- class: 0.0\n",
            "|   |   |   |   |   |--- feature_7 >  -0.92\n",
            "|   |   |   |   |   |   |--- feature_6 <= -1.42\n",
            "|   |   |   |   |   |   |   |--- class: 1.0\n",
            "|   |   |   |   |   |   |--- feature_6 >  -1.42\n",
            "|   |   |   |   |   |   |   |--- feature_6 <= 0.35\n",
            "|   |   |   |   |   |   |   |   |--- feature_0 <= -1.29\n",
            "|   |   |   |   |   |   |   |   |   |--- feature_0 <= -1.55\n",
            "|   |   |   |   |   |   |   |   |   |   |--- feature_6 <= -0.24\n",
            "|   |   |   |   |   |   |   |   |   |   |   |--- class: 1.0\n",
            "|   |   |   |   |   |   |   |   |   |   |--- feature_6 >  -0.24\n",
            "|   |   |   |   |   |   |   |   |   |   |   |--- class: 0.0\n",
            "|   |   |   |   |   |   |   |   |   |--- feature_0 >  -1.55\n",
            "|   |   |   |   |   |   |   |   |   |   |--- feature_11 <= 1.31\n",
            "|   |   |   |   |   |   |   |   |   |   |   |--- truncated branch of depth 6\n",
            "|   |   |   |   |   |   |   |   |   |   |--- feature_11 >  1.31\n",
            "|   |   |   |   |   |   |   |   |   |   |   |--- class: 1.0\n",
            "|   |   |   |   |   |   |   |   |--- feature_0 >  -1.29\n",
            "|   |   |   |   |   |   |   |   |   |--- feature_11 <= 0.84\n",
            "|   |   |   |   |   |   |   |   |   |   |--- feature_3 <= 0.29\n",
            "|   |   |   |   |   |   |   |   |   |   |   |--- class: 1.0\n",
            "|   |   |   |   |   |   |   |   |   |   |--- feature_3 >  0.29\n",
            "|   |   |   |   |   |   |   |   |   |   |   |--- class: 0.0\n",
            "|   |   |   |   |   |   |   |   |   |--- feature_11 >  0.84\n",
            "|   |   |   |   |   |   |   |   |   |   |--- class: 0.0\n",
            "|   |   |   |   |   |   |   |--- feature_6 >  0.35\n",
            "|   |   |   |   |   |   |   |   |--- feature_0 <= -1.54\n",
            "|   |   |   |   |   |   |   |   |   |--- feature_7 <= 1.30\n",
            "|   |   |   |   |   |   |   |   |   |   |--- feature_0 <= -1.62\n",
            "|   |   |   |   |   |   |   |   |   |   |   |--- class: 0.0\n",
            "|   |   |   |   |   |   |   |   |   |   |--- feature_0 >  -1.62\n",
            "|   |   |   |   |   |   |   |   |   |   |   |--- truncated branch of depth 3\n",
            "|   |   |   |   |   |   |   |   |   |--- feature_7 >  1.30\n",
            "|   |   |   |   |   |   |   |   |   |   |--- class: 1.0\n",
            "|   |   |   |   |   |   |   |   |--- feature_0 >  -1.54\n",
            "|   |   |   |   |   |   |   |   |   |--- feature_0 <= -1.23\n",
            "|   |   |   |   |   |   |   |   |   |   |--- feature_7 <= 0.67\n",
            "|   |   |   |   |   |   |   |   |   |   |   |--- truncated branch of depth 3\n",
            "|   |   |   |   |   |   |   |   |   |   |--- feature_7 >  0.67\n",
            "|   |   |   |   |   |   |   |   |   |   |   |--- truncated branch of depth 7\n",
            "|   |   |   |   |   |   |   |   |   |--- feature_0 >  -1.23\n",
            "|   |   |   |   |   |   |   |   |   |   |--- class: 0.0\n",
            "|   |   |   |   |--- feature_0 >  -1.21\n",
            "|   |   |   |   |   |--- class: 1.0\n",
            "|   |   |   |--- feature_0 >  -1.18\n",
            "|   |   |   |   |--- feature_0 <= 1.70\n",
            "|   |   |   |   |   |--- feature_0 <= -1.12\n",
            "|   |   |   |   |   |   |--- feature_10 <= -0.91\n",
            "|   |   |   |   |   |   |   |--- class: 1.0\n",
            "|   |   |   |   |   |   |--- feature_10 >  -0.91\n",
            "|   |   |   |   |   |   |   |--- feature_9 <= -0.59\n",
            "|   |   |   |   |   |   |   |   |--- feature_0 <= -1.16\n",
            "|   |   |   |   |   |   |   |   |   |--- feature_2 <= 0.50\n",
            "|   |   |   |   |   |   |   |   |   |   |--- feature_10 <= -0.76\n",
            "|   |   |   |   |   |   |   |   |   |   |   |--- truncated branch of depth 2\n",
            "|   |   |   |   |   |   |   |   |   |   |--- feature_10 >  -0.76\n",
            "|   |   |   |   |   |   |   |   |   |   |   |--- class: 1.0\n",
            "|   |   |   |   |   |   |   |   |   |--- feature_2 >  0.50\n",
            "|   |   |   |   |   |   |   |   |   |   |--- class: 0.0\n",
            "|   |   |   |   |   |   |   |   |--- feature_0 >  -1.16\n",
            "|   |   |   |   |   |   |   |   |   |--- feature_7 <= -0.92\n",
            "|   |   |   |   |   |   |   |   |   |   |--- class: 1.0\n",
            "|   |   |   |   |   |   |   |   |   |--- feature_7 >  -0.92\n",
            "|   |   |   |   |   |   |   |   |   |   |--- feature_10 <= -0.60\n",
            "|   |   |   |   |   |   |   |   |   |   |   |--- truncated branch of depth 2\n",
            "|   |   |   |   |   |   |   |   |   |   |--- feature_10 >  -0.60\n",
            "|   |   |   |   |   |   |   |   |   |   |   |--- class: 0.0\n",
            "|   |   |   |   |   |   |   |--- feature_9 >  -0.59\n",
            "|   |   |   |   |   |   |   |   |--- feature_9 <= 1.70\n",
            "|   |   |   |   |   |   |   |   |   |--- class: 0.0\n",
            "|   |   |   |   |   |   |   |   |--- feature_9 >  1.70\n",
            "|   |   |   |   |   |   |   |   |   |--- feature_6 <= 0.79\n",
            "|   |   |   |   |   |   |   |   |   |   |--- class: 1.0\n",
            "|   |   |   |   |   |   |   |   |   |--- feature_6 >  0.79\n",
            "|   |   |   |   |   |   |   |   |   |   |--- class: 0.0\n",
            "|   |   |   |   |   |--- feature_0 >  -1.12\n",
            "|   |   |   |   |   |   |--- feature_5 <= 1.38\n",
            "|   |   |   |   |   |   |   |--- feature_0 <= 1.45\n",
            "|   |   |   |   |   |   |   |   |--- feature_0 <= 0.64\n",
            "|   |   |   |   |   |   |   |   |   |--- feature_0 <= 0.60\n",
            "|   |   |   |   |   |   |   |   |   |   |--- feature_0 <= -0.16\n",
            "|   |   |   |   |   |   |   |   |   |   |   |--- truncated branch of depth 21\n",
            "|   |   |   |   |   |   |   |   |   |   |--- feature_0 >  -0.16\n",
            "|   |   |   |   |   |   |   |   |   |   |   |--- truncated branch of depth 15\n",
            "|   |   |   |   |   |   |   |   |   |--- feature_0 >  0.60\n",
            "|   |   |   |   |   |   |   |   |   |   |--- feature_1 <= -2.47\n",
            "|   |   |   |   |   |   |   |   |   |   |   |--- class: 1.0\n",
            "|   |   |   |   |   |   |   |   |   |   |--- feature_1 >  -2.47\n",
            "|   |   |   |   |   |   |   |   |   |   |   |--- truncated branch of depth 4\n",
            "|   |   |   |   |   |   |   |   |--- feature_0 >  0.64\n",
            "|   |   |   |   |   |   |   |   |   |--- feature_0 <= 0.83\n",
            "|   |   |   |   |   |   |   |   |   |   |--- feature_0 <= 0.77\n",
            "|   |   |   |   |   |   |   |   |   |   |   |--- truncated branch of depth 11\n",
            "|   |   |   |   |   |   |   |   |   |   |--- feature_0 >  0.77\n",
            "|   |   |   |   |   |   |   |   |   |   |   |--- truncated branch of depth 3\n",
            "|   |   |   |   |   |   |   |   |   |--- feature_0 >  0.83\n",
            "|   |   |   |   |   |   |   |   |   |   |--- feature_6 <= 1.53\n",
            "|   |   |   |   |   |   |   |   |   |   |   |--- truncated branch of depth 14\n",
            "|   |   |   |   |   |   |   |   |   |   |--- feature_6 >  1.53\n",
            "|   |   |   |   |   |   |   |   |   |   |   |--- truncated branch of depth 5\n",
            "|   |   |   |   |   |   |   |--- feature_0 >  1.45\n",
            "|   |   |   |   |   |   |   |   |--- feature_3 <= 0.29\n",
            "|   |   |   |   |   |   |   |   |   |--- feature_6 <= 1.01\n",
            "|   |   |   |   |   |   |   |   |   |   |--- feature_8 <= 0.13\n",
            "|   |   |   |   |   |   |   |   |   |   |   |--- truncated branch of depth 7\n",
            "|   |   |   |   |   |   |   |   |   |   |--- feature_8 >  0.13\n",
            "|   |   |   |   |   |   |   |   |   |   |   |--- truncated branch of depth 5\n",
            "|   |   |   |   |   |   |   |   |   |--- feature_6 >  1.01\n",
            "|   |   |   |   |   |   |   |   |   |   |--- feature_9 <= -0.59\n",
            "|   |   |   |   |   |   |   |   |   |   |   |--- truncated branch of depth 3\n",
            "|   |   |   |   |   |   |   |   |   |   |--- feature_9 >  -0.59\n",
            "|   |   |   |   |   |   |   |   |   |   |   |--- truncated branch of depth 5\n",
            "|   |   |   |   |   |   |   |   |--- feature_3 >  0.29\n",
            "|   |   |   |   |   |   |   |   |   |--- feature_10 <= -0.88\n",
            "|   |   |   |   |   |   |   |   |   |   |--- class: 0.0\n",
            "|   |   |   |   |   |   |   |   |   |--- feature_10 >  -0.88\n",
            "|   |   |   |   |   |   |   |   |   |   |--- feature_0 <= 1.46\n",
            "|   |   |   |   |   |   |   |   |   |   |   |--- class: 0.0\n",
            "|   |   |   |   |   |   |   |   |   |   |--- feature_0 >  1.46\n",
            "|   |   |   |   |   |   |   |   |   |   |   |--- truncated branch of depth 9\n",
            "|   |   |   |   |   |   |--- feature_5 >  1.38\n",
            "|   |   |   |   |   |   |   |--- feature_6 <= 0.35\n",
            "|   |   |   |   |   |   |   |   |--- feature_7 <= 1.30\n",
            "|   |   |   |   |   |   |   |   |   |--- feature_9 <= 0.72\n",
            "|   |   |   |   |   |   |   |   |   |   |--- feature_0 <= 0.86\n",
            "|   |   |   |   |   |   |   |   |   |   |   |--- truncated branch of depth 3\n",
            "|   |   |   |   |   |   |   |   |   |   |--- feature_0 >  0.86\n",
            "|   |   |   |   |   |   |   |   |   |   |   |--- truncated branch of depth 2\n",
            "|   |   |   |   |   |   |   |   |   |--- feature_9 >  0.72\n",
            "|   |   |   |   |   |   |   |   |   |   |--- feature_6 <= -0.98\n",
            "|   |   |   |   |   |   |   |   |   |   |   |--- class: 0.0\n",
            "|   |   |   |   |   |   |   |   |   |   |--- feature_6 >  -0.98\n",
            "|   |   |   |   |   |   |   |   |   |   |   |--- truncated branch of depth 5\n",
            "|   |   |   |   |   |   |   |   |--- feature_7 >  1.30\n",
            "|   |   |   |   |   |   |   |   |   |--- class: 0.0\n",
            "|   |   |   |   |   |   |   |--- feature_6 >  0.35\n",
            "|   |   |   |   |   |   |   |   |--- feature_10 <= -0.90\n",
            "|   |   |   |   |   |   |   |   |   |--- feature_6 <= 0.94\n",
            "|   |   |   |   |   |   |   |   |   |   |--- class: 1.0\n",
            "|   |   |   |   |   |   |   |   |   |--- feature_6 >  0.94\n",
            "|   |   |   |   |   |   |   |   |   |   |--- class: 0.0\n",
            "|   |   |   |   |   |   |   |   |--- feature_10 >  -0.90\n",
            "|   |   |   |   |   |   |   |   |   |--- class: 1.0\n",
            "|   |   |   |   |--- feature_0 >  1.70\n",
            "|   |   |   |   |   |--- feature_10 <= -0.95\n",
            "|   |   |   |   |   |   |--- class: 1.0\n",
            "|   |   |   |   |   |--- feature_10 >  -0.95\n",
            "|   |   |   |   |   |   |--- class: 0.0\n",
            "|   |   |--- feature_4 >  1.05\n",
            "|   |   |   |--- feature_11 <= 0.13\n",
            "|   |   |   |   |--- feature_0 <= 1.55\n",
            "|   |   |   |   |   |--- feature_4 <= 3.31\n",
            "|   |   |   |   |   |   |--- feature_8 <= 1.16\n",
            "|   |   |   |   |   |   |   |--- feature_2 <= 0.50\n",
            "|   |   |   |   |   |   |   |   |--- feature_0 <= -1.21\n",
            "|   |   |   |   |   |   |   |   |   |--- class: 1.0\n",
            "|   |   |   |   |   |   |   |   |--- feature_0 >  -1.21\n",
            "|   |   |   |   |   |   |   |   |   |--- feature_3 <= 0.29\n",
            "|   |   |   |   |   |   |   |   |   |   |--- feature_7 <= 1.14\n",
            "|   |   |   |   |   |   |   |   |   |   |   |--- class: 1.0\n",
            "|   |   |   |   |   |   |   |   |   |   |--- feature_7 >  1.14\n",
            "|   |   |   |   |   |   |   |   |   |   |   |--- class: 0.0\n",
            "|   |   |   |   |   |   |   |   |   |--- feature_3 >  0.29\n",
            "|   |   |   |   |   |   |   |   |   |   |--- class: 0.0\n",
            "|   |   |   |   |   |   |   |--- feature_2 >  0.50\n",
            "|   |   |   |   |   |   |   |   |--- feature_0 <= 1.38\n",
            "|   |   |   |   |   |   |   |   |   |--- feature_0 <= 1.21\n",
            "|   |   |   |   |   |   |   |   |   |   |--- feature_6 <= 1.38\n",
            "|   |   |   |   |   |   |   |   |   |   |   |--- truncated branch of depth 13\n",
            "|   |   |   |   |   |   |   |   |   |   |--- feature_6 >  1.38\n",
            "|   |   |   |   |   |   |   |   |   |   |   |--- truncated branch of depth 2\n",
            "|   |   |   |   |   |   |   |   |   |--- feature_0 >  1.21\n",
            "|   |   |   |   |   |   |   |   |   |   |--- feature_6 <= 0.94\n",
            "|   |   |   |   |   |   |   |   |   |   |   |--- class: 1.0\n",
            "|   |   |   |   |   |   |   |   |   |   |--- feature_6 >  0.94\n",
            "|   |   |   |   |   |   |   |   |   |   |   |--- class: 0.0\n",
            "|   |   |   |   |   |   |   |   |--- feature_0 >  1.38\n",
            "|   |   |   |   |   |   |   |   |   |--- class: 0.0\n",
            "|   |   |   |   |   |   |--- feature_8 >  1.16\n",
            "|   |   |   |   |   |   |   |--- class: 0.0\n",
            "|   |   |   |   |   |--- feature_4 >  3.31\n",
            "|   |   |   |   |   |   |--- feature_10 <= -0.76\n",
            "|   |   |   |   |   |   |   |--- feature_7 <= -0.92\n",
            "|   |   |   |   |   |   |   |   |--- feature_10 <= -0.87\n",
            "|   |   |   |   |   |   |   |   |   |--- class: 1.0\n",
            "|   |   |   |   |   |   |   |   |--- feature_10 >  -0.87\n",
            "|   |   |   |   |   |   |   |   |   |--- class: 0.0\n",
            "|   |   |   |   |   |   |   |--- feature_7 >  -0.92\n",
            "|   |   |   |   |   |   |   |   |--- class: 1.0\n",
            "|   |   |   |   |   |   |--- feature_10 >  -0.76\n",
            "|   |   |   |   |   |   |   |--- class: 1.0\n",
            "|   |   |   |   |--- feature_0 >  1.55\n",
            "|   |   |   |   |   |--- feature_0 <= 1.68\n",
            "|   |   |   |   |   |   |--- class: 1.0\n",
            "|   |   |   |   |   |--- feature_0 >  1.68\n",
            "|   |   |   |   |   |   |--- feature_10 <= -0.18\n",
            "|   |   |   |   |   |   |   |--- class: 0.0\n",
            "|   |   |   |   |   |   |--- feature_10 >  -0.18\n",
            "|   |   |   |   |   |   |   |--- class: 1.0\n",
            "|   |   |   |--- feature_11 >  0.13\n",
            "|   |   |   |   |--- feature_0 <= -1.27\n",
            "|   |   |   |   |   |--- class: 0.0\n",
            "|   |   |   |   |--- feature_0 >  -1.27\n",
            "|   |   |   |   |   |--- feature_6 <= -0.02\n",
            "|   |   |   |   |   |   |--- feature_10 <= 0.05\n",
            "|   |   |   |   |   |   |   |--- feature_10 <= -0.95\n",
            "|   |   |   |   |   |   |   |   |--- class: 1.0\n",
            "|   |   |   |   |   |   |   |--- feature_10 >  -0.95\n",
            "|   |   |   |   |   |   |   |   |--- feature_1 <= -2.23\n",
            "|   |   |   |   |   |   |   |   |   |--- class: 0.0\n",
            "|   |   |   |   |   |   |   |   |--- feature_1 >  -2.23\n",
            "|   |   |   |   |   |   |   |   |   |--- feature_3 <= 0.29\n",
            "|   |   |   |   |   |   |   |   |   |   |--- class: 0.0\n",
            "|   |   |   |   |   |   |   |   |   |--- feature_3 >  0.29\n",
            "|   |   |   |   |   |   |   |   |   |   |--- class: 1.0\n",
            "|   |   |   |   |   |   |--- feature_10 >  0.05\n",
            "|   |   |   |   |   |   |   |--- class: 1.0\n",
            "|   |   |   |   |   |--- feature_6 >  -0.02\n",
            "|   |   |   |   |   |   |--- feature_10 <= 0.23\n",
            "|   |   |   |   |   |   |   |--- feature_5 <= 0.82\n",
            "|   |   |   |   |   |   |   |   |--- feature_0 <= 1.00\n",
            "|   |   |   |   |   |   |   |   |   |--- feature_6 <= 0.35\n",
            "|   |   |   |   |   |   |   |   |   |   |--- feature_10 <= -0.61\n",
            "|   |   |   |   |   |   |   |   |   |   |   |--- class: 1.0\n",
            "|   |   |   |   |   |   |   |   |   |   |--- feature_10 >  -0.61\n",
            "|   |   |   |   |   |   |   |   |   |   |   |--- truncated branch of depth 2\n",
            "|   |   |   |   |   |   |   |   |   |--- feature_6 >  0.35\n",
            "|   |   |   |   |   |   |   |   |   |   |--- class: 1.0\n",
            "|   |   |   |   |   |   |   |   |--- feature_0 >  1.00\n",
            "|   |   |   |   |   |   |   |   |   |--- feature_1 <= -2.29\n",
            "|   |   |   |   |   |   |   |   |   |   |--- class: 0.0\n",
            "|   |   |   |   |   |   |   |   |   |--- feature_1 >  -2.29\n",
            "|   |   |   |   |   |   |   |   |   |   |--- class: 1.0\n",
            "|   |   |   |   |   |   |   |--- feature_5 >  0.82\n",
            "|   |   |   |   |   |   |   |   |--- feature_3 <= 0.29\n",
            "|   |   |   |   |   |   |   |   |   |--- class: 0.0\n",
            "|   |   |   |   |   |   |   |   |--- feature_3 >  0.29\n",
            "|   |   |   |   |   |   |   |   |   |--- class: 1.0\n",
            "|   |   |   |   |   |   |--- feature_10 >  0.23\n",
            "|   |   |   |   |   |   |   |--- feature_10 <= 0.34\n",
            "|   |   |   |   |   |   |   |   |--- class: 0.0\n",
            "|   |   |   |   |   |   |   |--- feature_10 >  0.34\n",
            "|   |   |   |   |   |   |   |   |--- class: 1.0\n",
            "|   |--- feature_10 >  0.37\n",
            "|   |   |--- feature_7 <= -0.60\n",
            "|   |   |   |--- feature_3 <= 0.29\n",
            "|   |   |   |   |--- feature_0 <= -0.03\n",
            "|   |   |   |   |   |--- feature_10 <= 1.91\n",
            "|   |   |   |   |   |   |--- feature_2 <= 0.50\n",
            "|   |   |   |   |   |   |   |--- feature_0 <= -1.45\n",
            "|   |   |   |   |   |   |   |   |--- feature_6 <= 1.46\n",
            "|   |   |   |   |   |   |   |   |   |--- class: 1.0\n",
            "|   |   |   |   |   |   |   |   |--- feature_6 >  1.46\n",
            "|   |   |   |   |   |   |   |   |   |--- class: 0.0\n",
            "|   |   |   |   |   |   |   |--- feature_0 >  -1.45\n",
            "|   |   |   |   |   |   |   |   |--- feature_6 <= 0.86\n",
            "|   |   |   |   |   |   |   |   |   |--- feature_1 <= -2.23\n",
            "|   |   |   |   |   |   |   |   |   |   |--- class: 0.0\n",
            "|   |   |   |   |   |   |   |   |   |--- feature_1 >  -2.23\n",
            "|   |   |   |   |   |   |   |   |   |   |--- feature_0 <= -0.63\n",
            "|   |   |   |   |   |   |   |   |   |   |   |--- truncated branch of depth 2\n",
            "|   |   |   |   |   |   |   |   |   |   |--- feature_0 >  -0.63\n",
            "|   |   |   |   |   |   |   |   |   |   |   |--- class: 1.0\n",
            "|   |   |   |   |   |   |   |   |--- feature_6 >  0.86\n",
            "|   |   |   |   |   |   |   |   |   |--- feature_7 <= -0.92\n",
            "|   |   |   |   |   |   |   |   |   |   |--- class: 0.0\n",
            "|   |   |   |   |   |   |   |   |   |--- feature_7 >  -0.92\n",
            "|   |   |   |   |   |   |   |   |   |   |--- feature_10 <= 1.00\n",
            "|   |   |   |   |   |   |   |   |   |   |   |--- truncated branch of depth 2\n",
            "|   |   |   |   |   |   |   |   |   |   |--- feature_10 >  1.00\n",
            "|   |   |   |   |   |   |   |   |   |   |   |--- class: 0.0\n",
            "|   |   |   |   |   |   |--- feature_2 >  0.50\n",
            "|   |   |   |   |   |   |   |--- feature_6 <= -0.09\n",
            "|   |   |   |   |   |   |   |   |--- feature_0 <= -1.47\n",
            "|   |   |   |   |   |   |   |   |   |--- class: 1.0\n",
            "|   |   |   |   |   |   |   |   |--- feature_0 >  -1.47\n",
            "|   |   |   |   |   |   |   |   |   |--- class: 0.0\n",
            "|   |   |   |   |   |   |   |--- feature_6 >  -0.09\n",
            "|   |   |   |   |   |   |   |   |--- feature_4 <= 2.74\n",
            "|   |   |   |   |   |   |   |   |   |--- class: 1.0\n",
            "|   |   |   |   |   |   |   |   |--- feature_4 >  2.74\n",
            "|   |   |   |   |   |   |   |   |   |--- feature_10 <= 1.26\n",
            "|   |   |   |   |   |   |   |   |   |   |--- class: 0.0\n",
            "|   |   |   |   |   |   |   |   |   |--- feature_10 >  1.26\n",
            "|   |   |   |   |   |   |   |   |   |   |--- class: 1.0\n",
            "|   |   |   |   |   |--- feature_10 >  1.91\n",
            "|   |   |   |   |   |   |--- feature_1 <= -1.95\n",
            "|   |   |   |   |   |   |   |--- feature_0 <= -1.10\n",
            "|   |   |   |   |   |   |   |   |--- class: 0.0\n",
            "|   |   |   |   |   |   |   |--- feature_0 >  -1.10\n",
            "|   |   |   |   |   |   |   |   |--- class: 1.0\n",
            "|   |   |   |   |   |   |--- feature_1 >  -1.95\n",
            "|   |   |   |   |   |   |   |--- class: 0.0\n",
            "|   |   |   |   |--- feature_0 >  -0.03\n",
            "|   |   |   |   |   |--- feature_0 <= 0.75\n",
            "|   |   |   |   |   |   |--- feature_0 <= 0.46\n",
            "|   |   |   |   |   |   |   |--- feature_0 <= 0.38\n",
            "|   |   |   |   |   |   |   |   |--- feature_11 <= 0.13\n",
            "|   |   |   |   |   |   |   |   |   |--- feature_0 <= 0.37\n",
            "|   |   |   |   |   |   |   |   |   |   |--- feature_9 <= 0.07\n",
            "|   |   |   |   |   |   |   |   |   |   |   |--- class: 1.0\n",
            "|   |   |   |   |   |   |   |   |   |   |--- feature_9 >  0.07\n",
            "|   |   |   |   |   |   |   |   |   |   |   |--- truncated branch of depth 3\n",
            "|   |   |   |   |   |   |   |   |   |--- feature_0 >  0.37\n",
            "|   |   |   |   |   |   |   |   |   |   |--- feature_0 <= 0.37\n",
            "|   |   |   |   |   |   |   |   |   |   |   |--- class: 0.0\n",
            "|   |   |   |   |   |   |   |   |   |   |--- feature_0 >  0.37\n",
            "|   |   |   |   |   |   |   |   |   |   |   |--- class: 1.0\n",
            "|   |   |   |   |   |   |   |   |--- feature_11 >  0.13\n",
            "|   |   |   |   |   |   |   |   |   |--- class: 0.0\n",
            "|   |   |   |   |   |   |   |--- feature_0 >  0.38\n",
            "|   |   |   |   |   |   |   |   |--- class: 0.0\n",
            "|   |   |   |   |   |   |--- feature_0 >  0.46\n",
            "|   |   |   |   |   |   |   |--- feature_11 <= 1.54\n",
            "|   |   |   |   |   |   |   |   |--- feature_10 <= 0.42\n",
            "|   |   |   |   |   |   |   |   |   |--- class: 0.0\n",
            "|   |   |   |   |   |   |   |   |--- feature_10 >  0.42\n",
            "|   |   |   |   |   |   |   |   |   |--- class: 1.0\n",
            "|   |   |   |   |   |   |   |--- feature_11 >  1.54\n",
            "|   |   |   |   |   |   |   |   |--- class: 0.0\n",
            "|   |   |   |   |   |--- feature_0 >  0.75\n",
            "|   |   |   |   |   |   |--- feature_0 <= 0.77\n",
            "|   |   |   |   |   |   |   |--- class: 0.0\n",
            "|   |   |   |   |   |   |--- feature_0 >  0.77\n",
            "|   |   |   |   |   |   |   |--- feature_1 <= -1.83\n",
            "|   |   |   |   |   |   |   |   |--- class: 1.0\n",
            "|   |   |   |   |   |   |   |--- feature_1 >  -1.83\n",
            "|   |   |   |   |   |   |   |   |--- feature_10 <= 2.53\n",
            "|   |   |   |   |   |   |   |   |   |--- feature_0 <= 1.17\n",
            "|   |   |   |   |   |   |   |   |   |   |--- feature_0 <= 1.04\n",
            "|   |   |   |   |   |   |   |   |   |   |   |--- truncated branch of depth 2\n",
            "|   |   |   |   |   |   |   |   |   |   |--- feature_0 >  1.04\n",
            "|   |   |   |   |   |   |   |   |   |   |   |--- class: 0.0\n",
            "|   |   |   |   |   |   |   |   |   |--- feature_0 >  1.17\n",
            "|   |   |   |   |   |   |   |   |   |   |--- feature_10 <= 1.38\n",
            "|   |   |   |   |   |   |   |   |   |   |   |--- truncated branch of depth 4\n",
            "|   |   |   |   |   |   |   |   |   |   |--- feature_10 >  1.38\n",
            "|   |   |   |   |   |   |   |   |   |   |   |--- class: 0.0\n",
            "|   |   |   |   |   |   |   |   |--- feature_10 >  2.53\n",
            "|   |   |   |   |   |   |   |   |   |--- class: 1.0\n",
            "|   |   |   |--- feature_3 >  0.29\n",
            "|   |   |   |   |--- feature_10 <= 0.56\n",
            "|   |   |   |   |   |--- feature_10 <= 0.46\n",
            "|   |   |   |   |   |   |--- feature_0 <= 0.73\n",
            "|   |   |   |   |   |   |   |--- class: 0.0\n",
            "|   |   |   |   |   |   |--- feature_0 >  0.73\n",
            "|   |   |   |   |   |   |   |--- feature_10 <= 0.44\n",
            "|   |   |   |   |   |   |   |   |--- class: 1.0\n",
            "|   |   |   |   |   |   |   |--- feature_10 >  0.44\n",
            "|   |   |   |   |   |   |   |   |--- feature_11 <= -0.25\n",
            "|   |   |   |   |   |   |   |   |   |--- class: 0.0\n",
            "|   |   |   |   |   |   |   |   |--- feature_11 >  -0.25\n",
            "|   |   |   |   |   |   |   |   |   |--- class: 1.0\n",
            "|   |   |   |   |   |--- feature_10 >  0.46\n",
            "|   |   |   |   |   |   |--- feature_0 <= -0.21\n",
            "|   |   |   |   |   |   |   |--- feature_6 <= -0.32\n",
            "|   |   |   |   |   |   |   |   |--- class: 0.0\n",
            "|   |   |   |   |   |   |   |--- feature_6 >  -0.32\n",
            "|   |   |   |   |   |   |   |   |--- class: 1.0\n",
            "|   |   |   |   |   |   |--- feature_0 >  -0.21\n",
            "|   |   |   |   |   |   |   |--- class: 0.0\n",
            "|   |   |   |   |--- feature_10 >  0.56\n",
            "|   |   |   |   |   |--- feature_10 <= 4.03\n",
            "|   |   |   |   |   |   |--- feature_0 <= 1.54\n",
            "|   |   |   |   |   |   |   |--- feature_6 <= 0.57\n",
            "|   |   |   |   |   |   |   |   |--- feature_1 <= -2.63\n",
            "|   |   |   |   |   |   |   |   |   |--- class: 0.0\n",
            "|   |   |   |   |   |   |   |   |--- feature_1 >  -2.63\n",
            "|   |   |   |   |   |   |   |   |   |--- feature_0 <= 0.85\n",
            "|   |   |   |   |   |   |   |   |   |   |--- feature_3 <= 1.98\n",
            "|   |   |   |   |   |   |   |   |   |   |   |--- truncated branch of depth 5\n",
            "|   |   |   |   |   |   |   |   |   |   |--- feature_3 >  1.98\n",
            "|   |   |   |   |   |   |   |   |   |   |   |--- truncated branch of depth 2\n",
            "|   |   |   |   |   |   |   |   |   |--- feature_0 >  0.85\n",
            "|   |   |   |   |   |   |   |   |   |   |--- feature_0 <= 1.11\n",
            "|   |   |   |   |   |   |   |   |   |   |   |--- truncated branch of depth 3\n",
            "|   |   |   |   |   |   |   |   |   |   |--- feature_0 >  1.11\n",
            "|   |   |   |   |   |   |   |   |   |   |   |--- class: 1.0\n",
            "|   |   |   |   |   |   |   |--- feature_6 >  0.57\n",
            "|   |   |   |   |   |   |   |   |--- feature_6 <= 1.01\n",
            "|   |   |   |   |   |   |   |   |   |--- feature_1 <= -2.23\n",
            "|   |   |   |   |   |   |   |   |   |   |--- class: 1.0\n",
            "|   |   |   |   |   |   |   |   |   |--- feature_1 >  -2.23\n",
            "|   |   |   |   |   |   |   |   |   |   |--- feature_3 <= 1.98\n",
            "|   |   |   |   |   |   |   |   |   |   |   |--- truncated branch of depth 5\n",
            "|   |   |   |   |   |   |   |   |   |   |--- feature_3 >  1.98\n",
            "|   |   |   |   |   |   |   |   |   |   |   |--- class: 1.0\n",
            "|   |   |   |   |   |   |   |   |--- feature_6 >  1.01\n",
            "|   |   |   |   |   |   |   |   |   |--- feature_10 <= 0.80\n",
            "|   |   |   |   |   |   |   |   |   |   |--- feature_0 <= 1.21\n",
            "|   |   |   |   |   |   |   |   |   |   |   |--- class: 0.0\n",
            "|   |   |   |   |   |   |   |   |   |   |--- feature_0 >  1.21\n",
            "|   |   |   |   |   |   |   |   |   |   |   |--- class: 1.0\n",
            "|   |   |   |   |   |   |   |   |   |--- feature_10 >  0.80\n",
            "|   |   |   |   |   |   |   |   |   |   |--- feature_0 <= -1.52\n",
            "|   |   |   |   |   |   |   |   |   |   |   |--- class: 0.0\n",
            "|   |   |   |   |   |   |   |   |   |   |--- feature_0 >  -1.52\n",
            "|   |   |   |   |   |   |   |   |   |   |   |--- truncated branch of depth 5\n",
            "|   |   |   |   |   |   |--- feature_0 >  1.54\n",
            "|   |   |   |   |   |   |   |--- feature_6 <= -0.02\n",
            "|   |   |   |   |   |   |   |   |--- feature_11 <= -0.38\n",
            "|   |   |   |   |   |   |   |   |   |--- class: 1.0\n",
            "|   |   |   |   |   |   |   |   |--- feature_11 >  -0.38\n",
            "|   |   |   |   |   |   |   |   |   |--- class: 0.0\n",
            "|   |   |   |   |   |   |   |--- feature_6 >  -0.02\n",
            "|   |   |   |   |   |   |   |   |--- class: 0.0\n",
            "|   |   |   |   |   |--- feature_10 >  4.03\n",
            "|   |   |   |   |   |   |--- class: 0.0\n",
            "|   |   |--- feature_7 >  -0.60\n",
            "|   |   |   |--- feature_7 <= 0.67\n",
            "|   |   |   |   |--- feature_10 <= 0.60\n",
            "|   |   |   |   |   |--- feature_0 <= 1.37\n",
            "|   |   |   |   |   |   |--- feature_0 <= -0.08\n",
            "|   |   |   |   |   |   |   |--- feature_10 <= 0.48\n",
            "|   |   |   |   |   |   |   |   |--- class: 0.0\n",
            "|   |   |   |   |   |   |   |--- feature_10 >  0.48\n",
            "|   |   |   |   |   |   |   |   |--- class: 1.0\n",
            "|   |   |   |   |   |   |--- feature_0 >  -0.08\n",
            "|   |   |   |   |   |   |   |--- class: 0.0\n",
            "|   |   |   |   |   |--- feature_0 >  1.37\n",
            "|   |   |   |   |   |   |--- class: 1.0\n",
            "|   |   |   |   |--- feature_10 >  0.60\n",
            "|   |   |   |   |   |--- feature_10 <= 0.95\n",
            "|   |   |   |   |   |   |--- feature_7 <= 0.03\n",
            "|   |   |   |   |   |   |   |--- feature_6 <= -0.54\n",
            "|   |   |   |   |   |   |   |   |--- class: 0.0\n",
            "|   |   |   |   |   |   |   |--- feature_6 >  -0.54\n",
            "|   |   |   |   |   |   |   |   |--- feature_6 <= 0.64\n",
            "|   |   |   |   |   |   |   |   |   |--- class: 1.0\n",
            "|   |   |   |   |   |   |   |   |--- feature_6 >  0.64\n",
            "|   |   |   |   |   |   |   |   |   |--- feature_9 <= 0.39\n",
            "|   |   |   |   |   |   |   |   |   |   |--- feature_9 <= -0.59\n",
            "|   |   |   |   |   |   |   |   |   |   |   |--- truncated branch of depth 2\n",
            "|   |   |   |   |   |   |   |   |   |   |--- feature_9 >  -0.59\n",
            "|   |   |   |   |   |   |   |   |   |   |   |--- class: 0.0\n",
            "|   |   |   |   |   |   |   |   |   |--- feature_9 >  0.39\n",
            "|   |   |   |   |   |   |   |   |   |   |--- class: 1.0\n",
            "|   |   |   |   |   |   |--- feature_7 >  0.03\n",
            "|   |   |   |   |   |   |   |--- feature_10 <= 0.72\n",
            "|   |   |   |   |   |   |   |   |--- feature_0 <= 1.26\n",
            "|   |   |   |   |   |   |   |   |   |--- class: 0.0\n",
            "|   |   |   |   |   |   |   |   |--- feature_0 >  1.26\n",
            "|   |   |   |   |   |   |   |   |   |--- class: 1.0\n",
            "|   |   |   |   |   |   |   |--- feature_10 >  0.72\n",
            "|   |   |   |   |   |   |   |   |--- feature_9 <= 0.39\n",
            "|   |   |   |   |   |   |   |   |   |--- feature_7 <= 0.35\n",
            "|   |   |   |   |   |   |   |   |   |   |--- class: 0.0\n",
            "|   |   |   |   |   |   |   |   |   |--- feature_7 >  0.35\n",
            "|   |   |   |   |   |   |   |   |   |   |--- class: 1.0\n",
            "|   |   |   |   |   |   |   |   |--- feature_9 >  0.39\n",
            "|   |   |   |   |   |   |   |   |   |--- class: 1.0\n",
            "|   |   |   |   |   |--- feature_10 >  0.95\n",
            "|   |   |   |   |   |   |--- feature_10 <= 1.19\n",
            "|   |   |   |   |   |   |   |--- feature_9 <= -0.26\n",
            "|   |   |   |   |   |   |   |   |--- class: 0.0\n",
            "|   |   |   |   |   |   |   |--- feature_9 >  -0.26\n",
            "|   |   |   |   |   |   |   |   |--- feature_10 <= 1.12\n",
            "|   |   |   |   |   |   |   |   |   |--- class: 0.0\n",
            "|   |   |   |   |   |   |   |   |--- feature_10 >  1.12\n",
            "|   |   |   |   |   |   |   |   |   |--- class: 1.0\n",
            "|   |   |   |   |   |   |--- feature_10 >  1.19\n",
            "|   |   |   |   |   |   |   |--- feature_9 <= 0.72\n",
            "|   |   |   |   |   |   |   |   |--- feature_0 <= -0.98\n",
            "|   |   |   |   |   |   |   |   |   |--- feature_10 <= 1.70\n",
            "|   |   |   |   |   |   |   |   |   |   |--- feature_2 <= 0.50\n",
            "|   |   |   |   |   |   |   |   |   |   |   |--- class: 0.0\n",
            "|   |   |   |   |   |   |   |   |   |   |--- feature_2 >  0.50\n",
            "|   |   |   |   |   |   |   |   |   |   |   |--- class: 1.0\n",
            "|   |   |   |   |   |   |   |   |   |--- feature_10 >  1.70\n",
            "|   |   |   |   |   |   |   |   |   |   |--- class: 1.0\n",
            "|   |   |   |   |   |   |   |   |--- feature_0 >  -0.98\n",
            "|   |   |   |   |   |   |   |   |   |--- feature_11 <= 0.28\n",
            "|   |   |   |   |   |   |   |   |   |   |--- feature_0 <= -0.24\n",
            "|   |   |   |   |   |   |   |   |   |   |   |--- truncated branch of depth 3\n",
            "|   |   |   |   |   |   |   |   |   |   |--- feature_0 >  -0.24\n",
            "|   |   |   |   |   |   |   |   |   |   |   |--- truncated branch of depth 5\n",
            "|   |   |   |   |   |   |   |   |   |--- feature_11 >  0.28\n",
            "|   |   |   |   |   |   |   |   |   |   |--- class: 1.0\n",
            "|   |   |   |   |   |   |   |--- feature_9 >  0.72\n",
            "|   |   |   |   |   |   |   |   |--- feature_6 <= -0.83\n",
            "|   |   |   |   |   |   |   |   |   |--- class: 1.0\n",
            "|   |   |   |   |   |   |   |   |--- feature_6 >  -0.83\n",
            "|   |   |   |   |   |   |   |   |   |--- feature_10 <= 1.67\n",
            "|   |   |   |   |   |   |   |   |   |   |--- feature_4 <= -0.08\n",
            "|   |   |   |   |   |   |   |   |   |   |   |--- class: 0.0\n",
            "|   |   |   |   |   |   |   |   |   |   |--- feature_4 >  -0.08\n",
            "|   |   |   |   |   |   |   |   |   |   |   |--- class: 1.0\n",
            "|   |   |   |   |   |   |   |   |   |--- feature_10 >  1.67\n",
            "|   |   |   |   |   |   |   |   |   |   |--- class: 0.0\n",
            "|   |   |   |--- feature_7 >  0.67\n",
            "|   |   |   |   |--- feature_0 <= 0.21\n",
            "|   |   |   |   |   |--- feature_0 <= -0.23\n",
            "|   |   |   |   |   |   |--- feature_0 <= -0.60\n",
            "|   |   |   |   |   |   |   |--- feature_6 <= 0.94\n",
            "|   |   |   |   |   |   |   |   |--- feature_3 <= 0.29\n",
            "|   |   |   |   |   |   |   |   |   |--- feature_8 <= 3.22\n",
            "|   |   |   |   |   |   |   |   |   |   |--- feature_10 <= 2.21\n",
            "|   |   |   |   |   |   |   |   |   |   |   |--- truncated branch of depth 4\n",
            "|   |   |   |   |   |   |   |   |   |   |--- feature_10 >  2.21\n",
            "|   |   |   |   |   |   |   |   |   |   |   |--- class: 1.0\n",
            "|   |   |   |   |   |   |   |   |   |--- feature_8 >  3.22\n",
            "|   |   |   |   |   |   |   |   |   |   |--- class: 1.0\n",
            "|   |   |   |   |   |   |   |   |--- feature_3 >  0.29\n",
            "|   |   |   |   |   |   |   |   |   |--- feature_9 <= -0.59\n",
            "|   |   |   |   |   |   |   |   |   |   |--- class: 1.0\n",
            "|   |   |   |   |   |   |   |   |   |--- feature_9 >  -0.59\n",
            "|   |   |   |   |   |   |   |   |   |   |--- feature_10 <= 0.72\n",
            "|   |   |   |   |   |   |   |   |   |   |   |--- class: 0.0\n",
            "|   |   |   |   |   |   |   |   |   |   |--- feature_10 >  0.72\n",
            "|   |   |   |   |   |   |   |   |   |   |   |--- truncated branch of depth 2\n",
            "|   |   |   |   |   |   |   |--- feature_6 >  0.94\n",
            "|   |   |   |   |   |   |   |   |--- feature_4 <= -0.08\n",
            "|   |   |   |   |   |   |   |   |   |--- feature_10 <= 0.60\n",
            "|   |   |   |   |   |   |   |   |   |   |--- feature_0 <= -0.82\n",
            "|   |   |   |   |   |   |   |   |   |   |   |--- class: 0.0\n",
            "|   |   |   |   |   |   |   |   |   |   |--- feature_0 >  -0.82\n",
            "|   |   |   |   |   |   |   |   |   |   |   |--- class: 1.0\n",
            "|   |   |   |   |   |   |   |   |   |--- feature_10 >  0.60\n",
            "|   |   |   |   |   |   |   |   |   |   |--- feature_0 <= -0.91\n",
            "|   |   |   |   |   |   |   |   |   |   |   |--- truncated branch of depth 3\n",
            "|   |   |   |   |   |   |   |   |   |   |--- feature_0 >  -0.91\n",
            "|   |   |   |   |   |   |   |   |   |   |   |--- truncated branch of depth 2\n",
            "|   |   |   |   |   |   |   |   |--- feature_4 >  -0.08\n",
            "|   |   |   |   |   |   |   |   |   |--- feature_3 <= 0.29\n",
            "|   |   |   |   |   |   |   |   |   |   |--- class: 0.0\n",
            "|   |   |   |   |   |   |   |   |   |--- feature_3 >  0.29\n",
            "|   |   |   |   |   |   |   |   |   |   |--- class: 1.0\n",
            "|   |   |   |   |   |   |--- feature_0 >  -0.60\n",
            "|   |   |   |   |   |   |   |--- feature_6 <= 0.79\n",
            "|   |   |   |   |   |   |   |   |--- feature_5 <= 2.50\n",
            "|   |   |   |   |   |   |   |   |   |--- feature_3 <= 1.98\n",
            "|   |   |   |   |   |   |   |   |   |   |--- class: 1.0\n",
            "|   |   |   |   |   |   |   |   |   |--- feature_3 >  1.98\n",
            "|   |   |   |   |   |   |   |   |   |   |--- class: 0.0\n",
            "|   |   |   |   |   |   |   |   |--- feature_5 >  2.50\n",
            "|   |   |   |   |   |   |   |   |   |--- class: 0.0\n",
            "|   |   |   |   |   |   |   |--- feature_6 >  0.79\n",
            "|   |   |   |   |   |   |   |   |--- feature_10 <= 0.76\n",
            "|   |   |   |   |   |   |   |   |   |--- class: 0.0\n",
            "|   |   |   |   |   |   |   |   |--- feature_10 >  0.76\n",
            "|   |   |   |   |   |   |   |   |   |--- feature_10 <= 2.30\n",
            "|   |   |   |   |   |   |   |   |   |   |--- class: 1.0\n",
            "|   |   |   |   |   |   |   |   |   |--- feature_10 >  2.30\n",
            "|   |   |   |   |   |   |   |   |   |   |--- feature_0 <= -0.45\n",
            "|   |   |   |   |   |   |   |   |   |   |   |--- class: 0.0\n",
            "|   |   |   |   |   |   |   |   |   |   |--- feature_0 >  -0.45\n",
            "|   |   |   |   |   |   |   |   |   |   |   |--- class: 1.0\n",
            "|   |   |   |   |   |--- feature_0 >  -0.23\n",
            "|   |   |   |   |   |   |--- feature_7 <= 1.30\n",
            "|   |   |   |   |   |   |   |--- feature_9 <= 0.39\n",
            "|   |   |   |   |   |   |   |   |--- feature_4 <= -0.08\n",
            "|   |   |   |   |   |   |   |   |   |--- feature_10 <= 1.00\n",
            "|   |   |   |   |   |   |   |   |   |   |--- class: 0.0\n",
            "|   |   |   |   |   |   |   |   |   |--- feature_10 >  1.00\n",
            "|   |   |   |   |   |   |   |   |   |   |--- feature_1 <= -1.92\n",
            "|   |   |   |   |   |   |   |   |   |   |   |--- class: 0.0\n",
            "|   |   |   |   |   |   |   |   |   |   |--- feature_1 >  -1.92\n",
            "|   |   |   |   |   |   |   |   |   |   |   |--- class: 1.0\n",
            "|   |   |   |   |   |   |   |   |--- feature_4 >  -0.08\n",
            "|   |   |   |   |   |   |   |   |   |--- class: 1.0\n",
            "|   |   |   |   |   |   |   |--- feature_9 >  0.39\n",
            "|   |   |   |   |   |   |   |   |--- class: 1.0\n",
            "|   |   |   |   |   |   |--- feature_7 >  1.30\n",
            "|   |   |   |   |   |   |   |--- feature_10 <= 3.41\n",
            "|   |   |   |   |   |   |   |   |--- class: 0.0\n",
            "|   |   |   |   |   |   |   |--- feature_10 >  3.41\n",
            "|   |   |   |   |   |   |   |   |--- class: 1.0\n",
            "|   |   |   |   |--- feature_0 >  0.21\n",
            "|   |   |   |   |   |--- feature_0 <= 0.71\n",
            "|   |   |   |   |   |   |--- feature_0 <= 0.47\n",
            "|   |   |   |   |   |   |   |--- feature_3 <= 0.29\n",
            "|   |   |   |   |   |   |   |   |--- feature_4 <= -0.08\n",
            "|   |   |   |   |   |   |   |   |   |--- feature_0 <= 0.46\n",
            "|   |   |   |   |   |   |   |   |   |   |--- class: 1.0\n",
            "|   |   |   |   |   |   |   |   |   |--- feature_0 >  0.46\n",
            "|   |   |   |   |   |   |   |   |   |   |--- class: 0.0\n",
            "|   |   |   |   |   |   |   |   |--- feature_4 >  -0.08\n",
            "|   |   |   |   |   |   |   |   |   |--- feature_10 <= 0.72\n",
            "|   |   |   |   |   |   |   |   |   |   |--- class: 1.0\n",
            "|   |   |   |   |   |   |   |   |   |--- feature_10 >  0.72\n",
            "|   |   |   |   |   |   |   |   |   |   |--- class: 0.0\n",
            "|   |   |   |   |   |   |   |--- feature_3 >  0.29\n",
            "|   |   |   |   |   |   |   |   |--- feature_0 <= 0.27\n",
            "|   |   |   |   |   |   |   |   |   |--- class: 1.0\n",
            "|   |   |   |   |   |   |   |   |--- feature_0 >  0.27\n",
            "|   |   |   |   |   |   |   |   |   |--- class: 0.0\n",
            "|   |   |   |   |   |   |--- feature_0 >  0.47\n",
            "|   |   |   |   |   |   |   |--- feature_6 <= 1.38\n",
            "|   |   |   |   |   |   |   |   |--- class: 1.0\n",
            "|   |   |   |   |   |   |   |--- feature_6 >  1.38\n",
            "|   |   |   |   |   |   |   |   |--- feature_0 <= 0.50\n",
            "|   |   |   |   |   |   |   |   |   |--- feature_6 <= 1.53\n",
            "|   |   |   |   |   |   |   |   |   |   |--- class: 0.0\n",
            "|   |   |   |   |   |   |   |   |   |--- feature_6 >  1.53\n",
            "|   |   |   |   |   |   |   |   |   |   |--- class: 1.0\n",
            "|   |   |   |   |   |   |   |   |--- feature_0 >  0.50\n",
            "|   |   |   |   |   |   |   |   |   |--- class: 1.0\n",
            "|   |   |   |   |   |--- feature_0 >  0.71\n",
            "|   |   |   |   |   |   |--- feature_10 <= 1.70\n",
            "|   |   |   |   |   |   |   |--- feature_8 <= 0.13\n",
            "|   |   |   |   |   |   |   |   |--- feature_0 <= 0.93\n",
            "|   |   |   |   |   |   |   |   |   |--- feature_10 <= 0.80\n",
            "|   |   |   |   |   |   |   |   |   |   |--- feature_9 <= -0.59\n",
            "|   |   |   |   |   |   |   |   |   |   |   |--- class: 1.0\n",
            "|   |   |   |   |   |   |   |   |   |   |--- feature_9 >  -0.59\n",
            "|   |   |   |   |   |   |   |   |   |   |   |--- truncated branch of depth 2\n",
            "|   |   |   |   |   |   |   |   |   |--- feature_10 >  0.80\n",
            "|   |   |   |   |   |   |   |   |   |   |--- feature_6 <= -0.39\n",
            "|   |   |   |   |   |   |   |   |   |   |   |--- truncated branch of depth 2\n",
            "|   |   |   |   |   |   |   |   |   |   |--- feature_6 >  -0.39\n",
            "|   |   |   |   |   |   |   |   |   |   |   |--- class: 0.0\n",
            "|   |   |   |   |   |   |   |   |--- feature_0 >  0.93\n",
            "|   |   |   |   |   |   |   |   |   |--- feature_3 <= 1.98\n",
            "|   |   |   |   |   |   |   |   |   |   |--- feature_10 <= 1.32\n",
            "|   |   |   |   |   |   |   |   |   |   |   |--- truncated branch of depth 4\n",
            "|   |   |   |   |   |   |   |   |   |   |--- feature_10 >  1.32\n",
            "|   |   |   |   |   |   |   |   |   |   |   |--- truncated branch of depth 3\n",
            "|   |   |   |   |   |   |   |   |   |--- feature_3 >  1.98\n",
            "|   |   |   |   |   |   |   |   |   |   |--- class: 0.0\n",
            "|   |   |   |   |   |   |   |--- feature_8 >  0.13\n",
            "|   |   |   |   |   |   |   |   |--- feature_6 <= 1.53\n",
            "|   |   |   |   |   |   |   |   |   |--- class: 0.0\n",
            "|   |   |   |   |   |   |   |   |--- feature_6 >  1.53\n",
            "|   |   |   |   |   |   |   |   |   |--- class: 1.0\n",
            "|   |   |   |   |   |   |--- feature_10 >  1.70\n",
            "|   |   |   |   |   |   |   |--- feature_10 <= 4.40\n",
            "|   |   |   |   |   |   |   |   |--- feature_0 <= 1.07\n",
            "|   |   |   |   |   |   |   |   |   |--- feature_4 <= -0.08\n",
            "|   |   |   |   |   |   |   |   |   |   |--- feature_9 <= 0.72\n",
            "|   |   |   |   |   |   |   |   |   |   |   |--- class: 0.0\n",
            "|   |   |   |   |   |   |   |   |   |   |--- feature_9 >  0.72\n",
            "|   |   |   |   |   |   |   |   |   |   |   |--- truncated branch of depth 2\n",
            "|   |   |   |   |   |   |   |   |   |--- feature_4 >  -0.08\n",
            "|   |   |   |   |   |   |   |   |   |   |--- class: 1.0\n",
            "|   |   |   |   |   |   |   |   |--- feature_0 >  1.07\n",
            "|   |   |   |   |   |   |   |   |   |--- class: 1.0\n",
            "|   |   |   |   |   |   |   |--- feature_10 >  4.40\n",
            "|   |   |   |   |   |   |   |   |--- class: 0.0\n",
            "|--- feature_1 >  -1.65\n",
            "|   |--- feature_7 <= -0.92\n",
            "|   |   |--- feature_4 <= 1.05\n",
            "|   |   |   |--- feature_1 <= 0.72\n",
            "|   |   |   |   |--- feature_3 <= 0.29\n",
            "|   |   |   |   |   |--- feature_1 <= -0.26\n",
            "|   |   |   |   |   |   |--- feature_6 <= -0.98\n",
            "|   |   |   |   |   |   |   |--- feature_9 <= 0.07\n",
            "|   |   |   |   |   |   |   |   |--- feature_1 <= -1.12\n",
            "|   |   |   |   |   |   |   |   |   |--- class: 0.0\n",
            "|   |   |   |   |   |   |   |   |--- feature_1 >  -1.12\n",
            "|   |   |   |   |   |   |   |   |   |--- feature_6 <= -1.42\n",
            "|   |   |   |   |   |   |   |   |   |   |--- feature_10 <= 1.78\n",
            "|   |   |   |   |   |   |   |   |   |   |   |--- class: 1.0\n",
            "|   |   |   |   |   |   |   |   |   |   |--- feature_10 >  1.78\n",
            "|   |   |   |   |   |   |   |   |   |   |   |--- class: 0.0\n",
            "|   |   |   |   |   |   |   |   |   |--- feature_6 >  -1.42\n",
            "|   |   |   |   |   |   |   |   |   |   |--- feature_0 <= -1.60\n",
            "|   |   |   |   |   |   |   |   |   |   |   |--- class: 1.0\n",
            "|   |   |   |   |   |   |   |   |   |   |--- feature_0 >  -1.60\n",
            "|   |   |   |   |   |   |   |   |   |   |   |--- truncated branch of depth 6\n",
            "|   |   |   |   |   |   |   |--- feature_9 >  0.07\n",
            "|   |   |   |   |   |   |   |   |--- feature_11 <= -0.40\n",
            "|   |   |   |   |   |   |   |   |   |--- class: 1.0\n",
            "|   |   |   |   |   |   |   |   |--- feature_11 >  -0.40\n",
            "|   |   |   |   |   |   |   |   |   |--- feature_6 <= -1.42\n",
            "|   |   |   |   |   |   |   |   |   |   |--- feature_2 <= 0.50\n",
            "|   |   |   |   |   |   |   |   |   |   |   |--- class: 1.0\n",
            "|   |   |   |   |   |   |   |   |   |   |--- feature_2 >  0.50\n",
            "|   |   |   |   |   |   |   |   |   |   |   |--- class: 0.0\n",
            "|   |   |   |   |   |   |   |   |   |--- feature_6 >  -1.42\n",
            "|   |   |   |   |   |   |   |   |   |   |--- class: 0.0\n",
            "|   |   |   |   |   |   |--- feature_6 >  -0.98\n",
            "|   |   |   |   |   |   |   |--- feature_11 <= -0.06\n",
            "|   |   |   |   |   |   |   |   |--- feature_0 <= 1.62\n",
            "|   |   |   |   |   |   |   |   |   |--- feature_6 <= -0.61\n",
            "|   |   |   |   |   |   |   |   |   |   |--- feature_0 <= -0.43\n",
            "|   |   |   |   |   |   |   |   |   |   |   |--- class: 0.0\n",
            "|   |   |   |   |   |   |   |   |   |   |--- feature_0 >  -0.43\n",
            "|   |   |   |   |   |   |   |   |   |   |   |--- class: 1.0\n",
            "|   |   |   |   |   |   |   |   |   |--- feature_6 >  -0.61\n",
            "|   |   |   |   |   |   |   |   |   |   |--- feature_6 <= 0.64\n",
            "|   |   |   |   |   |   |   |   |   |   |   |--- truncated branch of depth 6\n",
            "|   |   |   |   |   |   |   |   |   |   |--- feature_6 >  0.64\n",
            "|   |   |   |   |   |   |   |   |   |   |   |--- truncated branch of depth 5\n",
            "|   |   |   |   |   |   |   |   |--- feature_0 >  1.62\n",
            "|   |   |   |   |   |   |   |   |   |--- class: 1.0\n",
            "|   |   |   |   |   |   |   |--- feature_11 >  -0.06\n",
            "|   |   |   |   |   |   |   |   |--- feature_10 <= 1.05\n",
            "|   |   |   |   |   |   |   |   |   |--- feature_9 <= 0.72\n",
            "|   |   |   |   |   |   |   |   |   |   |--- feature_11 <= 0.84\n",
            "|   |   |   |   |   |   |   |   |   |   |   |--- truncated branch of depth 3\n",
            "|   |   |   |   |   |   |   |   |   |   |--- feature_11 >  0.84\n",
            "|   |   |   |   |   |   |   |   |   |   |   |--- truncated branch of depth 8\n",
            "|   |   |   |   |   |   |   |   |   |--- feature_9 >  0.72\n",
            "|   |   |   |   |   |   |   |   |   |   |--- feature_0 <= 0.14\n",
            "|   |   |   |   |   |   |   |   |   |   |   |--- truncated branch of depth 5\n",
            "|   |   |   |   |   |   |   |   |   |   |--- feature_0 >  0.14\n",
            "|   |   |   |   |   |   |   |   |   |   |   |--- truncated branch of depth 5\n",
            "|   |   |   |   |   |   |   |   |--- feature_10 >  1.05\n",
            "|   |   |   |   |   |   |   |   |   |--- feature_10 <= 1.70\n",
            "|   |   |   |   |   |   |   |   |   |   |--- class: 0.0\n",
            "|   |   |   |   |   |   |   |   |   |--- feature_10 >  1.70\n",
            "|   |   |   |   |   |   |   |   |   |   |--- feature_6 <= 0.13\n",
            "|   |   |   |   |   |   |   |   |   |   |   |--- class: 0.0\n",
            "|   |   |   |   |   |   |   |   |   |   |--- feature_6 >  0.13\n",
            "|   |   |   |   |   |   |   |   |   |   |   |--- class: 1.0\n",
            "|   |   |   |   |   |--- feature_1 >  -0.26\n",
            "|   |   |   |   |   |   |--- feature_2 <= 0.50\n",
            "|   |   |   |   |   |   |   |--- feature_1 <= 0.53\n",
            "|   |   |   |   |   |   |   |   |--- feature_10 <= 0.97\n",
            "|   |   |   |   |   |   |   |   |   |--- feature_4 <= -0.08\n",
            "|   |   |   |   |   |   |   |   |   |   |--- feature_1 <= 0.47\n",
            "|   |   |   |   |   |   |   |   |   |   |   |--- truncated branch of depth 9\n",
            "|   |   |   |   |   |   |   |   |   |   |--- feature_1 >  0.47\n",
            "|   |   |   |   |   |   |   |   |   |   |   |--- truncated branch of depth 7\n",
            "|   |   |   |   |   |   |   |   |   |--- feature_4 >  -0.08\n",
            "|   |   |   |   |   |   |   |   |   |   |--- feature_9 <= 2.03\n",
            "|   |   |   |   |   |   |   |   |   |   |   |--- truncated branch of depth 7\n",
            "|   |   |   |   |   |   |   |   |   |   |--- feature_9 >  2.03\n",
            "|   |   |   |   |   |   |   |   |   |   |   |--- truncated branch of depth 3\n",
            "|   |   |   |   |   |   |   |   |--- feature_10 >  0.97\n",
            "|   |   |   |   |   |   |   |   |   |--- feature_1 <= -0.20\n",
            "|   |   |   |   |   |   |   |   |   |   |--- feature_0 <= 0.10\n",
            "|   |   |   |   |   |   |   |   |   |   |   |--- class: 0.0\n",
            "|   |   |   |   |   |   |   |   |   |   |--- feature_0 >  0.10\n",
            "|   |   |   |   |   |   |   |   |   |   |   |--- class: 1.0\n",
            "|   |   |   |   |   |   |   |   |   |--- feature_1 >  -0.20\n",
            "|   |   |   |   |   |   |   |   |   |   |--- class: 0.0\n",
            "|   |   |   |   |   |   |   |--- feature_1 >  0.53\n",
            "|   |   |   |   |   |   |   |   |--- feature_0 <= 0.32\n",
            "|   |   |   |   |   |   |   |   |   |--- feature_1 <= 0.70\n",
            "|   |   |   |   |   |   |   |   |   |   |--- feature_5 <= 4.74\n",
            "|   |   |   |   |   |   |   |   |   |   |   |--- truncated branch of depth 11\n",
            "|   |   |   |   |   |   |   |   |   |   |--- feature_5 >  4.74\n",
            "|   |   |   |   |   |   |   |   |   |   |   |--- class: 1.0\n",
            "|   |   |   |   |   |   |   |   |   |--- feature_1 >  0.70\n",
            "|   |   |   |   |   |   |   |   |   |   |--- feature_5 <= 0.26\n",
            "|   |   |   |   |   |   |   |   |   |   |   |--- class: 1.0\n",
            "|   |   |   |   |   |   |   |   |   |   |--- feature_5 >  0.26\n",
            "|   |   |   |   |   |   |   |   |   |   |   |--- class: 0.0\n",
            "|   |   |   |   |   |   |   |   |--- feature_0 >  0.32\n",
            "|   |   |   |   |   |   |   |   |   |--- feature_6 <= -1.42\n",
            "|   |   |   |   |   |   |   |   |   |   |--- feature_10 <= 0.75\n",
            "|   |   |   |   |   |   |   |   |   |   |   |--- class: 0.0\n",
            "|   |   |   |   |   |   |   |   |   |   |--- feature_10 >  0.75\n",
            "|   |   |   |   |   |   |   |   |   |   |   |--- class: 1.0\n",
            "|   |   |   |   |   |   |   |   |   |--- feature_6 >  -1.42\n",
            "|   |   |   |   |   |   |   |   |   |   |--- feature_0 <= 1.60\n",
            "|   |   |   |   |   |   |   |   |   |   |   |--- truncated branch of depth 4\n",
            "|   |   |   |   |   |   |   |   |   |   |--- feature_0 >  1.60\n",
            "|   |   |   |   |   |   |   |   |   |   |   |--- truncated branch of depth 2\n",
            "|   |   |   |   |   |   |--- feature_2 >  0.50\n",
            "|   |   |   |   |   |   |   |--- feature_11 <= 1.24\n",
            "|   |   |   |   |   |   |   |   |--- feature_10 <= -0.08\n",
            "|   |   |   |   |   |   |   |   |   |--- feature_6 <= -1.28\n",
            "|   |   |   |   |   |   |   |   |   |   |--- class: 1.0\n",
            "|   |   |   |   |   |   |   |   |   |--- feature_6 >  -1.28\n",
            "|   |   |   |   |   |   |   |   |   |   |--- feature_1 <= 0.55\n",
            "|   |   |   |   |   |   |   |   |   |   |   |--- truncated branch of depth 4\n",
            "|   |   |   |   |   |   |   |   |   |   |--- feature_1 >  0.55\n",
            "|   |   |   |   |   |   |   |   |   |   |   |--- truncated branch of depth 6\n",
            "|   |   |   |   |   |   |   |   |--- feature_10 >  -0.08\n",
            "|   |   |   |   |   |   |   |   |   |--- feature_5 <= 4.18\n",
            "|   |   |   |   |   |   |   |   |   |   |--- feature_11 <= 1.10\n",
            "|   |   |   |   |   |   |   |   |   |   |   |--- truncated branch of depth 3\n",
            "|   |   |   |   |   |   |   |   |   |   |--- feature_11 >  1.10\n",
            "|   |   |   |   |   |   |   |   |   |   |   |--- truncated branch of depth 2\n",
            "|   |   |   |   |   |   |   |   |   |--- feature_5 >  4.18\n",
            "|   |   |   |   |   |   |   |   |   |   |--- feature_10 <= 0.55\n",
            "|   |   |   |   |   |   |   |   |   |   |   |--- class: 0.0\n",
            "|   |   |   |   |   |   |   |   |   |   |--- feature_10 >  0.55\n",
            "|   |   |   |   |   |   |   |   |   |   |   |--- class: 1.0\n",
            "|   |   |   |   |   |   |   |--- feature_11 >  1.24\n",
            "|   |   |   |   |   |   |   |   |--- feature_6 <= 1.09\n",
            "|   |   |   |   |   |   |   |   |   |--- feature_9 <= 0.07\n",
            "|   |   |   |   |   |   |   |   |   |   |--- feature_10 <= 0.71\n",
            "|   |   |   |   |   |   |   |   |   |   |   |--- truncated branch of depth 5\n",
            "|   |   |   |   |   |   |   |   |   |   |--- feature_10 >  0.71\n",
            "|   |   |   |   |   |   |   |   |   |   |   |--- truncated branch of depth 2\n",
            "|   |   |   |   |   |   |   |   |   |--- feature_9 >  0.07\n",
            "|   |   |   |   |   |   |   |   |   |   |--- feature_0 <= -0.85\n",
            "|   |   |   |   |   |   |   |   |   |   |   |--- class: 1.0\n",
            "|   |   |   |   |   |   |   |   |   |   |--- feature_0 >  -0.85\n",
            "|   |   |   |   |   |   |   |   |   |   |   |--- truncated branch of depth 3\n",
            "|   |   |   |   |   |   |   |   |--- feature_6 >  1.09\n",
            "|   |   |   |   |   |   |   |   |   |--- class: 1.0\n",
            "|   |   |   |   |--- feature_3 >  0.29\n",
            "|   |   |   |   |   |--- feature_11 <= 1.04\n",
            "|   |   |   |   |   |   |--- feature_1 <= -0.29\n",
            "|   |   |   |   |   |   |   |--- feature_6 <= 0.94\n",
            "|   |   |   |   |   |   |   |   |--- feature_11 <= -0.35\n",
            "|   |   |   |   |   |   |   |   |   |--- feature_0 <= -1.06\n",
            "|   |   |   |   |   |   |   |   |   |   |--- class: 0.0\n",
            "|   |   |   |   |   |   |   |   |   |--- feature_0 >  -1.06\n",
            "|   |   |   |   |   |   |   |   |   |   |--- feature_0 <= 0.51\n",
            "|   |   |   |   |   |   |   |   |   |   |   |--- class: 1.0\n",
            "|   |   |   |   |   |   |   |   |   |   |--- feature_0 >  0.51\n",
            "|   |   |   |   |   |   |   |   |   |   |   |--- truncated branch of depth 2\n",
            "|   |   |   |   |   |   |   |   |--- feature_11 >  -0.35\n",
            "|   |   |   |   |   |   |   |   |   |--- feature_1 <= -0.46\n",
            "|   |   |   |   |   |   |   |   |   |   |--- feature_10 <= -0.90\n",
            "|   |   |   |   |   |   |   |   |   |   |   |--- class: 0.0\n",
            "|   |   |   |   |   |   |   |   |   |   |--- feature_10 >  -0.90\n",
            "|   |   |   |   |   |   |   |   |   |   |   |--- truncated branch of depth 10\n",
            "|   |   |   |   |   |   |   |   |   |--- feature_1 >  -0.46\n",
            "|   |   |   |   |   |   |   |   |   |   |--- feature_6 <= -0.39\n",
            "|   |   |   |   |   |   |   |   |   |   |   |--- truncated branch of depth 2\n",
            "|   |   |   |   |   |   |   |   |   |   |--- feature_6 >  -0.39\n",
            "|   |   |   |   |   |   |   |   |   |   |   |--- class: 1.0\n",
            "|   |   |   |   |   |   |   |--- feature_6 >  0.94\n",
            "|   |   |   |   |   |   |   |   |--- feature_10 <= -0.97\n",
            "|   |   |   |   |   |   |   |   |   |--- class: 0.0\n",
            "|   |   |   |   |   |   |   |   |--- feature_10 >  -0.97\n",
            "|   |   |   |   |   |   |   |   |   |--- feature_0 <= -1.72\n",
            "|   |   |   |   |   |   |   |   |   |   |--- class: 0.0\n",
            "|   |   |   |   |   |   |   |   |   |--- feature_0 >  -1.72\n",
            "|   |   |   |   |   |   |   |   |   |   |--- feature_1 <= -1.29\n",
            "|   |   |   |   |   |   |   |   |   |   |   |--- truncated branch of depth 2\n",
            "|   |   |   |   |   |   |   |   |   |   |--- feature_1 >  -1.29\n",
            "|   |   |   |   |   |   |   |   |   |   |   |--- truncated branch of depth 6\n",
            "|   |   |   |   |   |   |--- feature_1 >  -0.29\n",
            "|   |   |   |   |   |   |   |--- feature_0 <= -0.79\n",
            "|   |   |   |   |   |   |   |   |--- feature_9 <= 0.72\n",
            "|   |   |   |   |   |   |   |   |   |--- feature_11 <= 0.89\n",
            "|   |   |   |   |   |   |   |   |   |   |--- feature_11 <= -0.88\n",
            "|   |   |   |   |   |   |   |   |   |   |   |--- truncated branch of depth 2\n",
            "|   |   |   |   |   |   |   |   |   |   |--- feature_11 >  -0.88\n",
            "|   |   |   |   |   |   |   |   |   |   |   |--- truncated branch of depth 5\n",
            "|   |   |   |   |   |   |   |   |   |--- feature_11 >  0.89\n",
            "|   |   |   |   |   |   |   |   |   |   |--- feature_0 <= -1.40\n",
            "|   |   |   |   |   |   |   |   |   |   |   |--- class: 1.0\n",
            "|   |   |   |   |   |   |   |   |   |   |--- feature_0 >  -1.40\n",
            "|   |   |   |   |   |   |   |   |   |   |   |--- class: 0.0\n",
            "|   |   |   |   |   |   |   |   |--- feature_9 >  0.72\n",
            "|   |   |   |   |   |   |   |   |   |--- feature_1 <= -0.11\n",
            "|   |   |   |   |   |   |   |   |   |   |--- feature_10 <= -0.49\n",
            "|   |   |   |   |   |   |   |   |   |   |   |--- class: 1.0\n",
            "|   |   |   |   |   |   |   |   |   |   |--- feature_10 >  -0.49\n",
            "|   |   |   |   |   |   |   |   |   |   |   |--- class: 0.0\n",
            "|   |   |   |   |   |   |   |   |   |--- feature_1 >  -0.11\n",
            "|   |   |   |   |   |   |   |   |   |   |--- class: 0.0\n",
            "|   |   |   |   |   |   |   |--- feature_0 >  -0.79\n",
            "|   |   |   |   |   |   |   |   |--- feature_0 <= -0.64\n",
            "|   |   |   |   |   |   |   |   |   |--- feature_4 <= -0.08\n",
            "|   |   |   |   |   |   |   |   |   |   |--- class: 1.0\n",
            "|   |   |   |   |   |   |   |   |   |--- feature_4 >  -0.08\n",
            "|   |   |   |   |   |   |   |   |   |   |--- class: 0.0\n",
            "|   |   |   |   |   |   |   |   |--- feature_0 >  -0.64\n",
            "|   |   |   |   |   |   |   |   |   |--- feature_10 <= 0.87\n",
            "|   |   |   |   |   |   |   |   |   |   |--- feature_6 <= 1.53\n",
            "|   |   |   |   |   |   |   |   |   |   |   |--- truncated branch of depth 10\n",
            "|   |   |   |   |   |   |   |   |   |   |--- feature_6 >  1.53\n",
            "|   |   |   |   |   |   |   |   |   |   |   |--- truncated branch of depth 2\n",
            "|   |   |   |   |   |   |   |   |   |--- feature_10 >  0.87\n",
            "|   |   |   |   |   |   |   |   |   |   |--- feature_9 <= 1.37\n",
            "|   |   |   |   |   |   |   |   |   |   |   |--- class: 0.0\n",
            "|   |   |   |   |   |   |   |   |   |   |--- feature_9 >  1.37\n",
            "|   |   |   |   |   |   |   |   |   |   |   |--- truncated branch of depth 2\n",
            "|   |   |   |   |   |--- feature_11 >  1.04\n",
            "|   |   |   |   |   |   |--- feature_10 <= -0.95\n",
            "|   |   |   |   |   |   |   |--- class: 1.0\n",
            "|   |   |   |   |   |   |--- feature_10 >  -0.95\n",
            "|   |   |   |   |   |   |   |--- feature_11 <= 1.26\n",
            "|   |   |   |   |   |   |   |   |--- feature_9 <= 1.37\n",
            "|   |   |   |   |   |   |   |   |   |--- feature_10 <= 0.97\n",
            "|   |   |   |   |   |   |   |   |   |   |--- feature_0 <= 0.42\n",
            "|   |   |   |   |   |   |   |   |   |   |   |--- truncated branch of depth 4\n",
            "|   |   |   |   |   |   |   |   |   |   |--- feature_0 >  0.42\n",
            "|   |   |   |   |   |   |   |   |   |   |   |--- class: 1.0\n",
            "|   |   |   |   |   |   |   |   |   |--- feature_10 >  0.97\n",
            "|   |   |   |   |   |   |   |   |   |   |--- feature_1 <= -0.31\n",
            "|   |   |   |   |   |   |   |   |   |   |   |--- class: 1.0\n",
            "|   |   |   |   |   |   |   |   |   |   |--- feature_1 >  -0.31\n",
            "|   |   |   |   |   |   |   |   |   |   |   |--- class: 0.0\n",
            "|   |   |   |   |   |   |   |   |--- feature_9 >  1.37\n",
            "|   |   |   |   |   |   |   |   |   |--- feature_0 <= 1.70\n",
            "|   |   |   |   |   |   |   |   |   |   |--- class: 0.0\n",
            "|   |   |   |   |   |   |   |   |   |--- feature_0 >  1.70\n",
            "|   |   |   |   |   |   |   |   |   |   |--- class: 1.0\n",
            "|   |   |   |   |   |   |   |--- feature_11 >  1.26\n",
            "|   |   |   |   |   |   |   |   |--- feature_6 <= -0.39\n",
            "|   |   |   |   |   |   |   |   |   |--- feature_1 <= -1.18\n",
            "|   |   |   |   |   |   |   |   |   |   |--- class: 0.0\n",
            "|   |   |   |   |   |   |   |   |   |--- feature_1 >  -1.18\n",
            "|   |   |   |   |   |   |   |   |   |   |--- feature_0 <= -0.76\n",
            "|   |   |   |   |   |   |   |   |   |   |   |--- truncated branch of depth 4\n",
            "|   |   |   |   |   |   |   |   |   |   |--- feature_0 >  -0.76\n",
            "|   |   |   |   |   |   |   |   |   |   |   |--- truncated branch of depth 5\n",
            "|   |   |   |   |   |   |   |   |--- feature_6 >  -0.39\n",
            "|   |   |   |   |   |   |   |   |   |--- feature_3 <= 1.98\n",
            "|   |   |   |   |   |   |   |   |   |   |--- feature_0 <= 0.56\n",
            "|   |   |   |   |   |   |   |   |   |   |   |--- truncated branch of depth 6\n",
            "|   |   |   |   |   |   |   |   |   |   |--- feature_0 >  0.56\n",
            "|   |   |   |   |   |   |   |   |   |   |   |--- truncated branch of depth 6\n",
            "|   |   |   |   |   |   |   |   |   |--- feature_3 >  1.98\n",
            "|   |   |   |   |   |   |   |   |   |   |--- feature_5 <= 0.26\n",
            "|   |   |   |   |   |   |   |   |   |   |   |--- truncated branch of depth 7\n",
            "|   |   |   |   |   |   |   |   |   |   |--- feature_5 >  0.26\n",
            "|   |   |   |   |   |   |   |   |   |   |   |--- class: 0.0\n",
            "|   |   |   |--- feature_1 >  0.72\n",
            "|   |   |   |   |--- feature_11 <= 0.67\n",
            "|   |   |   |   |   |--- feature_0 <= 1.03\n",
            "|   |   |   |   |   |   |--- feature_6 <= 0.35\n",
            "|   |   |   |   |   |   |   |--- feature_0 <= 1.00\n",
            "|   |   |   |   |   |   |   |   |--- feature_10 <= 1.65\n",
            "|   |   |   |   |   |   |   |   |   |--- feature_6 <= -0.54\n",
            "|   |   |   |   |   |   |   |   |   |   |--- feature_10 <= 1.30\n",
            "|   |   |   |   |   |   |   |   |   |   |   |--- truncated branch of depth 27\n",
            "|   |   |   |   |   |   |   |   |   |   |--- feature_10 >  1.30\n",
            "|   |   |   |   |   |   |   |   |   |   |   |--- class: 0.0\n",
            "|   |   |   |   |   |   |   |   |   |--- feature_6 >  -0.54\n",
            "|   |   |   |   |   |   |   |   |   |   |--- feature_9 <= 0.72\n",
            "|   |   |   |   |   |   |   |   |   |   |   |--- truncated branch of depth 15\n",
            "|   |   |   |   |   |   |   |   |   |   |--- feature_9 >  0.72\n",
            "|   |   |   |   |   |   |   |   |   |   |   |--- truncated branch of depth 5\n",
            "|   |   |   |   |   |   |   |   |--- feature_10 >  1.65\n",
            "|   |   |   |   |   |   |   |   |   |--- feature_0 <= -0.17\n",
            "|   |   |   |   |   |   |   |   |   |   |--- feature_0 <= -1.57\n",
            "|   |   |   |   |   |   |   |   |   |   |   |--- truncated branch of depth 2\n",
            "|   |   |   |   |   |   |   |   |   |   |--- feature_0 >  -1.57\n",
            "|   |   |   |   |   |   |   |   |   |   |   |--- truncated branch of depth 4\n",
            "|   |   |   |   |   |   |   |   |   |--- feature_0 >  -0.17\n",
            "|   |   |   |   |   |   |   |   |   |   |--- feature_2 <= 0.50\n",
            "|   |   |   |   |   |   |   |   |   |   |   |--- truncated branch of depth 3\n",
            "|   |   |   |   |   |   |   |   |   |   |--- feature_2 >  0.50\n",
            "|   |   |   |   |   |   |   |   |   |   |   |--- class: 0.0\n",
            "|   |   |   |   |   |   |   |--- feature_0 >  1.00\n",
            "|   |   |   |   |   |   |   |   |--- class: 0.0\n",
            "|   |   |   |   |   |   |--- feature_6 >  0.35\n",
            "|   |   |   |   |   |   |   |--- feature_3 <= 0.29\n",
            "|   |   |   |   |   |   |   |   |--- feature_10 <= -0.51\n",
            "|   |   |   |   |   |   |   |   |   |--- feature_0 <= -0.59\n",
            "|   |   |   |   |   |   |   |   |   |   |--- feature_10 <= -0.68\n",
            "|   |   |   |   |   |   |   |   |   |   |   |--- truncated branch of depth 3\n",
            "|   |   |   |   |   |   |   |   |   |   |--- feature_10 >  -0.68\n",
            "|   |   |   |   |   |   |   |   |   |   |   |--- class: 0.0\n",
            "|   |   |   |   |   |   |   |   |   |--- feature_0 >  -0.59\n",
            "|   |   |   |   |   |   |   |   |   |   |--- feature_9 <= -0.59\n",
            "|   |   |   |   |   |   |   |   |   |   |   |--- truncated branch of depth 4\n",
            "|   |   |   |   |   |   |   |   |   |   |--- feature_9 >  -0.59\n",
            "|   |   |   |   |   |   |   |   |   |   |   |--- class: 0.0\n",
            "|   |   |   |   |   |   |   |   |--- feature_10 >  -0.51\n",
            "|   |   |   |   |   |   |   |   |   |--- feature_6 <= 0.79\n",
            "|   |   |   |   |   |   |   |   |   |   |--- feature_5 <= 0.26\n",
            "|   |   |   |   |   |   |   |   |   |   |   |--- truncated branch of depth 8\n",
            "|   |   |   |   |   |   |   |   |   |   |--- feature_5 >  0.26\n",
            "|   |   |   |   |   |   |   |   |   |   |   |--- class: 1.0\n",
            "|   |   |   |   |   |   |   |   |   |--- feature_6 >  0.79\n",
            "|   |   |   |   |   |   |   |   |   |   |--- feature_1 <= 0.76\n",
            "|   |   |   |   |   |   |   |   |   |   |   |--- truncated branch of depth 8\n",
            "|   |   |   |   |   |   |   |   |   |   |--- feature_1 >  0.76\n",
            "|   |   |   |   |   |   |   |   |   |   |   |--- class: 0.0\n",
            "|   |   |   |   |   |   |   |--- feature_3 >  0.29\n",
            "|   |   |   |   |   |   |   |   |--- feature_10 <= 2.80\n",
            "|   |   |   |   |   |   |   |   |   |--- feature_8 <= 2.70\n",
            "|   |   |   |   |   |   |   |   |   |   |--- feature_0 <= -1.69\n",
            "|   |   |   |   |   |   |   |   |   |   |   |--- class: 0.0\n",
            "|   |   |   |   |   |   |   |   |   |   |--- feature_0 >  -1.69\n",
            "|   |   |   |   |   |   |   |   |   |   |   |--- truncated branch of depth 12\n",
            "|   |   |   |   |   |   |   |   |   |--- feature_8 >  2.70\n",
            "|   |   |   |   |   |   |   |   |   |   |--- class: 0.0\n",
            "|   |   |   |   |   |   |   |   |--- feature_10 >  2.80\n",
            "|   |   |   |   |   |   |   |   |   |--- class: 0.0\n",
            "|   |   |   |   |   |--- feature_0 >  1.03\n",
            "|   |   |   |   |   |   |--- feature_3 <= 0.29\n",
            "|   |   |   |   |   |   |   |--- feature_0 <= 1.58\n",
            "|   |   |   |   |   |   |   |   |--- feature_0 <= 1.50\n",
            "|   |   |   |   |   |   |   |   |   |--- feature_10 <= 2.03\n",
            "|   |   |   |   |   |   |   |   |   |   |--- feature_0 <= 1.08\n",
            "|   |   |   |   |   |   |   |   |   |   |   |--- class: 1.0\n",
            "|   |   |   |   |   |   |   |   |   |   |--- feature_0 >  1.08\n",
            "|   |   |   |   |   |   |   |   |   |   |   |--- truncated branch of depth 13\n",
            "|   |   |   |   |   |   |   |   |   |--- feature_10 >  2.03\n",
            "|   |   |   |   |   |   |   |   |   |   |--- class: 0.0\n",
            "|   |   |   |   |   |   |   |   |--- feature_0 >  1.50\n",
            "|   |   |   |   |   |   |   |   |   |--- feature_4 <= -0.08\n",
            "|   |   |   |   |   |   |   |   |   |   |--- class: 1.0\n",
            "|   |   |   |   |   |   |   |   |   |--- feature_4 >  -0.08\n",
            "|   |   |   |   |   |   |   |   |   |   |--- feature_0 <= 1.55\n",
            "|   |   |   |   |   |   |   |   |   |   |   |--- class: 1.0\n",
            "|   |   |   |   |   |   |   |   |   |   |--- feature_0 >  1.55\n",
            "|   |   |   |   |   |   |   |   |   |   |   |--- truncated branch of depth 2\n",
            "|   |   |   |   |   |   |   |--- feature_0 >  1.58\n",
            "|   |   |   |   |   |   |   |   |--- feature_5 <= 0.26\n",
            "|   |   |   |   |   |   |   |   |   |--- feature_6 <= 0.86\n",
            "|   |   |   |   |   |   |   |   |   |   |--- feature_10 <= -0.75\n",
            "|   |   |   |   |   |   |   |   |   |   |   |--- class: 1.0\n",
            "|   |   |   |   |   |   |   |   |   |   |--- feature_10 >  -0.75\n",
            "|   |   |   |   |   |   |   |   |   |   |   |--- truncated branch of depth 5\n",
            "|   |   |   |   |   |   |   |   |   |--- feature_6 >  0.86\n",
            "|   |   |   |   |   |   |   |   |   |   |--- class: 0.0\n",
            "|   |   |   |   |   |   |   |   |--- feature_5 >  0.26\n",
            "|   |   |   |   |   |   |   |   |   |--- class: 0.0\n",
            "|   |   |   |   |   |   |--- feature_3 >  0.29\n",
            "|   |   |   |   |   |   |   |--- feature_10 <= 1.36\n",
            "|   |   |   |   |   |   |   |   |--- feature_10 <= 0.33\n",
            "|   |   |   |   |   |   |   |   |   |--- feature_10 <= -0.01\n",
            "|   |   |   |   |   |   |   |   |   |   |--- feature_10 <= -0.28\n",
            "|   |   |   |   |   |   |   |   |   |   |   |--- truncated branch of depth 7\n",
            "|   |   |   |   |   |   |   |   |   |   |--- feature_10 >  -0.28\n",
            "|   |   |   |   |   |   |   |   |   |   |   |--- truncated branch of depth 3\n",
            "|   |   |   |   |   |   |   |   |   |--- feature_10 >  -0.01\n",
            "|   |   |   |   |   |   |   |   |   |   |--- feature_0 <= 1.43\n",
            "|   |   |   |   |   |   |   |   |   |   |   |--- class: 0.0\n",
            "|   |   |   |   |   |   |   |   |   |   |--- feature_0 >  1.43\n",
            "|   |   |   |   |   |   |   |   |   |   |   |--- truncated branch of depth 2\n",
            "|   |   |   |   |   |   |   |   |--- feature_10 >  0.33\n",
            "|   |   |   |   |   |   |   |   |   |--- class: 1.0\n",
            "|   |   |   |   |   |   |   |--- feature_10 >  1.36\n",
            "|   |   |   |   |   |   |   |   |--- class: 0.0\n",
            "|   |   |   |   |--- feature_11 >  0.67\n",
            "|   |   |   |   |   |--- feature_6 <= -1.42\n",
            "|   |   |   |   |   |   |--- feature_0 <= 0.95\n",
            "|   |   |   |   |   |   |   |--- class: 1.0\n",
            "|   |   |   |   |   |   |--- feature_0 >  0.95\n",
            "|   |   |   |   |   |   |   |--- class: 0.0\n",
            "|   |   |   |   |   |--- feature_6 >  -1.42\n",
            "|   |   |   |   |   |   |--- feature_0 <= 1.07\n",
            "|   |   |   |   |   |   |   |--- feature_2 <= 0.50\n",
            "|   |   |   |   |   |   |   |   |--- feature_1 <= 0.85\n",
            "|   |   |   |   |   |   |   |   |   |--- feature_0 <= 0.86\n",
            "|   |   |   |   |   |   |   |   |   |   |--- feature_10 <= 1.07\n",
            "|   |   |   |   |   |   |   |   |   |   |   |--- truncated branch of depth 4\n",
            "|   |   |   |   |   |   |   |   |   |   |--- feature_10 >  1.07\n",
            "|   |   |   |   |   |   |   |   |   |   |   |--- truncated branch of depth 2\n",
            "|   |   |   |   |   |   |   |   |   |--- feature_0 >  0.86\n",
            "|   |   |   |   |   |   |   |   |   |   |--- feature_0 <= 0.92\n",
            "|   |   |   |   |   |   |   |   |   |   |   |--- class: 1.0\n",
            "|   |   |   |   |   |   |   |   |   |   |--- feature_0 >  0.92\n",
            "|   |   |   |   |   |   |   |   |   |   |   |--- class: 0.0\n",
            "|   |   |   |   |   |   |   |   |--- feature_1 >  0.85\n",
            "|   |   |   |   |   |   |   |   |   |--- feature_0 <= -1.19\n",
            "|   |   |   |   |   |   |   |   |   |   |--- feature_0 <= -1.24\n",
            "|   |   |   |   |   |   |   |   |   |   |   |--- truncated branch of depth 2\n",
            "|   |   |   |   |   |   |   |   |   |   |--- feature_0 >  -1.24\n",
            "|   |   |   |   |   |   |   |   |   |   |   |--- class: 1.0\n",
            "|   |   |   |   |   |   |   |   |   |--- feature_0 >  -1.19\n",
            "|   |   |   |   |   |   |   |   |   |   |--- feature_1 <= 0.94\n",
            "|   |   |   |   |   |   |   |   |   |   |   |--- truncated branch of depth 4\n",
            "|   |   |   |   |   |   |   |   |   |   |--- feature_1 >  0.94\n",
            "|   |   |   |   |   |   |   |   |   |   |   |--- truncated branch of depth 2\n",
            "|   |   |   |   |   |   |   |--- feature_2 >  0.50\n",
            "|   |   |   |   |   |   |   |   |--- feature_0 <= -1.56\n",
            "|   |   |   |   |   |   |   |   |   |--- feature_10 <= -0.77\n",
            "|   |   |   |   |   |   |   |   |   |   |--- class: 0.0\n",
            "|   |   |   |   |   |   |   |   |   |--- feature_10 >  -0.77\n",
            "|   |   |   |   |   |   |   |   |   |   |--- class: 1.0\n",
            "|   |   |   |   |   |   |   |   |--- feature_0 >  -1.56\n",
            "|   |   |   |   |   |   |   |   |   |--- feature_10 <= -0.08\n",
            "|   |   |   |   |   |   |   |   |   |   |--- feature_0 <= 0.06\n",
            "|   |   |   |   |   |   |   |   |   |   |   |--- truncated branch of depth 9\n",
            "|   |   |   |   |   |   |   |   |   |   |--- feature_0 >  0.06\n",
            "|   |   |   |   |   |   |   |   |   |   |   |--- truncated branch of depth 5\n",
            "|   |   |   |   |   |   |   |   |   |--- feature_10 >  -0.08\n",
            "|   |   |   |   |   |   |   |   |   |   |--- feature_10 <= 4.06\n",
            "|   |   |   |   |   |   |   |   |   |   |   |--- truncated branch of depth 4\n",
            "|   |   |   |   |   |   |   |   |   |   |--- feature_10 >  4.06\n",
            "|   |   |   |   |   |   |   |   |   |   |   |--- class: 1.0\n",
            "|   |   |   |   |   |   |--- feature_0 >  1.07\n",
            "|   |   |   |   |   |   |   |--- feature_10 <= 0.15\n",
            "|   |   |   |   |   |   |   |   |--- feature_1 <= 0.79\n",
            "|   |   |   |   |   |   |   |   |   |--- class: 0.0\n",
            "|   |   |   |   |   |   |   |   |--- feature_1 >  0.79\n",
            "|   |   |   |   |   |   |   |   |   |--- feature_2 <= 0.50\n",
            "|   |   |   |   |   |   |   |   |   |   |--- feature_0 <= 1.67\n",
            "|   |   |   |   |   |   |   |   |   |   |   |--- truncated branch of depth 2\n",
            "|   |   |   |   |   |   |   |   |   |   |--- feature_0 >  1.67\n",
            "|   |   |   |   |   |   |   |   |   |   |   |--- class: 0.0\n",
            "|   |   |   |   |   |   |   |   |   |--- feature_2 >  0.50\n",
            "|   |   |   |   |   |   |   |   |   |   |--- feature_10 <= -0.90\n",
            "|   |   |   |   |   |   |   |   |   |   |   |--- class: 1.0\n",
            "|   |   |   |   |   |   |   |   |   |   |--- feature_10 >  -0.90\n",
            "|   |   |   |   |   |   |   |   |   |   |   |--- class: 0.0\n",
            "|   |   |   |   |   |   |   |--- feature_10 >  0.15\n",
            "|   |   |   |   |   |   |   |   |--- feature_3 <= 0.29\n",
            "|   |   |   |   |   |   |   |   |   |--- feature_9 <= 0.07\n",
            "|   |   |   |   |   |   |   |   |   |   |--- class: 1.0\n",
            "|   |   |   |   |   |   |   |   |   |--- feature_9 >  0.07\n",
            "|   |   |   |   |   |   |   |   |   |   |--- class: 0.0\n",
            "|   |   |   |   |   |   |   |   |--- feature_3 >  0.29\n",
            "|   |   |   |   |   |   |   |   |   |--- class: 1.0\n",
            "|   |   |--- feature_4 >  1.05\n",
            "|   |   |   |--- feature_9 <= 0.07\n",
            "|   |   |   |   |--- feature_1 <= -0.70\n",
            "|   |   |   |   |   |--- feature_0 <= -0.52\n",
            "|   |   |   |   |   |   |--- feature_10 <= -0.03\n",
            "|   |   |   |   |   |   |   |--- feature_11 <= -0.72\n",
            "|   |   |   |   |   |   |   |   |--- class: 1.0\n",
            "|   |   |   |   |   |   |   |--- feature_11 >  -0.72\n",
            "|   |   |   |   |   |   |   |   |--- feature_4 <= 3.31\n",
            "|   |   |   |   |   |   |   |   |   |--- feature_6 <= -0.39\n",
            "|   |   |   |   |   |   |   |   |   |   |--- feature_0 <= -0.82\n",
            "|   |   |   |   |   |   |   |   |   |   |   |--- class: 0.0\n",
            "|   |   |   |   |   |   |   |   |   |   |--- feature_0 >  -0.82\n",
            "|   |   |   |   |   |   |   |   |   |   |   |--- class: 1.0\n",
            "|   |   |   |   |   |   |   |   |   |--- feature_6 >  -0.39\n",
            "|   |   |   |   |   |   |   |   |   |   |--- class: 0.0\n",
            "|   |   |   |   |   |   |   |   |--- feature_4 >  3.31\n",
            "|   |   |   |   |   |   |   |   |   |--- class: 1.0\n",
            "|   |   |   |   |   |   |--- feature_10 >  -0.03\n",
            "|   |   |   |   |   |   |   |--- class: 1.0\n",
            "|   |   |   |   |   |--- feature_0 >  -0.52\n",
            "|   |   |   |   |   |   |--- feature_1 <= -1.12\n",
            "|   |   |   |   |   |   |   |--- feature_9 <= -0.59\n",
            "|   |   |   |   |   |   |   |   |--- feature_11 <= 1.23\n",
            "|   |   |   |   |   |   |   |   |   |--- class: 1.0\n",
            "|   |   |   |   |   |   |   |   |--- feature_11 >  1.23\n",
            "|   |   |   |   |   |   |   |   |   |--- class: 0.0\n",
            "|   |   |   |   |   |   |   |--- feature_9 >  -0.59\n",
            "|   |   |   |   |   |   |   |   |--- class: 0.0\n",
            "|   |   |   |   |   |   |--- feature_1 >  -1.12\n",
            "|   |   |   |   |   |   |   |--- feature_5 <= 1.38\n",
            "|   |   |   |   |   |   |   |   |--- class: 1.0\n",
            "|   |   |   |   |   |   |   |--- feature_5 >  1.38\n",
            "|   |   |   |   |   |   |   |   |--- class: 0.0\n",
            "|   |   |   |   |--- feature_1 >  -0.70\n",
            "|   |   |   |   |   |--- feature_11 <= -0.47\n",
            "|   |   |   |   |   |   |--- feature_11 <= -0.83\n",
            "|   |   |   |   |   |   |   |--- feature_0 <= 0.88\n",
            "|   |   |   |   |   |   |   |   |--- feature_0 <= -1.54\n",
            "|   |   |   |   |   |   |   |   |   |--- class: 1.0\n",
            "|   |   |   |   |   |   |   |   |--- feature_0 >  -1.54\n",
            "|   |   |   |   |   |   |   |   |   |--- feature_3 <= 1.98\n",
            "|   |   |   |   |   |   |   |   |   |   |--- class: 0.0\n",
            "|   |   |   |   |   |   |   |   |   |--- feature_3 >  1.98\n",
            "|   |   |   |   |   |   |   |   |   |   |--- feature_10 <= 1.12\n",
            "|   |   |   |   |   |   |   |   |   |   |   |--- class: 1.0\n",
            "|   |   |   |   |   |   |   |   |   |   |--- feature_10 >  1.12\n",
            "|   |   |   |   |   |   |   |   |   |   |   |--- class: 0.0\n",
            "|   |   |   |   |   |   |   |--- feature_0 >  0.88\n",
            "|   |   |   |   |   |   |   |   |--- feature_0 <= 1.39\n",
            "|   |   |   |   |   |   |   |   |   |--- feature_4 <= 2.74\n",
            "|   |   |   |   |   |   |   |   |   |   |--- feature_1 <= 0.59\n",
            "|   |   |   |   |   |   |   |   |   |   |   |--- class: 0.0\n",
            "|   |   |   |   |   |   |   |   |   |   |--- feature_1 >  0.59\n",
            "|   |   |   |   |   |   |   |   |   |   |   |--- class: 1.0\n",
            "|   |   |   |   |   |   |   |   |   |--- feature_4 >  2.74\n",
            "|   |   |   |   |   |   |   |   |   |   |--- class: 0.0\n",
            "|   |   |   |   |   |   |   |   |--- feature_0 >  1.39\n",
            "|   |   |   |   |   |   |   |   |   |--- class: 0.0\n",
            "|   |   |   |   |   |   |--- feature_11 >  -0.83\n",
            "|   |   |   |   |   |   |   |--- feature_0 <= 0.16\n",
            "|   |   |   |   |   |   |   |   |--- feature_10 <= 2.93\n",
            "|   |   |   |   |   |   |   |   |   |--- feature_4 <= 2.18\n",
            "|   |   |   |   |   |   |   |   |   |   |--- feature_0 <= -1.58\n",
            "|   |   |   |   |   |   |   |   |   |   |   |--- class: 0.0\n",
            "|   |   |   |   |   |   |   |   |   |   |--- feature_0 >  -1.58\n",
            "|   |   |   |   |   |   |   |   |   |   |   |--- truncated branch of depth 8\n",
            "|   |   |   |   |   |   |   |   |   |--- feature_4 >  2.18\n",
            "|   |   |   |   |   |   |   |   |   |   |--- class: 0.0\n",
            "|   |   |   |   |   |   |   |   |--- feature_10 >  2.93\n",
            "|   |   |   |   |   |   |   |   |   |--- class: 1.0\n",
            "|   |   |   |   |   |   |   |--- feature_0 >  0.16\n",
            "|   |   |   |   |   |   |   |   |--- feature_0 <= 1.40\n",
            "|   |   |   |   |   |   |   |   |   |--- feature_6 <= -0.39\n",
            "|   |   |   |   |   |   |   |   |   |   |--- class: 1.0\n",
            "|   |   |   |   |   |   |   |   |   |--- feature_6 >  -0.39\n",
            "|   |   |   |   |   |   |   |   |   |   |--- feature_10 <= -0.05\n",
            "|   |   |   |   |   |   |   |   |   |   |   |--- truncated branch of depth 4\n",
            "|   |   |   |   |   |   |   |   |   |   |--- feature_10 >  -0.05\n",
            "|   |   |   |   |   |   |   |   |   |   |   |--- truncated branch of depth 2\n",
            "|   |   |   |   |   |   |   |   |--- feature_0 >  1.40\n",
            "|   |   |   |   |   |   |   |   |   |--- feature_4 <= 2.74\n",
            "|   |   |   |   |   |   |   |   |   |   |--- class: 0.0\n",
            "|   |   |   |   |   |   |   |   |   |--- feature_4 >  2.74\n",
            "|   |   |   |   |   |   |   |   |   |   |--- class: 1.0\n",
            "|   |   |   |   |   |--- feature_11 >  -0.47\n",
            "|   |   |   |   |   |   |--- feature_1 <= -0.20\n",
            "|   |   |   |   |   |   |   |--- feature_0 <= 0.33\n",
            "|   |   |   |   |   |   |   |   |--- feature_1 <= -0.35\n",
            "|   |   |   |   |   |   |   |   |   |--- feature_4 <= 3.31\n",
            "|   |   |   |   |   |   |   |   |   |   |--- class: 0.0\n",
            "|   |   |   |   |   |   |   |   |   |--- feature_4 >  3.31\n",
            "|   |   |   |   |   |   |   |   |   |   |--- class: 1.0\n",
            "|   |   |   |   |   |   |   |   |--- feature_1 >  -0.35\n",
            "|   |   |   |   |   |   |   |   |   |--- class: 1.0\n",
            "|   |   |   |   |   |   |   |--- feature_0 >  0.33\n",
            "|   |   |   |   |   |   |   |   |--- feature_6 <= 1.38\n",
            "|   |   |   |   |   |   |   |   |   |--- feature_10 <= -0.09\n",
            "|   |   |   |   |   |   |   |   |   |   |--- feature_6 <= 0.79\n",
            "|   |   |   |   |   |   |   |   |   |   |   |--- class: 1.0\n",
            "|   |   |   |   |   |   |   |   |   |   |--- feature_6 >  0.79\n",
            "|   |   |   |   |   |   |   |   |   |   |   |--- truncated branch of depth 2\n",
            "|   |   |   |   |   |   |   |   |   |--- feature_10 >  -0.09\n",
            "|   |   |   |   |   |   |   |   |   |   |--- class: 0.0\n",
            "|   |   |   |   |   |   |   |   |--- feature_6 >  1.38\n",
            "|   |   |   |   |   |   |   |   |   |--- class: 1.0\n",
            "|   |   |   |   |   |   |--- feature_1 >  -0.20\n",
            "|   |   |   |   |   |   |   |--- feature_1 <= 0.72\n",
            "|   |   |   |   |   |   |   |   |--- feature_0 <= 1.63\n",
            "|   |   |   |   |   |   |   |   |   |--- feature_0 <= 0.91\n",
            "|   |   |   |   |   |   |   |   |   |   |--- class: 0.0\n",
            "|   |   |   |   |   |   |   |   |   |--- feature_0 >  0.91\n",
            "|   |   |   |   |   |   |   |   |   |   |--- feature_0 <= 1.03\n",
            "|   |   |   |   |   |   |   |   |   |   |   |--- class: 1.0\n",
            "|   |   |   |   |   |   |   |   |   |   |--- feature_0 >  1.03\n",
            "|   |   |   |   |   |   |   |   |   |   |   |--- class: 0.0\n",
            "|   |   |   |   |   |   |   |   |--- feature_0 >  1.63\n",
            "|   |   |   |   |   |   |   |   |   |--- feature_1 <= 0.51\n",
            "|   |   |   |   |   |   |   |   |   |   |--- class: 1.0\n",
            "|   |   |   |   |   |   |   |   |   |--- feature_1 >  0.51\n",
            "|   |   |   |   |   |   |   |   |   |   |--- class: 0.0\n",
            "|   |   |   |   |   |   |   |--- feature_1 >  0.72\n",
            "|   |   |   |   |   |   |   |   |--- feature_11 <= -0.06\n",
            "|   |   |   |   |   |   |   |   |   |--- feature_0 <= 0.01\n",
            "|   |   |   |   |   |   |   |   |   |   |--- feature_3 <= 0.29\n",
            "|   |   |   |   |   |   |   |   |   |   |   |--- class: 0.0\n",
            "|   |   |   |   |   |   |   |   |   |   |--- feature_3 >  0.29\n",
            "|   |   |   |   |   |   |   |   |   |   |   |--- truncated branch of depth 4\n",
            "|   |   |   |   |   |   |   |   |   |--- feature_0 >  0.01\n",
            "|   |   |   |   |   |   |   |   |   |   |--- class: 0.0\n",
            "|   |   |   |   |   |   |   |   |--- feature_11 >  -0.06\n",
            "|   |   |   |   |   |   |   |   |   |--- feature_0 <= 0.44\n",
            "|   |   |   |   |   |   |   |   |   |   |--- feature_0 <= 0.30\n",
            "|   |   |   |   |   |   |   |   |   |   |   |--- truncated branch of depth 4\n",
            "|   |   |   |   |   |   |   |   |   |   |--- feature_0 >  0.30\n",
            "|   |   |   |   |   |   |   |   |   |   |   |--- truncated branch of depth 3\n",
            "|   |   |   |   |   |   |   |   |   |--- feature_0 >  0.44\n",
            "|   |   |   |   |   |   |   |   |   |   |--- class: 0.0\n",
            "|   |   |   |--- feature_9 >  0.07\n",
            "|   |   |   |   |--- feature_9 <= 1.37\n",
            "|   |   |   |   |   |--- feature_1 <= -1.08\n",
            "|   |   |   |   |   |   |--- feature_0 <= -1.29\n",
            "|   |   |   |   |   |   |   |--- class: 1.0\n",
            "|   |   |   |   |   |   |--- feature_0 >  -1.29\n",
            "|   |   |   |   |   |   |   |--- feature_0 <= 1.34\n",
            "|   |   |   |   |   |   |   |   |--- feature_3 <= 1.98\n",
            "|   |   |   |   |   |   |   |   |   |--- feature_11 <= 1.68\n",
            "|   |   |   |   |   |   |   |   |   |   |--- class: 0.0\n",
            "|   |   |   |   |   |   |   |   |   |--- feature_11 >  1.68\n",
            "|   |   |   |   |   |   |   |   |   |   |--- feature_4 <= 2.18\n",
            "|   |   |   |   |   |   |   |   |   |   |   |--- class: 1.0\n",
            "|   |   |   |   |   |   |   |   |   |   |--- feature_4 >  2.18\n",
            "|   |   |   |   |   |   |   |   |   |   |   |--- class: 0.0\n",
            "|   |   |   |   |   |   |   |   |--- feature_3 >  1.98\n",
            "|   |   |   |   |   |   |   |   |   |--- class: 1.0\n",
            "|   |   |   |   |   |   |   |--- feature_0 >  1.34\n",
            "|   |   |   |   |   |   |   |   |--- class: 1.0\n",
            "|   |   |   |   |   |--- feature_1 >  -1.08\n",
            "|   |   |   |   |   |   |--- feature_6 <= -1.42\n",
            "|   |   |   |   |   |   |   |--- feature_0 <= 0.17\n",
            "|   |   |   |   |   |   |   |   |--- class: 0.0\n",
            "|   |   |   |   |   |   |   |--- feature_0 >  0.17\n",
            "|   |   |   |   |   |   |   |   |--- feature_1 <= 0.77\n",
            "|   |   |   |   |   |   |   |   |   |--- class: 1.0\n",
            "|   |   |   |   |   |   |   |   |--- feature_1 >  0.77\n",
            "|   |   |   |   |   |   |   |   |   |--- class: 0.0\n",
            "|   |   |   |   |   |   |--- feature_6 >  -1.42\n",
            "|   |   |   |   |   |   |   |--- feature_9 <= 0.72\n",
            "|   |   |   |   |   |   |   |   |--- feature_0 <= -1.24\n",
            "|   |   |   |   |   |   |   |   |   |--- feature_10 <= -0.53\n",
            "|   |   |   |   |   |   |   |   |   |   |--- class: 1.0\n",
            "|   |   |   |   |   |   |   |   |   |--- feature_10 >  -0.53\n",
            "|   |   |   |   |   |   |   |   |   |   |--- feature_1 <= -0.04\n",
            "|   |   |   |   |   |   |   |   |   |   |   |--- class: 1.0\n",
            "|   |   |   |   |   |   |   |   |   |   |--- feature_1 >  -0.04\n",
            "|   |   |   |   |   |   |   |   |   |   |   |--- class: 0.0\n",
            "|   |   |   |   |   |   |   |   |--- feature_0 >  -1.24\n",
            "|   |   |   |   |   |   |   |   |   |--- feature_3 <= 1.98\n",
            "|   |   |   |   |   |   |   |   |   |   |--- feature_1 <= -0.66\n",
            "|   |   |   |   |   |   |   |   |   |   |   |--- class: 1.0\n",
            "|   |   |   |   |   |   |   |   |   |   |--- feature_1 >  -0.66\n",
            "|   |   |   |   |   |   |   |   |   |   |   |--- truncated branch of depth 3\n",
            "|   |   |   |   |   |   |   |   |   |--- feature_3 >  1.98\n",
            "|   |   |   |   |   |   |   |   |   |   |--- class: 1.0\n",
            "|   |   |   |   |   |   |   |--- feature_9 >  0.72\n",
            "|   |   |   |   |   |   |   |   |--- feature_0 <= -0.97\n",
            "|   |   |   |   |   |   |   |   |   |--- class: 0.0\n",
            "|   |   |   |   |   |   |   |   |--- feature_0 >  -0.97\n",
            "|   |   |   |   |   |   |   |   |   |--- feature_0 <= -0.97\n",
            "|   |   |   |   |   |   |   |   |   |   |--- class: 1.0\n",
            "|   |   |   |   |   |   |   |   |   |--- feature_0 >  -0.97\n",
            "|   |   |   |   |   |   |   |   |   |   |--- feature_1 <= -0.84\n",
            "|   |   |   |   |   |   |   |   |   |   |   |--- truncated branch of depth 3\n",
            "|   |   |   |   |   |   |   |   |   |   |--- feature_1 >  -0.84\n",
            "|   |   |   |   |   |   |   |   |   |   |   |--- truncated branch of depth 8\n",
            "|   |   |   |   |--- feature_9 >  1.37\n",
            "|   |   |   |   |   |--- feature_2 <= 0.50\n",
            "|   |   |   |   |   |   |--- class: 0.0\n",
            "|   |   |   |   |   |--- feature_2 >  0.50\n",
            "|   |   |   |   |   |   |--- feature_0 <= -1.09\n",
            "|   |   |   |   |   |   |   |--- class: 0.0\n",
            "|   |   |   |   |   |   |--- feature_0 >  -1.09\n",
            "|   |   |   |   |   |   |   |--- feature_11 <= -0.94\n",
            "|   |   |   |   |   |   |   |   |--- class: 0.0\n",
            "|   |   |   |   |   |   |   |--- feature_11 >  -0.94\n",
            "|   |   |   |   |   |   |   |   |--- feature_10 <= -0.55\n",
            "|   |   |   |   |   |   |   |   |   |--- feature_9 <= 2.03\n",
            "|   |   |   |   |   |   |   |   |   |   |--- class: 0.0\n",
            "|   |   |   |   |   |   |   |   |   |--- feature_9 >  2.03\n",
            "|   |   |   |   |   |   |   |   |   |   |--- feature_11 <= 0.71\n",
            "|   |   |   |   |   |   |   |   |   |   |   |--- class: 1.0\n",
            "|   |   |   |   |   |   |   |   |   |   |--- feature_11 >  0.71\n",
            "|   |   |   |   |   |   |   |   |   |   |   |--- class: 0.0\n",
            "|   |   |   |   |   |   |   |   |--- feature_10 >  -0.55\n",
            "|   |   |   |   |   |   |   |   |   |--- class: 1.0\n",
            "|   |--- feature_7 >  -0.92\n",
            "|   |   |--- feature_1 <= -0.29\n",
            "|   |   |   |--- feature_6 <= 0.05\n",
            "|   |   |   |   |--- feature_3 <= 0.29\n",
            "|   |   |   |   |   |--- feature_6 <= -0.69\n",
            "|   |   |   |   |   |   |--- feature_0 <= 0.36\n",
            "|   |   |   |   |   |   |   |--- feature_0 <= 0.34\n",
            "|   |   |   |   |   |   |   |   |--- feature_1 <= -1.49\n",
            "|   |   |   |   |   |   |   |   |   |--- feature_7 <= 0.67\n",
            "|   |   |   |   |   |   |   |   |   |   |--- class: 0.0\n",
            "|   |   |   |   |   |   |   |   |   |--- feature_7 >  0.67\n",
            "|   |   |   |   |   |   |   |   |   |   |--- class: 1.0\n",
            "|   |   |   |   |   |   |   |   |--- feature_1 >  -1.49\n",
            "|   |   |   |   |   |   |   |   |   |--- feature_1 <= -0.50\n",
            "|   |   |   |   |   |   |   |   |   |   |--- feature_10 <= -0.61\n",
            "|   |   |   |   |   |   |   |   |   |   |   |--- class: 0.0\n",
            "|   |   |   |   |   |   |   |   |   |   |--- feature_10 >  -0.61\n",
            "|   |   |   |   |   |   |   |   |   |   |   |--- truncated branch of depth 8\n",
            "|   |   |   |   |   |   |   |   |   |--- feature_1 >  -0.50\n",
            "|   |   |   |   |   |   |   |   |   |   |--- feature_0 <= -0.04\n",
            "|   |   |   |   |   |   |   |   |   |   |   |--- truncated branch of depth 4\n",
            "|   |   |   |   |   |   |   |   |   |   |--- feature_0 >  -0.04\n",
            "|   |   |   |   |   |   |   |   |   |   |   |--- class: 1.0\n",
            "|   |   |   |   |   |   |   |--- feature_0 >  0.34\n",
            "|   |   |   |   |   |   |   |   |--- class: 1.0\n",
            "|   |   |   |   |   |   |--- feature_0 >  0.36\n",
            "|   |   |   |   |   |   |   |--- feature_11 <= -0.84\n",
            "|   |   |   |   |   |   |   |   |--- feature_2 <= 0.50\n",
            "|   |   |   |   |   |   |   |   |   |--- class: 0.0\n",
            "|   |   |   |   |   |   |   |   |--- feature_2 >  0.50\n",
            "|   |   |   |   |   |   |   |   |   |--- class: 1.0\n",
            "|   |   |   |   |   |   |   |--- feature_11 >  -0.84\n",
            "|   |   |   |   |   |   |   |   |--- class: 0.0\n",
            "|   |   |   |   |   |--- feature_6 >  -0.69\n",
            "|   |   |   |   |   |   |--- feature_0 <= -1.35\n",
            "|   |   |   |   |   |   |   |--- feature_10 <= -0.19\n",
            "|   |   |   |   |   |   |   |   |--- feature_10 <= -0.57\n",
            "|   |   |   |   |   |   |   |   |   |--- feature_10 <= -0.84\n",
            "|   |   |   |   |   |   |   |   |   |   |--- class: 1.0\n",
            "|   |   |   |   |   |   |   |   |   |--- feature_10 >  -0.84\n",
            "|   |   |   |   |   |   |   |   |   |   |--- class: 0.0\n",
            "|   |   |   |   |   |   |   |   |--- feature_10 >  -0.57\n",
            "|   |   |   |   |   |   |   |   |   |--- class: 1.0\n",
            "|   |   |   |   |   |   |   |--- feature_10 >  -0.19\n",
            "|   |   |   |   |   |   |   |   |--- class: 0.0\n",
            "|   |   |   |   |   |   |--- feature_0 >  -1.35\n",
            "|   |   |   |   |   |   |   |--- feature_0 <= 0.10\n",
            "|   |   |   |   |   |   |   |   |--- feature_1 <= -0.78\n",
            "|   |   |   |   |   |   |   |   |   |--- class: 0.0\n",
            "|   |   |   |   |   |   |   |   |--- feature_1 >  -0.78\n",
            "|   |   |   |   |   |   |   |   |   |--- feature_1 <= -0.74\n",
            "|   |   |   |   |   |   |   |   |   |   |--- class: 1.0\n",
            "|   |   |   |   |   |   |   |   |   |--- feature_1 >  -0.74\n",
            "|   |   |   |   |   |   |   |   |   |   |--- feature_11 <= 2.02\n",
            "|   |   |   |   |   |   |   |   |   |   |   |--- class: 0.0\n",
            "|   |   |   |   |   |   |   |   |   |   |--- feature_11 >  2.02\n",
            "|   |   |   |   |   |   |   |   |   |   |   |--- truncated branch of depth 2\n",
            "|   |   |   |   |   |   |   |--- feature_0 >  0.10\n",
            "|   |   |   |   |   |   |   |   |--- feature_0 <= 0.23\n",
            "|   |   |   |   |   |   |   |   |   |--- class: 1.0\n",
            "|   |   |   |   |   |   |   |   |--- feature_0 >  0.23\n",
            "|   |   |   |   |   |   |   |   |   |--- feature_11 <= -0.13\n",
            "|   |   |   |   |   |   |   |   |   |   |--- feature_11 <= -0.35\n",
            "|   |   |   |   |   |   |   |   |   |   |   |--- class: 0.0\n",
            "|   |   |   |   |   |   |   |   |   |   |--- feature_11 >  -0.35\n",
            "|   |   |   |   |   |   |   |   |   |   |   |--- truncated branch of depth 2\n",
            "|   |   |   |   |   |   |   |   |   |--- feature_11 >  -0.13\n",
            "|   |   |   |   |   |   |   |   |   |   |--- feature_9 <= -0.59\n",
            "|   |   |   |   |   |   |   |   |   |   |   |--- class: 0.0\n",
            "|   |   |   |   |   |   |   |   |   |   |--- feature_9 >  -0.59\n",
            "|   |   |   |   |   |   |   |   |   |   |   |--- truncated branch of depth 5\n",
            "|   |   |   |   |--- feature_3 >  0.29\n",
            "|   |   |   |   |   |--- feature_6 <= -1.20\n",
            "|   |   |   |   |   |   |--- feature_0 <= -0.69\n",
            "|   |   |   |   |   |   |   |--- class: 0.0\n",
            "|   |   |   |   |   |   |--- feature_0 >  -0.69\n",
            "|   |   |   |   |   |   |   |--- feature_10 <= -0.57\n",
            "|   |   |   |   |   |   |   |   |--- class: 1.0\n",
            "|   |   |   |   |   |   |   |--- feature_10 >  -0.57\n",
            "|   |   |   |   |   |   |   |   |--- feature_1 <= -0.50\n",
            "|   |   |   |   |   |   |   |   |   |--- feature_9 <= -0.59\n",
            "|   |   |   |   |   |   |   |   |   |   |--- feature_10 <= -0.40\n",
            "|   |   |   |   |   |   |   |   |   |   |   |--- class: 0.0\n",
            "|   |   |   |   |   |   |   |   |   |   |--- feature_10 >  -0.40\n",
            "|   |   |   |   |   |   |   |   |   |   |   |--- class: 1.0\n",
            "|   |   |   |   |   |   |   |   |   |--- feature_9 >  -0.59\n",
            "|   |   |   |   |   |   |   |   |   |   |--- class: 0.0\n",
            "|   |   |   |   |   |   |   |   |--- feature_1 >  -0.50\n",
            "|   |   |   |   |   |   |   |   |   |--- class: 1.0\n",
            "|   |   |   |   |   |--- feature_6 >  -1.20\n",
            "|   |   |   |   |   |   |--- feature_10 <= 4.18\n",
            "|   |   |   |   |   |   |   |--- feature_6 <= -0.24\n",
            "|   |   |   |   |   |   |   |   |--- feature_6 <= -0.39\n",
            "|   |   |   |   |   |   |   |   |   |--- feature_11 <= 1.87\n",
            "|   |   |   |   |   |   |   |   |   |   |--- feature_11 <= 1.63\n",
            "|   |   |   |   |   |   |   |   |   |   |   |--- truncated branch of depth 7\n",
            "|   |   |   |   |   |   |   |   |   |   |--- feature_11 >  1.63\n",
            "|   |   |   |   |   |   |   |   |   |   |   |--- class: 1.0\n",
            "|   |   |   |   |   |   |   |   |   |--- feature_11 >  1.87\n",
            "|   |   |   |   |   |   |   |   |   |   |--- class: 0.0\n",
            "|   |   |   |   |   |   |   |   |--- feature_6 >  -0.39\n",
            "|   |   |   |   |   |   |   |   |   |--- feature_7 <= 1.30\n",
            "|   |   |   |   |   |   |   |   |   |   |--- class: 0.0\n",
            "|   |   |   |   |   |   |   |   |   |--- feature_7 >  1.30\n",
            "|   |   |   |   |   |   |   |   |   |   |--- feature_0 <= -0.80\n",
            "|   |   |   |   |   |   |   |   |   |   |   |--- class: 1.0\n",
            "|   |   |   |   |   |   |   |   |   |   |--- feature_0 >  -0.80\n",
            "|   |   |   |   |   |   |   |   |   |   |   |--- class: 0.0\n",
            "|   |   |   |   |   |   |   |--- feature_6 >  -0.24\n",
            "|   |   |   |   |   |   |   |   |--- feature_10 <= 0.00\n",
            "|   |   |   |   |   |   |   |   |   |--- class: 0.0\n",
            "|   |   |   |   |   |   |   |   |--- feature_10 >  0.00\n",
            "|   |   |   |   |   |   |   |   |   |--- class: 1.0\n",
            "|   |   |   |   |   |   |--- feature_10 >  4.18\n",
            "|   |   |   |   |   |   |   |--- class: 1.0\n",
            "|   |   |   |--- feature_6 >  0.05\n",
            "|   |   |   |   |--- feature_6 <= 1.23\n",
            "|   |   |   |   |   |--- feature_5 <= 0.26\n",
            "|   |   |   |   |   |   |--- feature_11 <= 0.17\n",
            "|   |   |   |   |   |   |   |--- feature_3 <= 0.29\n",
            "|   |   |   |   |   |   |   |   |--- feature_11 <= -0.75\n",
            "|   |   |   |   |   |   |   |   |   |--- feature_2 <= 0.50\n",
            "|   |   |   |   |   |   |   |   |   |   |--- class: 0.0\n",
            "|   |   |   |   |   |   |   |   |   |--- feature_2 >  0.50\n",
            "|   |   |   |   |   |   |   |   |   |   |--- feature_11 <= -0.84\n",
            "|   |   |   |   |   |   |   |   |   |   |   |--- class: 1.0\n",
            "|   |   |   |   |   |   |   |   |   |   |--- feature_11 >  -0.84\n",
            "|   |   |   |   |   |   |   |   |   |   |   |--- class: 0.0\n",
            "|   |   |   |   |   |   |   |   |--- feature_11 >  -0.75\n",
            "|   |   |   |   |   |   |   |   |   |--- feature_10 <= -0.61\n",
            "|   |   |   |   |   |   |   |   |   |   |--- feature_0 <= -1.21\n",
            "|   |   |   |   |   |   |   |   |   |   |   |--- class: 1.0\n",
            "|   |   |   |   |   |   |   |   |   |   |--- feature_0 >  -1.21\n",
            "|   |   |   |   |   |   |   |   |   |   |   |--- truncated branch of depth 2\n",
            "|   |   |   |   |   |   |   |   |   |--- feature_10 >  -0.61\n",
            "|   |   |   |   |   |   |   |   |   |   |--- feature_9 <= 1.37\n",
            "|   |   |   |   |   |   |   |   |   |   |   |--- truncated branch of depth 5\n",
            "|   |   |   |   |   |   |   |   |   |   |--- feature_9 >  1.37\n",
            "|   |   |   |   |   |   |   |   |   |   |   |--- class: 0.0\n",
            "|   |   |   |   |   |   |   |--- feature_3 >  0.29\n",
            "|   |   |   |   |   |   |   |   |--- feature_1 <= -1.08\n",
            "|   |   |   |   |   |   |   |   |   |--- feature_8 <= 1.16\n",
            "|   |   |   |   |   |   |   |   |   |   |--- class: 1.0\n",
            "|   |   |   |   |   |   |   |   |   |--- feature_8 >  1.16\n",
            "|   |   |   |   |   |   |   |   |   |   |--- class: 0.0\n",
            "|   |   |   |   |   |   |   |   |--- feature_1 >  -1.08\n",
            "|   |   |   |   |   |   |   |   |   |--- class: 0.0\n",
            "|   |   |   |   |   |   |--- feature_11 >  0.17\n",
            "|   |   |   |   |   |   |   |--- feature_10 <= 3.13\n",
            "|   |   |   |   |   |   |   |   |--- feature_10 <= 1.15\n",
            "|   |   |   |   |   |   |   |   |   |--- feature_10 <= 1.12\n",
            "|   |   |   |   |   |   |   |   |   |   |--- feature_1 <= -0.50\n",
            "|   |   |   |   |   |   |   |   |   |   |   |--- truncated branch of depth 13\n",
            "|   |   |   |   |   |   |   |   |   |   |--- feature_1 >  -0.50\n",
            "|   |   |   |   |   |   |   |   |   |   |   |--- truncated branch of depth 2\n",
            "|   |   |   |   |   |   |   |   |   |--- feature_10 >  1.12\n",
            "|   |   |   |   |   |   |   |   |   |   |--- class: 1.0\n",
            "|   |   |   |   |   |   |   |   |--- feature_10 >  1.15\n",
            "|   |   |   |   |   |   |   |   |   |--- class: 0.0\n",
            "|   |   |   |   |   |   |   |--- feature_10 >  3.13\n",
            "|   |   |   |   |   |   |   |   |--- feature_10 <= 4.08\n",
            "|   |   |   |   |   |   |   |   |   |--- feature_8 <= 1.16\n",
            "|   |   |   |   |   |   |   |   |   |   |--- class: 1.0\n",
            "|   |   |   |   |   |   |   |   |   |--- feature_8 >  1.16\n",
            "|   |   |   |   |   |   |   |   |   |   |--- class: 0.0\n",
            "|   |   |   |   |   |   |   |   |--- feature_10 >  4.08\n",
            "|   |   |   |   |   |   |   |   |   |--- class: 0.0\n",
            "|   |   |   |   |   |--- feature_5 >  0.26\n",
            "|   |   |   |   |   |   |--- feature_7 <= 0.98\n",
            "|   |   |   |   |   |   |   |--- feature_8 <= 1.67\n",
            "|   |   |   |   |   |   |   |   |--- feature_5 <= 1.38\n",
            "|   |   |   |   |   |   |   |   |   |--- feature_0 <= -0.93\n",
            "|   |   |   |   |   |   |   |   |   |   |--- class: 0.0\n",
            "|   |   |   |   |   |   |   |   |   |--- feature_0 >  -0.93\n",
            "|   |   |   |   |   |   |   |   |   |   |--- feature_10 <= -0.87\n",
            "|   |   |   |   |   |   |   |   |   |   |   |--- class: 0.0\n",
            "|   |   |   |   |   |   |   |   |   |   |--- feature_10 >  -0.87\n",
            "|   |   |   |   |   |   |   |   |   |   |   |--- class: 1.0\n",
            "|   |   |   |   |   |   |   |   |--- feature_5 >  1.38\n",
            "|   |   |   |   |   |   |   |   |   |--- feature_10 <= 2.13\n",
            "|   |   |   |   |   |   |   |   |   |   |--- feature_6 <= 0.35\n",
            "|   |   |   |   |   |   |   |   |   |   |   |--- class: 1.0\n",
            "|   |   |   |   |   |   |   |   |   |   |--- feature_6 >  0.35\n",
            "|   |   |   |   |   |   |   |   |   |   |   |--- class: 0.0\n",
            "|   |   |   |   |   |   |   |   |   |--- feature_10 >  2.13\n",
            "|   |   |   |   |   |   |   |   |   |   |--- class: 1.0\n",
            "|   |   |   |   |   |   |   |--- feature_8 >  1.67\n",
            "|   |   |   |   |   |   |   |   |--- class: 0.0\n",
            "|   |   |   |   |   |   |--- feature_7 >  0.98\n",
            "|   |   |   |   |   |   |   |--- class: 0.0\n",
            "|   |   |   |   |--- feature_6 >  1.23\n",
            "|   |   |   |   |   |--- feature_0 <= -0.34\n",
            "|   |   |   |   |   |   |--- feature_1 <= -0.95\n",
            "|   |   |   |   |   |   |   |--- feature_6 <= 1.38\n",
            "|   |   |   |   |   |   |   |   |--- feature_11 <= 1.13\n",
            "|   |   |   |   |   |   |   |   |   |--- class: 0.0\n",
            "|   |   |   |   |   |   |   |   |--- feature_11 >  1.13\n",
            "|   |   |   |   |   |   |   |   |   |--- class: 1.0\n",
            "|   |   |   |   |   |   |   |--- feature_6 >  1.38\n",
            "|   |   |   |   |   |   |   |   |--- class: 0.0\n",
            "|   |   |   |   |   |   |--- feature_1 >  -0.95\n",
            "|   |   |   |   |   |   |   |--- feature_0 <= -0.47\n",
            "|   |   |   |   |   |   |   |   |--- feature_1 <= -0.42\n",
            "|   |   |   |   |   |   |   |   |   |--- feature_10 <= -0.18\n",
            "|   |   |   |   |   |   |   |   |   |   |--- feature_10 <= -0.45\n",
            "|   |   |   |   |   |   |   |   |   |   |   |--- truncated branch of depth 4\n",
            "|   |   |   |   |   |   |   |   |   |   |--- feature_10 >  -0.45\n",
            "|   |   |   |   |   |   |   |   |   |   |   |--- truncated branch of depth 3\n",
            "|   |   |   |   |   |   |   |   |   |--- feature_10 >  -0.18\n",
            "|   |   |   |   |   |   |   |   |   |   |--- class: 0.0\n",
            "|   |   |   |   |   |   |   |   |--- feature_1 >  -0.42\n",
            "|   |   |   |   |   |   |   |   |   |--- feature_9 <= -0.26\n",
            "|   |   |   |   |   |   |   |   |   |   |--- class: 1.0\n",
            "|   |   |   |   |   |   |   |   |   |--- feature_9 >  -0.26\n",
            "|   |   |   |   |   |   |   |   |   |   |--- class: 0.0\n",
            "|   |   |   |   |   |   |   |--- feature_0 >  -0.47\n",
            "|   |   |   |   |   |   |   |   |--- feature_3 <= 0.29\n",
            "|   |   |   |   |   |   |   |   |   |--- feature_11 <= 0.27\n",
            "|   |   |   |   |   |   |   |   |   |   |--- feature_9 <= 1.70\n",
            "|   |   |   |   |   |   |   |   |   |   |   |--- class: 1.0\n",
            "|   |   |   |   |   |   |   |   |   |   |--- feature_9 >  1.70\n",
            "|   |   |   |   |   |   |   |   |   |   |   |--- class: 0.0\n",
            "|   |   |   |   |   |   |   |   |   |--- feature_11 >  0.27\n",
            "|   |   |   |   |   |   |   |   |   |   |--- class: 0.0\n",
            "|   |   |   |   |   |   |   |   |--- feature_3 >  0.29\n",
            "|   |   |   |   |   |   |   |   |   |--- class: 1.0\n",
            "|   |   |   |   |   |--- feature_0 >  -0.34\n",
            "|   |   |   |   |   |   |--- feature_5 <= 4.74\n",
            "|   |   |   |   |   |   |   |--- feature_8 <= 2.19\n",
            "|   |   |   |   |   |   |   |   |--- feature_6 <= 1.38\n",
            "|   |   |   |   |   |   |   |   |   |--- feature_10 <= 1.15\n",
            "|   |   |   |   |   |   |   |   |   |   |--- feature_11 <= -0.06\n",
            "|   |   |   |   |   |   |   |   |   |   |   |--- truncated branch of depth 3\n",
            "|   |   |   |   |   |   |   |   |   |   |--- feature_11 >  -0.06\n",
            "|   |   |   |   |   |   |   |   |   |   |   |--- class: 0.0\n",
            "|   |   |   |   |   |   |   |   |   |--- feature_10 >  1.15\n",
            "|   |   |   |   |   |   |   |   |   |   |--- class: 1.0\n",
            "|   |   |   |   |   |   |   |   |--- feature_6 >  1.38\n",
            "|   |   |   |   |   |   |   |   |   |--- class: 0.0\n",
            "|   |   |   |   |   |   |   |--- feature_8 >  2.19\n",
            "|   |   |   |   |   |   |   |   |--- feature_7 <= 1.14\n",
            "|   |   |   |   |   |   |   |   |   |--- feature_0 <= 0.34\n",
            "|   |   |   |   |   |   |   |   |   |   |--- feature_0 <= 0.26\n",
            "|   |   |   |   |   |   |   |   |   |   |   |--- class: 0.0\n",
            "|   |   |   |   |   |   |   |   |   |   |--- feature_0 >  0.26\n",
            "|   |   |   |   |   |   |   |   |   |   |   |--- class: 1.0\n",
            "|   |   |   |   |   |   |   |   |   |--- feature_0 >  0.34\n",
            "|   |   |   |   |   |   |   |   |   |   |--- class: 0.0\n",
            "|   |   |   |   |   |   |   |   |--- feature_7 >  1.14\n",
            "|   |   |   |   |   |   |   |   |   |--- feature_4 <= 1.05\n",
            "|   |   |   |   |   |   |   |   |   |   |--- class: 1.0\n",
            "|   |   |   |   |   |   |   |   |   |--- feature_4 >  1.05\n",
            "|   |   |   |   |   |   |   |   |   |   |--- class: 0.0\n",
            "|   |   |   |   |   |   |--- feature_5 >  4.74\n",
            "|   |   |   |   |   |   |   |--- feature_9 <= 2.03\n",
            "|   |   |   |   |   |   |   |   |--- class: 1.0\n",
            "|   |   |   |   |   |   |   |--- feature_9 >  2.03\n",
            "|   |   |   |   |   |   |   |   |--- class: 0.0\n",
            "|   |   |--- feature_1 >  -0.29\n",
            "|   |   |   |--- feature_2 <= 0.50\n",
            "|   |   |   |   |--- feature_6 <= 1.38\n",
            "|   |   |   |   |   |--- feature_9 <= 0.72\n",
            "|   |   |   |   |   |   |--- feature_1 <= -0.20\n",
            "|   |   |   |   |   |   |   |--- feature_10 <= 0.93\n",
            "|   |   |   |   |   |   |   |   |--- class: 0.0\n",
            "|   |   |   |   |   |   |   |--- feature_10 >  0.93\n",
            "|   |   |   |   |   |   |   |   |--- feature_10 <= 1.13\n",
            "|   |   |   |   |   |   |   |   |   |--- class: 1.0\n",
            "|   |   |   |   |   |   |   |   |--- feature_10 >  1.13\n",
            "|   |   |   |   |   |   |   |   |   |--- class: 0.0\n",
            "|   |   |   |   |   |   |--- feature_1 >  -0.20\n",
            "|   |   |   |   |   |   |   |--- feature_1 <= 0.30\n",
            "|   |   |   |   |   |   |   |   |--- feature_1 <= 0.22\n",
            "|   |   |   |   |   |   |   |   |   |--- feature_10 <= 0.39\n",
            "|   |   |   |   |   |   |   |   |   |   |--- feature_0 <= -1.55\n",
            "|   |   |   |   |   |   |   |   |   |   |   |--- truncated branch of depth 3\n",
            "|   |   |   |   |   |   |   |   |   |   |--- feature_0 >  -1.55\n",
            "|   |   |   |   |   |   |   |   |   |   |   |--- truncated branch of depth 10\n",
            "|   |   |   |   |   |   |   |   |   |--- feature_10 >  0.39\n",
            "|   |   |   |   |   |   |   |   |   |   |--- feature_4 <= 2.18\n",
            "|   |   |   |   |   |   |   |   |   |   |   |--- class: 0.0\n",
            "|   |   |   |   |   |   |   |   |   |   |--- feature_4 >  2.18\n",
            "|   |   |   |   |   |   |   |   |   |   |   |--- truncated branch of depth 2\n",
            "|   |   |   |   |   |   |   |   |--- feature_1 >  0.22\n",
            "|   |   |   |   |   |   |   |   |   |--- feature_9 <= -0.59\n",
            "|   |   |   |   |   |   |   |   |   |   |--- class: 0.0\n",
            "|   |   |   |   |   |   |   |   |   |--- feature_9 >  -0.59\n",
            "|   |   |   |   |   |   |   |   |   |   |--- feature_0 <= -0.16\n",
            "|   |   |   |   |   |   |   |   |   |   |   |--- class: 1.0\n",
            "|   |   |   |   |   |   |   |   |   |   |--- feature_0 >  -0.16\n",
            "|   |   |   |   |   |   |   |   |   |   |   |--- truncated branch of depth 3\n",
            "|   |   |   |   |   |   |   |--- feature_1 >  0.30\n",
            "|   |   |   |   |   |   |   |   |--- feature_6 <= 0.05\n",
            "|   |   |   |   |   |   |   |   |   |--- feature_0 <= 1.29\n",
            "|   |   |   |   |   |   |   |   |   |   |--- feature_0 <= 1.29\n",
            "|   |   |   |   |   |   |   |   |   |   |   |--- truncated branch of depth 27\n",
            "|   |   |   |   |   |   |   |   |   |   |--- feature_0 >  1.29\n",
            "|   |   |   |   |   |   |   |   |   |   |   |--- class: 1.0\n",
            "|   |   |   |   |   |   |   |   |   |--- feature_0 >  1.29\n",
            "|   |   |   |   |   |   |   |   |   |   |--- feature_6 <= -0.54\n",
            "|   |   |   |   |   |   |   |   |   |   |   |--- truncated branch of depth 8\n",
            "|   |   |   |   |   |   |   |   |   |   |--- feature_6 >  -0.54\n",
            "|   |   |   |   |   |   |   |   |   |   |   |--- truncated branch of depth 7\n",
            "|   |   |   |   |   |   |   |   |--- feature_6 >  0.05\n",
            "|   |   |   |   |   |   |   |   |   |--- feature_1 <= 0.70\n",
            "|   |   |   |   |   |   |   |   |   |   |--- feature_8 <= 0.13\n",
            "|   |   |   |   |   |   |   |   |   |   |   |--- truncated branch of depth 9\n",
            "|   |   |   |   |   |   |   |   |   |   |--- feature_8 >  0.13\n",
            "|   |   |   |   |   |   |   |   |   |   |   |--- truncated branch of depth 6\n",
            "|   |   |   |   |   |   |   |   |   |--- feature_1 >  0.70\n",
            "|   |   |   |   |   |   |   |   |   |   |--- feature_11 <= -0.90\n",
            "|   |   |   |   |   |   |   |   |   |   |   |--- truncated branch of depth 2\n",
            "|   |   |   |   |   |   |   |   |   |   |--- feature_11 >  -0.90\n",
            "|   |   |   |   |   |   |   |   |   |   |   |--- truncated branch of depth 16\n",
            "|   |   |   |   |   |--- feature_9 >  0.72\n",
            "|   |   |   |   |   |   |--- feature_0 <= 0.24\n",
            "|   |   |   |   |   |   |   |--- feature_10 <= -1.05\n",
            "|   |   |   |   |   |   |   |   |--- class: 1.0\n",
            "|   |   |   |   |   |   |   |--- feature_10 >  -1.05\n",
            "|   |   |   |   |   |   |   |   |--- feature_0 <= -1.44\n",
            "|   |   |   |   |   |   |   |   |   |--- feature_8 <= 4.24\n",
            "|   |   |   |   |   |   |   |   |   |   |--- feature_0 <= -1.44\n",
            "|   |   |   |   |   |   |   |   |   |   |   |--- truncated branch of depth 8\n",
            "|   |   |   |   |   |   |   |   |   |   |--- feature_0 >  -1.44\n",
            "|   |   |   |   |   |   |   |   |   |   |   |--- class: 1.0\n",
            "|   |   |   |   |   |   |   |   |   |--- feature_8 >  4.24\n",
            "|   |   |   |   |   |   |   |   |   |   |--- class: 1.0\n",
            "|   |   |   |   |   |   |   |   |--- feature_0 >  -1.44\n",
            "|   |   |   |   |   |   |   |   |   |--- feature_0 <= -0.84\n",
            "|   |   |   |   |   |   |   |   |   |   |--- feature_11 <= 1.27\n",
            "|   |   |   |   |   |   |   |   |   |   |   |--- class: 0.0\n",
            "|   |   |   |   |   |   |   |   |   |   |--- feature_11 >  1.27\n",
            "|   |   |   |   |   |   |   |   |   |   |   |--- truncated branch of depth 5\n",
            "|   |   |   |   |   |   |   |   |   |--- feature_0 >  -0.84\n",
            "|   |   |   |   |   |   |   |   |   |   |--- feature_0 <= -0.84\n",
            "|   |   |   |   |   |   |   |   |   |   |   |--- class: 1.0\n",
            "|   |   |   |   |   |   |   |   |   |   |--- feature_0 >  -0.84\n",
            "|   |   |   |   |   |   |   |   |   |   |   |--- truncated branch of depth 12\n",
            "|   |   |   |   |   |   |--- feature_0 >  0.24\n",
            "|   |   |   |   |   |   |   |--- feature_6 <= 0.05\n",
            "|   |   |   |   |   |   |   |   |--- feature_10 <= 1.70\n",
            "|   |   |   |   |   |   |   |   |   |--- feature_3 <= 0.29\n",
            "|   |   |   |   |   |   |   |   |   |   |--- feature_0 <= 0.53\n",
            "|   |   |   |   |   |   |   |   |   |   |   |--- truncated branch of depth 5\n",
            "|   |   |   |   |   |   |   |   |   |   |--- feature_0 >  0.53\n",
            "|   |   |   |   |   |   |   |   |   |   |   |--- truncated branch of depth 7\n",
            "|   |   |   |   |   |   |   |   |   |--- feature_3 >  0.29\n",
            "|   |   |   |   |   |   |   |   |   |   |--- feature_0 <= 0.28\n",
            "|   |   |   |   |   |   |   |   |   |   |   |--- class: 1.0\n",
            "|   |   |   |   |   |   |   |   |   |   |--- feature_0 >  0.28\n",
            "|   |   |   |   |   |   |   |   |   |   |   |--- truncated branch of depth 5\n",
            "|   |   |   |   |   |   |   |   |--- feature_10 >  1.70\n",
            "|   |   |   |   |   |   |   |   |   |--- feature_10 <= 1.91\n",
            "|   |   |   |   |   |   |   |   |   |   |--- class: 1.0\n",
            "|   |   |   |   |   |   |   |   |   |--- feature_10 >  1.91\n",
            "|   |   |   |   |   |   |   |   |   |   |--- feature_11 <= -0.97\n",
            "|   |   |   |   |   |   |   |   |   |   |   |--- class: 1.0\n",
            "|   |   |   |   |   |   |   |   |   |   |--- feature_11 >  -0.97\n",
            "|   |   |   |   |   |   |   |   |   |   |   |--- truncated branch of depth 3\n",
            "|   |   |   |   |   |   |   |--- feature_6 >  0.05\n",
            "|   |   |   |   |   |   |   |   |--- feature_1 <= 0.77\n",
            "|   |   |   |   |   |   |   |   |   |--- feature_0 <= 0.28\n",
            "|   |   |   |   |   |   |   |   |   |   |--- class: 1.0\n",
            "|   |   |   |   |   |   |   |   |   |--- feature_0 >  0.28\n",
            "|   |   |   |   |   |   |   |   |   |   |--- feature_10 <= 3.93\n",
            "|   |   |   |   |   |   |   |   |   |   |   |--- truncated branch of depth 13\n",
            "|   |   |   |   |   |   |   |   |   |   |--- feature_10 >  3.93\n",
            "|   |   |   |   |   |   |   |   |   |   |   |--- class: 1.0\n",
            "|   |   |   |   |   |   |   |   |--- feature_1 >  0.77\n",
            "|   |   |   |   |   |   |   |   |   |--- feature_10 <= -0.19\n",
            "|   |   |   |   |   |   |   |   |   |   |--- feature_7 <= 0.98\n",
            "|   |   |   |   |   |   |   |   |   |   |   |--- class: 1.0\n",
            "|   |   |   |   |   |   |   |   |   |   |--- feature_7 >  0.98\n",
            "|   |   |   |   |   |   |   |   |   |   |   |--- truncated branch of depth 2\n",
            "|   |   |   |   |   |   |   |   |   |--- feature_10 >  -0.19\n",
            "|   |   |   |   |   |   |   |   |   |   |--- feature_1 <= 0.78\n",
            "|   |   |   |   |   |   |   |   |   |   |   |--- truncated branch of depth 2\n",
            "|   |   |   |   |   |   |   |   |   |   |--- feature_1 >  0.78\n",
            "|   |   |   |   |   |   |   |   |   |   |   |--- class: 0.0\n",
            "|   |   |   |   |--- feature_6 >  1.38\n",
            "|   |   |   |   |   |--- feature_1 <= 0.49\n",
            "|   |   |   |   |   |   |--- feature_0 <= -1.61\n",
            "|   |   |   |   |   |   |   |--- class: 1.0\n",
            "|   |   |   |   |   |   |--- feature_0 >  -1.61\n",
            "|   |   |   |   |   |   |   |--- feature_10 <= -1.05\n",
            "|   |   |   |   |   |   |   |   |--- class: 1.0\n",
            "|   |   |   |   |   |   |   |--- feature_10 >  -1.05\n",
            "|   |   |   |   |   |   |   |   |--- feature_4 <= 2.18\n",
            "|   |   |   |   |   |   |   |   |   |--- feature_1 <= 0.08\n",
            "|   |   |   |   |   |   |   |   |   |   |--- feature_10 <= 0.55\n",
            "|   |   |   |   |   |   |   |   |   |   |   |--- truncated branch of depth 4\n",
            "|   |   |   |   |   |   |   |   |   |   |--- feature_10 >  0.55\n",
            "|   |   |   |   |   |   |   |   |   |   |   |--- truncated branch of depth 4\n",
            "|   |   |   |   |   |   |   |   |   |--- feature_1 >  0.08\n",
            "|   |   |   |   |   |   |   |   |   |   |--- feature_1 <= 0.16\n",
            "|   |   |   |   |   |   |   |   |   |   |   |--- truncated branch of depth 4\n",
            "|   |   |   |   |   |   |   |   |   |   |--- feature_1 >  0.16\n",
            "|   |   |   |   |   |   |   |   |   |   |   |--- truncated branch of depth 8\n",
            "|   |   |   |   |   |   |   |   |--- feature_4 >  2.18\n",
            "|   |   |   |   |   |   |   |   |   |--- class: 1.0\n",
            "|   |   |   |   |   |--- feature_1 >  0.49\n",
            "|   |   |   |   |   |   |--- feature_0 <= 0.91\n",
            "|   |   |   |   |   |   |   |--- feature_0 <= -0.82\n",
            "|   |   |   |   |   |   |   |   |--- feature_0 <= -1.64\n",
            "|   |   |   |   |   |   |   |   |   |--- feature_1 <= 0.61\n",
            "|   |   |   |   |   |   |   |   |   |   |--- class: 1.0\n",
            "|   |   |   |   |   |   |   |   |   |--- feature_1 >  0.61\n",
            "|   |   |   |   |   |   |   |   |   |   |--- feature_10 <= -0.90\n",
            "|   |   |   |   |   |   |   |   |   |   |   |--- truncated branch of depth 2\n",
            "|   |   |   |   |   |   |   |   |   |   |--- feature_10 >  -0.90\n",
            "|   |   |   |   |   |   |   |   |   |   |   |--- class: 0.0\n",
            "|   |   |   |   |   |   |   |   |--- feature_0 >  -1.64\n",
            "|   |   |   |   |   |   |   |   |   |--- feature_5 <= 0.26\n",
            "|   |   |   |   |   |   |   |   |   |   |--- feature_0 <= -1.35\n",
            "|   |   |   |   |   |   |   |   |   |   |   |--- truncated branch of depth 2\n",
            "|   |   |   |   |   |   |   |   |   |   |--- feature_0 >  -1.35\n",
            "|   |   |   |   |   |   |   |   |   |   |   |--- class: 0.0\n",
            "|   |   |   |   |   |   |   |   |   |--- feature_5 >  0.26\n",
            "|   |   |   |   |   |   |   |   |   |   |--- feature_0 <= -1.01\n",
            "|   |   |   |   |   |   |   |   |   |   |   |--- class: 0.0\n",
            "|   |   |   |   |   |   |   |   |   |   |--- feature_0 >  -1.01\n",
            "|   |   |   |   |   |   |   |   |   |   |   |--- class: 1.0\n",
            "|   |   |   |   |   |   |   |--- feature_0 >  -0.82\n",
            "|   |   |   |   |   |   |   |   |--- feature_0 <= -0.82\n",
            "|   |   |   |   |   |   |   |   |   |--- class: 1.0\n",
            "|   |   |   |   |   |   |   |   |--- feature_0 >  -0.82\n",
            "|   |   |   |   |   |   |   |   |   |--- feature_10 <= 4.06\n",
            "|   |   |   |   |   |   |   |   |   |   |--- feature_9 <= 2.03\n",
            "|   |   |   |   |   |   |   |   |   |   |   |--- truncated branch of depth 13\n",
            "|   |   |   |   |   |   |   |   |   |   |--- feature_9 >  2.03\n",
            "|   |   |   |   |   |   |   |   |   |   |   |--- truncated branch of depth 6\n",
            "|   |   |   |   |   |   |   |   |   |--- feature_10 >  4.06\n",
            "|   |   |   |   |   |   |   |   |   |   |--- feature_10 <= 4.16\n",
            "|   |   |   |   |   |   |   |   |   |   |   |--- class: 1.0\n",
            "|   |   |   |   |   |   |   |   |   |   |--- feature_10 >  4.16\n",
            "|   |   |   |   |   |   |   |   |   |   |   |--- class: 0.0\n",
            "|   |   |   |   |   |   |--- feature_0 >  0.91\n",
            "|   |   |   |   |   |   |   |--- feature_10 <= 2.63\n",
            "|   |   |   |   |   |   |   |   |--- feature_5 <= 2.50\n",
            "|   |   |   |   |   |   |   |   |   |--- feature_0 <= 0.92\n",
            "|   |   |   |   |   |   |   |   |   |   |--- class: 1.0\n",
            "|   |   |   |   |   |   |   |   |   |--- feature_0 >  0.92\n",
            "|   |   |   |   |   |   |   |   |   |   |--- feature_8 <= 4.24\n",
            "|   |   |   |   |   |   |   |   |   |   |   |--- truncated branch of depth 9\n",
            "|   |   |   |   |   |   |   |   |   |   |--- feature_8 >  4.24\n",
            "|   |   |   |   |   |   |   |   |   |   |   |--- class: 1.0\n",
            "|   |   |   |   |   |   |   |   |--- feature_5 >  2.50\n",
            "|   |   |   |   |   |   |   |   |   |--- class: 1.0\n",
            "|   |   |   |   |   |   |   |--- feature_10 >  2.63\n",
            "|   |   |   |   |   |   |   |   |--- feature_7 <= 0.03\n",
            "|   |   |   |   |   |   |   |   |   |--- class: 0.0\n",
            "|   |   |   |   |   |   |   |   |--- feature_7 >  0.03\n",
            "|   |   |   |   |   |   |   |   |   |--- class: 1.0\n",
            "|   |   |   |--- feature_2 >  0.50\n",
            "|   |   |   |   |--- feature_8 <= 1.16\n",
            "|   |   |   |   |   |--- feature_11 <= 1.58\n",
            "|   |   |   |   |   |   |--- feature_11 <= -0.77\n",
            "|   |   |   |   |   |   |   |--- feature_6 <= -0.83\n",
            "|   |   |   |   |   |   |   |   |--- feature_10 <= -0.99\n",
            "|   |   |   |   |   |   |   |   |   |--- feature_9 <= -0.26\n",
            "|   |   |   |   |   |   |   |   |   |   |--- class: 1.0\n",
            "|   |   |   |   |   |   |   |   |   |--- feature_9 >  -0.26\n",
            "|   |   |   |   |   |   |   |   |   |   |--- class: 0.0\n",
            "|   |   |   |   |   |   |   |   |--- feature_10 >  -0.99\n",
            "|   |   |   |   |   |   |   |   |   |--- feature_7 <= 1.30\n",
            "|   |   |   |   |   |   |   |   |   |   |--- class: 0.0\n",
            "|   |   |   |   |   |   |   |   |   |--- feature_7 >  1.30\n",
            "|   |   |   |   |   |   |   |   |   |   |--- feature_10 <= -0.60\n",
            "|   |   |   |   |   |   |   |   |   |   |   |--- truncated branch of depth 2\n",
            "|   |   |   |   |   |   |   |   |   |   |--- feature_10 >  -0.60\n",
            "|   |   |   |   |   |   |   |   |   |   |   |--- class: 0.0\n",
            "|   |   |   |   |   |   |   |--- feature_6 >  -0.83\n",
            "|   |   |   |   |   |   |   |   |--- feature_10 <= -0.75\n",
            "|   |   |   |   |   |   |   |   |   |--- feature_10 <= -0.96\n",
            "|   |   |   |   |   |   |   |   |   |   |--- class: 0.0\n",
            "|   |   |   |   |   |   |   |   |   |--- feature_10 >  -0.96\n",
            "|   |   |   |   |   |   |   |   |   |   |--- feature_3 <= 0.29\n",
            "|   |   |   |   |   |   |   |   |   |   |   |--- truncated branch of depth 8\n",
            "|   |   |   |   |   |   |   |   |   |   |--- feature_3 >  0.29\n",
            "|   |   |   |   |   |   |   |   |   |   |   |--- truncated branch of depth 3\n",
            "|   |   |   |   |   |   |   |   |--- feature_10 >  -0.75\n",
            "|   |   |   |   |   |   |   |   |   |--- feature_6 <= -0.39\n",
            "|   |   |   |   |   |   |   |   |   |   |--- feature_10 <= -0.15\n",
            "|   |   |   |   |   |   |   |   |   |   |   |--- truncated branch of depth 4\n",
            "|   |   |   |   |   |   |   |   |   |   |--- feature_10 >  -0.15\n",
            "|   |   |   |   |   |   |   |   |   |   |   |--- truncated branch of depth 4\n",
            "|   |   |   |   |   |   |   |   |   |--- feature_6 >  -0.39\n",
            "|   |   |   |   |   |   |   |   |   |   |--- feature_0 <= -0.50\n",
            "|   |   |   |   |   |   |   |   |   |   |   |--- class: 0.0\n",
            "|   |   |   |   |   |   |   |   |   |   |--- feature_0 >  -0.50\n",
            "|   |   |   |   |   |   |   |   |   |   |   |--- truncated branch of depth 10\n",
            "|   |   |   |   |   |   |--- feature_11 >  -0.77\n",
            "|   |   |   |   |   |   |   |--- feature_10 <= 3.83\n",
            "|   |   |   |   |   |   |   |   |--- feature_6 <= 0.79\n",
            "|   |   |   |   |   |   |   |   |   |--- feature_10 <= -0.21\n",
            "|   |   |   |   |   |   |   |   |   |   |--- feature_10 <= -0.30\n",
            "|   |   |   |   |   |   |   |   |   |   |   |--- truncated branch of depth 7\n",
            "|   |   |   |   |   |   |   |   |   |   |--- feature_10 >  -0.30\n",
            "|   |   |   |   |   |   |   |   |   |   |   |--- truncated branch of depth 4\n",
            "|   |   |   |   |   |   |   |   |   |--- feature_10 >  -0.21\n",
            "|   |   |   |   |   |   |   |   |   |   |--- feature_0 <= -1.49\n",
            "|   |   |   |   |   |   |   |   |   |   |   |--- truncated branch of depth 2\n",
            "|   |   |   |   |   |   |   |   |   |   |--- feature_0 >  -1.49\n",
            "|   |   |   |   |   |   |   |   |   |   |   |--- truncated branch of depth 3\n",
            "|   |   |   |   |   |   |   |   |--- feature_6 >  0.79\n",
            "|   |   |   |   |   |   |   |   |   |--- class: 0.0\n",
            "|   |   |   |   |   |   |   |--- feature_10 >  3.83\n",
            "|   |   |   |   |   |   |   |   |--- feature_7 <= 0.67\n",
            "|   |   |   |   |   |   |   |   |   |--- class: 1.0\n",
            "|   |   |   |   |   |   |   |   |--- feature_7 >  0.67\n",
            "|   |   |   |   |   |   |   |   |   |--- class: 0.0\n",
            "|   |   |   |   |   |--- feature_11 >  1.58\n",
            "|   |   |   |   |   |   |--- feature_0 <= 1.26\n",
            "|   |   |   |   |   |   |   |--- feature_10 <= -1.00\n",
            "|   |   |   |   |   |   |   |   |--- class: 1.0\n",
            "|   |   |   |   |   |   |   |--- feature_10 >  -1.00\n",
            "|   |   |   |   |   |   |   |   |--- feature_11 <= 1.93\n",
            "|   |   |   |   |   |   |   |   |   |--- feature_10 <= -0.90\n",
            "|   |   |   |   |   |   |   |   |   |   |--- class: 1.0\n",
            "|   |   |   |   |   |   |   |   |   |--- feature_10 >  -0.90\n",
            "|   |   |   |   |   |   |   |   |   |   |--- feature_5 <= 0.26\n",
            "|   |   |   |   |   |   |   |   |   |   |   |--- class: 0.0\n",
            "|   |   |   |   |   |   |   |   |   |   |--- feature_5 >  0.26\n",
            "|   |   |   |   |   |   |   |   |   |   |   |--- truncated branch of depth 2\n",
            "|   |   |   |   |   |   |   |   |--- feature_11 >  1.93\n",
            "|   |   |   |   |   |   |   |   |   |--- feature_5 <= 2.50\n",
            "|   |   |   |   |   |   |   |   |   |   |--- class: 0.0\n",
            "|   |   |   |   |   |   |   |   |   |--- feature_5 >  2.50\n",
            "|   |   |   |   |   |   |   |   |   |   |--- feature_0 <= -0.21\n",
            "|   |   |   |   |   |   |   |   |   |   |   |--- class: 1.0\n",
            "|   |   |   |   |   |   |   |   |   |   |--- feature_0 >  -0.21\n",
            "|   |   |   |   |   |   |   |   |   |   |   |--- class: 0.0\n",
            "|   |   |   |   |   |   |--- feature_0 >  1.26\n",
            "|   |   |   |   |   |   |   |--- feature_1 <= 0.74\n",
            "|   |   |   |   |   |   |   |   |--- class: 1.0\n",
            "|   |   |   |   |   |   |   |--- feature_1 >  0.74\n",
            "|   |   |   |   |   |   |   |   |--- feature_0 <= 1.40\n",
            "|   |   |   |   |   |   |   |   |   |--- class: 1.0\n",
            "|   |   |   |   |   |   |   |   |--- feature_0 >  1.40\n",
            "|   |   |   |   |   |   |   |   |   |--- class: 0.0\n",
            "|   |   |   |   |--- feature_8 >  1.16\n",
            "|   |   |   |   |   |--- feature_6 <= -0.39\n",
            "|   |   |   |   |   |   |--- feature_0 <= 0.59\n",
            "|   |   |   |   |   |   |   |--- feature_8 <= 4.24\n",
            "|   |   |   |   |   |   |   |   |--- feature_0 <= -1.29\n",
            "|   |   |   |   |   |   |   |   |   |--- feature_0 <= -1.30\n",
            "|   |   |   |   |   |   |   |   |   |   |--- feature_1 <= 0.77\n",
            "|   |   |   |   |   |   |   |   |   |   |   |--- class: 0.0\n",
            "|   |   |   |   |   |   |   |   |   |   |--- feature_1 >  0.77\n",
            "|   |   |   |   |   |   |   |   |   |   |   |--- truncated branch of depth 2\n",
            "|   |   |   |   |   |   |   |   |   |--- feature_0 >  -1.30\n",
            "|   |   |   |   |   |   |   |   |   |   |--- class: 1.0\n",
            "|   |   |   |   |   |   |   |   |--- feature_0 >  -1.29\n",
            "|   |   |   |   |   |   |   |   |   |--- class: 0.0\n",
            "|   |   |   |   |   |   |   |--- feature_8 >  4.24\n",
            "|   |   |   |   |   |   |   |   |--- feature_7 <= 0.35\n",
            "|   |   |   |   |   |   |   |   |   |--- class: 1.0\n",
            "|   |   |   |   |   |   |   |   |--- feature_7 >  0.35\n",
            "|   |   |   |   |   |   |   |   |   |--- class: 0.0\n",
            "|   |   |   |   |   |   |--- feature_0 >  0.59\n",
            "|   |   |   |   |   |   |   |--- feature_9 <= -0.59\n",
            "|   |   |   |   |   |   |   |   |--- feature_8 <= 2.19\n",
            "|   |   |   |   |   |   |   |   |   |--- feature_6 <= -0.54\n",
            "|   |   |   |   |   |   |   |   |   |   |--- class: 1.0\n",
            "|   |   |   |   |   |   |   |   |   |--- feature_6 >  -0.54\n",
            "|   |   |   |   |   |   |   |   |   |   |--- feature_10 <= -0.03\n",
            "|   |   |   |   |   |   |   |   |   |   |   |--- class: 0.0\n",
            "|   |   |   |   |   |   |   |   |   |   |--- feature_10 >  -0.03\n",
            "|   |   |   |   |   |   |   |   |   |   |   |--- class: 1.0\n",
            "|   |   |   |   |   |   |   |   |--- feature_8 >  2.19\n",
            "|   |   |   |   |   |   |   |   |   |--- feature_3 <= 0.29\n",
            "|   |   |   |   |   |   |   |   |   |   |--- feature_4 <= 1.05\n",
            "|   |   |   |   |   |   |   |   |   |   |   |--- class: 0.0\n",
            "|   |   |   |   |   |   |   |   |   |   |--- feature_4 >  1.05\n",
            "|   |   |   |   |   |   |   |   |   |   |   |--- class: 1.0\n",
            "|   |   |   |   |   |   |   |   |   |--- feature_3 >  0.29\n",
            "|   |   |   |   |   |   |   |   |   |   |--- class: 0.0\n",
            "|   |   |   |   |   |   |   |--- feature_9 >  -0.59\n",
            "|   |   |   |   |   |   |   |   |--- feature_0 <= 0.61\n",
            "|   |   |   |   |   |   |   |   |   |--- class: 1.0\n",
            "|   |   |   |   |   |   |   |   |--- feature_0 >  0.61\n",
            "|   |   |   |   |   |   |   |   |   |--- feature_3 <= 0.29\n",
            "|   |   |   |   |   |   |   |   |   |   |--- class: 0.0\n",
            "|   |   |   |   |   |   |   |   |   |--- feature_3 >  0.29\n",
            "|   |   |   |   |   |   |   |   |   |   |--- feature_0 <= 0.86\n",
            "|   |   |   |   |   |   |   |   |   |   |   |--- truncated branch of depth 2\n",
            "|   |   |   |   |   |   |   |   |   |   |--- feature_0 >  0.86\n",
            "|   |   |   |   |   |   |   |   |   |   |   |--- class: 0.0\n",
            "|   |   |   |   |   |--- feature_6 >  -0.39\n",
            "|   |   |   |   |   |   |--- feature_6 <= 0.94\n",
            "|   |   |   |   |   |   |   |--- feature_0 <= -1.69\n",
            "|   |   |   |   |   |   |   |   |--- class: 1.0\n",
            "|   |   |   |   |   |   |   |--- feature_0 >  -1.69\n",
            "|   |   |   |   |   |   |   |   |--- feature_11 <= 1.17\n",
            "|   |   |   |   |   |   |   |   |   |--- feature_11 <= -0.46\n",
            "|   |   |   |   |   |   |   |   |   |   |--- feature_8 <= 2.19\n",
            "|   |   |   |   |   |   |   |   |   |   |   |--- truncated branch of depth 6\n",
            "|   |   |   |   |   |   |   |   |   |   |--- feature_8 >  2.19\n",
            "|   |   |   |   |   |   |   |   |   |   |   |--- truncated branch of depth 2\n",
            "|   |   |   |   |   |   |   |   |   |--- feature_11 >  -0.46\n",
            "|   |   |   |   |   |   |   |   |   |   |--- feature_0 <= -0.41\n",
            "|   |   |   |   |   |   |   |   |   |   |   |--- truncated branch of depth 3\n",
            "|   |   |   |   |   |   |   |   |   |   |--- feature_0 >  -0.41\n",
            "|   |   |   |   |   |   |   |   |   |   |   |--- truncated branch of depth 5\n",
            "|   |   |   |   |   |   |   |   |--- feature_11 >  1.17\n",
            "|   |   |   |   |   |   |   |   |   |--- class: 0.0\n",
            "|   |   |   |   |   |   |--- feature_6 >  0.94\n",
            "|   |   |   |   |   |   |   |--- feature_7 <= 0.98\n",
            "|   |   |   |   |   |   |   |   |--- feature_0 <= -1.38\n",
            "|   |   |   |   |   |   |   |   |   |--- feature_0 <= -1.48\n",
            "|   |   |   |   |   |   |   |   |   |   |--- class: 0.0\n",
            "|   |   |   |   |   |   |   |   |   |--- feature_0 >  -1.48\n",
            "|   |   |   |   |   |   |   |   |   |   |--- class: 1.0\n",
            "|   |   |   |   |   |   |   |   |--- feature_0 >  -1.38\n",
            "|   |   |   |   |   |   |   |   |   |--- feature_10 <= 0.54\n",
            "|   |   |   |   |   |   |   |   |   |   |--- class: 0.0\n",
            "|   |   |   |   |   |   |   |   |   |--- feature_10 >  0.54\n",
            "|   |   |   |   |   |   |   |   |   |   |--- feature_11 <= -0.45\n",
            "|   |   |   |   |   |   |   |   |   |   |   |--- class: 1.0\n",
            "|   |   |   |   |   |   |   |   |   |   |--- feature_11 >  -0.45\n",
            "|   |   |   |   |   |   |   |   |   |   |   |--- class: 0.0\n",
            "|   |   |   |   |   |   |   |--- feature_7 >  0.98\n",
            "|   |   |   |   |   |   |   |   |--- feature_4 <= 1.05\n",
            "|   |   |   |   |   |   |   |   |   |--- feature_0 <= 0.85\n",
            "|   |   |   |   |   |   |   |   |   |   |--- feature_0 <= -1.39\n",
            "|   |   |   |   |   |   |   |   |   |   |   |--- truncated branch of depth 2\n",
            "|   |   |   |   |   |   |   |   |   |   |--- feature_0 >  -1.39\n",
            "|   |   |   |   |   |   |   |   |   |   |   |--- class: 0.0\n",
            "|   |   |   |   |   |   |   |   |   |--- feature_0 >  0.85\n",
            "|   |   |   |   |   |   |   |   |   |   |--- feature_10 <= -0.76\n",
            "|   |   |   |   |   |   |   |   |   |   |   |--- class: 0.0\n",
            "|   |   |   |   |   |   |   |   |   |   |--- feature_10 >  -0.76\n",
            "|   |   |   |   |   |   |   |   |   |   |   |--- class: 1.0\n",
            "|   |   |   |   |   |   |   |   |--- feature_4 >  1.05\n",
            "|   |   |   |   |   |   |   |   |   |--- feature_9 <= 1.05\n",
            "|   |   |   |   |   |   |   |   |   |   |--- class: 1.0\n",
            "|   |   |   |   |   |   |   |   |   |--- feature_9 >  1.05\n",
            "|   |   |   |   |   |   |   |   |   |   |--- class: 0.0\n",
            "\n"
          ]
        }
      ]
    },
    {
      "cell_type": "markdown",
      "metadata": {
        "id": "TL68anvH3Afp"
      },
      "source": [
        "##SVM model"
      ]
    },
    {
      "cell_type": "code",
      "metadata": {
        "colab": {
          "base_uri": "https://localhost:8080/"
        },
        "id": "wDmeDOF13Ctp",
        "outputId": "d9369073-28f4-4c8d-e6fe-7f8504d9077e"
      },
      "source": [
        "svm_model_male=svm.SVC() #Classification\n",
        "svm_model_male.fit(x1_train,y1_train) #fit the model for training dataset"
      ],
      "execution_count": null,
      "outputs": [
        {
          "output_type": "execute_result",
          "data": {
            "text/plain": [
              "SVC(C=1.0, break_ties=False, cache_size=200, class_weight=None, coef0=0.0,\n",
              "    decision_function_shape='ovr', degree=3, gamma='scale', kernel='rbf',\n",
              "    max_iter=-1, probability=False, random_state=None, shrinking=True,\n",
              "    tol=0.001, verbose=False)"
            ]
          },
          "metadata": {},
          "execution_count": 82
        }
      ]
    },
    {
      "cell_type": "code",
      "metadata": {
        "id": "wthgBU0p3j3X"
      },
      "source": [
        "svm_pred_male=svm_model_male.predict(x1_test) #test the model"
      ],
      "execution_count": null,
      "outputs": []
    },
    {
      "cell_type": "code",
      "metadata": {
        "colab": {
          "base_uri": "https://localhost:8080/"
        },
        "id": "AZBH_zH43p6I",
        "outputId": "c6df28af-669c-494a-d535-acb4a1b54318"
      },
      "source": [
        "print(f'precision score is: {metrics.precision_score(y1_test,svm_pred_male)}') #precision=TP/TP+FP\n",
        "print(f'recall score is: {metrics.recall_score(y1_test,svm_pred_male)}') #recall=TP/TP+FN\n",
        "print(f'f1 score is: {metrics.f1_score(y1_test,svm_pred_male)}') #f1=2*precision*recall/precision+recall\n",
        "print(f'accuracy score is: {metrics.accuracy_score(y1_test,svm_pred_male)}') #accuracy=TP+TF/Total Samples"
      ],
      "execution_count": null,
      "outputs": [
        {
          "output_type": "stream",
          "name": "stdout",
          "text": [
            "precision score is: 0.5863746958637469\n",
            "recall score is: 0.3786331500392773\n",
            "f1 score is: 0.46014319809069204\n",
            "accuracy score is: 0.7815758980301275\n"
          ]
        }
      ]
    },
    {
      "cell_type": "code",
      "metadata": {
        "colab": {
          "base_uri": "https://localhost:8080/",
          "height": 549
        },
        "id": "-AWofTkX4B2S",
        "outputId": "8cc34f48-cd4f-4502-cf6d-5c92394c7b2c"
      },
      "source": [
        "#show the confusion matrix \n",
        "\n",
        "confusion_matrix=metrics.confusion_matrix(y1_test,svm_pred_male)\n",
        "fig= plot_confusion_matrix(conf_mat=confusion_matrix,cmap=plt.cm.Blues,figsize=(8,8))\n",
        "plt.xlabel('Prediction',fontsize=16)\n",
        "plt.ylabel('Actual',fontsize=16)\n",
        "plt.title('Confusion Matrix',fontsize=16)\n",
        "plt.show() #    TP  FP\n",
        "           #    FN  TN"
      ],
      "execution_count": null,
      "outputs": [
        {
          "output_type": "display_data",
          "data": {
            "image/png": "[encoded data removed]",
            "text/plain": [
              "<Figure size 576x576 with 1 Axes>"
            ]
          },
          "metadata": {}
        }
      ]
    },
    {
      "cell_type": "markdown",
      "metadata": {
        "id": "e6ZTztW33u1I"
      },
      "source": [
        "##DNN Model "
      ]
    },
    {
      "cell_type": "code",
      "metadata": {
        "id": "ZLgiaJ51OsBA"
      },
      "source": [
        "#Using a 10% of training for validation x_train,y_train\n",
        "\n",
        "x1_train_val=x1_train[:1208]\n",
        "y1_train_val=y1_train[:1208]\n",
        "x1_test_val=x1_test\n",
        "y1_test_val=y1_test"
      ],
      "execution_count": null,
      "outputs": []
    },
    {
      "cell_type": "code",
      "metadata": {
        "colab": {
          "base_uri": "https://localhost:8080/"
        },
        "id": "jN9PkkRFX8UF",
        "outputId": "dcadadda-f339-456f-a774-c61490360c9b"
      },
      "source": [
        "x1_train_val.shape,y1_train_val.shape"
      ],
      "execution_count": null,
      "outputs": [
        {
          "output_type": "execute_result",
          "data": {
            "text/plain": [
              "((1208, 13), (1208,))"
            ]
          },
          "metadata": {},
          "execution_count": 87
        }
      ]
    },
    {
      "cell_type": "code",
      "metadata": {
        "id": "Qe7Q59qrYCEm"
      },
      "source": [
        "#Now I will create the model by layers for input which are relu activation functions \n",
        "#and one layer for output which is sigmoid activation function \n",
        "\n",
        "model_male=tf.keras.models.Sequential([\n",
        "                                  tf.keras.layers.Input(shape=(13)),\n",
        "                                  tf.keras.layers.Dense(units=16,activation=tf.nn.relu,kernel_initializer=tf.initializers.he_normal,name='layer_1'),\n",
        "                                  tf.keras.layers.Dense(units=32,activation=tf.nn.relu,kernel_initializer=tf.initializers.he_normal,name='layer_2'),\n",
        "                                  tf.keras.layers.Dense(units=64,activation=tf.nn.relu,kernel_initializer=tf.initializers.he_normal,name='layer_3'),\n",
        "                                  tf.keras.layers.Dense(units=128,activation=tf.nn.relu,kernel_initializer=tf.initializers.he_normal,name='layer_4'),\n",
        "\n",
        "\n",
        "\n",
        "                                  tf.keras.layers.Dense(units=1,activation=tf.nn.sigmoid,name='output')\n",
        "                                  \n",
        "\n",
        "])"
      ],
      "execution_count": null,
      "outputs": []
    },
    {
      "cell_type": "code",
      "metadata": {
        "id": "7ZtfM6_tcE_E"
      },
      "source": [
        "model_male.compile(optimizer=tf.optimizers.Adam(),loss=tf.losses.BinaryCrossentropy(),metrics=['acc'])"
      ],
      "execution_count": null,
      "outputs": []
    },
    {
      "cell_type": "code",
      "metadata": {
        "colab": {
          "base_uri": "https://localhost:8080/"
        },
        "id": "2SfDewKUcLK1",
        "outputId": "56796569-7663-4c95-d7ad-bddcda0bd677"
      },
      "source": [
        "#fit the model for training dataset\n",
        "\n",
        "model_male.fit(x=x1_train,y=y1_train,batch_size=20,epochs=12,validation_data=(x1_train_val,y1_train_val))"
      ],
      "execution_count": null,
      "outputs": [
        {
          "output_type": "stream",
          "name": "stdout",
          "text": [
            "Epoch 1/12\n",
            "605/605 [==============================] - 2s 2ms/step - loss: 0.5174 - acc: 0.7578 - val_loss: 0.4655 - val_acc: 0.7690\n",
            "Epoch 2/12\n",
            "605/605 [==============================] - 1s 2ms/step - loss: 0.4797 - acc: 0.7740 - val_loss: 0.4496 - val_acc: 0.7914\n",
            "Epoch 3/12\n",
            "605/605 [==============================] - 1s 2ms/step - loss: 0.4690 - acc: 0.7791 - val_loss: 0.4487 - val_acc: 0.7773\n",
            "Epoch 4/12\n",
            "605/605 [==============================] - 1s 2ms/step - loss: 0.4645 - acc: 0.7821 - val_loss: 0.4330 - val_acc: 0.7922\n",
            "Epoch 5/12\n",
            "605/605 [==============================] - 1s 2ms/step - loss: 0.4621 - acc: 0.7815 - val_loss: 0.4378 - val_acc: 0.7707\n",
            "Epoch 6/12\n",
            "605/605 [==============================] - 1s 2ms/step - loss: 0.4568 - acc: 0.7866 - val_loss: 0.4266 - val_acc: 0.8005\n",
            "Epoch 7/12\n",
            "605/605 [==============================] - 1s 2ms/step - loss: 0.4554 - acc: 0.7854 - val_loss: 0.4242 - val_acc: 0.7955\n",
            "Epoch 8/12\n",
            "605/605 [==============================] - 1s 2ms/step - loss: 0.4507 - acc: 0.7895 - val_loss: 0.4330 - val_acc: 0.8071\n",
            "Epoch 9/12\n",
            "605/605 [==============================] - 1s 2ms/step - loss: 0.4488 - acc: 0.7910 - val_loss: 0.4131 - val_acc: 0.8022\n",
            "Epoch 10/12\n",
            "605/605 [==============================] - 1s 2ms/step - loss: 0.4458 - acc: 0.7894 - val_loss: 0.4290 - val_acc: 0.8096\n",
            "Epoch 11/12\n",
            "605/605 [==============================] - 1s 2ms/step - loss: 0.4438 - acc: 0.7906 - val_loss: 0.4107 - val_acc: 0.8046\n",
            "Epoch 12/12\n",
            "605/605 [==============================] - 1s 2ms/step - loss: 0.4400 - acc: 0.7966 - val_loss: 0.4076 - val_acc: 0.8046\n"
          ]
        },
        {
          "output_type": "execute_result",
          "data": {
            "text/plain": [
              "<keras.callbacks.History at 0x7f19dd6d0550>"
            ]
          },
          "metadata": {},
          "execution_count": 90
        }
      ]
    },
    {
      "cell_type": "code",
      "metadata": {
        "colab": {
          "base_uri": "https://localhost:8080/",
          "height": 421
        },
        "id": "S3d7QB-NLHDe",
        "outputId": "48da056e-8a48-4c8e-b9d2-0808ddff83f6"
      },
      "source": [
        "_data_male=pd.DataFrame(model_male.history.history)\n",
        "_data_male"
      ],
      "execution_count": null,
      "outputs": [
        {
          "output_type": "execute_result",
          "data": {
            "text/html": [
              "<div>\n",
              "<style scoped>\n",
              "    .dataframe tbody tr th:only-of-type {\n",
              "        vertical-align: middle;\n",
              "    }\n",
              "\n",
              "    .dataframe tbody tr th {\n",
              "        vertical-align: top;\n",
              "    }\n",
              "\n",
              "    .dataframe thead th {\n",
              "        text-align: right;\n",
              "    }\n",
              "</style>\n",
              "<table border=\"1\" class=\"dataframe\">\n",
              "  <thead>\n",
              "    <tr style=\"text-align: right;\">\n",
              "      <th></th>\n",
              "      <th>loss</th>\n",
              "      <th>acc</th>\n",
              "      <th>val_loss</th>\n",
              "      <th>val_acc</th>\n",
              "    </tr>\n",
              "  </thead>\n",
              "  <tbody>\n",
              "    <tr>\n",
              "      <th>0</th>\n",
              "      <td>0.517371</td>\n",
              "      <td>0.757822</td>\n",
              "      <td>0.465513</td>\n",
              "      <td>0.769040</td>\n",
              "    </tr>\n",
              "    <tr>\n",
              "      <th>1</th>\n",
              "      <td>0.479677</td>\n",
              "      <td>0.773961</td>\n",
              "      <td>0.449554</td>\n",
              "      <td>0.791391</td>\n",
              "    </tr>\n",
              "    <tr>\n",
              "      <th>2</th>\n",
              "      <td>0.469003</td>\n",
              "      <td>0.779093</td>\n",
              "      <td>0.448748</td>\n",
              "      <td>0.777318</td>\n",
              "    </tr>\n",
              "    <tr>\n",
              "      <th>3</th>\n",
              "      <td>0.464482</td>\n",
              "      <td>0.782072</td>\n",
              "      <td>0.433015</td>\n",
              "      <td>0.792219</td>\n",
              "    </tr>\n",
              "    <tr>\n",
              "      <th>4</th>\n",
              "      <td>0.462117</td>\n",
              "      <td>0.781493</td>\n",
              "      <td>0.437770</td>\n",
              "      <td>0.770695</td>\n",
              "    </tr>\n",
              "    <tr>\n",
              "      <th>5</th>\n",
              "      <td>0.456793</td>\n",
              "      <td>0.786625</td>\n",
              "      <td>0.426572</td>\n",
              "      <td>0.800497</td>\n",
              "    </tr>\n",
              "    <tr>\n",
              "      <th>6</th>\n",
              "      <td>0.455450</td>\n",
              "      <td>0.785383</td>\n",
              "      <td>0.424196</td>\n",
              "      <td>0.795530</td>\n",
              "    </tr>\n",
              "    <tr>\n",
              "      <th>7</th>\n",
              "      <td>0.450666</td>\n",
              "      <td>0.789522</td>\n",
              "      <td>0.433014</td>\n",
              "      <td>0.807119</td>\n",
              "    </tr>\n",
              "    <tr>\n",
              "      <th>8</th>\n",
              "      <td>0.448756</td>\n",
              "      <td>0.791011</td>\n",
              "      <td>0.413066</td>\n",
              "      <td>0.802152</td>\n",
              "    </tr>\n",
              "    <tr>\n",
              "      <th>9</th>\n",
              "      <td>0.445786</td>\n",
              "      <td>0.789439</td>\n",
              "      <td>0.428956</td>\n",
              "      <td>0.809603</td>\n",
              "    </tr>\n",
              "    <tr>\n",
              "      <th>10</th>\n",
              "      <td>0.443843</td>\n",
              "      <td>0.790598</td>\n",
              "      <td>0.410726</td>\n",
              "      <td>0.804636</td>\n",
              "    </tr>\n",
              "    <tr>\n",
              "      <th>11</th>\n",
              "      <td>0.439971</td>\n",
              "      <td>0.796557</td>\n",
              "      <td>0.407601</td>\n",
              "      <td>0.804636</td>\n",
              "    </tr>\n",
              "  </tbody>\n",
              "</table>\n",
              "</div>"
            ],
            "text/plain": [
              "        loss       acc  val_loss   val_acc\n",
              "0   0.517371  0.757822  0.465513  0.769040\n",
              "1   0.479677  0.773961  0.449554  0.791391\n",
              "2   0.469003  0.779093  0.448748  0.777318\n",
              "3   0.464482  0.782072  0.433015  0.792219\n",
              "4   0.462117  0.781493  0.437770  0.770695\n",
              "5   0.456793  0.786625  0.426572  0.800497\n",
              "6   0.455450  0.785383  0.424196  0.795530\n",
              "7   0.450666  0.789522  0.433014  0.807119\n",
              "8   0.448756  0.791011  0.413066  0.802152\n",
              "9   0.445786  0.789439  0.428956  0.809603\n",
              "10  0.443843  0.790598  0.410726  0.804636\n",
              "11  0.439971  0.796557  0.407601  0.804636"
            ]
          },
          "metadata": {},
          "execution_count": 91
        }
      ]
    },
    {
      "cell_type": "code",
      "metadata": {
        "colab": {
          "base_uri": "https://localhost:8080/",
          "height": 290
        },
        "id": "U8neLB40-ve0",
        "outputId": "d9bb6214-8428-4653-8830-157a497833fb"
      },
      "source": [
        "_data_male[['loss', 'acc','val_loss','val_acc']].plot.line()"
      ],
      "execution_count": null,
      "outputs": [
        {
          "output_type": "execute_result",
          "data": {
            "text/plain": [
              "<matplotlib.axes._subplots.AxesSubplot at 0x7f19d8edeed0>"
            ]
          },
          "metadata": {},
          "execution_count": 92
        },
        {
          "output_type": "display_data",
          "data": {
            "image/png": "[encoded data removed]",
            "text/plain": [
              "<Figure size 432x288 with 1 Axes>"
            ]
          },
          "metadata": {}
        }
      ]
    },
    {
      "cell_type": "code",
      "metadata": {
        "id": "OLDv5NVf_Lvg"
      },
      "source": [
        "dnn_pred_male=model_male.predict(x1_test_val)"
      ],
      "execution_count": null,
      "outputs": []
    },
    {
      "cell_type": "code",
      "metadata": {
        "colab": {
          "base_uri": "https://localhost:8080/"
        },
        "id": "Sr8Mz49lAYfZ",
        "outputId": "d5890244-01c4-42f0-b889-9a51582affbb"
      },
      "source": [
        "print(tf.reduce_mean(tf.keras.metrics.binary_accuracy(y1_test_val,dnn_pred_male)))"
      ],
      "execution_count": null,
      "outputs": [
        {
          "output_type": "stream",
          "name": "stdout",
          "text": [
            "tf.Tensor(0.6764035, shape=(), dtype=float32)\n"
          ]
        }
      ]
    },
    {
      "cell_type": "markdown",
      "metadata": {
        "id": "pMzsxsqPQ08v"
      },
      "source": [
        "DNN not good for this classification model "
      ]
    },
    {
      "cell_type": "markdown",
      "metadata": {
        "id": "ooQiyImItZmI"
      },
      "source": [
        "##Random Forest model"
      ]
    },
    {
      "cell_type": "code",
      "metadata": {
        "id": "ZnDyfBKBteZh",
        "colab": {
          "base_uri": "https://localhost:8080/"
        },
        "outputId": "76d5e100-6651-4dfe-ce66-a9192350a8e9"
      },
      "source": [
        "forest_model_male=RandomForestClassifier() #Classification\n",
        "forest_model_male.fit(x1_train,y1_train) #fit the model for training dataset"
      ],
      "execution_count": null,
      "outputs": [
        {
          "output_type": "execute_result",
          "data": {
            "text/plain": [
              "RandomForestClassifier(bootstrap=True, ccp_alpha=0.0, class_weight=None,\n",
              "                       criterion='gini', max_depth=None, max_features='auto',\n",
              "                       max_leaf_nodes=None, max_samples=None,\n",
              "                       min_impurity_decrease=0.0, min_impurity_split=None,\n",
              "                       min_samples_leaf=1, min_samples_split=2,\n",
              "                       min_weight_fraction_leaf=0.0, n_estimators=100,\n",
              "                       n_jobs=None, oob_score=False, random_state=None,\n",
              "                       verbose=0, warm_start=False)"
            ]
          },
          "metadata": {},
          "execution_count": 95
        }
      ]
    },
    {
      "cell_type": "code",
      "metadata": {
        "id": "5SL7U8tDHfb5"
      },
      "source": [
        "forest_pred_male=forest_model_male.predict(x1_test) #test the model"
      ],
      "execution_count": null,
      "outputs": []
    },
    {
      "cell_type": "code",
      "metadata": {
        "colab": {
          "base_uri": "https://localhost:8080/"
        },
        "id": "c8kUzCpdIGr9",
        "outputId": "41bdaa50-6ca7-47be-b0ac-d03f617a93c7"
      },
      "source": [
        "print(f'precision score is: {metrics.precision_score(y1_test,forest_pred_male)}') #precision=TP/TP+FP\n",
        "print(f'recall score is: {metrics.recall_score(y1_test,forest_pred_male)}') #recall=TP/TP+FN\n",
        "print(f'f1 score is: {metrics.f1_score(y1_test,forest_pred_male)}') #f1=2*precision*recall/precision+recall\n",
        "print(f'accuracy score is: {metrics.accuracy_score(y1_test,forest_pred_male)}') #accuracy=TP+TF/Total Samples"
      ],
      "execution_count": null,
      "outputs": [
        {
          "output_type": "stream",
          "name": "stdout",
          "text": [
            "precision score is: 0.567032967032967\n",
            "recall score is: 0.4053417124901807\n",
            "f1 score is: 0.472743930371049\n",
            "accuracy score is: 0.7777134028582464\n"
          ]
        }
      ]
    },
    {
      "cell_type": "code",
      "metadata": {
        "colab": {
          "base_uri": "https://localhost:8080/",
          "height": 549
        },
        "id": "1590s6VvIhBl",
        "outputId": "76b640b8-3c28-4c74-bff4-4e767185e8f7"
      },
      "source": [
        "#show the confusion matrix \n",
        "\n",
        "confusion_matrix=metrics.confusion_matrix(y1_test,forest_pred_male)\n",
        "fig= plot_confusion_matrix(conf_mat=confusion_matrix,cmap=plt.cm.Blues,figsize=(8,8))\n",
        "plt.xlabel('Prediction',fontsize=16)\n",
        "plt.ylabel('Actual',fontsize=16)\n",
        "plt.title('Confusion Matrix',fontsize=16)\n",
        "plt.show() #    TP  FP\n",
        "           #    FN  TN"
      ],
      "execution_count": null,
      "outputs": [
        {
          "output_type": "display_data",
          "data": {
            "image/png": "[encoded data removed]",
            "text/plain": [
              "<Figure size 576x576 with 1 Axes>"
            ]
          },
          "metadata": {}
        }
      ]
    },
    {
      "cell_type": "markdown",
      "metadata": {
        "id": "l9Ppr2OVee2d"
      },
      "source": [
        "##XGBoost Model"
      ]
    },
    {
      "cell_type": "code",
      "metadata": {
        "colab": {
          "base_uri": "https://localhost:8080/"
        },
        "id": "Y5cao_uqZ7Py",
        "outputId": "640d561f-6bc3-4886-fa0e-44ea0a0230be"
      },
      "source": [
        "xgb_model_male=xgb.XGBClassifier(max_depth=4,\n",
        "                            n_estimators=120,\n",
        "                            scale_pos_weight=1.3,\n",
        "                            base_score=0.1,\n",
        "                            random_state=42)\n",
        "\n",
        "xgb_model_male.fit(x1_train,y1_train)"
      ],
      "execution_count": null,
      "outputs": [
        {
          "output_type": "execute_result",
          "data": {
            "text/plain": [
              "XGBClassifier(base_score=0.1, booster='gbtree', colsample_bylevel=1,\n",
              "              colsample_bynode=1, colsample_bytree=1, gamma=0,\n",
              "              learning_rate=0.1, max_delta_step=0, max_depth=4,\n",
              "              min_child_weight=1, missing=None, n_estimators=120, n_jobs=1,\n",
              "              nthread=None, objective='binary:logistic', random_state=42,\n",
              "              reg_alpha=0, reg_lambda=1, scale_pos_weight=1.3, seed=None,\n",
              "              silent=None, subsample=1, verbosity=1)"
            ]
          },
          "metadata": {},
          "execution_count": 99
        }
      ]
    },
    {
      "cell_type": "code",
      "metadata": {
        "id": "nCjRntfxfRZn"
      },
      "source": [
        "#predict the train and test model\n",
        "\n",
        "xgb_train_pred1=xgb_model_male.predict(x1_train)\n",
        "xgb_test_pred1=xgb_model_male.predict(x1_test)"
      ],
      "execution_count": null,
      "outputs": []
    },
    {
      "cell_type": "code",
      "metadata": {
        "colab": {
          "base_uri": "https://localhost:8080/"
        },
        "id": "CyqQ146tMxYc",
        "outputId": "6f3739b6-7b03-47d6-9de7-11c4a0d05a86"
      },
      "source": [
        "#accuracy score for the train and test model\n",
        "\n",
        "\n",
        "print(f'accuracy train score is: {metrics.accuracy_score(y1_train,xgb_train_pred1)}') #accuracy=TP+TF/Total Samples\n",
        "print(f'accuracy test score is: {metrics.accuracy_score(y1_test,xgb_test_pred1)}') #accuracy=TP+TF/Total Samples"
      ],
      "execution_count": null,
      "outputs": [
        {
          "output_type": "stream",
          "name": "stdout",
          "text": [
            "accuracy train score is: 0.8174143353749379\n",
            "accuracy test score is: 0.8014677481653147\n"
          ]
        }
      ]
    },
    {
      "cell_type": "code",
      "metadata": {
        "colab": {
          "base_uri": "https://localhost:8080/"
        },
        "id": "VAUiPg8zfYu1",
        "outputId": "39871638-2b85-4fd0-e0f4-804d8aca67bb"
      },
      "source": [
        "#precision score,recall score and f1 score for test the model \n",
        "\n",
        "print(f'precision score is: {metrics.precision_score(y1_test,xgb_test_pred1)}') #precision=TP/TP+FP\n",
        "print(f'recall score is: {metrics.recall_score(y1_test,xgb_test_pred1)}') #recall=TP/TP+FN\n",
        "print(f'f1 score is: {metrics.f1_score(y1_test,xgb_test_pred1)}') #f1=2*precision*recall/precision+recall"
      ],
      "execution_count": null,
      "outputs": [
        {
          "output_type": "stream",
          "name": "stdout",
          "text": [
            "precision score is: 0.5924528301886792\n",
            "recall score is: 0.6166535742340927\n",
            "f1 score is: 0.6043110084680523\n"
          ]
        }
      ]
    },
    {
      "cell_type": "code",
      "metadata": {
        "colab": {
          "base_uri": "https://localhost:8080/",
          "height": 549
        },
        "id": "QjuPaZBshEBB",
        "outputId": "9cb3f528-0123-4c73-b19f-637fe2c615ba"
      },
      "source": [
        "#show the confusion matrix \n",
        "\n",
        "confusion_matrix=metrics.confusion_matrix(y1_test,xgb_test_pred1)\n",
        "fig= plot_confusion_matrix(conf_mat=confusion_matrix,cmap=plt.cm.Blues,figsize=(8,8))\n",
        "plt.xlabel('Prediction',fontsize=16)\n",
        "plt.ylabel('Actual',fontsize=16)\n",
        "plt.title('Confusion Matrix',fontsize=16)\n",
        "plt.show() #    TP  FP\n",
        "           #    FN  TN"
      ],
      "execution_count": null,
      "outputs": [
        {
          "output_type": "display_data",
          "data": {
            "image/png": "[encoded data removed]",
            "text/plain": [
              "<Figure size 576x576 with 1 Axes>"
            ]
          },
          "metadata": {}
        }
      ]
    },
    {
      "cell_type": "markdown",
      "metadata": {
        "id": "3vgjtYmXRSCP"
      },
      "source": [
        "XGBoost is the best classification model of the Male."
      ]
    },
    {
      "cell_type": "markdown",
      "metadata": {
        "id": "nNmrLE1_r-GX"
      },
      "source": [
        "#Female Models"
      ]
    },
    {
      "cell_type": "markdown",
      "metadata": {
        "id": "rbnkyAZi4E6W"
      },
      "source": [
        "##preporessing "
      ]
    },
    {
      "cell_type": "code",
      "metadata": {
        "id": "4Ya-ur_q4E6Y"
      },
      "source": [
        "x_female=data_female[['enrollee_id','city_development_index','relevent_experience',\n",
        "       'enrolled_university','education_level','major_discipline','experience',\n",
        "       'company_size','company_type','last_new_job','training_hours','city','gender']]\n",
        "\n",
        "y_female=data_female['target'].values"
      ],
      "execution_count": null,
      "outputs": []
    },
    {
      "cell_type": "code",
      "metadata": {
        "colab": {
          "base_uri": "https://localhost:8080/",
          "height": 439
        },
        "id": "CzKDp_bu4E6Y",
        "outputId": "38192e79-c278-4670-f691-033752495eb6"
      },
      "source": [
        "x_female"
      ],
      "execution_count": null,
      "outputs": [
        {
          "output_type": "execute_result",
          "data": {
            "text/html": [
              "<div>\n",
              "<style scoped>\n",
              "    .dataframe tbody tr th:only-of-type {\n",
              "        vertical-align: middle;\n",
              "    }\n",
              "\n",
              "    .dataframe tbody tr th {\n",
              "        vertical-align: top;\n",
              "    }\n",
              "\n",
              "    .dataframe thead th {\n",
              "        text-align: right;\n",
              "    }\n",
              "</style>\n",
              "<table border=\"1\" class=\"dataframe\">\n",
              "  <thead>\n",
              "    <tr style=\"text-align: right;\">\n",
              "      <th></th>\n",
              "      <th>enrollee_id</th>\n",
              "      <th>city_development_index</th>\n",
              "      <th>relevent_experience</th>\n",
              "      <th>enrolled_university</th>\n",
              "      <th>education_level</th>\n",
              "      <th>major_discipline</th>\n",
              "      <th>experience</th>\n",
              "      <th>company_size</th>\n",
              "      <th>company_type</th>\n",
              "      <th>last_new_job</th>\n",
              "      <th>training_hours</th>\n",
              "      <th>city</th>\n",
              "      <th>gender</th>\n",
              "    </tr>\n",
              "  </thead>\n",
              "  <tbody>\n",
              "    <tr>\n",
              "      <th>19</th>\n",
              "      <td>11399</td>\n",
              "      <td>0.827</td>\n",
              "      <td>0</td>\n",
              "      <td>0.0</td>\n",
              "      <td>0.0</td>\n",
              "      <td>4.0</td>\n",
              "      <td>18</td>\n",
              "      <td>0</td>\n",
              "      <td>0.0</td>\n",
              "      <td>0</td>\n",
              "      <td>132</td>\n",
              "      <td>77</td>\n",
              "      <td>0.0</td>\n",
              "    </tr>\n",
              "    <tr>\n",
              "      <th>32</th>\n",
              "      <td>4324</td>\n",
              "      <td>0.920</td>\n",
              "      <td>1</td>\n",
              "      <td>1.0</td>\n",
              "      <td>0.0</td>\n",
              "      <td>0.0</td>\n",
              "      <td>8</td>\n",
              "      <td>0</td>\n",
              "      <td>0.0</td>\n",
              "      <td>0</td>\n",
              "      <td>24</td>\n",
              "      <td>9</td>\n",
              "      <td>0.0</td>\n",
              "    </tr>\n",
              "    <tr>\n",
              "      <th>33</th>\n",
              "      <td>26966</td>\n",
              "      <td>0.920</td>\n",
              "      <td>0</td>\n",
              "      <td>0.0</td>\n",
              "      <td>0.0</td>\n",
              "      <td>0.0</td>\n",
              "      <td>3</td>\n",
              "      <td>1</td>\n",
              "      <td>0.0</td>\n",
              "      <td>2</td>\n",
              "      <td>82</td>\n",
              "      <td>36</td>\n",
              "      <td>0.0</td>\n",
              "    </tr>\n",
              "    <tr>\n",
              "      <th>40</th>\n",
              "      <td>2547</td>\n",
              "      <td>0.926</td>\n",
              "      <td>0</td>\n",
              "      <td>1.0</td>\n",
              "      <td>1.0</td>\n",
              "      <td>0.0</td>\n",
              "      <td>17</td>\n",
              "      <td>5</td>\n",
              "      <td>2.0</td>\n",
              "      <td>1</td>\n",
              "      <td>14</td>\n",
              "      <td>64</td>\n",
              "      <td>0.0</td>\n",
              "    </tr>\n",
              "    <tr>\n",
              "      <th>45</th>\n",
              "      <td>22452</td>\n",
              "      <td>0.624</td>\n",
              "      <td>1</td>\n",
              "      <td>1.0</td>\n",
              "      <td>1.0</td>\n",
              "      <td>0.0</td>\n",
              "      <td>8</td>\n",
              "      <td>0</td>\n",
              "      <td>0.0</td>\n",
              "      <td>3</td>\n",
              "      <td>26</td>\n",
              "      <td>11</td>\n",
              "      <td>0.0</td>\n",
              "    </tr>\n",
              "    <tr>\n",
              "      <th>...</th>\n",
              "      <td>...</td>\n",
              "      <td>...</td>\n",
              "      <td>...</td>\n",
              "      <td>...</td>\n",
              "      <td>...</td>\n",
              "      <td>...</td>\n",
              "      <td>...</td>\n",
              "      <td>...</td>\n",
              "      <td>...</td>\n",
              "      <td>...</td>\n",
              "      <td>...</td>\n",
              "      <td>...</td>\n",
              "      <td>...</td>\n",
              "    </tr>\n",
              "    <tr>\n",
              "      <th>19056</th>\n",
              "      <td>26961</td>\n",
              "      <td>0.920</td>\n",
              "      <td>0</td>\n",
              "      <td>0.0</td>\n",
              "      <td>0.0</td>\n",
              "      <td>0.0</td>\n",
              "      <td>21</td>\n",
              "      <td>1</td>\n",
              "      <td>0.0</td>\n",
              "      <td>0</td>\n",
              "      <td>44</td>\n",
              "      <td>9</td>\n",
              "      <td>0.0</td>\n",
              "    </tr>\n",
              "    <tr>\n",
              "      <th>19070</th>\n",
              "      <td>26153</td>\n",
              "      <td>0.920</td>\n",
              "      <td>1</td>\n",
              "      <td>0.0</td>\n",
              "      <td>0.0</td>\n",
              "      <td>4.0</td>\n",
              "      <td>13</td>\n",
              "      <td>5</td>\n",
              "      <td>0.0</td>\n",
              "      <td>0</td>\n",
              "      <td>8</td>\n",
              "      <td>9</td>\n",
              "      <td>0.0</td>\n",
              "    </tr>\n",
              "    <tr>\n",
              "      <th>19110</th>\n",
              "      <td>1281</td>\n",
              "      <td>0.920</td>\n",
              "      <td>0</td>\n",
              "      <td>0.0</td>\n",
              "      <td>1.0</td>\n",
              "      <td>0.0</td>\n",
              "      <td>21</td>\n",
              "      <td>6</td>\n",
              "      <td>3.0</td>\n",
              "      <td>0</td>\n",
              "      <td>18</td>\n",
              "      <td>9</td>\n",
              "      <td>0.0</td>\n",
              "    </tr>\n",
              "    <tr>\n",
              "      <th>19150</th>\n",
              "      <td>32313</td>\n",
              "      <td>0.920</td>\n",
              "      <td>0</td>\n",
              "      <td>0.0</td>\n",
              "      <td>0.0</td>\n",
              "      <td>0.0</td>\n",
              "      <td>5</td>\n",
              "      <td>1</td>\n",
              "      <td>2.0</td>\n",
              "      <td>5</td>\n",
              "      <td>23</td>\n",
              "      <td>36</td>\n",
              "      <td>0.0</td>\n",
              "    </tr>\n",
              "    <tr>\n",
              "      <th>19152</th>\n",
              "      <td>29754</td>\n",
              "      <td>0.920</td>\n",
              "      <td>0</td>\n",
              "      <td>0.0</td>\n",
              "      <td>0.0</td>\n",
              "      <td>1.0</td>\n",
              "      <td>20</td>\n",
              "      <td>6</td>\n",
              "      <td>1.0</td>\n",
              "      <td>0</td>\n",
              "      <td>25</td>\n",
              "      <td>9</td>\n",
              "      <td>0.0</td>\n",
              "    </tr>\n",
              "  </tbody>\n",
              "</table>\n",
              "<p>1647 rows × 13 columns</p>\n",
              "</div>"
            ],
            "text/plain": [
              "       enrollee_id  city_development_index  ...  city  gender\n",
              "19           11399                   0.827  ...    77     0.0\n",
              "32            4324                   0.920  ...     9     0.0\n",
              "33           26966                   0.920  ...    36     0.0\n",
              "40            2547                   0.926  ...    64     0.0\n",
              "45           22452                   0.624  ...    11     0.0\n",
              "...            ...                     ...  ...   ...     ...\n",
              "19056        26961                   0.920  ...     9     0.0\n",
              "19070        26153                   0.920  ...     9     0.0\n",
              "19110         1281                   0.920  ...     9     0.0\n",
              "19150        32313                   0.920  ...    36     0.0\n",
              "19152        29754                   0.920  ...     9     0.0\n",
              "\n",
              "[1647 rows x 13 columns]"
            ]
          },
          "metadata": {},
          "execution_count": 105
        }
      ]
    },
    {
      "cell_type": "code",
      "metadata": {
        "colab": {
          "base_uri": "https://localhost:8080/"
        },
        "id": "zAPRvNQ34E6Y",
        "outputId": "ccfc5c1e-ffaa-4249-cc8b-d60bd5a1a7a9"
      },
      "source": [
        "y2=y_female\n",
        "y2.shape"
      ],
      "execution_count": null,
      "outputs": [
        {
          "output_type": "execute_result",
          "data": {
            "text/plain": [
              "(1647,)"
            ]
          },
          "metadata": {},
          "execution_count": 106
        }
      ]
    },
    {
      "cell_type": "code",
      "metadata": {
        "colab": {
          "base_uri": "https://localhost:8080/"
        },
        "id": "Ri4ZC52j4E6Z",
        "outputId": "a72ea8bd-04b6-4656-aab7-3cfe2722a8f1"
      },
      "source": [
        "#y don’t need normalizer because its 0 or 1\n",
        "\n",
        "x_female_normalizer=preprocessing.StandardScaler()\n",
        "new_x_female=x_female_normalizer.fit_transform(x_female)\n",
        "new_x_female"
      ],
      "execution_count": null,
      "outputs": [
        {
          "output_type": "execute_result",
          "data": {
            "text/plain": [
              "array([[-0.61983742, -0.06419789, -0.67068916, ...,  1.09556133,\n",
              "         1.2640276 ,  0.        ],\n",
              "       [-1.39057761,  0.69795173,  1.49100368, ..., -0.70857761,\n",
              "        -0.70342431,  0.        ],\n",
              "       [ 1.07600887,  0.69795173, -0.67068916, ...,  0.26031182,\n",
              "         0.07776983,  0.        ],\n",
              "       ...,\n",
              "       [-1.72207759,  0.69795173, -0.67068916, ..., -0.80880755,\n",
              "        -0.70342431,  0.        ],\n",
              "       [ 1.65850325,  0.69795173, -0.67068916, ..., -0.7252826 ,\n",
              "         0.07776983,  0.        ],\n",
              "       [ 1.37972952,  0.69795173, -0.67068916, ..., -0.69187262,\n",
              "        -0.70342431,  0.        ]])"
            ]
          },
          "metadata": {},
          "execution_count": 107
        }
      ]
    },
    {
      "cell_type": "code",
      "metadata": {
        "colab": {
          "base_uri": "https://localhost:8080/"
        },
        "id": "TLI6k5KnuOaf",
        "outputId": "71e16420-ece4-4f56-e927-19c6e71d7447"
      },
      "source": [
        "x2=new_x_female\n",
        "x2.shape"
      ],
      "execution_count": null,
      "outputs": [
        {
          "output_type": "execute_result",
          "data": {
            "text/plain": [
              "(1647, 13)"
            ]
          },
          "metadata": {},
          "execution_count": 108
        }
      ]
    },
    {
      "cell_type": "markdown",
      "metadata": {
        "id": "iA3oVqX34ZUP"
      },
      "source": [
        "##Testing & training "
      ]
    },
    {
      "cell_type": "code",
      "metadata": {
        "id": "ToqfS9ui4ZUQ"
      },
      "source": [
        "#30% for testing\n",
        "\n",
        "x2_train,x2_test,y2_train,y2_test=model_selection.train_test_split(x2,y2,test_size=0.3,random_state=42,stratify=y2)"
      ],
      "execution_count": null,
      "outputs": []
    },
    {
      "cell_type": "code",
      "metadata": {
        "id": "xpPAko0q4ZUQ",
        "colab": {
          "base_uri": "https://localhost:8080/"
        },
        "outputId": "c0f13189-0827-4fca-8b63-25b18982698a"
      },
      "source": [
        "x2_train.shape,x2_test.shape,y2_train.shape,y2_test.shape"
      ],
      "execution_count": null,
      "outputs": [
        {
          "output_type": "execute_result",
          "data": {
            "text/plain": [
              "((1152, 13), (495, 13), (1152,), (495,))"
            ]
          },
          "metadata": {},
          "execution_count": 110
        }
      ]
    },
    {
      "cell_type": "markdown",
      "metadata": {
        "id": "ageW-bbM4kzr"
      },
      "source": [
        "##Linear model"
      ]
    },
    {
      "cell_type": "code",
      "metadata": {
        "colab": {
          "base_uri": "https://localhost:8080/"
        },
        "id": "qJDlad504kzs",
        "outputId": "6b0d7aac-2fc6-4926-8568-d798366c91af"
      },
      "source": [
        "clf_f=linear_model.LogisticRegressionCV() #Classification\n",
        "clf_f.fit(x2_train,y2_train) #fit the model for training dataset"
      ],
      "execution_count": null,
      "outputs": [
        {
          "output_type": "execute_result",
          "data": {
            "text/plain": [
              "LogisticRegressionCV(Cs=10, class_weight=None, cv=None, dual=False,\n",
              "                     fit_intercept=True, intercept_scaling=1.0, l1_ratios=None,\n",
              "                     max_iter=100, multi_class='auto', n_jobs=None,\n",
              "                     penalty='l2', random_state=None, refit=True, scoring=None,\n",
              "                     solver='lbfgs', tol=0.0001, verbose=0)"
            ]
          },
          "metadata": {},
          "execution_count": 111
        }
      ]
    },
    {
      "cell_type": "code",
      "metadata": {
        "id": "rXjXjUXY4kzs"
      },
      "source": [
        "pred_f=clf_f.predict(x2_test) #test the model"
      ],
      "execution_count": null,
      "outputs": []
    },
    {
      "cell_type": "code",
      "metadata": {
        "colab": {
          "base_uri": "https://localhost:8080/"
        },
        "id": "StD_2z624kzs",
        "outputId": "4fa65f16-9dfa-4653-c3ec-871ea82bb946"
      },
      "source": [
        "print(f'precision score is: {metrics.precision_score(y2_test,pred_f)}') #precision=TP/TP+FP\n",
        "print(f'recall score is: {metrics.recall_score(y2_test,pred_f)}') #recall=TP/TP+FN\n",
        "print(f'f1 score is: {metrics.f1_score(y2_test,pred_f)}') #f1=2*precision*recall/precision+recall\n",
        "print(f'accuracy score is: {metrics.accuracy_score(y2_test,pred_f)}') #accuracy=TP+TF/Total Samples"
      ],
      "execution_count": null,
      "outputs": [
        {
          "output_type": "stream",
          "name": "stdout",
          "text": [
            "precision score is: 0.6326530612244898\n",
            "recall score is: 0.22302158273381295\n",
            "f1 score is: 0.3297872340425532\n",
            "accuracy score is: 0.7454545454545455\n"
          ]
        }
      ]
    },
    {
      "cell_type": "code",
      "metadata": {
        "colab": {
          "base_uri": "https://localhost:8080/",
          "height": 549
        },
        "id": "hgFPYm3S4kzs",
        "outputId": "5bdf419e-8047-42f1-cd4d-f2ecb6506261"
      },
      "source": [
        "#show the confusion matrix \n",
        "\n",
        "confusion_matrix=metrics.confusion_matrix(y2_test,pred_f)\n",
        "fig= plot_confusion_matrix(conf_mat=confusion_matrix,cmap=plt.cm.Greys,figsize=(8,8))\n",
        "plt.xlabel('Prediction',fontsize=16)\n",
        "plt.ylabel('Actual',fontsize=16)\n",
        "plt.title('Confusion Matrix',fontsize=16)\n",
        "plt.show() #    TP  FP\n",
        "           #    FN  TN"
      ],
      "execution_count": null,
      "outputs": [
        {
          "output_type": "display_data",
          "data": {
            "image/png": "[encoded data removed]",
            "text/plain": [
              "<Figure size 576x576 with 1 Axes>"
            ]
          },
          "metadata": {}
        }
      ]
    },
    {
      "cell_type": "markdown",
      "metadata": {
        "id": "il-lexst5BSy"
      },
      "source": [
        "##KNN model"
      ]
    },
    {
      "cell_type": "code",
      "metadata": {
        "colab": {
          "base_uri": "https://localhost:8080/"
        },
        "id": "uTi-ul-J5BSy",
        "outputId": "dea61766-3802-4951-b831-8e759a4c1477"
      },
      "source": [
        "KNN_model_f=neighbors.KNeighborsClassifier(n_neighbors=3) #Classification\n",
        "KNN_model_f.fit(x2_train,y2_train) #fit the model for training dataset"
      ],
      "execution_count": null,
      "outputs": [
        {
          "output_type": "execute_result",
          "data": {
            "text/plain": [
              "KNeighborsClassifier(algorithm='auto', leaf_size=30, metric='minkowski',\n",
              "                     metric_params=None, n_jobs=None, n_neighbors=3, p=2,\n",
              "                     weights='uniform')"
            ]
          },
          "metadata": {},
          "execution_count": 115
        }
      ]
    },
    {
      "cell_type": "code",
      "metadata": {
        "id": "sdKnPyEJ5BSy"
      },
      "source": [
        "knn_pred_f=KNN_model_f.predict(x2_test) #test the model"
      ],
      "execution_count": null,
      "outputs": []
    },
    {
      "cell_type": "code",
      "metadata": {
        "colab": {
          "base_uri": "https://localhost:8080/"
        },
        "id": "ORlmzOG55BSy",
        "outputId": "9d88d5ae-8fb8-4e9a-f2a1-cf0e3ed85e9a"
      },
      "source": [
        "print(f'precision score is: {metrics.precision_score(y2_test,knn_pred_f)}') #precision=TP/TP+FP\n",
        "print(f'recall score is: {metrics.recall_score(y2_test,knn_pred_f)}') #recall=TP/TP+FN\n",
        "print(f'f1 score is: {metrics.f1_score(y2_test,knn_pred_f)}') #f1=2*precision*recall/precision+recall\n",
        "print(f'accuracy score is: {metrics.accuracy_score(y2_test,knn_pred_f)}') #accuracy=TP+TF/Total Samples"
      ],
      "execution_count": null,
      "outputs": [
        {
          "output_type": "stream",
          "name": "stdout",
          "text": [
            "precision score is: 0.5384615384615384\n",
            "recall score is: 0.4028776978417266\n",
            "f1 score is: 0.46090534979423864\n",
            "accuracy score is: 0.7353535353535353\n"
          ]
        }
      ]
    },
    {
      "cell_type": "code",
      "metadata": {
        "colab": {
          "base_uri": "https://localhost:8080/",
          "height": 549
        },
        "id": "YcKm-_Bm5BSz",
        "outputId": "dfa17dc0-dc3a-48ac-dd53-be377b1858a4"
      },
      "source": [
        "#show the confusion matrix \n",
        "\n",
        "confusion_matrix=metrics.confusion_matrix(y2_test,knn_pred_f)\n",
        "fig= plot_confusion_matrix(conf_mat=confusion_matrix,cmap=plt.cm.Greens,figsize=(8,8))\n",
        "plt.xlabel('Prediction',fontsize=16)\n",
        "plt.ylabel('Actual',fontsize=16)\n",
        "plt.title('Confusion Matrix',fontsize=16)\n",
        "plt.show() #    TP  FP\n",
        "           #    FN  TN"
      ],
      "execution_count": null,
      "outputs": [
        {
          "output_type": "display_data",
          "data": {
            "image/png": "[encoded data removed]",
            "text/plain": [
              "<Figure size 576x576 with 1 Axes>"
            ]
          },
          "metadata": {}
        }
      ]
    },
    {
      "cell_type": "markdown",
      "metadata": {
        "id": "D3yC3qFW5ZcE"
      },
      "source": [
        "##Decision Tree model"
      ]
    },
    {
      "cell_type": "code",
      "metadata": {
        "colab": {
          "base_uri": "https://localhost:8080/"
        },
        "id": "NhmsDOm_5ZcF",
        "outputId": "868d793d-1e3a-444f-ac38-1321de984153"
      },
      "source": [
        "tree_model_f=tree.DecisionTreeClassifier() #Classification\n",
        "tree_model_f.fit(x2_train,y2_train) #fit the model for training dataset"
      ],
      "execution_count": null,
      "outputs": [
        {
          "output_type": "execute_result",
          "data": {
            "text/plain": [
              "DecisionTreeClassifier(ccp_alpha=0.0, class_weight=None, criterion='gini',\n",
              "                       max_depth=None, max_features=None, max_leaf_nodes=None,\n",
              "                       min_impurity_decrease=0.0, min_impurity_split=None,\n",
              "                       min_samples_leaf=1, min_samples_split=2,\n",
              "                       min_weight_fraction_leaf=0.0, presort='deprecated',\n",
              "                       random_state=None, splitter='best')"
            ]
          },
          "metadata": {},
          "execution_count": 119
        }
      ]
    },
    {
      "cell_type": "code",
      "metadata": {
        "id": "GBjjr-En5ZcF"
      },
      "source": [
        "tree_pred_f=tree_model_f.predict(x2_test) #test the model"
      ],
      "execution_count": null,
      "outputs": []
    },
    {
      "cell_type": "code",
      "metadata": {
        "colab": {
          "base_uri": "https://localhost:8080/"
        },
        "id": "-uRY43G45ZcF",
        "outputId": "bfa36e04-1bb6-4a89-f022-d40a1485780e"
      },
      "source": [
        "print(f'precision score is: {metrics.precision_score(y2_test,tree_pred_f)}') #precision=TP/TP+FP\n",
        "print(f'recall score is: {metrics.recall_score(y2_test,tree_pred_f)}') #recall=TP/TP+FN\n",
        "print(f'f1 score is: {metrics.f1_score(y2_test,tree_pred_f)}') #f1=2*precision*recall/precision+recall\n",
        "print(f'accuracy score is: {metrics.accuracy_score(y2_test,tree_pred_f)}') #accuracy=TP+TF/Total Samples"
      ],
      "execution_count": null,
      "outputs": [
        {
          "output_type": "stream",
          "name": "stdout",
          "text": [
            "precision score is: 0.45112781954887216\n",
            "recall score is: 0.4316546762589928\n",
            "f1 score is: 0.4411764705882352\n",
            "accuracy score is: 0.692929292929293\n"
          ]
        }
      ]
    },
    {
      "cell_type": "code",
      "metadata": {
        "colab": {
          "base_uri": "https://localhost:8080/",
          "height": 549
        },
        "id": "qSwF-rNR5ZcF",
        "outputId": "0b6d2402-3cc0-41ba-9b23-962f0a02a4af"
      },
      "source": [
        "#show the confusion matrix \n",
        "\n",
        "confusion_matrix=metrics.confusion_matrix(y2_test,tree_pred_f)\n",
        "fig= plot_confusion_matrix(conf_mat=confusion_matrix,cmap=plt.cm.Blues,figsize=(8,8))\n",
        "plt.xlabel('Prediction',fontsize=16)\n",
        "plt.ylabel('Actual',fontsize=16)\n",
        "plt.title('Confusion Matrix',fontsize=16)\n",
        "plt.show() #    TP  FP\n",
        "           #    FN  TN"
      ],
      "execution_count": null,
      "outputs": [
        {
          "output_type": "display_data",
          "data": {
            "image/png": "[encoded data removed]",
            "text/plain": [
              "<Figure size 576x576 with 1 Axes>"
            ]
          },
          "metadata": {}
        }
      ]
    },
    {
      "cell_type": "markdown",
      "metadata": {
        "id": "X0EE92B75vjP"
      },
      "source": [
        "##SVM model"
      ]
    },
    {
      "cell_type": "code",
      "metadata": {
        "colab": {
          "base_uri": "https://localhost:8080/"
        },
        "id": "6CswnpfZ5vjQ",
        "outputId": "10761fe3-c683-46d3-841d-2c9b3c5822c4"
      },
      "source": [
        "svm_model_f=svm.SVC() #Classification\n",
        "svm_model_f.fit(x2_train,y2_train) #fit the model for training dataset"
      ],
      "execution_count": null,
      "outputs": [
        {
          "output_type": "execute_result",
          "data": {
            "text/plain": [
              "SVC(C=1.0, break_ties=False, cache_size=200, class_weight=None, coef0=0.0,\n",
              "    decision_function_shape='ovr', degree=3, gamma='scale', kernel='rbf',\n",
              "    max_iter=-1, probability=False, random_state=None, shrinking=True,\n",
              "    tol=0.001, verbose=False)"
            ]
          },
          "metadata": {},
          "execution_count": 123
        }
      ]
    },
    {
      "cell_type": "code",
      "metadata": {
        "id": "74ro6tDT5vjQ"
      },
      "source": [
        "svm_pred_f=svm_model_f.predict(x2_test) #test the model"
      ],
      "execution_count": null,
      "outputs": []
    },
    {
      "cell_type": "code",
      "metadata": {
        "colab": {
          "base_uri": "https://localhost:8080/"
        },
        "id": "GDOjheoM5vjQ",
        "outputId": "e8f5c1e3-446a-4f43-8ba4-891be42c97f5"
      },
      "source": [
        "print(f'precision score is: {metrics.precision_score(y2_test,svm_pred_f)}') #precision=TP/TP+FP\n",
        "print(f'recall score is: {metrics.recall_score(y2_test,svm_pred_f)}') #recall=TP/TP+FN\n",
        "print(f'f1 score is: {metrics.f1_score(y2_test,svm_pred_f)}') #f1=2*precision*recall/precision+recall\n",
        "print(f'accuracy score is: {metrics.accuracy_score(y2_test,svm_pred_f)}') #accuracy=TP+TF/Total Samples"
      ],
      "execution_count": null,
      "outputs": [
        {
          "output_type": "stream",
          "name": "stdout",
          "text": [
            "precision score is: 0.6470588235294118\n",
            "recall score is: 0.39568345323741005\n",
            "f1 score is: 0.4910714285714285\n",
            "accuracy score is: 0.7696969696969697\n"
          ]
        }
      ]
    },
    {
      "cell_type": "code",
      "metadata": {
        "colab": {
          "base_uri": "https://localhost:8080/",
          "height": 549
        },
        "id": "5K3MqTyH5vjQ",
        "outputId": "a6efec14-4d03-4744-ff07-542feac004eb"
      },
      "source": [
        "#show the confusion matrix \n",
        "\n",
        "confusion_matrix=metrics.confusion_matrix(y2_test,svm_pred_f)\n",
        "fig= plot_confusion_matrix(conf_mat=confusion_matrix,cmap=plt.cm.Blues,figsize=(8,8))\n",
        "plt.xlabel('Prediction',fontsize=16)\n",
        "plt.ylabel('Actual',fontsize=16)\n",
        "plt.title('Confusion Matrix',fontsize=16)\n",
        "plt.show() #    TP  FP\n",
        "           #    FN  TN"
      ],
      "execution_count": null,
      "outputs": [
        {
          "output_type": "display_data",
          "data": {
            "image/png": "[encoded data removed]",
            "text/plain": [
              "<Figure size 576x576 with 1 Axes>"
            ]
          },
          "metadata": {}
        }
      ]
    },
    {
      "cell_type": "markdown",
      "metadata": {
        "id": "_tHJLl1DAraE"
      },
      "source": [
        "##DNN Model "
      ]
    },
    {
      "cell_type": "code",
      "metadata": {
        "id": "5gLpXRmWAraE"
      },
      "source": [
        "#Using a 10% of training for validation x_train,y_train\n",
        "\n",
        "x2_train_val=x2_train[:115]\n",
        "y2_train_val=y2_train[:115]\n",
        "x2_test_val=x2_test\n",
        "y2_test_val=y2_test"
      ],
      "execution_count": null,
      "outputs": []
    },
    {
      "cell_type": "code",
      "metadata": {
        "colab": {
          "base_uri": "https://localhost:8080/"
        },
        "id": "u2TElhwZAraE",
        "outputId": "f8b89740-e83d-4c69-e80d-16de0b49081c"
      },
      "source": [
        "x2_train_val.shape,y2_train_val.shape"
      ],
      "execution_count": null,
      "outputs": [
        {
          "output_type": "execute_result",
          "data": {
            "text/plain": [
              "((115, 13), (115,))"
            ]
          },
          "metadata": {},
          "execution_count": 140
        }
      ]
    },
    {
      "cell_type": "code",
      "metadata": {
        "id": "RHs_E-WmAraF"
      },
      "source": [
        "#Now I will create the model by layers for input which are relu activation functions \n",
        "#and one layer for output which is sigmoid activation function \n",
        "\n",
        "model_female=tf.keras.models.Sequential([\n",
        "                                  tf.keras.layers.Input(shape=(13)),\n",
        "                                  tf.keras.layers.Dense(units=8,activation=tf.nn.relu,kernel_initializer=tf.initializers.he_normal,name='layer_1'),\n",
        "                                  tf.keras.layers.Dense(units=16,activation=tf.nn.relu,kernel_initializer=tf.initializers.he_normal,name='layer_2'),\n",
        "\n",
        "\n",
        "                                  tf.keras.layers.Dense(units=1,activation=tf.nn.sigmoid,name='output')\n",
        "                                  \n",
        "\n",
        "])"
      ],
      "execution_count": null,
      "outputs": []
    },
    {
      "cell_type": "code",
      "metadata": {
        "id": "UHhkDU2PAraF"
      },
      "source": [
        "model_female.compile(optimizer=tf.optimizers.Adam(),loss=tf.losses.BinaryCrossentropy(),metrics=['acc'])"
      ],
      "execution_count": null,
      "outputs": []
    },
    {
      "cell_type": "code",
      "metadata": {
        "colab": {
          "base_uri": "https://localhost:8080/"
        },
        "id": "C-flfvY1AraF",
        "outputId": "bb210f06-8dee-4cdf-9939-83d9074c390f"
      },
      "source": [
        "#fit the model for training dataset\n",
        "\n",
        "model_female.fit(x=x2_train,y=y2_train,batch_size=15,epochs=12,validation_data=(x2_train_val,y2_train_val))"
      ],
      "execution_count": null,
      "outputs": [
        {
          "output_type": "stream",
          "name": "stdout",
          "text": [
            "Epoch 1/12\n",
            "77/77 [==============================] - 0s 2ms/step - loss: 0.4461 - acc: 0.7951 - val_loss: 0.4943 - val_acc: 0.7217\n",
            "Epoch 2/12\n",
            "77/77 [==============================] - 0s 2ms/step - loss: 0.4462 - acc: 0.7995 - val_loss: 0.4934 - val_acc: 0.7217\n",
            "Epoch 3/12\n",
            "77/77 [==============================] - 0s 2ms/step - loss: 0.4453 - acc: 0.7934 - val_loss: 0.4936 - val_acc: 0.7217\n",
            "Epoch 4/12\n",
            "77/77 [==============================] - 0s 2ms/step - loss: 0.4441 - acc: 0.8021 - val_loss: 0.4930 - val_acc: 0.7130\n",
            "Epoch 5/12\n",
            "77/77 [==============================] - 0s 2ms/step - loss: 0.4433 - acc: 0.7969 - val_loss: 0.4920 - val_acc: 0.7130\n",
            "Epoch 6/12\n",
            "77/77 [==============================] - 0s 2ms/step - loss: 0.4427 - acc: 0.7995 - val_loss: 0.4908 - val_acc: 0.7304\n",
            "Epoch 7/12\n",
            "77/77 [==============================] - 0s 2ms/step - loss: 0.4423 - acc: 0.7995 - val_loss: 0.4910 - val_acc: 0.7304\n",
            "Epoch 8/12\n",
            "77/77 [==============================] - 0s 2ms/step - loss: 0.4417 - acc: 0.8038 - val_loss: 0.4894 - val_acc: 0.7478\n",
            "Epoch 9/12\n",
            "77/77 [==============================] - 0s 2ms/step - loss: 0.4403 - acc: 0.7986 - val_loss: 0.4884 - val_acc: 0.7478\n",
            "Epoch 10/12\n",
            "77/77 [==============================] - 0s 2ms/step - loss: 0.4400 - acc: 0.7969 - val_loss: 0.4889 - val_acc: 0.7478\n",
            "Epoch 11/12\n",
            "77/77 [==============================] - 0s 2ms/step - loss: 0.4386 - acc: 0.8012 - val_loss: 0.4862 - val_acc: 0.7478\n",
            "Epoch 12/12\n",
            "77/77 [==============================] - 0s 2ms/step - loss: 0.4387 - acc: 0.8012 - val_loss: 0.4864 - val_acc: 0.7565\n"
          ]
        },
        {
          "output_type": "execute_result",
          "data": {
            "text/plain": [
              "<keras.callbacks.History at 0x7f19dd501990>"
            ]
          },
          "metadata": {},
          "execution_count": 150
        }
      ]
    },
    {
      "cell_type": "code",
      "metadata": {
        "colab": {
          "base_uri": "https://localhost:8080/",
          "height": 421
        },
        "id": "4_35gnGXAraF",
        "outputId": "d37320b1-5360-47bd-91e8-9f88712e9a17"
      },
      "source": [
        "_data_female=pd.DataFrame(model_female.history.history)\n",
        "_data_female"
      ],
      "execution_count": null,
      "outputs": [
        {
          "output_type": "execute_result",
          "data": {
            "text/html": [
              "<div>\n",
              "<style scoped>\n",
              "    .dataframe tbody tr th:only-of-type {\n",
              "        vertical-align: middle;\n",
              "    }\n",
              "\n",
              "    .dataframe tbody tr th {\n",
              "        vertical-align: top;\n",
              "    }\n",
              "\n",
              "    .dataframe thead th {\n",
              "        text-align: right;\n",
              "    }\n",
              "</style>\n",
              "<table border=\"1\" class=\"dataframe\">\n",
              "  <thead>\n",
              "    <tr style=\"text-align: right;\">\n",
              "      <th></th>\n",
              "      <th>loss</th>\n",
              "      <th>acc</th>\n",
              "      <th>val_loss</th>\n",
              "      <th>val_acc</th>\n",
              "    </tr>\n",
              "  </thead>\n",
              "  <tbody>\n",
              "    <tr>\n",
              "      <th>0</th>\n",
              "      <td>0.446129</td>\n",
              "      <td>0.795139</td>\n",
              "      <td>0.494264</td>\n",
              "      <td>0.721739</td>\n",
              "    </tr>\n",
              "    <tr>\n",
              "      <th>1</th>\n",
              "      <td>0.446196</td>\n",
              "      <td>0.799479</td>\n",
              "      <td>0.493445</td>\n",
              "      <td>0.721739</td>\n",
              "    </tr>\n",
              "    <tr>\n",
              "      <th>2</th>\n",
              "      <td>0.445283</td>\n",
              "      <td>0.793403</td>\n",
              "      <td>0.493650</td>\n",
              "      <td>0.721739</td>\n",
              "    </tr>\n",
              "    <tr>\n",
              "      <th>3</th>\n",
              "      <td>0.444100</td>\n",
              "      <td>0.802083</td>\n",
              "      <td>0.493031</td>\n",
              "      <td>0.713043</td>\n",
              "    </tr>\n",
              "    <tr>\n",
              "      <th>4</th>\n",
              "      <td>0.443284</td>\n",
              "      <td>0.796875</td>\n",
              "      <td>0.491998</td>\n",
              "      <td>0.713043</td>\n",
              "    </tr>\n",
              "    <tr>\n",
              "      <th>5</th>\n",
              "      <td>0.442657</td>\n",
              "      <td>0.799479</td>\n",
              "      <td>0.490783</td>\n",
              "      <td>0.730435</td>\n",
              "    </tr>\n",
              "    <tr>\n",
              "      <th>6</th>\n",
              "      <td>0.442282</td>\n",
              "      <td>0.799479</td>\n",
              "      <td>0.491017</td>\n",
              "      <td>0.730435</td>\n",
              "    </tr>\n",
              "    <tr>\n",
              "      <th>7</th>\n",
              "      <td>0.441689</td>\n",
              "      <td>0.803819</td>\n",
              "      <td>0.489355</td>\n",
              "      <td>0.747826</td>\n",
              "    </tr>\n",
              "    <tr>\n",
              "      <th>8</th>\n",
              "      <td>0.440309</td>\n",
              "      <td>0.798611</td>\n",
              "      <td>0.488380</td>\n",
              "      <td>0.747826</td>\n",
              "    </tr>\n",
              "    <tr>\n",
              "      <th>9</th>\n",
              "      <td>0.439992</td>\n",
              "      <td>0.796875</td>\n",
              "      <td>0.488909</td>\n",
              "      <td>0.747826</td>\n",
              "    </tr>\n",
              "    <tr>\n",
              "      <th>10</th>\n",
              "      <td>0.438649</td>\n",
              "      <td>0.801215</td>\n",
              "      <td>0.486195</td>\n",
              "      <td>0.747826</td>\n",
              "    </tr>\n",
              "    <tr>\n",
              "      <th>11</th>\n",
              "      <td>0.438690</td>\n",
              "      <td>0.801215</td>\n",
              "      <td>0.486379</td>\n",
              "      <td>0.756522</td>\n",
              "    </tr>\n",
              "  </tbody>\n",
              "</table>\n",
              "</div>"
            ],
            "text/plain": [
              "        loss       acc  val_loss   val_acc\n",
              "0   0.446129  0.795139  0.494264  0.721739\n",
              "1   0.446196  0.799479  0.493445  0.721739\n",
              "2   0.445283  0.793403  0.493650  0.721739\n",
              "3   0.444100  0.802083  0.493031  0.713043\n",
              "4   0.443284  0.796875  0.491998  0.713043\n",
              "5   0.442657  0.799479  0.490783  0.730435\n",
              "6   0.442282  0.799479  0.491017  0.730435\n",
              "7   0.441689  0.803819  0.489355  0.747826\n",
              "8   0.440309  0.798611  0.488380  0.747826\n",
              "9   0.439992  0.796875  0.488909  0.747826\n",
              "10  0.438649  0.801215  0.486195  0.747826\n",
              "11  0.438690  0.801215  0.486379  0.756522"
            ]
          },
          "metadata": {},
          "execution_count": 151
        }
      ]
    },
    {
      "cell_type": "code",
      "metadata": {
        "colab": {
          "base_uri": "https://localhost:8080/",
          "height": 290
        },
        "id": "mkYFwHUCAraF",
        "outputId": "242b1949-cb37-49ff-e5c4-9bea2125c29f"
      },
      "source": [
        "_data_female[['loss', 'acc','val_loss','val_acc']].plot.line()"
      ],
      "execution_count": null,
      "outputs": [
        {
          "output_type": "execute_result",
          "data": {
            "text/plain": [
              "<matplotlib.axes._subplots.AxesSubplot at 0x7f19dd541110>"
            ]
          },
          "metadata": {},
          "execution_count": 152
        },
        {
          "output_type": "display_data",
          "data": {
            "image/png": "[encoded data removed]",
            "text/plain": [
              "<Figure size 432x288 with 1 Axes>"
            ]
          },
          "metadata": {}
        }
      ]
    },
    {
      "cell_type": "code",
      "metadata": {
        "colab": {
          "base_uri": "https://localhost:8080/"
        },
        "id": "xvRZqcSQBnUf",
        "outputId": "27f1e189-f182-4d7f-8154-b307b135b6e8"
      },
      "source": [
        "dnn_pred_f=model_female.predict(x2_test_val)\n",
        "\n",
        "print(tf.reduce_mean(tf.keras.metrics.binary_accuracy(y2_test_val,dnn_pred_f)))\n"
      ],
      "execution_count": null,
      "outputs": [
        {
          "output_type": "stream",
          "name": "stdout",
          "text": [
            "tf.Tensor(0.63417196, shape=(), dtype=float32)\n"
          ]
        }
      ]
    },
    {
      "cell_type": "markdown",
      "metadata": {
        "id": "dCKzl96V6K7S"
      },
      "source": [
        "##Random Forest model"
      ]
    },
    {
      "cell_type": "code",
      "metadata": {
        "colab": {
          "base_uri": "https://localhost:8080/"
        },
        "id": "eLuybwmk6K7T",
        "outputId": "50072fbf-5200-4876-c03b-c18db997983b"
      },
      "source": [
        "forest_model_f=RandomForestClassifier() #Classification\n",
        "forest_model_f.fit(x2_train,y2_train) #fit the model for training dataset"
      ],
      "execution_count": null,
      "outputs": [
        {
          "output_type": "execute_result",
          "data": {
            "text/plain": [
              "RandomForestClassifier(bootstrap=True, ccp_alpha=0.0, class_weight=None,\n",
              "                       criterion='gini', max_depth=None, max_features='auto',\n",
              "                       max_leaf_nodes=None, max_samples=None,\n",
              "                       min_impurity_decrease=0.0, min_impurity_split=None,\n",
              "                       min_samples_leaf=1, min_samples_split=2,\n",
              "                       min_weight_fraction_leaf=0.0, n_estimators=100,\n",
              "                       n_jobs=None, oob_score=False, random_state=None,\n",
              "                       verbose=0, warm_start=False)"
            ]
          },
          "metadata": {},
          "execution_count": 154
        }
      ]
    },
    {
      "cell_type": "code",
      "metadata": {
        "id": "-6V8U2I76K7T"
      },
      "source": [
        "forest_pred_f=forest_model_f.predict(x2_test) #test the model"
      ],
      "execution_count": null,
      "outputs": []
    },
    {
      "cell_type": "code",
      "metadata": {
        "colab": {
          "base_uri": "https://localhost:8080/"
        },
        "id": "XYMsDG0r6K7T",
        "outputId": "af9bb8f2-57a2-4af3-a7b1-388b4f44d1f3"
      },
      "source": [
        "print(f'precision score is: {metrics.precision_score(y2_test,forest_pred_f)}') #precision=TP/TP+FP\n",
        "print(f'recall score is: {metrics.recall_score(y2_test,forest_pred_f)}') #recall=TP/TP+FN\n",
        "print(f'f1 score is: {metrics.f1_score(y2_test,forest_pred_f)}') #f1=2*precision*recall/precision+recall\n",
        "print(f'accuracy score is: {metrics.accuracy_score(y2_test,forest_pred_f)}') #accuracy=TP+TF/Total Samples"
      ],
      "execution_count": null,
      "outputs": [
        {
          "output_type": "stream",
          "name": "stdout",
          "text": [
            "precision score is: 0.5575221238938053\n",
            "recall score is: 0.45323741007194246\n",
            "f1 score is: 0.5\n",
            "accuracy score is: 0.7454545454545455\n"
          ]
        }
      ]
    },
    {
      "cell_type": "code",
      "metadata": {
        "colab": {
          "base_uri": "https://localhost:8080/",
          "height": 549
        },
        "id": "6RdpRWCa6K7U",
        "outputId": "8182f9a7-7c43-40ba-b47e-9b5616ae9617"
      },
      "source": [
        "#show the confusion matrix \n",
        "\n",
        "confusion_matrix=metrics.confusion_matrix(y2_test,forest_pred_f)\n",
        "fig= plot_confusion_matrix(conf_mat=confusion_matrix,cmap=plt.cm.Blues,figsize=(8,8))\n",
        "plt.xlabel('Prediction',fontsize=16)\n",
        "plt.ylabel('Actual',fontsize=16)\n",
        "plt.title('Confusion Matrix',fontsize=16)\n",
        "plt.show() #    TP  FP\n",
        "           #    FN  TN"
      ],
      "execution_count": null,
      "outputs": [
        {
          "output_type": "display_data",
          "data": {
            "image/png": "[encoded data removed]",
            "text/plain": [
              "<Figure size 576x576 with 1 Axes>"
            ]
          },
          "metadata": {}
        }
      ]
    },
    {
      "cell_type": "markdown",
      "metadata": {
        "id": "SQYBZ4eX6uAI"
      },
      "source": [
        "##XGBoost Model"
      ]
    },
    {
      "cell_type": "code",
      "metadata": {
        "colab": {
          "base_uri": "https://localhost:8080/"
        },
        "id": "F5i8pkxS6uAJ",
        "outputId": "6cd0d317-f8d4-4d7f-e9ff-6523c652d846"
      },
      "source": [
        "xgb_model_f=xgb.XGBClassifier(max_depth=2,learning_rate=0.1,n_estimators=100,random_state=42,verbosity=0,max_delta_step=2,scale_pos_weight=1.3,base_score=0.5)\n",
        "\n",
        "xgb_model_f.fit(x2_train,y2_train)"
      ],
      "execution_count": null,
      "outputs": [
        {
          "output_type": "execute_result",
          "data": {
            "text/plain": [
              "XGBClassifier(base_score=0.5, booster='gbtree', colsample_bylevel=1,\n",
              "              colsample_bynode=1, colsample_bytree=1, gamma=0,\n",
              "              learning_rate=0.1, max_delta_step=2, max_depth=2,\n",
              "              min_child_weight=1, missing=None, n_estimators=100, n_jobs=1,\n",
              "              nthread=None, objective='binary:logistic', random_state=42,\n",
              "              reg_alpha=0, reg_lambda=1, scale_pos_weight=1.3, seed=None,\n",
              "              silent=None, subsample=1, verbosity=0)"
            ]
          },
          "metadata": {},
          "execution_count": 203
        }
      ]
    },
    {
      "cell_type": "code",
      "metadata": {
        "id": "tv0iYtD76uAJ"
      },
      "source": [
        "#predict the train and test model\n",
        "\n",
        "xgb_train_pred_f=xgb_model_f.predict(x2_train)\n",
        "xgb_test_pred_f=xgb_model_f.predict(x2_test)"
      ],
      "execution_count": null,
      "outputs": []
    },
    {
      "cell_type": "code",
      "metadata": {
        "colab": {
          "base_uri": "https://localhost:8080/"
        },
        "id": "sCJyOLYK6uAJ",
        "outputId": "929fe5a0-a55c-46f2-b93b-62970a29e8d9"
      },
      "source": [
        "#accuracy score for the train and test model\n",
        "\n",
        "\n",
        "print(f'accuracy train score is: {metrics.accuracy_score(y2_train,xgb_train_pred_f)}') #accuracy=TP+TF/Total Samples\n",
        "print(f'accuracy test score is: {metrics.accuracy_score(y2_test,xgb_test_pred_f)}') #accuracy=TP+TF/Total Samples"
      ],
      "execution_count": null,
      "outputs": [
        {
          "output_type": "stream",
          "name": "stdout",
          "text": [
            "accuracy train score is: 0.8107638888888888\n",
            "accuracy test score is: 0.7616161616161616\n"
          ]
        }
      ]
    },
    {
      "cell_type": "code",
      "metadata": {
        "colab": {
          "base_uri": "https://localhost:8080/"
        },
        "id": "yDuRSv7c6uAJ",
        "outputId": "d8993672-a796-4a74-c90b-fa5bade7a214"
      },
      "source": [
        "#precision score,recall score and f1 score for test the model \n",
        "\n",
        "print(f'precision score is: {metrics.precision_score(y2_test,xgb_test_pred_f)}') #precision=TP/TP+FP\n",
        "print(f'recall score is: {metrics.recall_score(y2_test,xgb_test_pred_f)}') #recall=TP/TP+FN\n",
        "print(f'f1 score is: {metrics.f1_score(y2_test,xgb_test_pred_f)}') #f1=2*precision*recall/precision+recall"
      ],
      "execution_count": null,
      "outputs": [
        {
          "output_type": "stream",
          "name": "stdout",
          "text": [
            "precision score is: 0.5652173913043478\n",
            "recall score is: 0.6546762589928058\n",
            "f1 score is: 0.6066666666666667\n"
          ]
        }
      ]
    },
    {
      "cell_type": "code",
      "metadata": {
        "colab": {
          "base_uri": "https://localhost:8080/",
          "height": 549
        },
        "id": "wkAXd6vU6uAK",
        "outputId": "7042ba03-ee40-4d40-bb85-ece4be35ac45"
      },
      "source": [
        "#show the confusion matrix \n",
        "\n",
        "confusion_matrix=metrics.confusion_matrix(y2_test,xgb_test_pred_f)\n",
        "fig= plot_confusion_matrix(conf_mat=confusion_matrix,cmap=plt.cm.Blues,figsize=(8,8))\n",
        "plt.xlabel('Prediction',fontsize=16)\n",
        "plt.ylabel('Actual',fontsize=16)\n",
        "plt.title('Confusion Matrix',fontsize=16)\n",
        "plt.show() #    TP  FP\n",
        "           #    FN  TN"
      ],
      "execution_count": null,
      "outputs": [
        {
          "output_type": "display_data",
          "data": {
            "image/png": "[encoded data removed]",
            "text/plain": [
              "<Figure size 576x576 with 1 Axes>"
            ]
          },
          "metadata": {}
        }
      ]
    },
    {
      "cell_type": "markdown",
      "metadata": {
        "id": "JnWHYkM_TVF5"
      },
      "source": [
        "Also XGBoost is the best classification model of the Female "
      ]
    }
  ]
}