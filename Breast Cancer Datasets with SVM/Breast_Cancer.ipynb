{
  "nbformat": 4,
  "nbformat_minor": 2,
  "metadata": {
    "colab": {
      "name": "Breast Cancer",
      "provenance": [],
      "collapsed_sections": []
    },
    "kernelspec": {
      "name": "python3",
      "display_name": "Python 3"
    },
    "language_info": {
      "name": "python"
    }
  },
  "cells": [
    {
      "cell_type": "code",
      "execution_count": 15,
      "source": [
        "import pandas as pd\n",
        "import numpy as np\n",
        "import matplotlib.pyplot as plt\n",
        "from sklearn import datasets,metrics,model_selection,svm,preprocessing\n",
        "from mlxtend.plotting import plot_confusion_matrix"
      ],
      "outputs": [],
      "metadata": {
        "id": "xMuxkJ4Fbavw"
      }
    },
    {
      "cell_type": "code",
      "execution_count": 2,
      "source": [
        "x,y=datasets.load_breast_cancer(return_X_y=True)"
      ],
      "outputs": [],
      "metadata": {
        "id": "z4VO3zjouxCy"
      }
    },
    {
      "cell_type": "code",
      "execution_count": 3,
      "source": [
        "x.shape,y.shape"
      ],
      "outputs": [
        {
          "output_type": "execute_result",
          "data": {
            "text/plain": [
              "((569, 30), (569,))"
            ]
          },
          "metadata": {},
          "execution_count": 3
        }
      ],
      "metadata": {
        "colab": {
          "base_uri": "https://localhost:8080/"
        },
        "id": "hG7AGQZAu2gO",
        "outputId": "4cd1ec03-14b9-4f88-c453-813d3ab2ef36"
      }
    },
    {
      "cell_type": "code",
      "execution_count": 4,
      "source": [
        "y"
      ],
      "outputs": [
        {
          "output_type": "execute_result",
          "data": {
            "text/plain": [
              "array([0, 0, 0, 0, 0, 0, 0, 0, 0, 0, 0, 0, 0, 0, 0, 0, 0, 0, 0, 1, 1, 1,\n",
              "       0, 0, 0, 0, 0, 0, 0, 0, 0, 0, 0, 0, 0, 0, 0, 1, 0, 0, 0, 0, 0, 0,\n",
              "       0, 0, 1, 0, 1, 1, 1, 1, 1, 0, 0, 1, 0, 0, 1, 1, 1, 1, 0, 1, 0, 0,\n",
              "       1, 1, 1, 1, 0, 1, 0, 0, 1, 0, 1, 0, 0, 1, 1, 1, 0, 0, 1, 0, 0, 0,\n",
              "       1, 1, 1, 0, 1, 1, 0, 0, 1, 1, 1, 0, 0, 1, 1, 1, 1, 0, 1, 1, 0, 1,\n",
              "       1, 1, 1, 1, 1, 1, 1, 0, 0, 0, 1, 0, 0, 1, 1, 1, 0, 0, 1, 0, 1, 0,\n",
              "       0, 1, 0, 0, 1, 1, 0, 1, 1, 0, 1, 1, 1, 1, 0, 1, 1, 1, 1, 1, 1, 1,\n",
              "       1, 1, 0, 1, 1, 1, 1, 0, 0, 1, 0, 1, 1, 0, 0, 1, 1, 0, 0, 1, 1, 1,\n",
              "       1, 0, 1, 1, 0, 0, 0, 1, 0, 1, 0, 1, 1, 1, 0, 1, 1, 0, 0, 1, 0, 0,\n",
              "       0, 0, 1, 0, 0, 0, 1, 0, 1, 0, 1, 1, 0, 1, 0, 0, 0, 0, 1, 1, 0, 0,\n",
              "       1, 1, 1, 0, 1, 1, 1, 1, 1, 0, 0, 1, 1, 0, 1, 1, 0, 0, 1, 0, 1, 1,\n",
              "       1, 1, 0, 1, 1, 1, 1, 1, 0, 1, 0, 0, 0, 0, 0, 0, 0, 0, 0, 0, 0, 0,\n",
              "       0, 0, 1, 1, 1, 1, 1, 1, 0, 1, 0, 1, 1, 0, 1, 1, 0, 1, 0, 0, 1, 1,\n",
              "       1, 1, 1, 1, 1, 1, 1, 1, 1, 1, 1, 0, 1, 1, 0, 1, 0, 1, 1, 1, 1, 1,\n",
              "       1, 1, 1, 1, 1, 1, 1, 1, 1, 0, 1, 1, 1, 0, 1, 0, 1, 1, 1, 1, 0, 0,\n",
              "       0, 1, 1, 1, 1, 0, 1, 0, 1, 0, 1, 1, 1, 0, 1, 1, 1, 1, 1, 1, 1, 0,\n",
              "       0, 0, 1, 1, 1, 1, 1, 1, 1, 1, 1, 1, 1, 0, 0, 1, 0, 0, 0, 1, 0, 0,\n",
              "       1, 1, 1, 1, 1, 0, 1, 1, 1, 1, 1, 0, 1, 1, 1, 0, 1, 1, 0, 0, 1, 1,\n",
              "       1, 1, 1, 1, 0, 1, 1, 1, 1, 1, 1, 1, 0, 1, 1, 1, 1, 1, 0, 1, 1, 0,\n",
              "       1, 1, 1, 1, 1, 1, 1, 1, 1, 1, 1, 1, 0, 1, 0, 0, 1, 0, 1, 1, 1, 1,\n",
              "       1, 0, 1, 1, 0, 1, 0, 1, 1, 0, 1, 0, 1, 1, 1, 1, 1, 1, 1, 1, 0, 0,\n",
              "       1, 1, 1, 1, 1, 1, 0, 1, 1, 1, 1, 1, 1, 1, 1, 1, 1, 0, 1, 1, 1, 1,\n",
              "       1, 1, 1, 0, 1, 0, 1, 1, 0, 1, 1, 1, 1, 1, 0, 0, 1, 0, 1, 0, 1, 1,\n",
              "       1, 1, 1, 0, 1, 1, 0, 1, 0, 1, 0, 0, 1, 1, 1, 0, 1, 1, 1, 1, 1, 1,\n",
              "       1, 1, 1, 1, 1, 0, 1, 0, 0, 1, 1, 1, 1, 1, 1, 1, 1, 1, 1, 1, 1, 1,\n",
              "       1, 1, 1, 1, 1, 1, 1, 1, 1, 1, 1, 1, 0, 0, 0, 0, 0, 0, 1])"
            ]
          },
          "metadata": {},
          "execution_count": 4
        }
      ],
      "metadata": {
        "colab": {
          "base_uri": "https://localhost:8080/"
        },
        "id": "dIOwc5tLY_nt",
        "outputId": "2507490e-bdb3-4870-be63-ae19d91c6993"
      }
    },
    {
      "cell_type": "code",
      "execution_count": 5,
      "source": [
        "x_normalizer=preprocessing.StandardScaler()\n",
        "new_x=x_normalizer.fit_transform(x)\n",
        "#y don’t need normalizer because its 0 or 1"
      ],
      "outputs": [],
      "metadata": {
        "id": "YT2IOOeqUh9M"
      }
    },
    {
      "cell_type": "code",
      "execution_count": 6,
      "source": [
        "x_train,x_test,y_train,y_test=model_selection.train_test_split(new_x,y,test_size=0.3,random_state=42,stratify=y) #30% for testing"
      ],
      "outputs": [],
      "metadata": {
        "id": "vIy0_F4K3uoc"
      }
    },
    {
      "cell_type": "code",
      "execution_count": 7,
      "source": [
        "x_train.shape,x_test.shape,y_train.shape,y_test.shape"
      ],
      "outputs": [
        {
          "output_type": "execute_result",
          "data": {
            "text/plain": [
              "((398, 30), (171, 30), (398,), (171,))"
            ]
          },
          "metadata": {},
          "execution_count": 7
        }
      ],
      "metadata": {
        "colab": {
          "base_uri": "https://localhost:8080/"
        },
        "id": "Z2mrbJAx36Ug",
        "outputId": "9e5f04f9-591f-49ff-d28d-bc68cb8e576d"
      }
    },
    {
      "cell_type": "code",
      "execution_count": 8,
      "source": [
        "#SVM\n",
        "svm_model=svm.SVC(kernel='linear',C=0.5)"
      ],
      "outputs": [],
      "metadata": {
        "id": "dOVAgTl_w-XK"
      }
    },
    {
      "cell_type": "code",
      "execution_count": 9,
      "source": [
        "svm_model.fit(x_train,y_train)"
      ],
      "outputs": [
        {
          "output_type": "execute_result",
          "data": {
            "text/plain": [
              "SVC(C=0.5, break_ties=False, cache_size=200, class_weight=None, coef0=0.0,\n",
              "    decision_function_shape='ovr', degree=3, gamma='scale', kernel='linear',\n",
              "    max_iter=-1, probability=False, random_state=None, shrinking=True,\n",
              "    tol=0.001, verbose=False)"
            ]
          },
          "metadata": {},
          "execution_count": 9
        }
      ],
      "metadata": {
        "colab": {
          "base_uri": "https://localhost:8080/"
        },
        "id": "1eb_GwD94Mg0",
        "outputId": "b78d84fd-980c-41fa-90b2-00a18432a415"
      }
    },
    {
      "cell_type": "code",
      "execution_count": 10,
      "source": [
        "pred=svm_model.predict(x_test) #prediction the model"
      ],
      "outputs": [],
      "metadata": {
        "id": "6fuqnBC14Z1v"
      }
    },
    {
      "cell_type": "code",
      "execution_count": 11,
      "source": [
        "print(f'precision score is: {metrics.precision_score(y_test,pred)}') #precision=TP/TP+FP\n",
        "print(f'recall score is: {metrics.recall_score(y_test,pred)}') #recall=TP/TP+FN\n",
        "print(f'f1 score is: {metrics.f1_score(y_test,pred)}')                         #f1=2*precision*recall/precision+recall\n",
        "print(f'Confusion Matrix is: {metrics.confusion_matrix(y_test,pred)}')         #    TP  FP\n",
        "                                                                               #    FN  TN"
      ],
      "outputs": [
        {
          "output_type": "stream",
          "name": "stdout",
          "text": [
            "precision score is: 0.9814814814814815\n",
            "recall score is: 0.9906542056074766\n",
            "f1 score is: 0.986046511627907\n",
            "mean squared error is: 0.017543859649122806\n",
            "accuracy score is: 0.9824561403508771\n",
            "Confusion Matrix is: [[ 62   2]\n",
            " [  1 106]]\n"
          ]
        }
      ],
      "metadata": {
        "colab": {
          "base_uri": "https://localhost:8080/"
        },
        "id": "5s6sYnnV4hek",
        "outputId": "55a0a9d8-2d30-446b-ae8d-9ce70efd7b73"
      }
    },
    {
      "cell_type": "code",
      "execution_count": 30,
      "source": [
        "confusion_matrix=metrics.confusion_matrix(y_test,pred)\n",
        "fig= plot_confusion_matrix(conf_mat=confusion_matrix,cmap=plt.cm.Greens,figsize=(8,8))\n",
        "plt.xlabel('Prediction',fontsize=16)\n",
        "plt.ylabel('Actual',fontsize=16)\n",
        "plt.title('Confusion Matrix',fontsize=16)\n",
        "plt.show()"
      ],
      "outputs": [
        {
          "output_type": "display_data",
          "data": {
            "text/plain": [
              "<Figure size 576x576 with 1 Axes>"
            ],
            "image/png": "[encoded data removed]"
          },
          "metadata": {
            "needs_background": "light"
          }
        }
      ],
      "metadata": {
        "colab": {
          "base_uri": "https://localhost:8080/",
          "height": 542
        },
        "id": "TTihG5BGsj-c",
        "outputId": "39263656-f60d-4987-84e1-ee1f7a2e5335"
      }
    }
  ]
}