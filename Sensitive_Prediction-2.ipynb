{
  "nbformat": 4,
  "nbformat_minor": 0,
  "metadata": {
    "colab": {
      "name": "Sensitive_Prediction",
      "provenance": [],
      "collapsed_sections": [
        "60NKoFRjDgVT"
      ],
      "toc_visible": true
    },
    "kernelspec": {
      "name": "python3",
      "display_name": "Python 3"
    },
    "language_info": {
      "name": "python"
    }
  },
  "cells": [
    {
      "cell_type": "markdown",
      "source": [
        "#df_2"
      ],
      "metadata": {
        "id": "DSJRnQWKIp-L"
      }
    },
    {
      "cell_type": "markdown",
      "source": [
        "##imporing libraries"
      ],
      "metadata": {
        "id": "SO5FRS8rGfgq"
      }
    },
    {
      "cell_type": "code",
      "execution_count": 1,
      "metadata": {
        "id": "LCjM6r7YKOte"
      },
      "outputs": [],
      "source": [
        "import pandas as pd\n",
        "import numpy as np\n",
        "import seaborn as sns\n",
        "import matplotlib.pyplot as plt\n",
        "from sklearn import preprocessing,model_selection,linear_model,metrics,svm,neighbors,tree\n",
        "from mlxtend.plotting import plot_confusion_matrix\n",
        "from sklearn.feature_extraction.text import TfidfVectorizer\n",
        "from sklearn.ensemble import RandomForestClassifier\n",
        "import nltk\n",
        "from nltk.corpus import stopwords\n",
        "from nltk.stem import WordNetLemmatizer\n",
        "import re\n",
        "import string"
      ]
    },
    {
      "cell_type": "markdown",
      "source": [
        "##load csv dataset"
      ],
      "metadata": {
        "id": "T1l0aphNItWj"
      }
    },
    {
      "cell_type": "code",
      "source": [
        "df_2 = pd.read_csv(\"/content/text classification.csv\",encoding='latin-1')\n",
        "df_2"
      ],
      "metadata": {
        "colab": {
          "base_uri": "https://localhost:8080/",
          "height": 419
        },
        "id": "7EiHV6mwIr4Y",
        "outputId": "232d5fe4-58d9-47ec-e38b-9d3655300a17"
      },
      "execution_count": 2,
      "outputs": [
        {
          "output_type": "execute_result",
          "data": {
            "text/html": [
              "\n",
              "  <div id=\"df-c2bfcd66-1814-4fca-933f-bdac2d025031\">\n",
              "    <div class=\"colab-df-container\">\n",
              "      <div>\n",
              "<style scoped>\n",
              "    .dataframe tbody tr th:only-of-type {\n",
              "        vertical-align: middle;\n",
              "    }\n",
              "\n",
              "    .dataframe tbody tr th {\n",
              "        vertical-align: top;\n",
              "    }\n",
              "\n",
              "    .dataframe thead th {\n",
              "        text-align: right;\n",
              "    }\n",
              "</style>\n",
              "<table border=\"1\" class=\"dataframe\">\n",
              "  <thead>\n",
              "    <tr style=\"text-align: right;\">\n",
              "      <th></th>\n",
              "      <th>twitte</th>\n",
              "      <th>class</th>\n",
              "    </tr>\n",
              "  </thead>\n",
              "  <tbody>\n",
              "    <tr>\n",
              "      <th>0</th>\n",
              "      <td>I'm 23 today.</td>\n",
              "      <td>sensitive</td>\n",
              "    </tr>\n",
              "    <tr>\n",
              "      <th>1</th>\n",
              "      <td>I'm happy to be 18 years old.</td>\n",
              "      <td>sensitive</td>\n",
              "    </tr>\n",
              "    <tr>\n",
              "      <th>2</th>\n",
              "      <td>My birthday is 30 March 1992.</td>\n",
              "      <td>sensitive</td>\n",
              "    </tr>\n",
              "    <tr>\n",
              "      <th>3</th>\n",
              "      <td>Guess what? I'm 25 years old.</td>\n",
              "      <td>sensitive</td>\n",
              "    </tr>\n",
              "    <tr>\n",
              "      <th>4</th>\n",
              "      <td>Today my daughter is 16 years old.</td>\n",
              "      <td>sensitive</td>\n",
              "    </tr>\n",
              "    <tr>\n",
              "      <th>...</th>\n",
              "      <td>...</td>\n",
              "      <td>...</td>\n",
              "    </tr>\n",
              "    <tr>\n",
              "      <th>1391</th>\n",
              "      <td>The senior is one of the most decorated male t...</td>\n",
              "      <td>not sensitive</td>\n",
              "    </tr>\n",
              "    <tr>\n",
              "      <th>1392</th>\n",
              "      <td>2020 COULD be your year to get moving and chan...</td>\n",
              "      <td>not sensitive</td>\n",
              "    </tr>\n",
              "    <tr>\n",
              "      <th>1393</th>\n",
              "      <td>RT @MailSport: 'I thought you liked yellow on ...</td>\n",
              "      <td>not sensitive</td>\n",
              "    </tr>\n",
              "    <tr>\n",
              "      <th>1394</th>\n",
              "      <td>RT @BBCSport: ?? \\n\\nTennis greats played toge...</td>\n",
              "      <td>not sensitive</td>\n",
              "    </tr>\n",
              "    <tr>\n",
              "      <th>1395</th>\n",
              "      <td>RT @MattRacquet: A thread on hard court slidin...</td>\n",
              "      <td>not sensitive</td>\n",
              "    </tr>\n",
              "  </tbody>\n",
              "</table>\n",
              "<p>1396 rows × 2 columns</p>\n",
              "</div>\n",
              "      <button class=\"colab-df-convert\" onclick=\"convertToInteractive('df-c2bfcd66-1814-4fca-933f-bdac2d025031')\"\n",
              "              title=\"Convert this dataframe to an interactive table.\"\n",
              "              style=\"display:none;\">\n",
              "        \n",
              "  <svg xmlns=\"http://www.w3.org/2000/svg\" height=\"24px\"viewBox=\"0 0 24 24\"\n",
              "       width=\"24px\">\n",
              "    <path d=\"M0 0h24v24H0V0z\" fill=\"none\"/>\n",
              "    <path d=\"M18.56 5.44l.94 2.06.94-2.06 2.06-.94-2.06-.94-.94-2.06-.94 2.06-2.06.94zm-11 1L8.5 8.5l.94-2.06 2.06-.94-2.06-.94L8.5 2.5l-.94 2.06-2.06.94zm10 10l.94 2.06.94-2.06 2.06-.94-2.06-.94-.94-2.06-.94 2.06-2.06.94z\"/><path d=\"M17.41 7.96l-1.37-1.37c-.4-.4-.92-.59-1.43-.59-.52 0-1.04.2-1.43.59L10.3 9.45l-7.72 7.72c-.78.78-.78 2.05 0 2.83L4 21.41c.39.39.9.59 1.41.59.51 0 1.02-.2 1.41-.59l7.78-7.78 2.81-2.81c.8-.78.8-2.07 0-2.86zM5.41 20L4 18.59l7.72-7.72 1.47 1.35L5.41 20z\"/>\n",
              "  </svg>\n",
              "      </button>\n",
              "      \n",
              "  <style>\n",
              "    .colab-df-container {\n",
              "      display:flex;\n",
              "      flex-wrap:wrap;\n",
              "      gap: 12px;\n",
              "    }\n",
              "\n",
              "    .colab-df-convert {\n",
              "      background-color: #E8F0FE;\n",
              "      border: none;\n",
              "      border-radius: 50%;\n",
              "      cursor: pointer;\n",
              "      display: none;\n",
              "      fill: #1967D2;\n",
              "      height: 32px;\n",
              "      padding: 0 0 0 0;\n",
              "      width: 32px;\n",
              "    }\n",
              "\n",
              "    .colab-df-convert:hover {\n",
              "      background-color: #E2EBFA;\n",
              "      box-shadow: 0px 1px 2px rgba(60, 64, 67, 0.3), 0px 1px 3px 1px rgba(60, 64, 67, 0.15);\n",
              "      fill: #174EA6;\n",
              "    }\n",
              "\n",
              "    [theme=dark] .colab-df-convert {\n",
              "      background-color: #3B4455;\n",
              "      fill: #D2E3FC;\n",
              "    }\n",
              "\n",
              "    [theme=dark] .colab-df-convert:hover {\n",
              "      background-color: #434B5C;\n",
              "      box-shadow: 0px 1px 3px 1px rgba(0, 0, 0, 0.15);\n",
              "      filter: drop-shadow(0px 1px 2px rgba(0, 0, 0, 0.3));\n",
              "      fill: #FFFFFF;\n",
              "    }\n",
              "  </style>\n",
              "\n",
              "      <script>\n",
              "        const buttonEl =\n",
              "          document.querySelector('#df-c2bfcd66-1814-4fca-933f-bdac2d025031 button.colab-df-convert');\n",
              "        buttonEl.style.display =\n",
              "          google.colab.kernel.accessAllowed ? 'block' : 'none';\n",
              "\n",
              "        async function convertToInteractive(key) {\n",
              "          const element = document.querySelector('#df-c2bfcd66-1814-4fca-933f-bdac2d025031');\n",
              "          const dataTable =\n",
              "            await google.colab.kernel.invokeFunction('convertToInteractive',\n",
              "                                                     [key], {});\n",
              "          if (!dataTable) return;\n",
              "\n",
              "          const docLinkHtml = 'Like what you see? Visit the ' +\n",
              "            '<a target=\"_blank\" href=https://colab.research.google.com/notebooks/data_table.ipynb>data table notebook</a>'\n",
              "            + ' to learn more about interactive tables.';\n",
              "          element.innerHTML = '';\n",
              "          dataTable['output_type'] = 'display_data';\n",
              "          await google.colab.output.renderOutput(dataTable, element);\n",
              "          const docLink = document.createElement('div');\n",
              "          docLink.innerHTML = docLinkHtml;\n",
              "          element.appendChild(docLink);\n",
              "        }\n",
              "      </script>\n",
              "    </div>\n",
              "  </div>\n",
              "  "
            ],
            "text/plain": [
              "                                                 twitte          class\n",
              "0                                         I'm 23 today.      sensitive\n",
              "1                         I'm happy to be 18 years old.      sensitive\n",
              "2                         My birthday is 30 March 1992.      sensitive\n",
              "3                         Guess what? I'm 25 years old.      sensitive\n",
              "4                    Today my daughter is 16 years old.      sensitive\n",
              "...                                                 ...            ...\n",
              "1391  The senior is one of the most decorated male t...  not sensitive\n",
              "1392  2020 COULD be your year to get moving and chan...  not sensitive\n",
              "1393  RT @MailSport: 'I thought you liked yellow on ...  not sensitive\n",
              "1394  RT @BBCSport: ?? \\n\\nTennis greats played toge...  not sensitive\n",
              "1395  RT @MattRacquet: A thread on hard court slidin...  not sensitive\n",
              "\n",
              "[1396 rows x 2 columns]"
            ]
          },
          "metadata": {},
          "execution_count": 2
        }
      ]
    },
    {
      "cell_type": "code",
      "source": [
        "df_2.shape"
      ],
      "metadata": {
        "colab": {
          "base_uri": "https://localhost:8080/"
        },
        "id": "N2SF5XIlZ_1_",
        "outputId": "be7eb73b-e3fd-4703-e6b8-2daf31422b22"
      },
      "execution_count": 3,
      "outputs": [
        {
          "output_type": "execute_result",
          "data": {
            "text/plain": [
              "(1396, 2)"
            ]
          },
          "metadata": {},
          "execution_count": 3
        }
      ]
    },
    {
      "cell_type": "code",
      "source": [
        "df_2.isnull().sum()"
      ],
      "metadata": {
        "colab": {
          "base_uri": "https://localhost:8080/"
        },
        "id": "U00O9PGdaC0_",
        "outputId": "1156e877-f679-496d-8c47-331561de2b5e"
      },
      "execution_count": 4,
      "outputs": [
        {
          "output_type": "execute_result",
          "data": {
            "text/plain": [
              "twitte    0\n",
              "class     0\n",
              "dtype: int64"
            ]
          },
          "metadata": {},
          "execution_count": 4
        }
      ]
    },
    {
      "cell_type": "code",
      "source": [
        "df_2.info()"
      ],
      "metadata": {
        "colab": {
          "base_uri": "https://localhost:8080/"
        },
        "id": "UnuhgVz2aVku",
        "outputId": "068d1958-f0ac-4d9f-cdb8-eeb93da3447c"
      },
      "execution_count": 5,
      "outputs": [
        {
          "output_type": "stream",
          "name": "stdout",
          "text": [
            "<class 'pandas.core.frame.DataFrame'>\n",
            "RangeIndex: 1396 entries, 0 to 1395\n",
            "Data columns (total 2 columns):\n",
            " #   Column  Non-Null Count  Dtype \n",
            "---  ------  --------------  ----- \n",
            " 0   twitte  1396 non-null   object\n",
            " 1   class   1396 non-null   object\n",
            "dtypes: object(2)\n",
            "memory usage: 21.9+ KB\n"
          ]
        }
      ]
    },
    {
      "cell_type": "code",
      "source": [
        "df_2['twitte'].head(10)"
      ],
      "metadata": {
        "colab": {
          "base_uri": "https://localhost:8080/"
        },
        "id": "ECOh8asFaaet",
        "outputId": "30d68c19-7322-4a69-c3d2-63f5337a62af"
      },
      "execution_count": 6,
      "outputs": [
        {
          "output_type": "execute_result",
          "data": {
            "text/plain": [
              "0                                        I'm 23 today.\n",
              "1                        I'm happy to be 18 years old.\n",
              "2                        My birthday is 30 March 1992.\n",
              "3                        Guess what? I'm 25 years old.\n",
              "4                   Today my daughter is 16 years old.\n",
              "5                Next Monday, get in at the age of 50.\n",
              "6    Next Friday is my birthday, and I'm 40 years old.\n",
              "7                          My daughter is 6 years old.\n",
              "8                             My wife is 36 years old.\n",
              "9                                    I'm 20 years old.\n",
              "Name: twitte, dtype: object"
            ]
          },
          "metadata": {},
          "execution_count": 6
        }
      ]
    },
    {
      "cell_type": "markdown",
      "source": [
        "##Frac = 1"
      ],
      "metadata": {
        "id": "60NKoFRjDgVT"
      }
    },
    {
      "cell_type": "code",
      "source": [
        "df_2.sample(frac=1)"
      ],
      "metadata": {
        "colab": {
          "base_uri": "https://localhost:8080/",
          "height": 419
        },
        "id": "9XHrl-Zvai6m",
        "outputId": "541555d7-b952-40d4-d879-2191a305433c"
      },
      "execution_count": 7,
      "outputs": [
        {
          "output_type": "execute_result",
          "data": {
            "text/html": [
              "\n",
              "  <div id=\"df-6dc756f4-bef2-41f8-999e-bf5ee4373fc1\">\n",
              "    <div class=\"colab-df-container\">\n",
              "      <div>\n",
              "<style scoped>\n",
              "    .dataframe tbody tr th:only-of-type {\n",
              "        vertical-align: middle;\n",
              "    }\n",
              "\n",
              "    .dataframe tbody tr th {\n",
              "        vertical-align: top;\n",
              "    }\n",
              "\n",
              "    .dataframe thead th {\n",
              "        text-align: right;\n",
              "    }\n",
              "</style>\n",
              "<table border=\"1\" class=\"dataframe\">\n",
              "  <thead>\n",
              "    <tr style=\"text-align: right;\">\n",
              "      <th></th>\n",
              "      <th>twitte</th>\n",
              "      <th>class</th>\n",
              "    </tr>\n",
              "  </thead>\n",
              "  <tbody>\n",
              "    <tr>\n",
              "      <th>123</th>\n",
              "      <td>My vacation is Tuesday.</td>\n",
              "      <td>sensitive</td>\n",
              "    </tr>\n",
              "    <tr>\n",
              "      <th>367</th>\n",
              "      <td>@miller_cricket @AliIftekhar1 @ESPNcricinfo no...</td>\n",
              "      <td>not sensitive</td>\n",
              "    </tr>\n",
              "    <tr>\n",
              "      <th>1053</th>\n",
              "      <td>RT @nancylevine: @gregolear Trumps words abou...</td>\n",
              "      <td>not sensitive</td>\n",
              "    </tr>\n",
              "    <tr>\n",
              "      <th>766</th>\n",
              "      <td>RT @LymeScience: Did you know that the CDC doc...</td>\n",
              "      <td>not sensitive</td>\n",
              "    </tr>\n",
              "    <tr>\n",
              "      <th>509</th>\n",
              "      <td>RT @YGlSFAM: to all my wakanda squads and thos...</td>\n",
              "      <td>not sensitive</td>\n",
              "    </tr>\n",
              "    <tr>\n",
              "      <th>...</th>\n",
              "      <td>...</td>\n",
              "      <td>...</td>\n",
              "    </tr>\n",
              "    <tr>\n",
              "      <th>245</th>\n",
              "      <td>@daniel86cricket @OfficialSLC i think bcci has...</td>\n",
              "      <td>not sensitive</td>\n",
              "    </tr>\n",
              "    <tr>\n",
              "      <th>278</th>\n",
              "      <td>RT @UmarKhalidJNU: Brilliant, Amazing. \\n\\nKud...</td>\n",
              "      <td>not sensitive</td>\n",
              "    </tr>\n",
              "    <tr>\n",
              "      <th>1093</th>\n",
              "      <td>RT @MSNBC: Michael Flynn files to withdraw his...</td>\n",
              "      <td>not sensitive</td>\n",
              "    </tr>\n",
              "    <tr>\n",
              "      <th>411</th>\n",
              "      <td>RT @TBO_Updates: So called a BO website postin...</td>\n",
              "      <td>not sensitive</td>\n",
              "    </tr>\n",
              "    <tr>\n",
              "      <th>1352</th>\n",
              "      <td>Australian Open: Serena Williams seeks 24th Gr...</td>\n",
              "      <td>not sensitive</td>\n",
              "    </tr>\n",
              "  </tbody>\n",
              "</table>\n",
              "<p>1396 rows × 2 columns</p>\n",
              "</div>\n",
              "      <button class=\"colab-df-convert\" onclick=\"convertToInteractive('df-6dc756f4-bef2-41f8-999e-bf5ee4373fc1')\"\n",
              "              title=\"Convert this dataframe to an interactive table.\"\n",
              "              style=\"display:none;\">\n",
              "        \n",
              "  <svg xmlns=\"http://www.w3.org/2000/svg\" height=\"24px\"viewBox=\"0 0 24 24\"\n",
              "       width=\"24px\">\n",
              "    <path d=\"M0 0h24v24H0V0z\" fill=\"none\"/>\n",
              "    <path d=\"M18.56 5.44l.94 2.06.94-2.06 2.06-.94-2.06-.94-.94-2.06-.94 2.06-2.06.94zm-11 1L8.5 8.5l.94-2.06 2.06-.94-2.06-.94L8.5 2.5l-.94 2.06-2.06.94zm10 10l.94 2.06.94-2.06 2.06-.94-2.06-.94-.94-2.06-.94 2.06-2.06.94z\"/><path d=\"M17.41 7.96l-1.37-1.37c-.4-.4-.92-.59-1.43-.59-.52 0-1.04.2-1.43.59L10.3 9.45l-7.72 7.72c-.78.78-.78 2.05 0 2.83L4 21.41c.39.39.9.59 1.41.59.51 0 1.02-.2 1.41-.59l7.78-7.78 2.81-2.81c.8-.78.8-2.07 0-2.86zM5.41 20L4 18.59l7.72-7.72 1.47 1.35L5.41 20z\"/>\n",
              "  </svg>\n",
              "      </button>\n",
              "      \n",
              "  <style>\n",
              "    .colab-df-container {\n",
              "      display:flex;\n",
              "      flex-wrap:wrap;\n",
              "      gap: 12px;\n",
              "    }\n",
              "\n",
              "    .colab-df-convert {\n",
              "      background-color: #E8F0FE;\n",
              "      border: none;\n",
              "      border-radius: 50%;\n",
              "      cursor: pointer;\n",
              "      display: none;\n",
              "      fill: #1967D2;\n",
              "      height: 32px;\n",
              "      padding: 0 0 0 0;\n",
              "      width: 32px;\n",
              "    }\n",
              "\n",
              "    .colab-df-convert:hover {\n",
              "      background-color: #E2EBFA;\n",
              "      box-shadow: 0px 1px 2px rgba(60, 64, 67, 0.3), 0px 1px 3px 1px rgba(60, 64, 67, 0.15);\n",
              "      fill: #174EA6;\n",
              "    }\n",
              "\n",
              "    [theme=dark] .colab-df-convert {\n",
              "      background-color: #3B4455;\n",
              "      fill: #D2E3FC;\n",
              "    }\n",
              "\n",
              "    [theme=dark] .colab-df-convert:hover {\n",
              "      background-color: #434B5C;\n",
              "      box-shadow: 0px 1px 3px 1px rgba(0, 0, 0, 0.15);\n",
              "      filter: drop-shadow(0px 1px 2px rgba(0, 0, 0, 0.3));\n",
              "      fill: #FFFFFF;\n",
              "    }\n",
              "  </style>\n",
              "\n",
              "      <script>\n",
              "        const buttonEl =\n",
              "          document.querySelector('#df-6dc756f4-bef2-41f8-999e-bf5ee4373fc1 button.colab-df-convert');\n",
              "        buttonEl.style.display =\n",
              "          google.colab.kernel.accessAllowed ? 'block' : 'none';\n",
              "\n",
              "        async function convertToInteractive(key) {\n",
              "          const element = document.querySelector('#df-6dc756f4-bef2-41f8-999e-bf5ee4373fc1');\n",
              "          const dataTable =\n",
              "            await google.colab.kernel.invokeFunction('convertToInteractive',\n",
              "                                                     [key], {});\n",
              "          if (!dataTable) return;\n",
              "\n",
              "          const docLinkHtml = 'Like what you see? Visit the ' +\n",
              "            '<a target=\"_blank\" href=https://colab.research.google.com/notebooks/data_table.ipynb>data table notebook</a>'\n",
              "            + ' to learn more about interactive tables.';\n",
              "          element.innerHTML = '';\n",
              "          dataTable['output_type'] = 'display_data';\n",
              "          await google.colab.output.renderOutput(dataTable, element);\n",
              "          const docLink = document.createElement('div');\n",
              "          docLink.innerHTML = docLinkHtml;\n",
              "          element.appendChild(docLink);\n",
              "        }\n",
              "      </script>\n",
              "    </div>\n",
              "  </div>\n",
              "  "
            ],
            "text/plain": [
              "                                                 twitte          class\n",
              "123                             My vacation is Tuesday.      sensitive\n",
              "367   @miller_cricket @AliIftekhar1 @ESPNcricinfo no...  not sensitive\n",
              "1053  RT @nancylevine: @gregolear Trumps words abou...  not sensitive\n",
              "766   RT @LymeScience: Did you know that the CDC doc...  not sensitive\n",
              "509   RT @YGlSFAM: to all my wakanda squads and thos...  not sensitive\n",
              "...                                                 ...            ...\n",
              "245   @daniel86cricket @OfficialSLC i think bcci has...  not sensitive\n",
              "278   RT @UmarKhalidJNU: Brilliant, Amazing. \\n\\nKud...  not sensitive\n",
              "1093  RT @MSNBC: Michael Flynn files to withdraw his...  not sensitive\n",
              "411   RT @TBO_Updates: So called a BO website postin...  not sensitive\n",
              "1352  Australian Open: Serena Williams seeks 24th Gr...  not sensitive\n",
              "\n",
              "[1396 rows x 2 columns]"
            ]
          },
          "metadata": {},
          "execution_count": 7
        }
      ]
    },
    {
      "cell_type": "markdown",
      "source": [
        "##show the relationship between class and twitte"
      ],
      "metadata": {
        "id": "RWeAFnKgDmmw"
      }
    },
    {
      "cell_type": "code",
      "source": [
        "sns.set(font_scale=1.4)\n",
        "df_2['class'].value_counts().plot(kind='bar', figsize=(7, 6), rot=0)\n",
        "plt.xlabel(\"class\", labelpad=14)\n",
        "plt.ylabel(\"twitte\", labelpad=14)"
      ],
      "metadata": {
        "colab": {
          "base_uri": "https://localhost:8080/",
          "height": 431
        },
        "id": "XuhRVKRGcQYl",
        "outputId": "5a886a34-b444-4cc2-d806-6d09e5774353"
      },
      "execution_count": 8,
      "outputs": [
        {
          "output_type": "execute_result",
          "data": {
            "text/plain": [
              "Text(0, 0.5, 'twitte')"
            ]
          },
          "metadata": {},
          "execution_count": 8
        },
        {
          "output_type": "display_data",
          "data": {
            "image/png": "[encoded data removed]",
            "text/plain": [
              "<Figure size 504x432 with 1 Axes>"
            ]
          },
          "metadata": {}
        }
      ]
    },
    {
      "cell_type": "markdown",
      "source": [
        "##WordNetLemmatizer"
      ],
      "metadata": {
        "id": "PH8XH-tMmu2t"
      }
    },
    {
      "cell_type": "code",
      "source": [
        "nltk.download(\"stopwords\")"
      ],
      "metadata": {
        "colab": {
          "base_uri": "https://localhost:8080/"
        },
        "id": "8jxCUVF-nhYf",
        "outputId": "06421dd7-3c99-4d31-9bda-d9c5f87115a5"
      },
      "execution_count": 9,
      "outputs": [
        {
          "output_type": "stream",
          "name": "stdout",
          "text": [
            "[nltk_data] Downloading package stopwords to /root/nltk_data...\n",
            "[nltk_data]   Unzipping corpora/stopwords.zip.\n"
          ]
        },
        {
          "output_type": "execute_result",
          "data": {
            "text/plain": [
              "True"
            ]
          },
          "metadata": {},
          "execution_count": 9
        }
      ]
    },
    {
      "cell_type": "code",
      "source": [
        "stop_words2 = set(stopwords.words('english'))\n",
        "print(stop_words2)"
      ],
      "metadata": {
        "colab": {
          "base_uri": "https://localhost:8080/"
        },
        "id": "_nIZdMYlnnzp",
        "outputId": "0c8dff7b-9a49-4eb3-c30f-d1bf81bd93fd"
      },
      "execution_count": 10,
      "outputs": [
        {
          "output_type": "stream",
          "name": "stdout",
          "text": [
            "{'wouldn', 'what', 'won', 'off', 'ourselves', 'our', 'does', 'needn', 'through', 'was', 'which', 'then', 'to', 'from', 'has', 'in', 'himself', 'couldn', 'is', 'the', 'here', 'should', 'such', 'few', 'him', 'by', 'why', 'll', 'yourselves', 'o', \"mustn't\", 'weren', 'had', 'd', 'hadn', 'more', \"haven't\", \"that'll\", 'ma', 'will', 'own', 'each', \"shouldn't\", 'into', 'so', 'over', 'below', \"won't\", 'mustn', \"weren't\", 'about', \"couldn't\", 'did', 'doing', \"it's\", 'doesn', 'didn', 'been', 'yourself', 'again', 'while', 'shouldn', 'herself', 'being', 'an', 'nor', 'than', 'when', 'these', \"didn't\", \"hasn't\", 'mightn', 'it', 'hasn', 'am', \"you'd\", 'she', 'who', 'ours', 'whom', \"she's\", 're', 'as', 'are', 'with', \"isn't\", 'after', 'because', 'once', \"wasn't\", \"wouldn't\", 'most', 'too', 'we', \"needn't\", 'i', \"mightn't\", 'itself', 'or', 'me', 'do', 'for', \"doesn't\", 'wasn', 'any', 'ain', 'be', \"hadn't\", 'before', 'y', 'his', 'some', 'a', 'yours', 'were', 'there', 'you', 'those', 'if', 'themselves', 've', 'where', 'down', 'her', 'and', 'until', 'my', 'its', 'm', 'under', 'now', 'this', \"you've\", 'but', 'between', 'no', 'of', 's', 'against', 'hers', 'all', 'on', 'just', 'that', 'at', 'isn', 'your', 'myself', 'up', 'he', 'how', 'have', 'they', 'not', 'don', \"shan't\", 'theirs', 'both', \"you're\", 'haven', 'them', 'out', 'very', 'other', 'only', \"should've\", 'further', 'their', 'having', 'same', \"don't\", 'during', \"you'll\", 'can', 'shan', 'above', 'aren', \"aren't\", 't'}\n"
          ]
        }
      ]
    },
    {
      "cell_type": "code",
      "source": [
        "wordnet = WordNetLemmatizer()\n",
        "\n",
        "def prepare_twitte(x):\n",
        "  x = x.lower()\n",
        "  x = ' '.join([word for word in x.split(' ') if word not in stop_words2])\n",
        "  x = x.encode('utf-8').decode()\n",
        "  x = re.sub(r'https*\\S+',' ',x) # URL http\n",
        "  x = re.sub(r'www.\\S+',' ',x) #www.blablaaa\n",
        "  x = re.sub(r'@\\S+',' ',x) # mention \n",
        "  x = re.sub(r'#\\S+',' ',x) # hashtag \n",
        "  x = re.sub(r\"\\'\\w+\",\" \",x) # stop_words2\n",
        "  x = re.sub(\"[%s]\" % re.escape(string.punctuation),\" \",x) #punctuations\n",
        "  x = re.sub(r\"\\w*\\d+\\w*\",\" \",x)\n",
        "  x = re.sub(r\"\\s{2,}\",\" \",x)\n",
        "  return x"
      ],
      "metadata": {
        "id": "eVOKPbv3m9ke"
      },
      "execution_count": 11,
      "outputs": []
    },
    {
      "cell_type": "code",
      "source": [
        "df_2['clean_twitte'] = df_2['twitte'].apply(prepare_twitte)\n",
        "df_2"
      ],
      "metadata": {
        "colab": {
          "base_uri": "https://localhost:8080/",
          "height": 548
        },
        "id": "QNG8hop6n96T",
        "outputId": "d0be6d74-e7e2-470d-d2d4-cdf8fecd983a"
      },
      "execution_count": 12,
      "outputs": [
        {
          "output_type": "execute_result",
          "data": {
            "text/html": [
              "\n",
              "  <div id=\"df-e9f46896-88df-484e-968f-b86f9f74e8bc\">\n",
              "    <div class=\"colab-df-container\">\n",
              "      <div>\n",
              "<style scoped>\n",
              "    .dataframe tbody tr th:only-of-type {\n",
              "        vertical-align: middle;\n",
              "    }\n",
              "\n",
              "    .dataframe tbody tr th {\n",
              "        vertical-align: top;\n",
              "    }\n",
              "\n",
              "    .dataframe thead th {\n",
              "        text-align: right;\n",
              "    }\n",
              "</style>\n",
              "<table border=\"1\" class=\"dataframe\">\n",
              "  <thead>\n",
              "    <tr style=\"text-align: right;\">\n",
              "      <th></th>\n",
              "      <th>twitte</th>\n",
              "      <th>class</th>\n",
              "      <th>clean_twitte</th>\n",
              "    </tr>\n",
              "  </thead>\n",
              "  <tbody>\n",
              "    <tr>\n",
              "      <th>0</th>\n",
              "      <td>I'm 23 today.</td>\n",
              "      <td>sensitive</td>\n",
              "      <td>i today</td>\n",
              "    </tr>\n",
              "    <tr>\n",
              "      <th>1</th>\n",
              "      <td>I'm happy to be 18 years old.</td>\n",
              "      <td>sensitive</td>\n",
              "      <td>i happy years old</td>\n",
              "    </tr>\n",
              "    <tr>\n",
              "      <th>2</th>\n",
              "      <td>My birthday is 30 March 1992.</td>\n",
              "      <td>sensitive</td>\n",
              "      <td>birthday march</td>\n",
              "    </tr>\n",
              "    <tr>\n",
              "      <th>3</th>\n",
              "      <td>Guess what? I'm 25 years old.</td>\n",
              "      <td>sensitive</td>\n",
              "      <td>guess what i years old</td>\n",
              "    </tr>\n",
              "    <tr>\n",
              "      <th>4</th>\n",
              "      <td>Today my daughter is 16 years old.</td>\n",
              "      <td>sensitive</td>\n",
              "      <td>today daughter years old</td>\n",
              "    </tr>\n",
              "    <tr>\n",
              "      <th>...</th>\n",
              "      <td>...</td>\n",
              "      <td>...</td>\n",
              "      <td>...</td>\n",
              "    </tr>\n",
              "    <tr>\n",
              "      <th>1391</th>\n",
              "      <td>The senior is one of the most decorated male t...</td>\n",
              "      <td>not sensitive</td>\n",
              "      <td>senior one decorated male tennis players move ...</td>\n",
              "    </tr>\n",
              "    <tr>\n",
              "      <th>1392</th>\n",
              "      <td>2020 COULD be your year to get moving and chan...</td>\n",
              "      <td>not sensitive</td>\n",
              "      <td>could year get moving change lives animals mi...</td>\n",
              "    </tr>\n",
              "    <tr>\n",
              "      <th>1393</th>\n",
              "      <td>RT @MailSport: 'I thought you liked yellow on ...</td>\n",
              "      <td>not sensitive</td>\n",
              "      <td>rt thought liked yellow that ok grigor dimitro...</td>\n",
              "    </tr>\n",
              "    <tr>\n",
              "      <th>1394</th>\n",
              "      <td>RT @BBCSport: ?? \\n\\nTennis greats played toge...</td>\n",
              "      <td>not sensitive</td>\n",
              "      <td>rt tennis greats played together raise money a...</td>\n",
              "    </tr>\n",
              "    <tr>\n",
              "      <th>1395</th>\n",
              "      <td>RT @MattRacquet: A thread on hard court slidin...</td>\n",
              "      <td>not sensitive</td>\n",
              "      <td>rt thread hard court sliding amp movement atp ...</td>\n",
              "    </tr>\n",
              "  </tbody>\n",
              "</table>\n",
              "<p>1396 rows × 3 columns</p>\n",
              "</div>\n",
              "      <button class=\"colab-df-convert\" onclick=\"convertToInteractive('df-e9f46896-88df-484e-968f-b86f9f74e8bc')\"\n",
              "              title=\"Convert this dataframe to an interactive table.\"\n",
              "              style=\"display:none;\">\n",
              "        \n",
              "  <svg xmlns=\"http://www.w3.org/2000/svg\" height=\"24px\"viewBox=\"0 0 24 24\"\n",
              "       width=\"24px\">\n",
              "    <path d=\"M0 0h24v24H0V0z\" fill=\"none\"/>\n",
              "    <path d=\"M18.56 5.44l.94 2.06.94-2.06 2.06-.94-2.06-.94-.94-2.06-.94 2.06-2.06.94zm-11 1L8.5 8.5l.94-2.06 2.06-.94-2.06-.94L8.5 2.5l-.94 2.06-2.06.94zm10 10l.94 2.06.94-2.06 2.06-.94-2.06-.94-.94-2.06-.94 2.06-2.06.94z\"/><path d=\"M17.41 7.96l-1.37-1.37c-.4-.4-.92-.59-1.43-.59-.52 0-1.04.2-1.43.59L10.3 9.45l-7.72 7.72c-.78.78-.78 2.05 0 2.83L4 21.41c.39.39.9.59 1.41.59.51 0 1.02-.2 1.41-.59l7.78-7.78 2.81-2.81c.8-.78.8-2.07 0-2.86zM5.41 20L4 18.59l7.72-7.72 1.47 1.35L5.41 20z\"/>\n",
              "  </svg>\n",
              "      </button>\n",
              "      \n",
              "  <style>\n",
              "    .colab-df-container {\n",
              "      display:flex;\n",
              "      flex-wrap:wrap;\n",
              "      gap: 12px;\n",
              "    }\n",
              "\n",
              "    .colab-df-convert {\n",
              "      background-color: #E8F0FE;\n",
              "      border: none;\n",
              "      border-radius: 50%;\n",
              "      cursor: pointer;\n",
              "      display: none;\n",
              "      fill: #1967D2;\n",
              "      height: 32px;\n",
              "      padding: 0 0 0 0;\n",
              "      width: 32px;\n",
              "    }\n",
              "\n",
              "    .colab-df-convert:hover {\n",
              "      background-color: #E2EBFA;\n",
              "      box-shadow: 0px 1px 2px rgba(60, 64, 67, 0.3), 0px 1px 3px 1px rgba(60, 64, 67, 0.15);\n",
              "      fill: #174EA6;\n",
              "    }\n",
              "\n",
              "    [theme=dark] .colab-df-convert {\n",
              "      background-color: #3B4455;\n",
              "      fill: #D2E3FC;\n",
              "    }\n",
              "\n",
              "    [theme=dark] .colab-df-convert:hover {\n",
              "      background-color: #434B5C;\n",
              "      box-shadow: 0px 1px 3px 1px rgba(0, 0, 0, 0.15);\n",
              "      filter: drop-shadow(0px 1px 2px rgba(0, 0, 0, 0.3));\n",
              "      fill: #FFFFFF;\n",
              "    }\n",
              "  </style>\n",
              "\n",
              "      <script>\n",
              "        const buttonEl =\n",
              "          document.querySelector('#df-e9f46896-88df-484e-968f-b86f9f74e8bc button.colab-df-convert');\n",
              "        buttonEl.style.display =\n",
              "          google.colab.kernel.accessAllowed ? 'block' : 'none';\n",
              "\n",
              "        async function convertToInteractive(key) {\n",
              "          const element = document.querySelector('#df-e9f46896-88df-484e-968f-b86f9f74e8bc');\n",
              "          const dataTable =\n",
              "            await google.colab.kernel.invokeFunction('convertToInteractive',\n",
              "                                                     [key], {});\n",
              "          if (!dataTable) return;\n",
              "\n",
              "          const docLinkHtml = 'Like what you see? Visit the ' +\n",
              "            '<a target=\"_blank\" href=https://colab.research.google.com/notebooks/data_table.ipynb>data table notebook</a>'\n",
              "            + ' to learn more about interactive tables.';\n",
              "          element.innerHTML = '';\n",
              "          dataTable['output_type'] = 'display_data';\n",
              "          await google.colab.output.renderOutput(dataTable, element);\n",
              "          const docLink = document.createElement('div');\n",
              "          docLink.innerHTML = docLinkHtml;\n",
              "          element.appendChild(docLink);\n",
              "        }\n",
              "      </script>\n",
              "    </div>\n",
              "  </div>\n",
              "  "
            ],
            "text/plain": [
              "                                                 twitte  ...                                       clean_twitte\n",
              "0                                         I'm 23 today.  ...                                           i today \n",
              "1                         I'm happy to be 18 years old.  ...                                 i happy years old \n",
              "2                         My birthday is 30 March 1992.  ...                                    birthday march \n",
              "3                         Guess what? I'm 25 years old.  ...                            guess what i years old \n",
              "4                    Today my daughter is 16 years old.  ...                          today daughter years old \n",
              "...                                                 ...  ...                                                ...\n",
              "1391  The senior is one of the most decorated male t...  ...  senior one decorated male tennis players move ...\n",
              "1392  2020 COULD be your year to get moving and chan...  ...   could year get moving change lives animals mi...\n",
              "1393  RT @MailSport: 'I thought you liked yellow on ...  ...  rt thought liked yellow that ok grigor dimitro...\n",
              "1394  RT @BBCSport: ?? \\n\\nTennis greats played toge...  ...  rt tennis greats played together raise money a...\n",
              "1395  RT @MattRacquet: A thread on hard court slidin...  ...  rt thread hard court sliding amp movement atp ...\n",
              "\n",
              "[1396 rows x 3 columns]"
            ]
          },
          "metadata": {},
          "execution_count": 12
        }
      ]
    },
    {
      "cell_type": "code",
      "source": [
        "df_2['clean_twitte'].tail(30)"
      ],
      "metadata": {
        "colab": {
          "base_uri": "https://localhost:8080/"
        },
        "id": "MMoOm6FbrjeG",
        "outputId": "b1eb6698-a672-4502-8743-0d47b260057a"
      },
      "execution_count": 13,
      "outputs": [
        {
          "output_type": "execute_result",
          "data": {
            "text/plain": [
              "1366    rt day tennis world shock australian open dram...\n",
              "1367    rt days ago deb fighting australian bushfires ...\n",
              "1368                 tennis australia wrong side history \n",
              "1369                might fuck join tennis club something\n",
              "1370                    cannot serve overhead tennis lob \n",
              "1371    adidas stan smith mens size black leather anim...\n",
              "1372     tennis players australian open issued gas masks \n",
              "1373    rt cool tennis came together cause every slam ...\n",
              "1374    girl could make watch tennis saying even ruine...\n",
              "1375             thursday tennis picks auckland adelaide \n",
              "1376    rt kate way tough stuffies looooovvvveees tenn...\n",
              "1377    professional tennis players held charity event...\n",
              "1378    theyre grand slam tennis champions awaiting p...\n",
              "1379    rt nothing seems change definitely anger manag...\n",
              "1380    imagine i pursued tennis high school like pe t...\n",
              "1381    first day board guys vip tennis picks go units...\n",
              "1382    rt tennis champion showed rarely seen relaxed ...\n",
              "1383    rt reached funding target a massive thank ever...\n",
              "1384                               fun tennis games ever \n",
              "1385     bet gen cides army blowing clouds you still p...\n",
              "1386                                                     \n",
              "1387    rt know absolute joke roger dragged everything...\n",
              "1388                    third day tennis court lorde came\n",
              "1389    rt platform tennis coming soon know facts high...\n",
              "1390              brb making entrance tennis stan twitter\n",
              "1391    senior one decorated male tennis players move ...\n",
              "1392     could year get moving change lives animals mi...\n",
              "1393    rt thought liked yellow that ok grigor dimitro...\n",
              "1394    rt tennis greats played together raise money a...\n",
              "1395    rt thread hard court sliding amp movement atp ...\n",
              "Name: clean_twitte, dtype: object"
            ]
          },
          "metadata": {},
          "execution_count": 13
        }
      ]
    },
    {
      "cell_type": "markdown",
      "source": [
        "##convert class to be (0,1)"
      ],
      "metadata": {
        "id": "1uZ-5LLNECCE"
      }
    },
    {
      "cell_type": "code",
      "source": [
        "not_sensitive_label,sensitive_label = (0,1)"
      ],
      "metadata": {
        "id": "BvUTv4qKEYf8"
      },
      "execution_count": 14,
      "outputs": []
    },
    {
      "cell_type": "code",
      "source": [
        "df_2['class'] = df_2['class'].map({\n",
        "    'not sensitive': not_sensitive_label,\n",
        "    'sensitive': sensitive_label\n",
        "})"
      ],
      "metadata": {
        "id": "OMOYfPiuEo59"
      },
      "execution_count": 15,
      "outputs": []
    },
    {
      "cell_type": "code",
      "source": [
        "df_2['class'].value_counts()"
      ],
      "metadata": {
        "colab": {
          "base_uri": "https://localhost:8080/"
        },
        "id": "Mfszg3VQEIHY",
        "outputId": "8efaff1d-e85e-4ade-eee6-4b92b806a782"
      },
      "execution_count": 16,
      "outputs": [
        {
          "output_type": "execute_result",
          "data": {
            "text/plain": [
              "0    1162\n",
              "1     234\n",
              "Name: class, dtype: int64"
            ]
          },
          "metadata": {},
          "execution_count": 16
        }
      ]
    },
    {
      "cell_type": "markdown",
      "source": [
        "##Vectorizer"
      ],
      "metadata": {
        "id": "iXo4vIpQInld"
      }
    },
    {
      "cell_type": "code",
      "source": [
        "vectorization = TfidfVectorizer(stop_words=stop_words2)"
      ],
      "metadata": {
        "id": "b3hMx65-ImoQ"
      },
      "execution_count": 17,
      "outputs": []
    },
    {
      "cell_type": "code",
      "source": [
        "df_twitte = vectorization.fit_transform(df_2['clean_twitte'])"
      ],
      "metadata": {
        "id": "6ZGw29RvJL46"
      },
      "execution_count": 18,
      "outputs": []
    },
    {
      "cell_type": "markdown",
      "source": [
        "##x , y"
      ],
      "metadata": {
        "id": "6jLmQZ_FF2F2"
      }
    },
    {
      "cell_type": "code",
      "source": [
        "x2 = df_twitte\n",
        "x2"
      ],
      "metadata": {
        "id": "j-Vr_F8VF4ew",
        "colab": {
          "base_uri": "https://localhost:8080/"
        },
        "outputId": "e80576f5-a465-4dc5-c552-88359155fd7c"
      },
      "execution_count": 19,
      "outputs": [
        {
          "output_type": "execute_result",
          "data": {
            "text/plain": [
              "<1396x4806 sparse matrix of type '<class 'numpy.float64'>'\n",
              "\twith 12241 stored elements in Compressed Sparse Row format>"
            ]
          },
          "metadata": {},
          "execution_count": 19
        }
      ]
    },
    {
      "cell_type": "code",
      "source": [
        "y2 = df_2['class'].values\n",
        "y2"
      ],
      "metadata": {
        "colab": {
          "base_uri": "https://localhost:8080/"
        },
        "id": "eM_tisB1GIMO",
        "outputId": "1c322a80-2b9a-4cac-e80f-790245259e6c"
      },
      "execution_count": 20,
      "outputs": [
        {
          "output_type": "execute_result",
          "data": {
            "text/plain": [
              "array([1, 1, 1, ..., 0, 0, 0])"
            ]
          },
          "metadata": {},
          "execution_count": 20
        }
      ]
    },
    {
      "cell_type": "markdown",
      "source": [
        "##Test algorithms accuracy's score(before fitting)"
      ],
      "metadata": {
        "id": "LD_jdziNFAno"
      }
    },
    {
      "cell_type": "code",
      "source": [
        "models = []\n",
        "models.append((\"LR\",linear_model.LogisticRegression()))\n",
        "models.append((\"SVM\",svm.SVC()))\n",
        "models.append((\"Forest\",RandomForestClassifier()))\n",
        "models.append((\"KNN\",neighbors.KNeighborsClassifier()))\n",
        "models.append((\"Tree\",tree.DecisionTreeClassifier()))\n",
        "\n",
        "results = []\n",
        "names = []\n",
        "scoring = 'accuracy'\n",
        "\n",
        "for name, model in models:\n",
        "  kfold = model_selection.KFold(n_splits=10)\n",
        "  cv_results = model_selection.cross_val_score(model,x2,y2,cv=kfold,scoring=scoring)\n",
        "  results.append(cv_results)\n",
        "  names.append(name)\n",
        "  msg = \"%s: %f (%f)\" % (name, cv_results.mean(), cv_results.std())\n",
        "  print(msg)"
      ],
      "metadata": {
        "colab": {
          "base_uri": "https://localhost:8080/"
        },
        "id": "HcDdqoG1FC09",
        "outputId": "6679c05b-c3ae-42fe-aac6-f80f37f2dcfd"
      },
      "execution_count": 21,
      "outputs": [
        {
          "output_type": "stream",
          "name": "stdout",
          "text": [
            "LR: 0.836429 (0.334945)\n",
            "SVM: 0.846429 (0.313396)\n",
            "Forest: 0.865704 (0.268415)\n",
            "KNN: 0.835000 (0.338431)\n",
            "Tree: 0.863541 (0.259272)\n"
          ]
        }
      ]
    },
    {
      "cell_type": "markdown",
      "source": [
        "##split dataset into train and test"
      ],
      "metadata": {
        "id": "GfsoTgGtGY8o"
      }
    },
    {
      "cell_type": "code",
      "source": [
        "x2_train,x2_test,y2_train,y2_test = model_selection.train_test_split(\n",
        "    x2,y2,\n",
        "    test_size=0.25,\n",
        "    random_state=42,\n",
        "    shuffle=True,\n",
        "    stratify=y2)\n",
        "\n",
        "x2_train.shape,x2_test.shape,y2_train.shape,y2_test.shape"
      ],
      "metadata": {
        "colab": {
          "base_uri": "https://localhost:8080/"
        },
        "id": "pJOVI_amGehb",
        "outputId": "e3341d32-f91f-4c53-efc1-e7894f35cab9"
      },
      "execution_count": 22,
      "outputs": [
        {
          "output_type": "execute_result",
          "data": {
            "text/plain": [
              "((1047, 4806), (349, 4806), (1047,), (349,))"
            ]
          },
          "metadata": {},
          "execution_count": 22
        }
      ]
    },
    {
      "cell_type": "markdown",
      "source": [
        "##Logistic regression "
      ],
      "metadata": {
        "id": "zN05ZOC1Jfwk"
      }
    },
    {
      "cell_type": "code",
      "source": [
        "logistic_model_2 = linear_model.LogisticRegressionCV()\n",
        "logistic_model_2.fit(x2_train,y2_train)"
      ],
      "metadata": {
        "colab": {
          "base_uri": "https://localhost:8080/"
        },
        "id": "XX44rjXCJail",
        "outputId": "09764b77-5a62-40c6-d204-ac930781c274"
      },
      "execution_count": 26,
      "outputs": [
        {
          "output_type": "execute_result",
          "data": {
            "text/plain": [
              "LogisticRegressionCV()"
            ]
          },
          "metadata": {},
          "execution_count": 26
        }
      ]
    },
    {
      "cell_type": "code",
      "source": [
        "log_pred2_train = logistic_model_2.predict(x2_train)\n",
        "log_pred2_test = logistic_model_2.predict(x2_test)"
      ],
      "metadata": {
        "id": "1PuxWkjCJ3eS"
      },
      "execution_count": 27,
      "outputs": []
    },
    {
      "cell_type": "code",
      "source": [
        "print(f'Training Score: \\n{metrics.classification_report(y2_train,log_pred2_train)}')"
      ],
      "metadata": {
        "colab": {
          "base_uri": "https://localhost:8080/"
        },
        "id": "nCJGPIH0Oedr",
        "outputId": "379b5fd8-d016-4b87-9984-2cb7ca34e60d"
      },
      "execution_count": 28,
      "outputs": [
        {
          "output_type": "stream",
          "name": "stdout",
          "text": [
            "Training Score: \n",
            "              precision    recall  f1-score   support\n",
            "\n",
            "           0       1.00      1.00      1.00       871\n",
            "           1       1.00      1.00      1.00       176\n",
            "\n",
            "    accuracy                           1.00      1047\n",
            "   macro avg       1.00      1.00      1.00      1047\n",
            "weighted avg       1.00      1.00      1.00      1047\n",
            "\n"
          ]
        }
      ]
    },
    {
      "cell_type": "code",
      "source": [
        "print(f'Testing Score: \\n{metrics.classification_report(y2_test,log_pred2_test)}')"
      ],
      "metadata": {
        "colab": {
          "base_uri": "https://localhost:8080/"
        },
        "id": "_z-038HSOvAt",
        "outputId": "ee6bf0c6-90b5-4c02-cdf3-c7dc5117c4bb"
      },
      "execution_count": 29,
      "outputs": [
        {
          "output_type": "stream",
          "name": "stdout",
          "text": [
            "Testing Score: \n",
            "              precision    recall  f1-score   support\n",
            "\n",
            "           0       0.96      1.00      0.98       291\n",
            "           1       1.00      0.78      0.87        58\n",
            "\n",
            "    accuracy                           0.96       349\n",
            "   macro avg       0.98      0.89      0.93       349\n",
            "weighted avg       0.96      0.96      0.96       349\n",
            "\n"
          ]
        }
      ]
    },
    {
      "cell_type": "code",
      "source": [
        "confusion_matrix=metrics.confusion_matrix(y2_test,log_pred2_test)\n",
        "fig= plot_confusion_matrix(conf_mat=confusion_matrix,cmap=plt.cm.Blues,figsize=(10,10))\n",
        "plt.xlabel('Prediction',fontsize=16)\n",
        "plt.ylabel('Actual',fontsize=16)\n",
        "plt.title('Confusion Matrix',fontsize=16)\n",
        "plt.show()"
      ],
      "metadata": {
        "colab": {
          "base_uri": "https://localhost:8080/",
          "height": 663
        },
        "id": "BrdOKEjIO8Ky",
        "outputId": "015e4aca-9a6b-4ded-f32a-1744a817872c"
      },
      "execution_count": 30,
      "outputs": [
        {
          "output_type": "display_data",
          "data": {
            "image/png": "[encoded data removed]",
            "text/plain": [
              "<Figure size 720x720 with 1 Axes>"
            ]
          },
          "metadata": {}
        }
      ]
    },
    {
      "cell_type": "markdown",
      "source": [
        "##SVM"
      ],
      "metadata": {
        "id": "SOcZW2PHKq6-"
      }
    },
    {
      "cell_type": "code",
      "source": [
        "svm_model_2 = svm.SVC()\n",
        "svm_model_2.fit(x2_train,y2_train)"
      ],
      "metadata": {
        "colab": {
          "base_uri": "https://localhost:8080/"
        },
        "id": "C4buvbqXKtdS",
        "outputId": "d6b8ae6f-d713-4a1f-828a-f6332ff6afe0"
      },
      "execution_count": 31,
      "outputs": [
        {
          "output_type": "execute_result",
          "data": {
            "text/plain": [
              "SVC()"
            ]
          },
          "metadata": {},
          "execution_count": 31
        }
      ]
    },
    {
      "cell_type": "code",
      "source": [
        "svm_pred2_train = svm_model_2.predict(x2_train)\n",
        "svm_pred2_test = svm_model_2.predict(x2_test)"
      ],
      "metadata": {
        "id": "WFDxFxvmMfQc"
      },
      "execution_count": 32,
      "outputs": []
    },
    {
      "cell_type": "code",
      "source": [
        "print(f'Training Score: \\n{metrics.classification_report(y2_train,svm_pred2_train)}')"
      ],
      "metadata": {
        "colab": {
          "base_uri": "https://localhost:8080/"
        },
        "id": "B6LAjF-sRD0i",
        "outputId": "70e7c1b5-55f1-44b3-b8e2-0b5eff8caeb6"
      },
      "execution_count": 33,
      "outputs": [
        {
          "output_type": "stream",
          "name": "stdout",
          "text": [
            "Training Score: \n",
            "              precision    recall  f1-score   support\n",
            "\n",
            "           0       1.00      1.00      1.00       871\n",
            "           1       1.00      0.99      0.99       176\n",
            "\n",
            "    accuracy                           1.00      1047\n",
            "   macro avg       1.00      0.99      1.00      1047\n",
            "weighted avg       1.00      1.00      1.00      1047\n",
            "\n"
          ]
        }
      ]
    },
    {
      "cell_type": "code",
      "source": [
        "print(f'Testing Score: \\n{metrics.classification_report(y2_test,svm_pred2_test)}')"
      ],
      "metadata": {
        "colab": {
          "base_uri": "https://localhost:8080/"
        },
        "id": "_zcLtPI6RNya",
        "outputId": "c649bcdf-bc7e-4ba9-c3a0-208bb59f1f5d"
      },
      "execution_count": 34,
      "outputs": [
        {
          "output_type": "stream",
          "name": "stdout",
          "text": [
            "Testing Score: \n",
            "              precision    recall  f1-score   support\n",
            "\n",
            "           0       0.93      1.00      0.96       291\n",
            "           1       1.00      0.60      0.75        58\n",
            "\n",
            "    accuracy                           0.93       349\n",
            "   macro avg       0.96      0.80      0.86       349\n",
            "weighted avg       0.94      0.93      0.93       349\n",
            "\n"
          ]
        }
      ]
    },
    {
      "cell_type": "code",
      "source": [
        "confusion_matrix=metrics.confusion_matrix(y2_test,svm_pred2_test)\n",
        "fig= plot_confusion_matrix(conf_mat=confusion_matrix,cmap=plt.cm.Blues,figsize=(10,10))\n",
        "plt.xlabel('Prediction',fontsize=16)\n",
        "plt.ylabel('Actual',fontsize=16)\n",
        "plt.title('Confusion Matrix',fontsize=16)\n",
        "plt.show()"
      ],
      "metadata": {
        "colab": {
          "base_uri": "https://localhost:8080/",
          "height": 663
        },
        "id": "7mJmojJoRWls",
        "outputId": "28d82e76-1241-42b0-af1b-0b2341f7d138"
      },
      "execution_count": 35,
      "outputs": [
        {
          "output_type": "display_data",
          "data": {
            "image/png": "[encoded data removed]",
            "text/plain": [
              "<Figure size 720x720 with 1 Axes>"
            ]
          },
          "metadata": {}
        }
      ]
    },
    {
      "cell_type": "markdown",
      "source": [
        "##Random Forest"
      ],
      "metadata": {
        "id": "haz-gt0MSihR"
      }
    },
    {
      "cell_type": "code",
      "source": [
        "forest_model_2 = RandomForestClassifier()\n",
        "forest_model_2.fit(x2_train,y2_train)"
      ],
      "metadata": {
        "colab": {
          "base_uri": "https://localhost:8080/"
        },
        "id": "nIp1MPefSpIs",
        "outputId": "67885657-a83b-4c3b-ec23-6e749df86bea"
      },
      "execution_count": 36,
      "outputs": [
        {
          "output_type": "execute_result",
          "data": {
            "text/plain": [
              "RandomForestClassifier()"
            ]
          },
          "metadata": {},
          "execution_count": 36
        }
      ]
    },
    {
      "cell_type": "code",
      "source": [
        "forest_pred2_train = forest_model_2.predict(x2_train)\n",
        "forest_pred2_test = forest_model_2.predict(x2_test)"
      ],
      "metadata": {
        "id": "Q_F6EQvtS2Fv"
      },
      "execution_count": 37,
      "outputs": []
    },
    {
      "cell_type": "code",
      "source": [
        "print(f'Training Score: \\n{metrics.classification_report(y2_train,forest_pred2_train)}')"
      ],
      "metadata": {
        "colab": {
          "base_uri": "https://localhost:8080/"
        },
        "id": "i36czjJHTEUn",
        "outputId": "63d1fbca-7cb5-4bfa-f124-07c14c154cf9"
      },
      "execution_count": 38,
      "outputs": [
        {
          "output_type": "stream",
          "name": "stdout",
          "text": [
            "Training Score: \n",
            "              precision    recall  f1-score   support\n",
            "\n",
            "           0       1.00      1.00      1.00       871\n",
            "           1       1.00      1.00      1.00       176\n",
            "\n",
            "    accuracy                           1.00      1047\n",
            "   macro avg       1.00      1.00      1.00      1047\n",
            "weighted avg       1.00      1.00      1.00      1047\n",
            "\n"
          ]
        }
      ]
    },
    {
      "cell_type": "code",
      "source": [
        "print(f'Testing Score: \\n{metrics.classification_report(y2_test,forest_pred2_test)}')"
      ],
      "metadata": {
        "colab": {
          "base_uri": "https://localhost:8080/"
        },
        "id": "VnVMYI5PTMAL",
        "outputId": "80c531cb-127e-47d7-9a2c-3b0f3ad69a99"
      },
      "execution_count": 39,
      "outputs": [
        {
          "output_type": "stream",
          "name": "stdout",
          "text": [
            "Testing Score: \n",
            "              precision    recall  f1-score   support\n",
            "\n",
            "           0       0.96      1.00      0.98       291\n",
            "           1       1.00      0.79      0.88        58\n",
            "\n",
            "    accuracy                           0.97       349\n",
            "   macro avg       0.98      0.90      0.93       349\n",
            "weighted avg       0.97      0.97      0.96       349\n",
            "\n"
          ]
        }
      ]
    },
    {
      "cell_type": "code",
      "source": [
        "confusion_matrix=metrics.confusion_matrix(y2_test,forest_pred2_test)\n",
        "fig= plot_confusion_matrix(conf_mat=confusion_matrix,cmap=plt.cm.Blues,figsize=(10,10))\n",
        "plt.xlabel('Prediction',fontsize=16)\n",
        "plt.ylabel('Actual',fontsize=16)\n",
        "plt.title('Confusion Matrix',fontsize=16)\n",
        "plt.show()"
      ],
      "metadata": {
        "colab": {
          "base_uri": "https://localhost:8080/",
          "height": 663
        },
        "id": "uQfwTK8MTWJ4",
        "outputId": "b59e778a-cd44-4342-a3b6-c8f10bd3593f"
      },
      "execution_count": 40,
      "outputs": [
        {
          "output_type": "display_data",
          "data": {
            "image/png": "[encoded data removed]",
            "text/plain": [
              "<Figure size 720x720 with 1 Axes>"
            ]
          },
          "metadata": {}
        }
      ]
    },
    {
      "cell_type": "markdown",
      "source": [
        "##KNN"
      ],
      "metadata": {
        "id": "grb0DgBtUCJF"
      }
    },
    {
      "cell_type": "code",
      "source": [
        "knn_model_2 = neighbors.KNeighborsClassifier()\n",
        "knn_model_2.fit(x2_train,y2_train)"
      ],
      "metadata": {
        "colab": {
          "base_uri": "https://localhost:8080/"
        },
        "id": "Re3MH4onUDkL",
        "outputId": "144531b7-f32e-4afd-985b-85ab5d8a512c"
      },
      "execution_count": 41,
      "outputs": [
        {
          "output_type": "execute_result",
          "data": {
            "text/plain": [
              "KNeighborsClassifier()"
            ]
          },
          "metadata": {},
          "execution_count": 41
        }
      ]
    },
    {
      "cell_type": "code",
      "source": [
        "knn_pred2_train = knn_model_2.predict(x2_train)\n",
        "knn_pred2_test = knn_model_2.predict(x2_test)"
      ],
      "metadata": {
        "id": "kB4zcu5xUNcX"
      },
      "execution_count": 42,
      "outputs": []
    },
    {
      "cell_type": "code",
      "source": [
        "print(f'Training Score: \\n{metrics.classification_report(y2_train,knn_pred2_train)}')"
      ],
      "metadata": {
        "colab": {
          "base_uri": "https://localhost:8080/"
        },
        "id": "hH5WJVWgUcIs",
        "outputId": "4d4b298f-44ba-4013-b357-3f7a14a24b61"
      },
      "execution_count": 43,
      "outputs": [
        {
          "output_type": "stream",
          "name": "stdout",
          "text": [
            "Training Score: \n",
            "              precision    recall  f1-score   support\n",
            "\n",
            "           0       0.98      1.00      0.99       871\n",
            "           1       1.00      0.88      0.93       176\n",
            "\n",
            "    accuracy                           0.98      1047\n",
            "   macro avg       0.99      0.94      0.96      1047\n",
            "weighted avg       0.98      0.98      0.98      1047\n",
            "\n"
          ]
        }
      ]
    },
    {
      "cell_type": "code",
      "source": [
        "print(f'Testing Score: \\n{metrics.classification_report(y2_test,knn_pred2_test)}')"
      ],
      "metadata": {
        "colab": {
          "base_uri": "https://localhost:8080/"
        },
        "id": "0P_JfV3HUilW",
        "outputId": "a93bb010-b2e7-49a4-977a-81de0941ebe5"
      },
      "execution_count": 44,
      "outputs": [
        {
          "output_type": "stream",
          "name": "stdout",
          "text": [
            "Testing Score: \n",
            "              precision    recall  f1-score   support\n",
            "\n",
            "           0       0.96      0.97      0.97       291\n",
            "           1       0.84      0.81      0.82        58\n",
            "\n",
            "    accuracy                           0.94       349\n",
            "   macro avg       0.90      0.89      0.90       349\n",
            "weighted avg       0.94      0.94      0.94       349\n",
            "\n"
          ]
        }
      ]
    },
    {
      "cell_type": "code",
      "source": [
        "confusion_matrix=metrics.confusion_matrix(y2_test,knn_pred2_test)\n",
        "fig= plot_confusion_matrix(conf_mat=confusion_matrix,cmap=plt.cm.Blues,figsize=(10,10))\n",
        "plt.xlabel('Prediction',fontsize=16)\n",
        "plt.ylabel('Actual',fontsize=16)\n",
        "plt.title('Confusion Matrix',fontsize=16)\n",
        "plt.show()"
      ],
      "metadata": {
        "colab": {
          "base_uri": "https://localhost:8080/",
          "height": 663
        },
        "id": "mfb1DvLeUrET",
        "outputId": "529b1851-f44a-458f-e742-19fd3994e59b"
      },
      "execution_count": 45,
      "outputs": [
        {
          "output_type": "display_data",
          "data": {
            "image/png": "[encoded data removed]",
            "text/plain": [
              "<Figure size 720x720 with 1 Axes>"
            ]
          },
          "metadata": {}
        }
      ]
    },
    {
      "cell_type": "markdown",
      "source": [
        "##Tree"
      ],
      "metadata": {
        "id": "Pg7LDqmjaItU"
      }
    },
    {
      "cell_type": "code",
      "source": [
        "tree_model_2 = tree.DecisionTreeClassifier()\n",
        "tree_model_2.fit(x2_train,y2_train)"
      ],
      "metadata": {
        "colab": {
          "base_uri": "https://localhost:8080/"
        },
        "id": "ojNjaE0laOEY",
        "outputId": "217e0130-5a19-4acb-d22f-6e0d7ef8dc9f"
      },
      "execution_count": 46,
      "outputs": [
        {
          "output_type": "execute_result",
          "data": {
            "text/plain": [
              "DecisionTreeClassifier()"
            ]
          },
          "metadata": {},
          "execution_count": 46
        }
      ]
    },
    {
      "cell_type": "code",
      "source": [
        "tree_pred2_train = tree_model_2.predict(x2_train)\n",
        "tree_pred2_test = tree_model_2.predict(x2_test)"
      ],
      "metadata": {
        "id": "1oymEwnrbAaD"
      },
      "execution_count": 47,
      "outputs": []
    },
    {
      "cell_type": "code",
      "source": [
        "print(f'Training Score: \\n{metrics.classification_report(y2_train,tree_pred2_train)}')"
      ],
      "metadata": {
        "colab": {
          "base_uri": "https://localhost:8080/"
        },
        "id": "epTtWBSWbXz9",
        "outputId": "c3505840-cd2f-48d7-c439-94c8bb32e6ca"
      },
      "execution_count": 48,
      "outputs": [
        {
          "output_type": "stream",
          "name": "stdout",
          "text": [
            "Training Score: \n",
            "              precision    recall  f1-score   support\n",
            "\n",
            "           0       1.00      1.00      1.00       871\n",
            "           1       1.00      1.00      1.00       176\n",
            "\n",
            "    accuracy                           1.00      1047\n",
            "   macro avg       1.00      1.00      1.00      1047\n",
            "weighted avg       1.00      1.00      1.00      1047\n",
            "\n"
          ]
        }
      ]
    },
    {
      "cell_type": "code",
      "source": [
        "print(f'Testing Score: \\n{metrics.classification_report(y2_test,tree_pred2_test)}')"
      ],
      "metadata": {
        "colab": {
          "base_uri": "https://localhost:8080/"
        },
        "id": "b5oMsRb6ben9",
        "outputId": "3d3d91af-44d8-4ccd-8873-22414eb834a4"
      },
      "execution_count": 49,
      "outputs": [
        {
          "output_type": "stream",
          "name": "stdout",
          "text": [
            "Testing Score: \n",
            "              precision    recall  f1-score   support\n",
            "\n",
            "           0       0.96      1.00      0.98       291\n",
            "           1       0.98      0.79      0.88        58\n",
            "\n",
            "    accuracy                           0.96       349\n",
            "   macro avg       0.97      0.89      0.93       349\n",
            "weighted avg       0.96      0.96      0.96       349\n",
            "\n"
          ]
        }
      ]
    },
    {
      "cell_type": "code",
      "source": [
        "confusion_matrix=metrics.confusion_matrix(y2_test,tree_pred2_test)\n",
        "fig= plot_confusion_matrix(conf_mat=confusion_matrix,cmap=plt.cm.Blues,figsize=(10,10))\n",
        "plt.xlabel('Prediction',fontsize=16)\n",
        "plt.ylabel('Actual',fontsize=16)\n",
        "plt.title('Confusion Matrix',fontsize=16)\n",
        "plt.show()"
      ],
      "metadata": {
        "colab": {
          "base_uri": "https://localhost:8080/",
          "height": 663
        },
        "id": "iqXgsXYVbkPo",
        "outputId": "35a4836a-b572-413d-906f-d67bbe420c0f"
      },
      "execution_count": 50,
      "outputs": [
        {
          "output_type": "display_data",
          "data": {
            "image/png": "[encoded data removed]",
            "text/plain": [
              "<Figure size 720x720 with 1 Axes>"
            ]
          },
          "metadata": {}
        }
      ]
    },
    {
      "cell_type": "markdown",
      "source": [
        "##best model?"
      ],
      "metadata": {
        "id": "biBP5N0cPRP-"
      }
    },
    {
      "cell_type": "markdown",
      "source": [
        "**Random Forest** is the best model so i will take it to testing on new data."
      ],
      "metadata": {
        "id": "bXvC65E4PZPG"
      }
    },
    {
      "cell_type": "markdown",
      "source": [
        "##predict new dataset"
      ],
      "metadata": {
        "id": "K6dt2u0xcL0w"
      }
    },
    {
      "cell_type": "code",
      "source": [
        "def output_label_2(n):\n",
        "  if n == 0:\n",
        "    return \"Not Sensitive\"\n",
        "  elif n == 1:\n",
        "    return \"Sensitive\"  "
      ],
      "metadata": {
        "id": "Wm3NZXPtggOm"
      },
      "execution_count": 51,
      "outputs": []
    },
    {
      "cell_type": "code",
      "source": [
        "def test_2(news):\n",
        "  testing_news_2 = {'twitte':[news]}\n",
        "  news_def_2 = pd.DataFrame(testing_news_2)\n",
        "  news_def_2['clean_twitte'] = news_def_2['twitte'].apply(prepare_twitte)\n",
        "  news_x2_test = news_def_2['clean_twitte']\n",
        "  news_xv2_test = vectorization.transform(news_x2_test)\n",
        "\n",
        "  forest_pred2_test = forest_model_2.predict(news_xv2_test)\n",
        "\n",
        "  return print(\"\\n\\nPrediction: {}\".format(output_label_2(forest_pred2_test)))"
      ],
      "metadata": {
        "id": "LBhvdMdoghmT"
      },
      "execution_count": 54,
      "outputs": []
    },
    {
      "cell_type": "code",
      "source": [
        "news = str(input())\n",
        "test_2(news)"
      ],
      "metadata": {
        "id": "DszndUgWjgLi",
        "colab": {
          "base_uri": "https://localhost:8080/"
        },
        "outputId": "a7a9577a-c84c-4be5-c1b9-b27e661e1f75"
      },
      "execution_count": 55,
      "outputs": [
        {
          "output_type": "stream",
          "name": "stdout",
          "text": [
            "RT @ElectronicsNews: Smart Cricket Ball measures your bowling performance - The #Sportcor Smartball is the work of a technology start-up an…\n",
            "\n",
            "\n",
            "Prediction: Not Sensitive\n"
          ]
        }
      ]
    },
    {
      "cell_type": "markdown",
      "source": [
        "##joblib"
      ],
      "metadata": {
        "id": "vosG8wMbJgts"
      }
    },
    {
      "cell_type": "code",
      "source": [
        "from joblib import dump"
      ],
      "metadata": {
        "id": "qT2T_ISeJksI"
      },
      "execution_count": 56,
      "outputs": []
    },
    {
      "cell_type": "code",
      "source": [
        "dump(forest_model_2,\"model_2.joblib\")\n",
        "dump(vectorization,\"vector_2.joblib\")"
      ],
      "metadata": {
        "colab": {
          "base_uri": "https://localhost:8080/"
        },
        "id": "3vrYXpe3JpnC",
        "outputId": "f810a0aa-0ca8-48ce-bd4f-b7d61b7174da"
      },
      "execution_count": 57,
      "outputs": [
        {
          "output_type": "execute_result",
          "data": {
            "text/plain": [
              "['vector_2.joblib']"
            ]
          },
          "metadata": {},
          "execution_count": 57
        }
      ]
    }
  ]
}