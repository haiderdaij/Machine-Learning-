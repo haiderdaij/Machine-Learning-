{
  "nbformat": 4,
  "nbformat_minor": 0,
  "metadata": {
    "colab": {
      "name": "MNIST with CNN",
      "provenance": [],
      "collapsed_sections": []
    },
    "kernelspec": {
      "name": "python3",
      "display_name": "Python 3"
    },
    "language_info": {
      "name": "python"
    },
    "accelerator": "GPU"
  },
  "cells": [
    {
      "cell_type": "markdown",
      "source": [
        "**What’s is a MNIST?**\n",
        "\n",
        "It’s a 28 x 28 images of hand-written digits (0 - 9)"
      ],
      "metadata": {
        "id": "W9dk8QQlg2Jv"
      }
    },
    {
      "cell_type": "markdown",
      "source": [
        "#Prepare datasets "
      ],
      "metadata": {
        "id": "r4vCVgLGwmCo"
      }
    },
    {
      "cell_type": "markdown",
      "source": [
        "Importing the libraries "
      ],
      "metadata": {
        "id": "WOkDQG5GakkD"
      }
    },
    {
      "cell_type": "code",
      "source": [
        "import tensorflow as tf\n",
        "from keras.models import Sequential\n",
        "from keras.layers import Dense, Activation, Conv2D, MaxPool2D, Flatten\n",
        "import numpy as np\n",
        "import matplotlib.pyplot as plt\n",
        "import pandas as pd\n",
        "import json"
      ],
      "metadata": {
        "id": "OR3HhajGmkj1"
      },
      "execution_count": 1,
      "outputs": []
    },
    {
      "cell_type": "markdown",
      "source": [
        "Load MNIST dataset "
      ],
      "metadata": {
        "id": "eejthhSAcnCF"
      }
    },
    {
      "cell_type": "code",
      "source": [
        "(x_train,y_train),(x_test,y_test) = tf.keras.datasets.fashion_mnist.load_data()\n",
        "x_train.shape, x_test.shape, y_train.shape, y_test.shape"
      ],
      "metadata": {
        "colab": {
          "base_uri": "https://localhost:8080/"
        },
        "id": "f0QA7SZYbUxb",
        "outputId": "b725744b-4360-4be8-f2df-6f0e10c1f1f3"
      },
      "execution_count": 2,
      "outputs": [
        {
          "output_type": "stream",
          "name": "stdout",
          "text": [
            "Downloading data from https://storage.googleapis.com/tensorflow/tf-keras-datasets/train-labels-idx1-ubyte.gz\n",
            "32768/29515 [=================================] - 0s 0us/step\n",
            "40960/29515 [=========================================] - 0s 0us/step\n",
            "Downloading data from https://storage.googleapis.com/tensorflow/tf-keras-datasets/train-images-idx3-ubyte.gz\n",
            "26427392/26421880 [==============================] - 0s 0us/step\n",
            "26435584/26421880 [==============================] - 0s 0us/step\n",
            "Downloading data from https://storage.googleapis.com/tensorflow/tf-keras-datasets/t10k-labels-idx1-ubyte.gz\n",
            "16384/5148 [===============================================================================================] - 0s 0us/step\n",
            "Downloading data from https://storage.googleapis.com/tensorflow/tf-keras-datasets/t10k-images-idx3-ubyte.gz\n",
            "4423680/4422102 [==============================] - 0s 0us/step\n",
            "4431872/4422102 [==============================] - 0s 0us/step\n"
          ]
        },
        {
          "output_type": "execute_result",
          "data": {
            "text/plain": [
              "((60000, 28, 28), (10000, 28, 28), (60000,), (10000,))"
            ]
          },
          "metadata": {},
          "execution_count": 2
        }
      ]
    },
    {
      "cell_type": "code",
      "source": [
        "x_train[0]"
      ],
      "metadata": {
        "colab": {
          "base_uri": "https://localhost:8080/"
        },
        "id": "rua9Uj-rrkB7",
        "outputId": "870a7083-7724-49e3-d40d-e4d3f8d89671"
      },
      "execution_count": 3,
      "outputs": [
        {
          "output_type": "execute_result",
          "data": {
            "text/plain": [
              "array([[  0,   0,   0,   0,   0,   0,   0,   0,   0,   0,   0,   0,   0,\n",
              "          0,   0,   0,   0,   0,   0,   0,   0,   0,   0,   0,   0,   0,\n",
              "          0,   0],\n",
              "       [  0,   0,   0,   0,   0,   0,   0,   0,   0,   0,   0,   0,   0,\n",
              "          0,   0,   0,   0,   0,   0,   0,   0,   0,   0,   0,   0,   0,\n",
              "          0,   0],\n",
              "       [  0,   0,   0,   0,   0,   0,   0,   0,   0,   0,   0,   0,   0,\n",
              "          0,   0,   0,   0,   0,   0,   0,   0,   0,   0,   0,   0,   0,\n",
              "          0,   0],\n",
              "       [  0,   0,   0,   0,   0,   0,   0,   0,   0,   0,   0,   0,   1,\n",
              "          0,   0,  13,  73,   0,   0,   1,   4,   0,   0,   0,   0,   1,\n",
              "          1,   0],\n",
              "       [  0,   0,   0,   0,   0,   0,   0,   0,   0,   0,   0,   0,   3,\n",
              "          0,  36, 136, 127,  62,  54,   0,   0,   0,   1,   3,   4,   0,\n",
              "          0,   3],\n",
              "       [  0,   0,   0,   0,   0,   0,   0,   0,   0,   0,   0,   0,   6,\n",
              "          0, 102, 204, 176, 134, 144, 123,  23,   0,   0,   0,   0,  12,\n",
              "         10,   0],\n",
              "       [  0,   0,   0,   0,   0,   0,   0,   0,   0,   0,   0,   0,   0,\n",
              "          0, 155, 236, 207, 178, 107, 156, 161, 109,  64,  23,  77, 130,\n",
              "         72,  15],\n",
              "       [  0,   0,   0,   0,   0,   0,   0,   0,   0,   0,   0,   1,   0,\n",
              "         69, 207, 223, 218, 216, 216, 163, 127, 121, 122, 146, 141,  88,\n",
              "        172,  66],\n",
              "       [  0,   0,   0,   0,   0,   0,   0,   0,   0,   1,   1,   1,   0,\n",
              "        200, 232, 232, 233, 229, 223, 223, 215, 213, 164, 127, 123, 196,\n",
              "        229,   0],\n",
              "       [  0,   0,   0,   0,   0,   0,   0,   0,   0,   0,   0,   0,   0,\n",
              "        183, 225, 216, 223, 228, 235, 227, 224, 222, 224, 221, 223, 245,\n",
              "        173,   0],\n",
              "       [  0,   0,   0,   0,   0,   0,   0,   0,   0,   0,   0,   0,   0,\n",
              "        193, 228, 218, 213, 198, 180, 212, 210, 211, 213, 223, 220, 243,\n",
              "        202,   0],\n",
              "       [  0,   0,   0,   0,   0,   0,   0,   0,   0,   1,   3,   0,  12,\n",
              "        219, 220, 212, 218, 192, 169, 227, 208, 218, 224, 212, 226, 197,\n",
              "        209,  52],\n",
              "       [  0,   0,   0,   0,   0,   0,   0,   0,   0,   0,   6,   0,  99,\n",
              "        244, 222, 220, 218, 203, 198, 221, 215, 213, 222, 220, 245, 119,\n",
              "        167,  56],\n",
              "       [  0,   0,   0,   0,   0,   0,   0,   0,   0,   4,   0,   0,  55,\n",
              "        236, 228, 230, 228, 240, 232, 213, 218, 223, 234, 217, 217, 209,\n",
              "         92,   0],\n",
              "       [  0,   0,   1,   4,   6,   7,   2,   0,   0,   0,   0,   0, 237,\n",
              "        226, 217, 223, 222, 219, 222, 221, 216, 223, 229, 215, 218, 255,\n",
              "         77,   0],\n",
              "       [  0,   3,   0,   0,   0,   0,   0,   0,   0,  62, 145, 204, 228,\n",
              "        207, 213, 221, 218, 208, 211, 218, 224, 223, 219, 215, 224, 244,\n",
              "        159,   0],\n",
              "       [  0,   0,   0,   0,  18,  44,  82, 107, 189, 228, 220, 222, 217,\n",
              "        226, 200, 205, 211, 230, 224, 234, 176, 188, 250, 248, 233, 238,\n",
              "        215,   0],\n",
              "       [  0,  57, 187, 208, 224, 221, 224, 208, 204, 214, 208, 209, 200,\n",
              "        159, 245, 193, 206, 223, 255, 255, 221, 234, 221, 211, 220, 232,\n",
              "        246,   0],\n",
              "       [  3, 202, 228, 224, 221, 211, 211, 214, 205, 205, 205, 220, 240,\n",
              "         80, 150, 255, 229, 221, 188, 154, 191, 210, 204, 209, 222, 228,\n",
              "        225,   0],\n",
              "       [ 98, 233, 198, 210, 222, 229, 229, 234, 249, 220, 194, 215, 217,\n",
              "        241,  65,  73, 106, 117, 168, 219, 221, 215, 217, 223, 223, 224,\n",
              "        229,  29],\n",
              "       [ 75, 204, 212, 204, 193, 205, 211, 225, 216, 185, 197, 206, 198,\n",
              "        213, 240, 195, 227, 245, 239, 223, 218, 212, 209, 222, 220, 221,\n",
              "        230,  67],\n",
              "       [ 48, 203, 183, 194, 213, 197, 185, 190, 194, 192, 202, 214, 219,\n",
              "        221, 220, 236, 225, 216, 199, 206, 186, 181, 177, 172, 181, 205,\n",
              "        206, 115],\n",
              "       [  0, 122, 219, 193, 179, 171, 183, 196, 204, 210, 213, 207, 211,\n",
              "        210, 200, 196, 194, 191, 195, 191, 198, 192, 176, 156, 167, 177,\n",
              "        210,  92],\n",
              "       [  0,   0,  74, 189, 212, 191, 175, 172, 175, 181, 185, 188, 189,\n",
              "        188, 193, 198, 204, 209, 210, 210, 211, 188, 188, 194, 192, 216,\n",
              "        170,   0],\n",
              "       [  2,   0,   0,   0,  66, 200, 222, 237, 239, 242, 246, 243, 244,\n",
              "        221, 220, 193, 191, 179, 182, 182, 181, 176, 166, 168,  99,  58,\n",
              "          0,   0],\n",
              "       [  0,   0,   0,   0,   0,   0,   0,  40,  61,  44,  72,  41,  35,\n",
              "          0,   0,   0,   0,   0,   0,   0,   0,   0,   0,   0,   0,   0,\n",
              "          0,   0],\n",
              "       [  0,   0,   0,   0,   0,   0,   0,   0,   0,   0,   0,   0,   0,\n",
              "          0,   0,   0,   0,   0,   0,   0,   0,   0,   0,   0,   0,   0,\n",
              "          0,   0],\n",
              "       [  0,   0,   0,   0,   0,   0,   0,   0,   0,   0,   0,   0,   0,\n",
              "          0,   0,   0,   0,   0,   0,   0,   0,   0,   0,   0,   0,   0,\n",
              "          0,   0]], dtype=uint8)"
            ]
          },
          "metadata": {},
          "execution_count": 3
        }
      ]
    },
    {
      "cell_type": "code",
      "source": [
        "y_train[0]"
      ],
      "metadata": {
        "colab": {
          "base_uri": "https://localhost:8080/"
        },
        "id": "MPVSOAv-sExD",
        "outputId": "4dedc92e-4855-4c23-c786-02d06039d35b"
      },
      "execution_count": 4,
      "outputs": [
        {
          "output_type": "execute_result",
          "data": {
            "text/plain": [
              "9"
            ]
          },
          "metadata": {},
          "execution_count": 4
        }
      ]
    },
    {
      "cell_type": "code",
      "source": [
        "x_train = x_train.astype('float32')\n",
        "x_test = x_test.astype('float32')"
      ],
      "metadata": {
        "id": "Ay02mxTYTmQL"
      },
      "execution_count": 5,
      "outputs": []
    },
    {
      "cell_type": "markdown",
      "source": [
        "Plot images"
      ],
      "metadata": {
        "id": "vXqUGqVAa3mZ"
      }
    },
    {
      "cell_type": "code",
      "source": [
        "for i in range(9):\n",
        "  plt.subplot(330 + 1 + i)\n",
        "  plt.imshow(x_train[i], cmap=plt.get_cmap('gray'))\n",
        "plt.show()"
      ],
      "metadata": {
        "colab": {
          "base_uri": "https://localhost:8080/",
          "height": 268
        },
        "id": "uwCu4NLVuRoY",
        "outputId": "a4f40233-d2a4-4a83-893f-c2436732c877"
      },
      "execution_count": 6,
      "outputs": [
        {
          "output_type": "display_data",
          "data": {
            "image/png": "[encoded data removed]",
            "text/plain": [
              "<Figure size 432x288 with 9 Axes>"
            ]
          },
          "metadata": {
            "needs_background": "light"
          }
        }
      ]
    },
    {
      "cell_type": "markdown",
      "source": [
        "Reshape to single channel"
      ],
      "metadata": {
        "id": "AEe07YAiIkf8"
      }
    },
    {
      "cell_type": "code",
      "source": [
        "x_train = x_train.reshape((x_train.shape[0],28,28,1))/255\n",
        "x_test = x_test.reshape((x_test.shape[0],28,28,1))/255\n",
        "\n",
        "x_train.shape,x_test.shape"
      ],
      "metadata": {
        "colab": {
          "base_uri": "https://localhost:8080/"
        },
        "id": "rnE1F-DkF40a",
        "outputId": "784aab23-195a-4d68-9326-0fbc4097d04b"
      },
      "execution_count": 7,
      "outputs": [
        {
          "output_type": "execute_result",
          "data": {
            "text/plain": [
              "((60000, 28, 28, 1), (10000, 28, 28, 1))"
            ]
          },
          "metadata": {},
          "execution_count": 7
        }
      ]
    },
    {
      "cell_type": "code",
      "source": [
        "y_train_hot = tf.one_hot(y_train,depth=len(set(y_train)))\n",
        "y_test_hot = tf.one_hot(y_test,depth=len(set(y_test)))\n",
        "\n",
        "y_train_hot.shape,y_test_hot.shape"
      ],
      "metadata": {
        "colab": {
          "base_uri": "https://localhost:8080/"
        },
        "id": "TWAENPLnIUj0",
        "outputId": "db3ab8ed-5107-4935-8c6a-3219797bc85b"
      },
      "execution_count": 8,
      "outputs": [
        {
          "output_type": "execute_result",
          "data": {
            "text/plain": [
              "(TensorShape([60000, 10]), TensorShape([10000, 10]))"
            ]
          },
          "metadata": {},
          "execution_count": 8
        }
      ]
    },
    {
      "cell_type": "markdown",
      "source": [
        "Knowing GPU type"
      ],
      "metadata": {
        "id": "RhXHPXmfaQng"
      }
    },
    {
      "cell_type": "code",
      "metadata": {
        "id": "aY07hBcetXD4",
        "colab": {
          "base_uri": "https://localhost:8080/"
        },
        "outputId": "375b4717-ad57-4e2a-95a7-a7e6504d6c45"
      },
      "source": [
        "! nvidia-smi"
      ],
      "execution_count": 9,
      "outputs": [
        {
          "output_type": "stream",
          "name": "stdout",
          "text": [
            "Wed Dec 15 15:18:12 2021       \n",
            "+-----------------------------------------------------------------------------+\n",
            "| NVIDIA-SMI 495.44       Driver Version: 460.32.03    CUDA Version: 11.2     |\n",
            "|-------------------------------+----------------------+----------------------+\n",
            "| GPU  Name        Persistence-M| Bus-Id        Disp.A | Volatile Uncorr. ECC |\n",
            "| Fan  Temp  Perf  Pwr:Usage/Cap|         Memory-Usage | GPU-Util  Compute M. |\n",
            "|                               |                      |               MIG M. |\n",
            "|===============================+======================+======================|\n",
            "|   0  Tesla K80           Off  | 00000000:00:04.0 Off |                    0 |\n",
            "| N/A   62C    P0    71W / 149W |    151MiB / 11441MiB |      1%      Default |\n",
            "|                               |                      |                  N/A |\n",
            "+-------------------------------+----------------------+----------------------+\n",
            "                                                                               \n",
            "+-----------------------------------------------------------------------------+\n",
            "| Processes:                                                                  |\n",
            "|  GPU   GI   CI        PID   Type   Process name                  GPU Memory |\n",
            "|        ID   ID                                                   Usage      |\n",
            "|=============================================================================|\n",
            "|  No running processes found                                                 |\n",
            "+-----------------------------------------------------------------------------+\n"
          ]
        }
      ]
    },
    {
      "cell_type": "markdown",
      "source": [
        "#Build model "
      ],
      "metadata": {
        "id": "StmVDas-xB2L"
      }
    },
    {
      "cell_type": "markdown",
      "source": [
        "Model architecture "
      ],
      "metadata": {
        "id": "bb9K0-gCL207"
      }
    },
    {
      "cell_type": "code",
      "source": [
        "model = Sequential()\n",
        "model.add(Conv2D(32,(3,3),activation='relu',kernel_initializer='he_uniform',input_shape=(28,28,1)))\n",
        "model.add(MaxPool2D((2,2)))\n",
        "model.add(Flatten())\n",
        "model.add(Dense(100,activation='relu',kernel_initializer='he_uniform'))\n",
        "model.add(Dense(10,activation='softmax',name='output'))"
      ],
      "metadata": {
        "id": "xIHsl3vxw_gO"
      },
      "execution_count": 35,
      "outputs": []
    },
    {
      "cell_type": "code",
      "source": [
        "model.summary()"
      ],
      "metadata": {
        "colab": {
          "base_uri": "https://localhost:8080/"
        },
        "id": "yyw2b9WrAUoF",
        "outputId": "3df8ad4a-b638-4a9c-8d8a-87cf51e47390"
      },
      "execution_count": 36,
      "outputs": [
        {
          "output_type": "stream",
          "name": "stdout",
          "text": [
            "Model: \"sequential_1\"\n",
            "_________________________________________________________________\n",
            " Layer (type)                Output Shape              Param #   \n",
            "=================================================================\n",
            " conv2d_1 (Conv2D)           (None, 26, 26, 32)        320       \n",
            "                                                                 \n",
            " max_pooling2d_1 (MaxPooling  (None, 13, 13, 32)       0         \n",
            " 2D)                                                             \n",
            "                                                                 \n",
            " flatten_1 (Flatten)         (None, 5408)              0         \n",
            "                                                                 \n",
            " dense_1 (Dense)             (None, 100)               540900    \n",
            "                                                                 \n",
            " output (Dense)              (None, 10)                1010      \n",
            "                                                                 \n",
            "=================================================================\n",
            "Total params: 542,230\n",
            "Trainable params: 542,230\n",
            "Non-trainable params: 0\n",
            "_________________________________________________________________\n"
          ]
        }
      ]
    },
    {
      "cell_type": "markdown",
      "source": [
        "model compile"
      ],
      "metadata": {
        "id": "CWO15ITY9m1M"
      }
    },
    {
      "cell_type": "code",
      "source": [
        "OPT = tf.optimizers.SGD(momentum=0.9)\n",
        "LOSS = tf.losses.CategoricalCrossentropy()\n",
        "\n",
        "model.compile(optimizer=OPT,loss=LOSS,metrics=['accuracy'])"
      ],
      "metadata": {
        "id": "pfo8K0Cl7che"
      },
      "execution_count": 37,
      "outputs": []
    },
    {
      "cell_type": "markdown",
      "source": [
        "##Evaluate "
      ],
      "metadata": {
        "id": "V5nE1A4ULsSo"
      }
    },
    {
      "cell_type": "markdown",
      "source": [
        "Validation "
      ],
      "metadata": {
        "id": "vpS_mP46BDPk"
      }
    },
    {
      "cell_type": "code",
      "source": [
        "x_val = x_train[:12000]\n",
        "y_val = y_train_hot[:12000]\n",
        "\n",
        "x_val.shape, y_val.shape"
      ],
      "metadata": {
        "colab": {
          "base_uri": "https://localhost:8080/"
        },
        "id": "cZFy2hooLyWe",
        "outputId": "c1f63699-9f4c-4f13-a0c2-a1e30f999b0f"
      },
      "execution_count": 38,
      "outputs": [
        {
          "output_type": "execute_result",
          "data": {
            "text/plain": [
              "((12000, 28, 28, 1), TensorShape([12000, 10]))"
            ]
          },
          "metadata": {},
          "execution_count": 38
        }
      ]
    },
    {
      "cell_type": "markdown",
      "source": [
        "Hyperparameter "
      ],
      "metadata": {
        "id": "v0wZql3dBPrp"
      }
    },
    {
      "cell_type": "code",
      "source": [
        "BATCH_SIZE = 32\n",
        "EPOCHS = 60"
      ],
      "metadata": {
        "id": "mQiUQJ3TA-Fx"
      },
      "execution_count": 39,
      "outputs": []
    },
    {
      "cell_type": "markdown",
      "source": [
        "**And here we go!**"
      ],
      "metadata": {
        "id": "h1a_vIf9BxV6"
      }
    },
    {
      "cell_type": "code",
      "source": [
        "model.fit(x=x_train,y=y_train_hot,batch_size=BATCH_SIZE,epochs=EPOCHS,validation_data=(x_val,y_val))"
      ],
      "metadata": {
        "colab": {
          "base_uri": "https://localhost:8080/"
        },
        "id": "VGLO-1I0Bwe4",
        "outputId": "84b56bc3-a963-4a0d-d8df-abe6e8fa94f5"
      },
      "execution_count": 40,
      "outputs": [
        {
          "output_type": "stream",
          "name": "stdout",
          "text": [
            "Epoch 1/60\n",
            "1875/1875 [==============================] - 10s 5ms/step - loss: 0.4248 - accuracy: 0.8482 - val_loss: 0.2979 - val_accuracy: 0.8922\n",
            "Epoch 2/60\n",
            "1875/1875 [==============================] - 10s 5ms/step - loss: 0.2850 - accuracy: 0.8964 - val_loss: 0.2367 - val_accuracy: 0.9124\n",
            "Epoch 3/60\n",
            "1875/1875 [==============================] - 10s 5ms/step - loss: 0.2459 - accuracy: 0.9095 - val_loss: 0.2063 - val_accuracy: 0.9252\n",
            "Epoch 4/60\n",
            "1875/1875 [==============================] - 10s 5ms/step - loss: 0.2187 - accuracy: 0.9196 - val_loss: 0.1874 - val_accuracy: 0.9328\n",
            "Epoch 5/60\n",
            "1875/1875 [==============================] - 10s 5ms/step - loss: 0.1954 - accuracy: 0.9286 - val_loss: 0.1597 - val_accuracy: 0.9406\n",
            "Epoch 6/60\n",
            "1875/1875 [==============================] - 10s 5ms/step - loss: 0.1769 - accuracy: 0.9351 - val_loss: 0.1459 - val_accuracy: 0.9455\n",
            "Epoch 7/60\n",
            "1875/1875 [==============================] - 10s 5ms/step - loss: 0.1595 - accuracy: 0.9416 - val_loss: 0.1329 - val_accuracy: 0.9514\n",
            "Epoch 8/60\n",
            "1875/1875 [==============================] - 10s 5ms/step - loss: 0.1471 - accuracy: 0.9457 - val_loss: 0.1217 - val_accuracy: 0.9555\n",
            "Epoch 9/60\n",
            "1875/1875 [==============================] - 10s 5ms/step - loss: 0.1328 - accuracy: 0.9504 - val_loss: 0.1000 - val_accuracy: 0.9650\n",
            "Epoch 10/60\n",
            "1875/1875 [==============================] - 10s 5ms/step - loss: 0.1202 - accuracy: 0.9563 - val_loss: 0.1074 - val_accuracy: 0.9573\n",
            "Epoch 11/60\n",
            "1875/1875 [==============================] - 10s 5ms/step - loss: 0.1082 - accuracy: 0.9601 - val_loss: 0.0846 - val_accuracy: 0.9697\n",
            "Epoch 12/60\n",
            "1875/1875 [==============================] - 10s 5ms/step - loss: 0.0980 - accuracy: 0.9640 - val_loss: 0.0858 - val_accuracy: 0.9677\n",
            "Epoch 13/60\n",
            "1875/1875 [==============================] - 10s 5ms/step - loss: 0.0919 - accuracy: 0.9668 - val_loss: 0.0681 - val_accuracy: 0.9762\n",
            "Epoch 14/60\n",
            "1875/1875 [==============================] - 10s 6ms/step - loss: 0.0813 - accuracy: 0.9707 - val_loss: 0.0627 - val_accuracy: 0.9779\n",
            "Epoch 15/60\n",
            "1875/1875 [==============================] - 10s 5ms/step - loss: 0.0714 - accuracy: 0.9738 - val_loss: 0.0497 - val_accuracy: 0.9837\n",
            "Epoch 16/60\n",
            "1875/1875 [==============================] - 10s 5ms/step - loss: 0.0650 - accuracy: 0.9768 - val_loss: 0.0464 - val_accuracy: 0.9840\n",
            "Epoch 17/60\n",
            "1875/1875 [==============================] - 10s 5ms/step - loss: 0.0566 - accuracy: 0.9797 - val_loss: 0.0532 - val_accuracy: 0.9805\n",
            "Epoch 18/60\n",
            "1875/1875 [==============================] - 10s 5ms/step - loss: 0.0531 - accuracy: 0.9805 - val_loss: 0.0477 - val_accuracy: 0.9828\n",
            "Epoch 19/60\n",
            "1875/1875 [==============================] - 10s 5ms/step - loss: 0.0460 - accuracy: 0.9833 - val_loss: 0.0297 - val_accuracy: 0.9904\n",
            "Epoch 20/60\n",
            "1875/1875 [==============================] - 10s 5ms/step - loss: 0.0406 - accuracy: 0.9862 - val_loss: 0.0240 - val_accuracy: 0.9929\n",
            "Epoch 21/60\n",
            "1875/1875 [==============================] - 10s 5ms/step - loss: 0.0343 - accuracy: 0.9884 - val_loss: 0.0229 - val_accuracy: 0.9922\n",
            "Epoch 22/60\n",
            "1875/1875 [==============================] - 10s 5ms/step - loss: 0.0304 - accuracy: 0.9893 - val_loss: 0.0236 - val_accuracy: 0.9933\n",
            "Epoch 23/60\n",
            "1875/1875 [==============================] - 10s 5ms/step - loss: 0.0261 - accuracy: 0.9915 - val_loss: 0.0175 - val_accuracy: 0.9941\n",
            "Epoch 24/60\n",
            "1875/1875 [==============================] - 10s 5ms/step - loss: 0.0267 - accuracy: 0.9910 - val_loss: 0.0363 - val_accuracy: 0.9865\n",
            "Epoch 25/60\n",
            "1875/1875 [==============================] - 10s 5ms/step - loss: 0.0221 - accuracy: 0.9931 - val_loss: 0.0132 - val_accuracy: 0.9961\n",
            "Epoch 26/60\n",
            "1875/1875 [==============================] - 10s 5ms/step - loss: 0.0177 - accuracy: 0.9942 - val_loss: 0.0091 - val_accuracy: 0.9979\n",
            "Epoch 27/60\n",
            "1875/1875 [==============================] - 10s 5ms/step - loss: 0.0183 - accuracy: 0.9943 - val_loss: 0.0156 - val_accuracy: 0.9952\n",
            "Epoch 28/60\n",
            "1875/1875 [==============================] - 10s 5ms/step - loss: 0.0156 - accuracy: 0.9949 - val_loss: 0.0092 - val_accuracy: 0.9977\n",
            "Epoch 29/60\n",
            "1875/1875 [==============================] - 10s 5ms/step - loss: 0.0121 - accuracy: 0.9965 - val_loss: 0.0101 - val_accuracy: 0.9971\n",
            "Epoch 30/60\n",
            "1875/1875 [==============================] - 10s 5ms/step - loss: 0.0129 - accuracy: 0.9963 - val_loss: 0.0119 - val_accuracy: 0.9964\n",
            "Epoch 31/60\n",
            "1875/1875 [==============================] - 10s 5ms/step - loss: 0.0095 - accuracy: 0.9974 - val_loss: 0.0092 - val_accuracy: 0.9971\n",
            "Epoch 32/60\n",
            "1875/1875 [==============================] - 10s 5ms/step - loss: 0.0081 - accuracy: 0.9977 - val_loss: 0.0112 - val_accuracy: 0.9964\n",
            "Epoch 33/60\n",
            "1875/1875 [==============================] - 10s 5ms/step - loss: 0.0085 - accuracy: 0.9976 - val_loss: 0.0061 - val_accuracy: 0.9983\n",
            "Epoch 34/60\n",
            "1875/1875 [==============================] - 10s 5ms/step - loss: 0.0046 - accuracy: 0.9992 - val_loss: 0.0015 - val_accuracy: 1.0000\n",
            "Epoch 35/60\n",
            "1875/1875 [==============================] - 10s 5ms/step - loss: 0.0021 - accuracy: 0.9997 - val_loss: 0.0011 - val_accuracy: 0.9999\n",
            "Epoch 36/60\n",
            "1875/1875 [==============================] - 10s 5ms/step - loss: 0.0020 - accuracy: 0.9997 - val_loss: 9.0081e-04 - val_accuracy: 1.0000\n",
            "Epoch 37/60\n",
            "1875/1875 [==============================] - 10s 5ms/step - loss: 8.6077e-04 - accuracy: 1.0000 - val_loss: 0.0011 - val_accuracy: 1.0000\n",
            "Epoch 38/60\n",
            "1875/1875 [==============================] - 10s 5ms/step - loss: 7.4710e-04 - accuracy: 1.0000 - val_loss: 5.4234e-04 - val_accuracy: 1.0000\n",
            "Epoch 39/60\n",
            "1875/1875 [==============================] - 10s 5ms/step - loss: 5.7462e-04 - accuracy: 1.0000 - val_loss: 4.7473e-04 - val_accuracy: 1.0000\n",
            "Epoch 40/60\n",
            "1875/1875 [==============================] - 10s 5ms/step - loss: 5.1948e-04 - accuracy: 1.0000 - val_loss: 4.3468e-04 - val_accuracy: 1.0000\n",
            "Epoch 41/60\n",
            "1875/1875 [==============================] - 10s 5ms/step - loss: 4.6648e-04 - accuracy: 1.0000 - val_loss: 3.8511e-04 - val_accuracy: 1.0000\n",
            "Epoch 42/60\n",
            "1875/1875 [==============================] - 10s 5ms/step - loss: 4.3360e-04 - accuracy: 1.0000 - val_loss: 3.7804e-04 - val_accuracy: 1.0000\n",
            "Epoch 43/60\n",
            "1875/1875 [==============================] - 10s 5ms/step - loss: 4.0692e-04 - accuracy: 1.0000 - val_loss: 3.3681e-04 - val_accuracy: 1.0000\n",
            "Epoch 44/60\n",
            "1875/1875 [==============================] - 10s 5ms/step - loss: 3.8274e-04 - accuracy: 1.0000 - val_loss: 3.2028e-04 - val_accuracy: 1.0000\n",
            "Epoch 45/60\n",
            "1875/1875 [==============================] - 10s 5ms/step - loss: 3.5848e-04 - accuracy: 1.0000 - val_loss: 3.0420e-04 - val_accuracy: 1.0000\n",
            "Epoch 46/60\n",
            "1875/1875 [==============================] - 10s 5ms/step - loss: 3.4160e-04 - accuracy: 1.0000 - val_loss: 2.9456e-04 - val_accuracy: 1.0000\n",
            "Epoch 47/60\n",
            "1875/1875 [==============================] - 10s 5ms/step - loss: 3.2321e-04 - accuracy: 1.0000 - val_loss: 2.7640e-04 - val_accuracy: 1.0000\n",
            "Epoch 48/60\n",
            "1875/1875 [==============================] - 10s 5ms/step - loss: 3.1008e-04 - accuracy: 1.0000 - val_loss: 2.6755e-04 - val_accuracy: 1.0000\n",
            "Epoch 49/60\n",
            "1875/1875 [==============================] - 10s 5ms/step - loss: 2.9346e-04 - accuracy: 1.0000 - val_loss: 2.5722e-04 - val_accuracy: 1.0000\n",
            "Epoch 50/60\n",
            "1875/1875 [==============================] - 10s 5ms/step - loss: 2.8271e-04 - accuracy: 1.0000 - val_loss: 2.4239e-04 - val_accuracy: 1.0000\n",
            "Epoch 51/60\n",
            "1875/1875 [==============================] - 10s 5ms/step - loss: 2.7092e-04 - accuracy: 1.0000 - val_loss: 2.3485e-04 - val_accuracy: 1.0000\n",
            "Epoch 52/60\n",
            "1875/1875 [==============================] - 10s 5ms/step - loss: 2.6016e-04 - accuracy: 1.0000 - val_loss: 2.3229e-04 - val_accuracy: 1.0000\n",
            "Epoch 53/60\n",
            "1875/1875 [==============================] - 10s 5ms/step - loss: 2.4996e-04 - accuracy: 1.0000 - val_loss: 2.1523e-04 - val_accuracy: 1.0000\n",
            "Epoch 54/60\n",
            "1875/1875 [==============================] - 10s 5ms/step - loss: 2.4157e-04 - accuracy: 1.0000 - val_loss: 2.1355e-04 - val_accuracy: 1.0000\n",
            "Epoch 55/60\n",
            "1875/1875 [==============================] - 10s 5ms/step - loss: 2.3302e-04 - accuracy: 1.0000 - val_loss: 2.0395e-04 - val_accuracy: 1.0000\n",
            "Epoch 56/60\n",
            "1875/1875 [==============================] - 10s 5ms/step - loss: 2.2495e-04 - accuracy: 1.0000 - val_loss: 1.9704e-04 - val_accuracy: 1.0000\n",
            "Epoch 57/60\n",
            "1875/1875 [==============================] - 10s 5ms/step - loss: 2.1766e-04 - accuracy: 1.0000 - val_loss: 1.9115e-04 - val_accuracy: 1.0000\n",
            "Epoch 58/60\n",
            "1875/1875 [==============================] - 10s 5ms/step - loss: 2.1166e-04 - accuracy: 1.0000 - val_loss: 1.8469e-04 - val_accuracy: 1.0000\n",
            "Epoch 59/60\n",
            "1875/1875 [==============================] - 10s 5ms/step - loss: 2.0453e-04 - accuracy: 1.0000 - val_loss: 1.8309e-04 - val_accuracy: 1.0000\n",
            "Epoch 60/60\n",
            "1875/1875 [==============================] - 10s 5ms/step - loss: 1.9882e-04 - accuracy: 1.0000 - val_loss: 1.7613e-04 - val_accuracy: 1.0000\n"
          ]
        },
        {
          "output_type": "execute_result",
          "data": {
            "text/plain": [
              "<keras.callbacks.History at 0x7fa314e7bf90>"
            ]
          },
          "metadata": {},
          "execution_count": 40
        }
      ]
    },
    {
      "cell_type": "code",
      "source": [
        "hist_df=pd.DataFrame(model.history.history)"
      ],
      "metadata": {
        "id": "1_QjFmrgK0-m"
      },
      "execution_count": 41,
      "outputs": []
    },
    {
      "cell_type": "code",
      "source": [
        "hist_df.plot()"
      ],
      "metadata": {
        "colab": {
          "base_uri": "https://localhost:8080/",
          "height": 282
        },
        "id": "rlj0ErCQPLXx",
        "outputId": "d9a9645d-ae8c-4bda-98a3-c006aa11a76f"
      },
      "execution_count": 42,
      "outputs": [
        {
          "output_type": "execute_result",
          "data": {
            "text/plain": [
              "<matplotlib.axes._subplots.AxesSubplot at 0x7fa38da6d490>"
            ]
          },
          "metadata": {},
          "execution_count": 42
        },
        {
          "output_type": "display_data",
          "data": {
            "image/png": "[encoded data removed]",
            "text/plain": [
              "<Figure size 432x288 with 1 Axes>"
            ]
          },
          "metadata": {
            "needs_background": "light"
          }
        }
      ]
    },
    {
      "cell_type": "code",
      "source": [
        "pred = model.predict(x_test)"
      ],
      "metadata": {
        "id": "w4nihvd-LHxQ"
      },
      "execution_count": 43,
      "outputs": []
    },
    {
      "cell_type": "code",
      "source": [
        "tf.argmax(pred,axis=-1)"
      ],
      "metadata": {
        "colab": {
          "base_uri": "https://localhost:8080/"
        },
        "id": "OkoDvC7NL1V3",
        "outputId": "7a2cd3de-89c3-419f-ecee-3fe993ad1c14"
      },
      "execution_count": 44,
      "outputs": [
        {
          "output_type": "execute_result",
          "data": {
            "text/plain": [
              "<tf.Tensor: shape=(10000,), dtype=int64, numpy=array([9, 2, 1, ..., 8, 1, 5])>"
            ]
          },
          "metadata": {},
          "execution_count": 44
        }
      ]
    },
    {
      "cell_type": "code",
      "source": [
        "accuracy = tf.reduce_mean(tf.metrics.categorical_accuracy(y_test_hot,pred))\n",
        "print('accuracy', accuracy)"
      ],
      "metadata": {
        "colab": {
          "base_uri": "https://localhost:8080/"
        },
        "id": "qzcoOSDzL8T3",
        "outputId": "b6579a50-4df1-4e19-d9fd-cba09c1aca07"
      },
      "execution_count": 45,
      "outputs": [
        {
          "output_type": "stream",
          "name": "stdout",
          "text": [
            "accuracy tf.Tensor(0.9157, shape=(), dtype=float32)\n"
          ]
        }
      ]
    },
    {
      "cell_type": "code",
      "source": [
        "with open('model.json','w') as outfile:\n",
        "  json.dump(model.to_json(),outfile)\n",
        "  model.save_weights('mnist.h1')"
      ],
      "metadata": {
        "id": "fHmcOOW90DbO"
      },
      "execution_count": 49,
      "outputs": []
    }
  ]
}