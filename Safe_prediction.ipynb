{
  "cells": [
    {
      "cell_type": "markdown",
      "metadata": {
        "id": "AuLazLN_BkfE"
      },
      "source": [
        "#df, safe(0) or not(1)"
      ]
    },
    {
      "cell_type": "markdown",
      "metadata": {
        "id": "AI5a9dsp25tG"
      },
      "source": [
        "##importing libraries "
      ]
    },
    {
      "cell_type": "code",
      "execution_count": 10,
      "metadata": {
        "id": "UUgZKEURxeMy"
      },
      "outputs": [],
      "source": [
        "import pandas as pd\n",
        "import numpy as np\n",
        "import seaborn as sns\n",
        "import matplotlib.pyplot as plt\n",
        "from sklearn import preprocessing,model_selection,linear_model,metrics,svm,neighbors,tree\n",
        "from mlxtend.plotting import plot_confusion_matrix\n",
        "from sklearn.feature_extraction.text import TfidfVectorizer\n",
        "from sklearn.ensemble import RandomForestClassifier"
      ]
    },
    {
      "cell_type": "markdown",
      "metadata": {
        "id": "MAGhXwRUB4wu"
      },
      "source": [
        "##load CSV dataset"
      ]
    },
    {
      "cell_type": "code",
      "execution_count": 11,
      "metadata": {
        "colab": {
          "base_uri": "https://localhost:8080/",
          "height": 1000
        },
        "id": "--r4vU5SyxEF",
        "outputId": "12c72b75-b204-495a-ecbe-a7413934acaf"
      },
      "outputs": [
        {
          "output_type": "execute_result",
          "data": {
            "text/html": [
              "\n",
              "  <div id=\"df-bc14b018-a6d6-43af-883f-0484f3fa7c65\">\n",
              "    <div class=\"colab-df-container\">\n",
              "      <div>\n",
              "<style scoped>\n",
              "    .dataframe tbody tr th:only-of-type {\n",
              "        vertical-align: middle;\n",
              "    }\n",
              "\n",
              "    .dataframe tbody tr th {\n",
              "        vertical-align: top;\n",
              "    }\n",
              "\n",
              "    .dataframe thead th {\n",
              "        text-align: right;\n",
              "    }\n",
              "</style>\n",
              "<table border=\"1\" class=\"dataframe\">\n",
              "  <thead>\n",
              "    <tr style=\"text-align: right;\">\n",
              "      <th></th>\n",
              "      <th>label</th>\n",
              "      <th>text</th>\n",
              "      <th>Unnamed: 2</th>\n",
              "    </tr>\n",
              "  </thead>\n",
              "  <tbody>\n",
              "    <tr>\n",
              "      <th>0</th>\n",
              "      <td>0</td>\n",
              "      <td>This is mike smith from orange. I am a sales r...</td>\n",
              "      <td>NaN</td>\n",
              "    </tr>\n",
              "    <tr>\n",
              "      <th>1</th>\n",
              "      <td>0</td>\n",
              "      <td>Hi this is mike jones from orange. I am the sa...</td>\n",
              "      <td>NaN</td>\n",
              "    </tr>\n",
              "    <tr>\n",
              "      <th>2</th>\n",
              "      <td>1</td>\n",
              "      <td>I am john doe from apple computers where I am ...</td>\n",
              "      <td>NaN</td>\n",
              "    </tr>\n",
              "    <tr>\n",
              "      <th>3</th>\n",
              "      <td>1</td>\n",
              "      <td>This is john candy from apple. I am a computer...</td>\n",
              "      <td>NaN</td>\n",
              "    </tr>\n",
              "    <tr>\n",
              "      <th>4</th>\n",
              "      <td>0</td>\n",
              "      <td>hi this is moe sislack from moes tavern. I am ...</td>\n",
              "      <td>NaN</td>\n",
              "    </tr>\n",
              "    <tr>\n",
              "      <th>...</th>\n",
              "      <td>...</td>\n",
              "      <td>...</td>\n",
              "      <td>...</td>\n",
              "    </tr>\n",
              "    <tr>\n",
              "      <th>5295</th>\n",
              "      <td>0</td>\n",
              "      <td>K..then come wenever u lik to come and also te...</td>\n",
              "      <td>NaN</td>\n",
              "    </tr>\n",
              "    <tr>\n",
              "      <th>5296</th>\n",
              "      <td>0</td>\n",
              "      <td>Pls call me da. What happen.</td>\n",
              "      <td>NaN</td>\n",
              "    </tr>\n",
              "    <tr>\n",
              "      <th>5297</th>\n",
              "      <td>0</td>\n",
              "      <td>Happy new year to u and ur family...may this n...</td>\n",
              "      <td>NaN</td>\n",
              "    </tr>\n",
              "    <tr>\n",
              "      <th>5298</th>\n",
              "      <td>0</td>\n",
              "      <td>No problem with the renewal. I.ll do it right ...</td>\n",
              "      <td>NaN</td>\n",
              "    </tr>\n",
              "    <tr>\n",
              "      <th>5299</th>\n",
              "      <td>0</td>\n",
              "      <td>Idk. I'm sitting here in a stop and shop parki...</td>\n",
              "      <td>NaN</td>\n",
              "    </tr>\n",
              "  </tbody>\n",
              "</table>\n",
              "<p>5300 rows × 3 columns</p>\n",
              "</div>\n",
              "      <button class=\"colab-df-convert\" onclick=\"convertToInteractive('df-bc14b018-a6d6-43af-883f-0484f3fa7c65')\"\n",
              "              title=\"Convert this dataframe to an interactive table.\"\n",
              "              style=\"display:none;\">\n",
              "        \n",
              "  <svg xmlns=\"http://www.w3.org/2000/svg\" height=\"24px\"viewBox=\"0 0 24 24\"\n",
              "       width=\"24px\">\n",
              "    <path d=\"M0 0h24v24H0V0z\" fill=\"none\"/>\n",
              "    <path d=\"M18.56 5.44l.94 2.06.94-2.06 2.06-.94-2.06-.94-.94-2.06-.94 2.06-2.06.94zm-11 1L8.5 8.5l.94-2.06 2.06-.94-2.06-.94L8.5 2.5l-.94 2.06-2.06.94zm10 10l.94 2.06.94-2.06 2.06-.94-2.06-.94-.94-2.06-.94 2.06-2.06.94z\"/><path d=\"M17.41 7.96l-1.37-1.37c-.4-.4-.92-.59-1.43-.59-.52 0-1.04.2-1.43.59L10.3 9.45l-7.72 7.72c-.78.78-.78 2.05 0 2.83L4 21.41c.39.39.9.59 1.41.59.51 0 1.02-.2 1.41-.59l7.78-7.78 2.81-2.81c.8-.78.8-2.07 0-2.86zM5.41 20L4 18.59l7.72-7.72 1.47 1.35L5.41 20z\"/>\n",
              "  </svg>\n",
              "      </button>\n",
              "      \n",
              "  <style>\n",
              "    .colab-df-container {\n",
              "      display:flex;\n",
              "      flex-wrap:wrap;\n",
              "      gap: 12px;\n",
              "    }\n",
              "\n",
              "    .colab-df-convert {\n",
              "      background-color: #E8F0FE;\n",
              "      border: none;\n",
              "      border-radius: 50%;\n",
              "      cursor: pointer;\n",
              "      display: none;\n",
              "      fill: #1967D2;\n",
              "      height: 32px;\n",
              "      padding: 0 0 0 0;\n",
              "      width: 32px;\n",
              "    }\n",
              "\n",
              "    .colab-df-convert:hover {\n",
              "      background-color: #E2EBFA;\n",
              "      box-shadow: 0px 1px 2px rgba(60, 64, 67, 0.3), 0px 1px 3px 1px rgba(60, 64, 67, 0.15);\n",
              "      fill: #174EA6;\n",
              "    }\n",
              "\n",
              "    [theme=dark] .colab-df-convert {\n",
              "      background-color: #3B4455;\n",
              "      fill: #D2E3FC;\n",
              "    }\n",
              "\n",
              "    [theme=dark] .colab-df-convert:hover {\n",
              "      background-color: #434B5C;\n",
              "      box-shadow: 0px 1px 3px 1px rgba(0, 0, 0, 0.15);\n",
              "      filter: drop-shadow(0px 1px 2px rgba(0, 0, 0, 0.3));\n",
              "      fill: #FFFFFF;\n",
              "    }\n",
              "  </style>\n",
              "\n",
              "      <script>\n",
              "        const buttonEl =\n",
              "          document.querySelector('#df-bc14b018-a6d6-43af-883f-0484f3fa7c65 button.colab-df-convert');\n",
              "        buttonEl.style.display =\n",
              "          google.colab.kernel.accessAllowed ? 'block' : 'none';\n",
              "\n",
              "        async function convertToInteractive(key) {\n",
              "          const element = document.querySelector('#df-bc14b018-a6d6-43af-883f-0484f3fa7c65');\n",
              "          const dataTable =\n",
              "            await google.colab.kernel.invokeFunction('convertToInteractive',\n",
              "                                                     [key], {});\n",
              "          if (!dataTable) return;\n",
              "\n",
              "          const docLinkHtml = 'Like what you see? Visit the ' +\n",
              "            '<a target=\"_blank\" href=https://colab.research.google.com/notebooks/data_table.ipynb>data table notebook</a>'\n",
              "            + ' to learn more about interactive tables.';\n",
              "          element.innerHTML = '';\n",
              "          dataTable['output_type'] = 'display_data';\n",
              "          await google.colab.output.renderOutput(dataTable, element);\n",
              "          const docLink = document.createElement('div');\n",
              "          docLink.innerHTML = docLinkHtml;\n",
              "          element.appendChild(docLink);\n",
              "        }\n",
              "      </script>\n",
              "    </div>\n",
              "  </div>\n",
              "  "
            ],
            "text/plain": [
              "      label                                               text Unnamed: 2\n",
              "0         0  This is mike smith from orange. I am a sales r...        NaN\n",
              "1         0  Hi this is mike jones from orange. I am the sa...        NaN\n",
              "2         1  I am john doe from apple computers where I am ...        NaN\n",
              "3         1  This is john candy from apple. I am a computer...        NaN\n",
              "4         0  hi this is moe sislack from moes tavern. I am ...        NaN\n",
              "...     ...                                                ...        ...\n",
              "5295      0  K..then come wenever u lik to come and also te...        NaN\n",
              "5296      0                       Pls call me da. What happen.        NaN\n",
              "5297      0  Happy new year to u and ur family...may this n...        NaN\n",
              "5298      0  No problem with the renewal. I.ll do it right ...        NaN\n",
              "5299      0  Idk. I'm sitting here in a stop and shop parki...        NaN\n",
              "\n",
              "[5300 rows x 3 columns]"
            ]
          },
          "metadata": {},
          "execution_count": 11
        }
      ],
      "source": [
        "df = pd.read_csv('dialogues_dataset_formatted_added_links_proc.csv',encoding='latin-1')\n",
        "df"
      ]
    },
    {
      "cell_type": "code",
      "execution_count": 12,
      "metadata": {
        "colab": {
          "base_uri": "https://localhost:8080/"
        },
        "id": "OIMmyjg3zyzK",
        "outputId": "9e44f6c7-c232-49b8-c50c-9da1113f30fc"
      },
      "outputs": [
        {
          "output_type": "execute_result",
          "data": {
            "text/plain": [
              "(5300, 3)"
            ]
          },
          "metadata": {},
          "execution_count": 12
        }
      ],
      "source": [
        "df.shape"
      ]
    },
    {
      "cell_type": "code",
      "execution_count": 13,
      "metadata": {
        "colab": {
          "base_uri": "https://localhost:8080/"
        },
        "id": "_G80B7PR0Odu",
        "outputId": "ac3bffbc-1822-4bf3-e1b4-816c03311648"
      },
      "outputs": [
        {
          "output_type": "stream",
          "name": "stdout",
          "text": [
            "<class 'pandas.core.frame.DataFrame'>\n",
            "RangeIndex: 5300 entries, 0 to 5299\n",
            "Data columns (total 3 columns):\n",
            " #   Column      Non-Null Count  Dtype \n",
            "---  ------      --------------  ----- \n",
            " 0   label       5300 non-null   int64 \n",
            " 1   text        5300 non-null   object\n",
            " 2   Unnamed: 2  4 non-null      object\n",
            "dtypes: int64(1), object(2)\n",
            "memory usage: 124.3+ KB\n"
          ]
        }
      ],
      "source": [
        "df.info()"
      ]
    },
    {
      "cell_type": "code",
      "source": [
        "df.isnull().sum()"
      ],
      "metadata": {
        "colab": {
          "base_uri": "https://localhost:8080/"
        },
        "id": "n1YOtRQwRlME",
        "outputId": "b5a9a49f-0594-4ac1-b955-899d6e43e3c8"
      },
      "execution_count": 14,
      "outputs": [
        {
          "output_type": "execute_result",
          "data": {
            "text/plain": [
              "label            0\n",
              "text             0\n",
              "Unnamed: 2    5296\n",
              "dtype: int64"
            ]
          },
          "metadata": {},
          "execution_count": 14
        }
      ]
    },
    {
      "cell_type": "markdown",
      "metadata": {
        "id": "mnYx5keUCB6I"
      },
      "source": [
        "##drop 'Unnamed: 2' column"
      ]
    },
    {
      "cell_type": "code",
      "execution_count": 15,
      "metadata": {
        "id": "Za3CNouT38oP"
      },
      "outputs": [],
      "source": [
        "df.drop(['Unnamed: 2'],axis=1,inplace=True)"
      ]
    },
    {
      "cell_type": "code",
      "execution_count": 16,
      "metadata": {
        "colab": {
          "base_uri": "https://localhost:8080/",
          "height": 1000
        },
        "id": "-N4szPsB4OMT",
        "outputId": "b376ad2e-a3e2-4977-9322-6983518ddbb9"
      },
      "outputs": [
        {
          "output_type": "execute_result",
          "data": {
            "text/html": [
              "\n",
              "  <div id=\"df-443bb67e-4a04-4f60-8106-08aa2b06d8bf\">\n",
              "    <div class=\"colab-df-container\">\n",
              "      <div>\n",
              "<style scoped>\n",
              "    .dataframe tbody tr th:only-of-type {\n",
              "        vertical-align: middle;\n",
              "    }\n",
              "\n",
              "    .dataframe tbody tr th {\n",
              "        vertical-align: top;\n",
              "    }\n",
              "\n",
              "    .dataframe thead th {\n",
              "        text-align: right;\n",
              "    }\n",
              "</style>\n",
              "<table border=\"1\" class=\"dataframe\">\n",
              "  <thead>\n",
              "    <tr style=\"text-align: right;\">\n",
              "      <th></th>\n",
              "      <th>label</th>\n",
              "      <th>text</th>\n",
              "    </tr>\n",
              "  </thead>\n",
              "  <tbody>\n",
              "    <tr>\n",
              "      <th>0</th>\n",
              "      <td>0</td>\n",
              "      <td>This is mike smith from orange. I am a sales r...</td>\n",
              "    </tr>\n",
              "    <tr>\n",
              "      <th>1</th>\n",
              "      <td>0</td>\n",
              "      <td>Hi this is mike jones from orange. I am the sa...</td>\n",
              "    </tr>\n",
              "    <tr>\n",
              "      <th>2</th>\n",
              "      <td>1</td>\n",
              "      <td>I am john doe from apple computers where I am ...</td>\n",
              "    </tr>\n",
              "    <tr>\n",
              "      <th>3</th>\n",
              "      <td>1</td>\n",
              "      <td>This is john candy from apple. I am a computer...</td>\n",
              "    </tr>\n",
              "    <tr>\n",
              "      <th>4</th>\n",
              "      <td>0</td>\n",
              "      <td>hi this is moe sislack from moes tavern. I am ...</td>\n",
              "    </tr>\n",
              "    <tr>\n",
              "      <th>...</th>\n",
              "      <td>...</td>\n",
              "      <td>...</td>\n",
              "    </tr>\n",
              "    <tr>\n",
              "      <th>5295</th>\n",
              "      <td>0</td>\n",
              "      <td>K..then come wenever u lik to come and also te...</td>\n",
              "    </tr>\n",
              "    <tr>\n",
              "      <th>5296</th>\n",
              "      <td>0</td>\n",
              "      <td>Pls call me da. What happen.</td>\n",
              "    </tr>\n",
              "    <tr>\n",
              "      <th>5297</th>\n",
              "      <td>0</td>\n",
              "      <td>Happy new year to u and ur family...may this n...</td>\n",
              "    </tr>\n",
              "    <tr>\n",
              "      <th>5298</th>\n",
              "      <td>0</td>\n",
              "      <td>No problem with the renewal. I.ll do it right ...</td>\n",
              "    </tr>\n",
              "    <tr>\n",
              "      <th>5299</th>\n",
              "      <td>0</td>\n",
              "      <td>Idk. I'm sitting here in a stop and shop parki...</td>\n",
              "    </tr>\n",
              "  </tbody>\n",
              "</table>\n",
              "<p>5300 rows × 2 columns</p>\n",
              "</div>\n",
              "      <button class=\"colab-df-convert\" onclick=\"convertToInteractive('df-443bb67e-4a04-4f60-8106-08aa2b06d8bf')\"\n",
              "              title=\"Convert this dataframe to an interactive table.\"\n",
              "              style=\"display:none;\">\n",
              "        \n",
              "  <svg xmlns=\"http://www.w3.org/2000/svg\" height=\"24px\"viewBox=\"0 0 24 24\"\n",
              "       width=\"24px\">\n",
              "    <path d=\"M0 0h24v24H0V0z\" fill=\"none\"/>\n",
              "    <path d=\"M18.56 5.44l.94 2.06.94-2.06 2.06-.94-2.06-.94-.94-2.06-.94 2.06-2.06.94zm-11 1L8.5 8.5l.94-2.06 2.06-.94-2.06-.94L8.5 2.5l-.94 2.06-2.06.94zm10 10l.94 2.06.94-2.06 2.06-.94-2.06-.94-.94-2.06-.94 2.06-2.06.94z\"/><path d=\"M17.41 7.96l-1.37-1.37c-.4-.4-.92-.59-1.43-.59-.52 0-1.04.2-1.43.59L10.3 9.45l-7.72 7.72c-.78.78-.78 2.05 0 2.83L4 21.41c.39.39.9.59 1.41.59.51 0 1.02-.2 1.41-.59l7.78-7.78 2.81-2.81c.8-.78.8-2.07 0-2.86zM5.41 20L4 18.59l7.72-7.72 1.47 1.35L5.41 20z\"/>\n",
              "  </svg>\n",
              "      </button>\n",
              "      \n",
              "  <style>\n",
              "    .colab-df-container {\n",
              "      display:flex;\n",
              "      flex-wrap:wrap;\n",
              "      gap: 12px;\n",
              "    }\n",
              "\n",
              "    .colab-df-convert {\n",
              "      background-color: #E8F0FE;\n",
              "      border: none;\n",
              "      border-radius: 50%;\n",
              "      cursor: pointer;\n",
              "      display: none;\n",
              "      fill: #1967D2;\n",
              "      height: 32px;\n",
              "      padding: 0 0 0 0;\n",
              "      width: 32px;\n",
              "    }\n",
              "\n",
              "    .colab-df-convert:hover {\n",
              "      background-color: #E2EBFA;\n",
              "      box-shadow: 0px 1px 2px rgba(60, 64, 67, 0.3), 0px 1px 3px 1px rgba(60, 64, 67, 0.15);\n",
              "      fill: #174EA6;\n",
              "    }\n",
              "\n",
              "    [theme=dark] .colab-df-convert {\n",
              "      background-color: #3B4455;\n",
              "      fill: #D2E3FC;\n",
              "    }\n",
              "\n",
              "    [theme=dark] .colab-df-convert:hover {\n",
              "      background-color: #434B5C;\n",
              "      box-shadow: 0px 1px 3px 1px rgba(0, 0, 0, 0.15);\n",
              "      filter: drop-shadow(0px 1px 2px rgba(0, 0, 0, 0.3));\n",
              "      fill: #FFFFFF;\n",
              "    }\n",
              "  </style>\n",
              "\n",
              "      <script>\n",
              "        const buttonEl =\n",
              "          document.querySelector('#df-443bb67e-4a04-4f60-8106-08aa2b06d8bf button.colab-df-convert');\n",
              "        buttonEl.style.display =\n",
              "          google.colab.kernel.accessAllowed ? 'block' : 'none';\n",
              "\n",
              "        async function convertToInteractive(key) {\n",
              "          const element = document.querySelector('#df-443bb67e-4a04-4f60-8106-08aa2b06d8bf');\n",
              "          const dataTable =\n",
              "            await google.colab.kernel.invokeFunction('convertToInteractive',\n",
              "                                                     [key], {});\n",
              "          if (!dataTable) return;\n",
              "\n",
              "          const docLinkHtml = 'Like what you see? Visit the ' +\n",
              "            '<a target=\"_blank\" href=https://colab.research.google.com/notebooks/data_table.ipynb>data table notebook</a>'\n",
              "            + ' to learn more about interactive tables.';\n",
              "          element.innerHTML = '';\n",
              "          dataTable['output_type'] = 'display_data';\n",
              "          await google.colab.output.renderOutput(dataTable, element);\n",
              "          const docLink = document.createElement('div');\n",
              "          docLink.innerHTML = docLinkHtml;\n",
              "          element.appendChild(docLink);\n",
              "        }\n",
              "      </script>\n",
              "    </div>\n",
              "  </div>\n",
              "  "
            ],
            "text/plain": [
              "      label                                               text\n",
              "0         0  This is mike smith from orange. I am a sales r...\n",
              "1         0  Hi this is mike jones from orange. I am the sa...\n",
              "2         1  I am john doe from apple computers where I am ...\n",
              "3         1  This is john candy from apple. I am a computer...\n",
              "4         0  hi this is moe sislack from moes tavern. I am ...\n",
              "...     ...                                                ...\n",
              "5295      0  K..then come wenever u lik to come and also te...\n",
              "5296      0                       Pls call me da. What happen.\n",
              "5297      0  Happy new year to u and ur family...may this n...\n",
              "5298      0  No problem with the renewal. I.ll do it right ...\n",
              "5299      0  Idk. I'm sitting here in a stop and shop parki...\n",
              "\n",
              "[5300 rows x 2 columns]"
            ]
          },
          "metadata": {},
          "execution_count": 16
        }
      ],
      "source": [
        "df"
      ]
    },
    {
      "cell_type": "markdown",
      "metadata": {
        "id": "xIRXwe3gCPma"
      },
      "source": [
        "##show the relationship between label and text "
      ]
    },
    {
      "cell_type": "code",
      "execution_count": 17,
      "metadata": {
        "colab": {
          "base_uri": "https://localhost:8080/",
          "height": 431
        },
        "id": "Y43TLbCi4czj",
        "outputId": "4dff3fda-f928-47dd-de88-293cb62c714c"
      },
      "outputs": [
        {
          "output_type": "execute_result",
          "data": {
            "text/plain": [
              "Text(0, 0.5, 'text')"
            ]
          },
          "metadata": {},
          "execution_count": 17
        },
        {
          "output_type": "display_data",
          "data": {
            "image/png": "[encoded data removed]",
            "text/plain": [
              "<Figure size 504x432 with 1 Axes>"
            ]
          },
          "metadata": {}
        }
      ],
      "source": [
        "sns.set(font_scale=1.4)\n",
        "df['label'].value_counts().plot(kind='bar', figsize=(7, 6), rot=0)\n",
        "plt.xlabel(\"label\", labelpad=14)\n",
        "plt.ylabel(\"text\", labelpad=14)"
      ]
    },
    {
      "cell_type": "code",
      "execution_count": 18,
      "metadata": {
        "colab": {
          "base_uri": "https://localhost:8080/"
        },
        "id": "ysSFYbA_NYkc",
        "outputId": "62846668-c7d2-4a4a-c343-d62ff0415b36"
      },
      "outputs": [
        {
          "output_type": "execute_result",
          "data": {
            "text/plain": [
              "0    4524\n",
              "1     776\n",
              "Name: label, dtype: int64"
            ]
          },
          "metadata": {},
          "execution_count": 18
        }
      ],
      "source": [
        "df.label.value_counts()"
      ]
    },
    {
      "cell_type": "markdown",
      "metadata": {
        "id": "5zNOrO51u-zM"
      },
      "source": [
        "##Vectorizer"
      ]
    },
    {
      "cell_type": "code",
      "execution_count": 19,
      "metadata": {
        "id": "HJQR-a0zOO8v"
      },
      "outputs": [],
      "source": [
        "vectorizer = TfidfVectorizer(stop_words=\"english\")"
      ]
    },
    {
      "cell_type": "code",
      "execution_count": 21,
      "metadata": {
        "id": "3wQpeRye_Mkk",
        "colab": {
          "base_uri": "https://localhost:8080/"
        },
        "outputId": "c7083eac-c428-4037-a7b9-b4674ec991e3"
      },
      "outputs": [
        {
          "output_type": "execute_result",
          "data": {
            "text/plain": [
              "<5300x8275 sparse matrix of type '<class 'numpy.float64'>'\n",
              "\twith 42214 stored elements in Compressed Sparse Row format>"
            ]
          },
          "metadata": {},
          "execution_count": 21
        }
      ],
      "source": [
        "df_text = vectorizer.fit_transform(df['text'])\n",
        "df_text"
      ]
    },
    {
      "cell_type": "markdown",
      "source": [
        "##x,y"
      ],
      "metadata": {
        "id": "BIjjKJn7YQlC"
      }
    },
    {
      "cell_type": "code",
      "source": [
        "x = df_text\n",
        "x"
      ],
      "metadata": {
        "colab": {
          "base_uri": "https://localhost:8080/"
        },
        "id": "vl71kyssYSVQ",
        "outputId": "4066ee7f-2cd6-42b6-ea41-200d489a90af"
      },
      "execution_count": 22,
      "outputs": [
        {
          "output_type": "execute_result",
          "data": {
            "text/plain": [
              "<5300x8275 sparse matrix of type '<class 'numpy.float64'>'\n",
              "\twith 42214 stored elements in Compressed Sparse Row format>"
            ]
          },
          "metadata": {},
          "execution_count": 22
        }
      ]
    },
    {
      "cell_type": "code",
      "source": [
        "y = df['label'].values\n",
        "y"
      ],
      "metadata": {
        "colab": {
          "base_uri": "https://localhost:8080/"
        },
        "id": "Oryta0NsY7ql",
        "outputId": "607fe4d6-5a61-4dd2-bbf6-e0e17e4c726e"
      },
      "execution_count": 24,
      "outputs": [
        {
          "output_type": "execute_result",
          "data": {
            "text/plain": [
              "array([0, 0, 1, ..., 0, 0, 0])"
            ]
          },
          "metadata": {},
          "execution_count": 24
        }
      ]
    },
    {
      "cell_type": "markdown",
      "source": [
        "##Test algorithms accuracy's score(before fitting)"
      ],
      "metadata": {
        "id": "cYmVB7F9ZF_X"
      }
    },
    {
      "cell_type": "code",
      "source": [
        "models = []\n",
        "models.append((\"LR\",linear_model.LogisticRegression()))\n",
        "models.append((\"Forest\",RandomForestClassifier()))\n",
        "models.append((\"KNN\",neighbors.KNeighborsClassifier()))\n",
        "models.append((\"SVM\",svm.SVC()))\n",
        "models.append((\"Tree\",tree.DecisionTreeClassifier()))\n",
        "\n",
        "results = []\n",
        "names = []\n",
        "scoring = 'accuracy'\n",
        "\n",
        "for name, model in models:\n",
        "  kfold = model_selection.KFold(n_splits=10)\n",
        "  cv_results = model_selection.cross_val_score(model,x,y,cv=kfold,scoring=scoring)\n",
        "  results.append(cv_results)\n",
        "  names.append(name)\n",
        "  msg = \"%s: %f (%f)\" % (name, cv_results.mean(), cv_results.std())\n",
        "  print(msg)"
      ],
      "metadata": {
        "colab": {
          "base_uri": "https://localhost:8080/"
        },
        "id": "BL63m-Q9ZKb_",
        "outputId": "37bbf188-e507-4c9c-b7e1-b1d7a4f3d93e"
      },
      "execution_count": 25,
      "outputs": [
        {
          "output_type": "stream",
          "name": "stdout",
          "text": [
            "LR: 0.940566 (0.037889)\n",
            "Forest: 0.963962 (0.043128)\n",
            "KNN: 0.892264 (0.038644)\n",
            "SVM: 0.961132 (0.040776)\n",
            "Tree: 0.955283 (0.039901)\n"
          ]
        }
      ]
    },
    {
      "cell_type": "markdown",
      "metadata": {
        "id": "Ql8MamDlvaSR"
      },
      "source": [
        "##Split dataset into train and test"
      ]
    },
    {
      "cell_type": "code",
      "execution_count": 27,
      "metadata": {
        "colab": {
          "base_uri": "https://localhost:8080/"
        },
        "id": "SUyBSFGUBjDj",
        "outputId": "e285aa5b-bcef-4ea2-93fe-2df8d793c3c6"
      },
      "outputs": [
        {
          "output_type": "execute_result",
          "data": {
            "text/plain": [
              "((3710, 8275), (1590, 8275), (3710,), (1590,))"
            ]
          },
          "metadata": {},
          "execution_count": 27
        }
      ],
      "source": [
        "x_train,x_test,y_train,y_test = model_selection.train_test_split(x,y,\n",
        "  test_size=0.3,random_state=42,stratify=y,shuffle=True)\n",
        "\n",
        "\n",
        "x_train.shape,x_test.shape,y_train.shape,y_test.shape"
      ]
    },
    {
      "cell_type": "code",
      "execution_count": 28,
      "metadata": {
        "colab": {
          "base_uri": "https://localhost:8080/"
        },
        "id": "i-cuKNJcOiew",
        "outputId": "70fdfbd5-d6ee-4d37-ae34-043e7dd36584"
      },
      "outputs": [
        {
          "output_type": "execute_result",
          "data": {
            "text/plain": [
              "<3710x8275 sparse matrix of type '<class 'numpy.float64'>'\n",
              "\twith 29544 stored elements in Compressed Sparse Row format>"
            ]
          },
          "metadata": {},
          "execution_count": 28
        }
      ],
      "source": [
        "x_train"
      ]
    },
    {
      "cell_type": "code",
      "execution_count": 29,
      "metadata": {
        "colab": {
          "base_uri": "https://localhost:8080/"
        },
        "id": "lv9WILoqO7GV",
        "outputId": "9f3f71da-de9a-407b-8d5e-b80cab667c41"
      },
      "outputs": [
        {
          "output_type": "execute_result",
          "data": {
            "text/plain": [
              "array([0, 0, 1, ..., 0, 0, 0])"
            ]
          },
          "metadata": {},
          "execution_count": 29
        }
      ],
      "source": [
        "y_train"
      ]
    },
    {
      "cell_type": "markdown",
      "metadata": {
        "id": "-AgFh2V4E-vr"
      },
      "source": [
        "##Logistic Regression "
      ]
    },
    {
      "cell_type": "code",
      "execution_count": 30,
      "metadata": {
        "colab": {
          "base_uri": "https://localhost:8080/"
        },
        "id": "DA8zS1FXFCvj",
        "outputId": "408e9a72-ed02-403f-e837-e455bf601edc"
      },
      "outputs": [
        {
          "output_type": "stream",
          "name": "stderr",
          "text": [
            "/usr/local/lib/python3.7/dist-packages/sklearn/linear_model/_logistic.py:818: ConvergenceWarning: lbfgs failed to converge (status=1):\n",
            "STOP: TOTAL NO. of ITERATIONS REACHED LIMIT.\n",
            "\n",
            "Increase the number of iterations (max_iter) or scale the data as shown in:\n",
            "    https://scikit-learn.org/stable/modules/preprocessing.html\n",
            "Please also refer to the documentation for alternative solver options:\n",
            "    https://scikit-learn.org/stable/modules/linear_model.html#logistic-regression\n",
            "  extra_warning_msg=_LOGISTIC_SOLVER_CONVERGENCE_MSG,\n",
            "/usr/local/lib/python3.7/dist-packages/sklearn/linear_model/_logistic.py:818: ConvergenceWarning: lbfgs failed to converge (status=1):\n",
            "STOP: TOTAL NO. of ITERATIONS REACHED LIMIT.\n",
            "\n",
            "Increase the number of iterations (max_iter) or scale the data as shown in:\n",
            "    https://scikit-learn.org/stable/modules/preprocessing.html\n",
            "Please also refer to the documentation for alternative solver options:\n",
            "    https://scikit-learn.org/stable/modules/linear_model.html#logistic-regression\n",
            "  extra_warning_msg=_LOGISTIC_SOLVER_CONVERGENCE_MSG,\n",
            "/usr/local/lib/python3.7/dist-packages/sklearn/linear_model/_logistic.py:818: ConvergenceWarning: lbfgs failed to converge (status=1):\n",
            "STOP: TOTAL NO. of ITERATIONS REACHED LIMIT.\n",
            "\n",
            "Increase the number of iterations (max_iter) or scale the data as shown in:\n",
            "    https://scikit-learn.org/stable/modules/preprocessing.html\n",
            "Please also refer to the documentation for alternative solver options:\n",
            "    https://scikit-learn.org/stable/modules/linear_model.html#logistic-regression\n",
            "  extra_warning_msg=_LOGISTIC_SOLVER_CONVERGENCE_MSG,\n",
            "/usr/local/lib/python3.7/dist-packages/sklearn/linear_model/_logistic.py:818: ConvergenceWarning: lbfgs failed to converge (status=1):\n",
            "STOP: TOTAL NO. of ITERATIONS REACHED LIMIT.\n",
            "\n",
            "Increase the number of iterations (max_iter) or scale the data as shown in:\n",
            "    https://scikit-learn.org/stable/modules/preprocessing.html\n",
            "Please also refer to the documentation for alternative solver options:\n",
            "    https://scikit-learn.org/stable/modules/linear_model.html#logistic-regression\n",
            "  extra_warning_msg=_LOGISTIC_SOLVER_CONVERGENCE_MSG,\n",
            "/usr/local/lib/python3.7/dist-packages/sklearn/linear_model/_logistic.py:818: ConvergenceWarning: lbfgs failed to converge (status=1):\n",
            "STOP: TOTAL NO. of ITERATIONS REACHED LIMIT.\n",
            "\n",
            "Increase the number of iterations (max_iter) or scale the data as shown in:\n",
            "    https://scikit-learn.org/stable/modules/preprocessing.html\n",
            "Please also refer to the documentation for alternative solver options:\n",
            "    https://scikit-learn.org/stable/modules/linear_model.html#logistic-regression\n",
            "  extra_warning_msg=_LOGISTIC_SOLVER_CONVERGENCE_MSG,\n"
          ]
        },
        {
          "output_type": "execute_result",
          "data": {
            "text/plain": [
              "LogisticRegressionCV()"
            ]
          },
          "metadata": {},
          "execution_count": 30
        }
      ],
      "source": [
        "logistic_model = linear_model.LogisticRegressionCV()\n",
        "logistic_model.fit(x_train,y_train)"
      ]
    },
    {
      "cell_type": "code",
      "execution_count": 31,
      "metadata": {
        "id": "9rTL9bxGKDRb",
        "colab": {
          "base_uri": "https://localhost:8080/",
          "height": 634
        },
        "outputId": "240a9644-638e-4ddf-e181-073176ab77bd"
      },
      "outputs": [
        {
          "output_type": "stream",
          "name": "stdout",
          "text": [
            "precision score is: 0.9788359788359788\n",
            "recall score is: 0.7939914163090128\n",
            "f1 score is: 0.876777251184834\n",
            "accuracy test score is: 0.9672955974842767\n",
            "accuracy train score is: 0.9991913746630727\n"
          ]
        },
        {
          "output_type": "display_data",
          "data": {
            "image/png": "[encoded data removed]",
            "text/plain": [
              "<Figure size 576x576 with 1 Axes>"
            ]
          },
          "metadata": {}
        }
      ],
      "source": [
        "logistic_pred_train = logistic_model.predict(x_train)\n",
        "logistic_pred = logistic_model.predict(x_test)\n",
        "\n",
        "#precision = TP/TP+FP\n",
        "print(f'precision score is: {metrics.precision_score(y_test,logistic_pred)}')\n",
        "#recall = TP/TP+FN\n",
        "print(f'recall score is: {metrics.recall_score(y_test,logistic_pred)}') \n",
        "#f1 = 2*precision*recall/precision+recall\n",
        "print(f'f1 score is: {metrics.f1_score(y_test,logistic_pred)}') \n",
        "#accuracy = TP+TF/Total Samples\n",
        "print(f'accuracy test score is: {metrics.accuracy_score(y_test,logistic_pred)}')\n",
        "print(f'accuracy train score is: {metrics.accuracy_score(y_train,logistic_pred_train)}')\n",
        "\n",
        "confusion_matrix=metrics.confusion_matrix(y_test,logistic_pred)\n",
        "fig= plot_confusion_matrix(conf_mat=confusion_matrix,cmap=plt.cm.Greys,figsize=(8,8))\n",
        "plt.xlabel('Prediction',fontsize=16)\n",
        "plt.ylabel('Actual',fontsize=16)\n",
        "plt.title('Confusion Matrix',fontsize=16)\n",
        "plt.show() #    TP  FP\n",
        "           #    FN  TN"
      ]
    },
    {
      "cell_type": "markdown",
      "metadata": {
        "id": "tUgBZ9Tum6eM"
      },
      "source": [
        "##Random Forest"
      ]
    },
    {
      "cell_type": "code",
      "execution_count": 32,
      "metadata": {
        "id": "2_38HxcHnEGR",
        "colab": {
          "base_uri": "https://localhost:8080/"
        },
        "outputId": "42886817-5f65-4915-f0e1-b4b11da049ae"
      },
      "outputs": [
        {
          "output_type": "execute_result",
          "data": {
            "text/plain": [
              "RandomForestClassifier()"
            ]
          },
          "metadata": {},
          "execution_count": 32
        }
      ],
      "source": [
        "forest_model = RandomForestClassifier()\n",
        "forest_model.fit(x_train,y_train)"
      ]
    },
    {
      "cell_type": "code",
      "execution_count": 33,
      "metadata": {
        "id": "3V6C18zanzeA"
      },
      "outputs": [],
      "source": [
        "forest_pred_train = forest_model.predict(x_train)\n",
        "forest_pred = forest_model.predict(x_test)"
      ]
    },
    {
      "cell_type": "code",
      "execution_count": 34,
      "metadata": {
        "id": "c2_FEDaxodLI",
        "colab": {
          "base_uri": "https://localhost:8080/",
          "height": 634
        },
        "outputId": "f91c9e46-b784-4416-a1e0-4fba50b542bb"
      },
      "outputs": [
        {
          "output_type": "stream",
          "name": "stdout",
          "text": [
            "precision score is: 0.9781420765027322\n",
            "recall score is: 0.7682403433476395\n",
            "f1 score is: 0.860576923076923\n",
            "accuracy test score is: 0.9635220125786164\n",
            "accuracy train score is: 0.9991913746630727\n"
          ]
        },
        {
          "output_type": "display_data",
          "data": {
            "image/png": "[encoded data removed]",
            "text/plain": [
              "<Figure size 576x576 with 1 Axes>"
            ]
          },
          "metadata": {}
        }
      ],
      "source": [
        "#precision = TP/TP+FP\n",
        "print(f'precision score is: {metrics.precision_score(y_test,forest_pred)}')\n",
        "#recall = TP/TP+FN\n",
        "print(f'recall score is: {metrics.recall_score(y_test,forest_pred)}') \n",
        "#f1 = 2*precision*recall/precision+recall\n",
        "print(f'f1 score is: {metrics.f1_score(y_test,forest_pred)}') \n",
        "#accuracy = TP+TF/Total Samples\n",
        "print(f'accuracy test score is: {metrics.accuracy_score(y_test,forest_pred)}')\n",
        "print(f'accuracy train score is: {metrics.accuracy_score(y_train,forest_pred_train)}')\n",
        "\n",
        "confusion_matrix=metrics.confusion_matrix(y_test,forest_pred)\n",
        "fig= plot_confusion_matrix(conf_mat=confusion_matrix,cmap=plt.cm.Greys,figsize=(8,8))\n",
        "plt.xlabel('Prediction',fontsize=16)\n",
        "plt.ylabel('Actual',fontsize=16)\n",
        "plt.title('Confusion Matrix',fontsize=16)\n",
        "plt.show() #    TP  FP\n",
        "           #    FN  TN"
      ]
    },
    {
      "cell_type": "markdown",
      "metadata": {
        "id": "HaWHksnQpVmR"
      },
      "source": [
        "##KNN"
      ]
    },
    {
      "cell_type": "code",
      "execution_count": 35,
      "metadata": {
        "colab": {
          "base_uri": "https://localhost:8080/"
        },
        "id": "FTChPPM1pbuN",
        "outputId": "9f2e1f49-fce3-4c70-dc51-36ec3fb959c8"
      },
      "outputs": [
        {
          "output_type": "execute_result",
          "data": {
            "text/plain": [
              "KNeighborsClassifier(n_neighbors=3)"
            ]
          },
          "metadata": {},
          "execution_count": 35
        }
      ],
      "source": [
        "knn_model = neighbors.KNeighborsClassifier(n_neighbors=3)\n",
        "knn_model.fit(x_train,y_train)"
      ]
    },
    {
      "cell_type": "code",
      "execution_count": 36,
      "metadata": {
        "id": "qU0eh0z8rP0y"
      },
      "outputs": [],
      "source": [
        "knn_pred_train = knn_model.predict(x_train)\n",
        "knn_pred = knn_model.predict(x_test)"
      ]
    },
    {
      "cell_type": "code",
      "execution_count": 37,
      "metadata": {
        "colab": {
          "base_uri": "https://localhost:8080/",
          "height": 634
        },
        "id": "dUMNPQG6rxjM",
        "outputId": "34e0e7c3-760b-4667-dba7-904870683ec1"
      },
      "outputs": [
        {
          "output_type": "stream",
          "name": "stdout",
          "text": [
            "precision score is: 0.9759036144578314\n",
            "recall score is: 0.34763948497854075\n",
            "f1 score is: 0.5126582278481012\n",
            "accuracy test score is: 0.9031446540880503\n",
            "accuracy train score is: 0.937466307277628\n"
          ]
        },
        {
          "output_type": "display_data",
          "data": {
            "image/png": "[encoded data removed]",
            "text/plain": [
              "<Figure size 576x576 with 1 Axes>"
            ]
          },
          "metadata": {}
        }
      ],
      "source": [
        "#precision = TP/TP+FP\n",
        "print(f'precision score is: {metrics.precision_score(y_test,knn_pred)}')\n",
        "#recall = TP/TP+FN\n",
        "print(f'recall score is: {metrics.recall_score(y_test,knn_pred)}') \n",
        "#f1 = 2*precision*recall/precision+recall\n",
        "print(f'f1 score is: {metrics.f1_score(y_test,knn_pred)}') \n",
        "#accuracy = TP+TF/Total Samples\n",
        "print(f'accuracy test score is: {metrics.accuracy_score(y_test,knn_pred)}')\n",
        "print(f'accuracy train score is: {metrics.accuracy_score(y_train,knn_pred_train)}')\n",
        "\n",
        "confusion_matrix=metrics.confusion_matrix(y_test,knn_pred)\n",
        "fig= plot_confusion_matrix(conf_mat=confusion_matrix,cmap=plt.cm.Greys,figsize=(8,8))\n",
        "plt.xlabel('Prediction',fontsize=16)\n",
        "plt.ylabel('Actual',fontsize=16)\n",
        "plt.title('Confusion Matrix',fontsize=16)\n",
        "plt.show() #    TP  FP\n",
        "           #    FN  TN"
      ]
    },
    {
      "cell_type": "markdown",
      "metadata": {
        "id": "5KMmbTRWE6D-"
      },
      "source": [
        "##SVM"
      ]
    },
    {
      "cell_type": "code",
      "execution_count": 38,
      "metadata": {
        "colab": {
          "base_uri": "https://localhost:8080/"
        },
        "id": "VPa35MNlE9NR",
        "outputId": "d3ab7b7d-0687-4842-bd7f-7f2f1d616948"
      },
      "outputs": [
        {
          "output_type": "execute_result",
          "data": {
            "text/plain": [
              "SVC(C=10, kernel='linear', random_state=42)"
            ]
          },
          "metadata": {},
          "execution_count": 38
        }
      ],
      "source": [
        "svm_model = svm.SVC(kernel='linear',C=10,random_state=42)\n",
        "svm_model.fit(x_train,y_train)"
      ]
    },
    {
      "cell_type": "code",
      "execution_count": 39,
      "metadata": {
        "colab": {
          "base_uri": "https://localhost:8080/",
          "height": 634
        },
        "id": "NZiKFy6NFYo_",
        "outputId": "912e253f-3732-4415-835b-a7ddbcb7012b"
      },
      "outputs": [
        {
          "output_type": "stream",
          "name": "stdout",
          "text": [
            "precision score is: 0.9743589743589743\n",
            "recall score is: 0.8154506437768241\n",
            "f1 score is: 0.8878504672897196\n",
            "accuracy test score is: 0.969811320754717\n",
            "accuracy train score is: 0.9989218328840971\n"
          ]
        },
        {
          "output_type": "display_data",
          "data": {
            "image/png": "[encoded data removed]",
            "text/plain": [
              "<Figure size 576x576 with 1 Axes>"
            ]
          },
          "metadata": {}
        }
      ],
      "source": [
        "svm_pred = svm_model.predict(x_test)\n",
        "svm_pred_train = svm_model.predict(x_train)\n",
        "\n",
        "\n",
        "#precision = TP/TP+FP\n",
        "print(f'precision score is: {metrics.precision_score(y_test,svm_pred)}')\n",
        "#recall = TP/TP+FN\n",
        "print(f'recall score is: {metrics.recall_score(y_test,svm_pred)}') \n",
        "#f1 = 2*precision*recall/precision+recall\n",
        "print(f'f1 score is: {metrics.f1_score(y_test,svm_pred)}') \n",
        "#accuracy = TP+TF/Total Samples\n",
        "print(f'accuracy test score is: {metrics.accuracy_score(y_test,svm_pred)}')\n",
        "print(f'accuracy train score is: {metrics.accuracy_score(y_train,svm_pred_train)}')\n",
        "\n",
        "confusion_matrix=metrics.confusion_matrix(y_test,svm_pred)\n",
        "fig= plot_confusion_matrix(conf_mat=confusion_matrix,cmap=plt.cm.Greys,figsize=(8,8))\n",
        "plt.xlabel('Prediction',fontsize=16)\n",
        "plt.ylabel('Actual',fontsize=16)\n",
        "plt.title('Confusion Matrix',fontsize=16)\n",
        "plt.show() #    TP  FP\n",
        "           #    FN  TN"
      ]
    },
    {
      "cell_type": "markdown",
      "source": [
        "##Tree"
      ],
      "metadata": {
        "id": "lTPyBXHvyCFu"
      }
    },
    {
      "cell_type": "code",
      "source": [
        "tree_model = tree.DecisionTreeClassifier()\n",
        "tree_model.fit(x_train,y_train)"
      ],
      "metadata": {
        "colab": {
          "base_uri": "https://localhost:8080/"
        },
        "id": "PPNUCe4uyESs",
        "outputId": "700a65cb-c2bc-4e98-c666-56c60dcb1802"
      },
      "execution_count": 40,
      "outputs": [
        {
          "output_type": "execute_result",
          "data": {
            "text/plain": [
              "DecisionTreeClassifier()"
            ]
          },
          "metadata": {},
          "execution_count": 40
        }
      ]
    },
    {
      "cell_type": "code",
      "source": [
        "tree_pred_train = tree_model.predict(x_train)\n",
        "tree_pred = tree_model.predict(x_test)"
      ],
      "metadata": {
        "id": "tEoLmpi4ympx"
      },
      "execution_count": 41,
      "outputs": []
    },
    {
      "cell_type": "code",
      "source": [
        "#precision = TP/TP+FP\n",
        "print(f'precision score is: {metrics.precision_score(y_test,tree_pred)}')\n",
        "#recall = TP/TP+FN\n",
        "print(f'recall score is: {metrics.recall_score(y_test,tree_pred)}') \n",
        "#f1 = 2*precision*recall/precision+recall\n",
        "print(f'f1 score is: {metrics.f1_score(y_test,tree_pred)}') \n",
        "#accuracy = TP+TF/Total Samples\n",
        "print(f'accuracy test score is: {metrics.accuracy_score(y_test,tree_pred)}')\n",
        "print(f'accuracy train score is: {metrics.accuracy_score(y_train,tree_pred_train)}')\n",
        "\n",
        "confusion_matrix=metrics.confusion_matrix(y_test,tree_pred)\n",
        "fig= plot_confusion_matrix(conf_mat=confusion_matrix,cmap=plt.cm.Greys,figsize=(8,8))\n",
        "plt.xlabel('Prediction',fontsize=16)\n",
        "plt.ylabel('Actual',fontsize=16)\n",
        "plt.title('Confusion Matrix',fontsize=16)\n",
        "plt.show() #    TP  FP\n",
        "           #    FN  TN"
      ],
      "metadata": {
        "colab": {
          "base_uri": "https://localhost:8080/",
          "height": 634
        },
        "id": "pH74-9ZLyyki",
        "outputId": "ada1341a-8cf6-41c7-c005-42f0955ae648"
      },
      "execution_count": 42,
      "outputs": [
        {
          "output_type": "stream",
          "name": "stdout",
          "text": [
            "precision score is: 0.8657407407407407\n",
            "recall score is: 0.8025751072961373\n",
            "f1 score is: 0.8329621380846326\n",
            "accuracy test score is: 0.9528301886792453\n",
            "accuracy train score is: 0.9991913746630727\n"
          ]
        },
        {
          "output_type": "display_data",
          "data": {
            "image/png": "[encoded data removed]",
            "text/plain": [
              "<Figure size 576x576 with 1 Axes>"
            ]
          },
          "metadata": {}
        }
      ]
    },
    {
      "cell_type": "markdown",
      "metadata": {
        "id": "BcBr4E1Sey9A"
      },
      "source": [
        "##predict new dataset"
      ]
    },
    {
      "cell_type": "code",
      "source": [
        "#External Texts:\n",
        "\n",
        "# 'hi, can you give me your password to access your e-mail?'\n",
        "# 'hi, im jone from USA, can you translate this Spanish text into english to me?'"
      ],
      "metadata": {
        "id": "TjZu-rMIlZrE"
      },
      "execution_count": null,
      "outputs": []
    },
    {
      "cell_type": "code",
      "source": [
        "def output_label(n):\n",
        "  if n == 0:\n",
        "    return \"Safe\"\n",
        "  elif n == 1:\n",
        "    return \"Not Safe\"  "
      ],
      "metadata": {
        "id": "5oKDW_polNyt"
      },
      "execution_count": 43,
      "outputs": []
    },
    {
      "cell_type": "code",
      "execution_count": 44,
      "metadata": {
        "id": "VRT3luqoZqUg"
      },
      "outputs": [],
      "source": [
        "def test(news):\n",
        "  testing_news = {\"text\":[news]}\n",
        "  news_def = pd.DataFrame(testing_news)\n",
        "  news_x_test = news_def[\"text\"]\n",
        "  news_xv_test = vectorizer.transform(news_x_test)\n",
        "\n",
        "  svm_pred = svm_model.predict(news_xv_test)\n",
        "\n",
        "  return print(\"\\n\\nPrediction: {}\".format(output_label(svm_pred)))"
      ]
    },
    {
      "cell_type": "code",
      "source": [
        "news = str(input())\n",
        "test(news)"
      ],
      "metadata": {
        "colab": {
          "base_uri": "https://localhost:8080/"
        },
        "id": "t7KILDyHmi4q",
        "outputId": "920eb0ee-0e73-4e08-8b85-1f16bc74d79a"
      },
      "execution_count": 45,
      "outputs": [
        {
          "output_type": "stream",
          "name": "stdout",
          "text": [
            "URGENT. Important information for 02 user. Today is your lucky day! 2 find out why , log onto http://www.urawinner.com there is a fantastic surprise awaiting you !\n",
            "\n",
            "\n",
            "Prediction: Not Safe\n"
          ]
        }
      ]
    },
    {
      "cell_type": "markdown",
      "metadata": {
        "id": "pvySQpz0XT70"
      },
      "source": [
        "##joblib"
      ]
    },
    {
      "cell_type": "code",
      "execution_count": 46,
      "metadata": {
        "id": "6DsYjHyMXYn-"
      },
      "outputs": [],
      "source": [
        "from joblib import dump"
      ]
    },
    {
      "cell_type": "code",
      "source": [
        "dump(vectorizer,\"vectorizer.joblib\")\n",
        "dump(svm_model,\"model.joblib\")"
      ],
      "metadata": {
        "colab": {
          "base_uri": "https://localhost:8080/"
        },
        "id": "9z95dIEAaHqg",
        "outputId": "12d326d3-6f58-460b-ec3b-02cbe2e66406"
      },
      "execution_count": 47,
      "outputs": [
        {
          "output_type": "execute_result",
          "data": {
            "text/plain": [
              "['model.joblib']"
            ]
          },
          "metadata": {},
          "execution_count": 47
        }
      ]
    }
  ],
  "metadata": {
    "colab": {
      "collapsed_sections": [
        "AI5a9dsp25tG",
        "MAGhXwRUB4wu",
        "mnYx5keUCB6I"
      ],
      "name": "Safe_prediction ",
      "provenance": [],
      "toc_visible": true
    },
    "kernelspec": {
      "display_name": "Python 3",
      "name": "python3"
    },
    "language_info": {
      "name": "python"
    }
  },
  "nbformat": 4,
  "nbformat_minor": 0
}