{
  "nbformat": 4,
  "nbformat_minor": 0,
  "metadata": {
    "colab": {
      "name": "Fake_Accounts_Prediction ",
      "provenance": [],
      "collapsed_sections": [
        "lSQFUEA3N2yA",
        "ogxHYK29OYnt",
        "A15_vvb9SLQA",
        "oi_5suW3DpQi",
        "m9u4coBFtqFL",
        "9Bsc5iNj2eLU",
        "VOdShLdx-TSf",
        "qKFTbNZ18Krd",
        "w-msRYupuz4R"
      ],
      "toc_visible": true
    },
    "kernelspec": {
      "name": "python3",
      "display_name": "Python 3"
    },
    "language_info": {
      "name": "python"
    }
  },
  "cells": [
    {
      "cell_type": "markdown",
      "source": [
        "#df_1, Fake accounts prediction "
      ],
      "metadata": {
        "id": "bzGkj0beNxbB"
      }
    },
    {
      "cell_type": "markdown",
      "source": [
        "##imoorting libraries"
      ],
      "metadata": {
        "id": "zaUhO-C5JrzP"
      }
    },
    {
      "cell_type": "code",
      "execution_count": 28,
      "metadata": {
        "id": "XxGfW5x7_I1X"
      },
      "outputs": [],
      "source": [
        "import pandas as pd\n",
        "import numpy as np\n",
        "import seaborn as sns\n",
        "import matplotlib.pyplot as plt\n",
        "from sklearn import preprocessing,model_selection,linear_model,metrics,svm\n",
        "from mlxtend.plotting import plot_confusion_matrix\n",
        "import xgboost as xgb\n",
        "from sklearn.ensemble import GradientBoostingClassifier,RandomForestClassifier\n",
        "import nltk\n",
        "from nltk.corpus import stopwords\n",
        "from nltk.stem import WordNetLemmatizer\n",
        "import re\n",
        "import string\n",
        "from sklearn.feature_extraction.text import TfidfVectorizer,CountVectorizer"
      ]
    },
    {
      "cell_type": "markdown",
      "source": [
        "##load CSV dataset"
      ],
      "metadata": {
        "id": "lSQFUEA3N2yA"
      }
    },
    {
      "cell_type": "code",
      "source": [
        "df_1 = pd.read_csv(\"/content/all_users_proccessed.csv\")\n",
        "df_1"
      ],
      "metadata": {
        "colab": {
          "base_uri": "https://localhost:8080/",
          "height": 619
        },
        "id": "z9wOciqSNwmi",
        "outputId": "0d3cf427-f995-4c70-afb4-6d3b723eb7a9"
      },
      "execution_count": 29,
      "outputs": [
        {
          "output_type": "execute_result",
          "data": {
            "text/html": [
              "\n",
              "  <div id=\"df-06f49001-db96-4e5e-9b6b-1048c16198be\">\n",
              "    <div class=\"colab-df-container\">\n",
              "      <div>\n",
              "<style scoped>\n",
              "    .dataframe tbody tr th:only-of-type {\n",
              "        vertical-align: middle;\n",
              "    }\n",
              "\n",
              "    .dataframe tbody tr th {\n",
              "        vertical-align: top;\n",
              "    }\n",
              "\n",
              "    .dataframe thead th {\n",
              "        text-align: right;\n",
              "    }\n",
              "</style>\n",
              "<table border=\"1\" class=\"dataframe\">\n",
              "  <thead>\n",
              "    <tr style=\"text-align: right;\">\n",
              "      <th></th>\n",
              "      <th>statuses_count</th>\n",
              "      <th>followers_count</th>\n",
              "      <th>friends_count</th>\n",
              "      <th>favourites_count</th>\n",
              "      <th>listed_count</th>\n",
              "      <th>lang</th>\n",
              "      <th>time_zone</th>\n",
              "      <th>geo_enabled</th>\n",
              "      <th>profile_use_background_image</th>\n",
              "      <th>profile_text_color</th>\n",
              "      <th>profile_sidebar_border_color</th>\n",
              "      <th>profile_background_tile</th>\n",
              "      <th>profile_sidebar_fill_color</th>\n",
              "      <th>profile_background_color</th>\n",
              "      <th>profile_link_color</th>\n",
              "      <th>utc_offset</th>\n",
              "      <th>description</th>\n",
              "      <th>label</th>\n",
              "    </tr>\n",
              "  </thead>\n",
              "  <tbody>\n",
              "    <tr>\n",
              "      <th>0</th>\n",
              "      <td>20370</td>\n",
              "      <td>5470</td>\n",
              "      <td>2385</td>\n",
              "      <td>145</td>\n",
              "      <td>52</td>\n",
              "      <td>it</td>\n",
              "      <td>Rome</td>\n",
              "      <td>0</td>\n",
              "      <td>1</td>\n",
              "      <td>0C3E53</td>\n",
              "      <td>F2E195</td>\n",
              "      <td>0</td>\n",
              "      <td>FFF7CC</td>\n",
              "      <td>BADFCD</td>\n",
              "      <td>FF0000</td>\n",
              "      <td>3600</td>\n",
              "      <td>Founder of http://www.screenweek.it &amp; http://w...</td>\n",
              "      <td>1</td>\n",
              "    </tr>\n",
              "    <tr>\n",
              "      <th>1</th>\n",
              "      <td>3131</td>\n",
              "      <td>506</td>\n",
              "      <td>381</td>\n",
              "      <td>9</td>\n",
              "      <td>40</td>\n",
              "      <td>en</td>\n",
              "      <td>Rome</td>\n",
              "      <td>0</td>\n",
              "      <td>1</td>\n",
              "      <td>333333</td>\n",
              "      <td>FFFFFF</td>\n",
              "      <td>0</td>\n",
              "      <td>DDEEF6</td>\n",
              "      <td>C0DEED</td>\n",
              "      <td>0084B4</td>\n",
              "      <td>3600</td>\n",
              "      <td>BSc degree (cum laude) in Computer Engineering...</td>\n",
              "      <td>1</td>\n",
              "    </tr>\n",
              "    <tr>\n",
              "      <th>2</th>\n",
              "      <td>4024</td>\n",
              "      <td>264</td>\n",
              "      <td>87</td>\n",
              "      <td>323</td>\n",
              "      <td>16</td>\n",
              "      <td>en</td>\n",
              "      <td>Rome</td>\n",
              "      <td>0</td>\n",
              "      <td>1</td>\n",
              "      <td>666666</td>\n",
              "      <td>181A1E</td>\n",
              "      <td>1</td>\n",
              "      <td>0</td>\n",
              "      <td>1A1B1F</td>\n",
              "      <td>2FC2EF</td>\n",
              "      <td>3600</td>\n",
              "      <td>Cogito ergo bestemmio.</td>\n",
              "      <td>1</td>\n",
              "    </tr>\n",
              "    <tr>\n",
              "      <th>3</th>\n",
              "      <td>40586</td>\n",
              "      <td>640</td>\n",
              "      <td>622</td>\n",
              "      <td>1118</td>\n",
              "      <td>32</td>\n",
              "      <td>en</td>\n",
              "      <td>Rome</td>\n",
              "      <td>1</td>\n",
              "      <td>1</td>\n",
              "      <td>3C3940</td>\n",
              "      <td>FFFFFF</td>\n",
              "      <td>0</td>\n",
              "      <td>95E8EC</td>\n",
              "      <td>0099B9</td>\n",
              "      <td>0099B9</td>\n",
              "      <td>3600</td>\n",
              "      <td>Se la vita ti dأ  sarde, scapocciale!</td>\n",
              "      <td>1</td>\n",
              "    </tr>\n",
              "    <tr>\n",
              "      <th>4</th>\n",
              "      <td>2016</td>\n",
              "      <td>62</td>\n",
              "      <td>64</td>\n",
              "      <td>13</td>\n",
              "      <td>0</td>\n",
              "      <td>it</td>\n",
              "      <td>Rome</td>\n",
              "      <td>1</td>\n",
              "      <td>1</td>\n",
              "      <td>333333</td>\n",
              "      <td>EEEEEE</td>\n",
              "      <td>0</td>\n",
              "      <td>F6F6F6</td>\n",
              "      <td>ACDED6</td>\n",
              "      <td>38543</td>\n",
              "      <td>3600</td>\n",
              "      <td>Je me souviens</td>\n",
              "      <td>1</td>\n",
              "    </tr>\n",
              "    <tr>\n",
              "      <th>...</th>\n",
              "      <td>...</td>\n",
              "      <td>...</td>\n",
              "      <td>...</td>\n",
              "      <td>...</td>\n",
              "      <td>...</td>\n",
              "      <td>...</td>\n",
              "      <td>...</td>\n",
              "      <td>...</td>\n",
              "      <td>...</td>\n",
              "      <td>...</td>\n",
              "      <td>...</td>\n",
              "      <td>...</td>\n",
              "      <td>...</td>\n",
              "      <td>...</td>\n",
              "      <td>...</td>\n",
              "      <td>...</td>\n",
              "      <td>...</td>\n",
              "      <td>...</td>\n",
              "    </tr>\n",
              "    <tr>\n",
              "      <th>4150</th>\n",
              "      <td>1</td>\n",
              "      <td>0</td>\n",
              "      <td>17</td>\n",
              "      <td>0</td>\n",
              "      <td>0</td>\n",
              "      <td>en</td>\n",
              "      <td>Chennai</td>\n",
              "      <td>1</td>\n",
              "      <td>1</td>\n",
              "      <td>333333</td>\n",
              "      <td>C0DEED</td>\n",
              "      <td>1</td>\n",
              "      <td>DDEEF6</td>\n",
              "      <td>C0DEED</td>\n",
              "      <td>0084B4</td>\n",
              "      <td>19800</td>\n",
              "      <td>I have been in business onlin and offline for ...</td>\n",
              "      <td>0</td>\n",
              "    </tr>\n",
              "    <tr>\n",
              "      <th>4151</th>\n",
              "      <td>0</td>\n",
              "      <td>1</td>\n",
              "      <td>17</td>\n",
              "      <td>0</td>\n",
              "      <td>0</td>\n",
              "      <td>en</td>\n",
              "      <td>Chennai</td>\n",
              "      <td>1</td>\n",
              "      <td>1</td>\n",
              "      <td>333333</td>\n",
              "      <td>C0DEED</td>\n",
              "      <td>1</td>\n",
              "      <td>DDEEF6</td>\n",
              "      <td>C0DEED</td>\n",
              "      <td>0084B4</td>\n",
              "      <td>19800</td>\n",
              "      <td>blank</td>\n",
              "      <td>0</td>\n",
              "    </tr>\n",
              "    <tr>\n",
              "      <th>4152</th>\n",
              "      <td>2</td>\n",
              "      <td>0</td>\n",
              "      <td>15</td>\n",
              "      <td>0</td>\n",
              "      <td>0</td>\n",
              "      <td>en</td>\n",
              "      <td>Chennai</td>\n",
              "      <td>1</td>\n",
              "      <td>1</td>\n",
              "      <td>333333</td>\n",
              "      <td>C0DEED</td>\n",
              "      <td>1</td>\n",
              "      <td>DDEEF6</td>\n",
              "      <td>C0DEED</td>\n",
              "      <td>0084B4</td>\n",
              "      <td>19800</td>\n",
              "      <td>blank</td>\n",
              "      <td>0</td>\n",
              "    </tr>\n",
              "    <tr>\n",
              "      <th>4153</th>\n",
              "      <td>2</td>\n",
              "      <td>0</td>\n",
              "      <td>16</td>\n",
              "      <td>0</td>\n",
              "      <td>0</td>\n",
              "      <td>en</td>\n",
              "      <td>Chennai</td>\n",
              "      <td>1</td>\n",
              "      <td>1</td>\n",
              "      <td>333333</td>\n",
              "      <td>C0DEED</td>\n",
              "      <td>1</td>\n",
              "      <td>DDEEF6</td>\n",
              "      <td>C0DEED</td>\n",
              "      <td>0084B4</td>\n",
              "      <td>19800</td>\n",
              "      <td>blank</td>\n",
              "      <td>0</td>\n",
              "    </tr>\n",
              "    <tr>\n",
              "      <th>4154</th>\n",
              "      <td>0</td>\n",
              "      <td>0</td>\n",
              "      <td>17</td>\n",
              "      <td>0</td>\n",
              "      <td>0</td>\n",
              "      <td>en</td>\n",
              "      <td>Chennai</td>\n",
              "      <td>1</td>\n",
              "      <td>1</td>\n",
              "      <td>333333</td>\n",
              "      <td>C0DEED</td>\n",
              "      <td>1</td>\n",
              "      <td>DDEEF6</td>\n",
              "      <td>C0DEED</td>\n",
              "      <td>0084B4</td>\n",
              "      <td>19800</td>\n",
              "      <td>Hello!im a BELIEBER! IM A HUGE FAN OF JUSTIN B...</td>\n",
              "      <td>0</td>\n",
              "    </tr>\n",
              "  </tbody>\n",
              "</table>\n",
              "<p>4155 rows × 18 columns</p>\n",
              "</div>\n",
              "      <button class=\"colab-df-convert\" onclick=\"convertToInteractive('df-06f49001-db96-4e5e-9b6b-1048c16198be')\"\n",
              "              title=\"Convert this dataframe to an interactive table.\"\n",
              "              style=\"display:none;\">\n",
              "        \n",
              "  <svg xmlns=\"http://www.w3.org/2000/svg\" height=\"24px\"viewBox=\"0 0 24 24\"\n",
              "       width=\"24px\">\n",
              "    <path d=\"M0 0h24v24H0V0z\" fill=\"none\"/>\n",
              "    <path d=\"M18.56 5.44l.94 2.06.94-2.06 2.06-.94-2.06-.94-.94-2.06-.94 2.06-2.06.94zm-11 1L8.5 8.5l.94-2.06 2.06-.94-2.06-.94L8.5 2.5l-.94 2.06-2.06.94zm10 10l.94 2.06.94-2.06 2.06-.94-2.06-.94-.94-2.06-.94 2.06-2.06.94z\"/><path d=\"M17.41 7.96l-1.37-1.37c-.4-.4-.92-.59-1.43-.59-.52 0-1.04.2-1.43.59L10.3 9.45l-7.72 7.72c-.78.78-.78 2.05 0 2.83L4 21.41c.39.39.9.59 1.41.59.51 0 1.02-.2 1.41-.59l7.78-7.78 2.81-2.81c.8-.78.8-2.07 0-2.86zM5.41 20L4 18.59l7.72-7.72 1.47 1.35L5.41 20z\"/>\n",
              "  </svg>\n",
              "      </button>\n",
              "      \n",
              "  <style>\n",
              "    .colab-df-container {\n",
              "      display:flex;\n",
              "      flex-wrap:wrap;\n",
              "      gap: 12px;\n",
              "    }\n",
              "\n",
              "    .colab-df-convert {\n",
              "      background-color: #E8F0FE;\n",
              "      border: none;\n",
              "      border-radius: 50%;\n",
              "      cursor: pointer;\n",
              "      display: none;\n",
              "      fill: #1967D2;\n",
              "      height: 32px;\n",
              "      padding: 0 0 0 0;\n",
              "      width: 32px;\n",
              "    }\n",
              "\n",
              "    .colab-df-convert:hover {\n",
              "      background-color: #E2EBFA;\n",
              "      box-shadow: 0px 1px 2px rgba(60, 64, 67, 0.3), 0px 1px 3px 1px rgba(60, 64, 67, 0.15);\n",
              "      fill: #174EA6;\n",
              "    }\n",
              "\n",
              "    [theme=dark] .colab-df-convert {\n",
              "      background-color: #3B4455;\n",
              "      fill: #D2E3FC;\n",
              "    }\n",
              "\n",
              "    [theme=dark] .colab-df-convert:hover {\n",
              "      background-color: #434B5C;\n",
              "      box-shadow: 0px 1px 3px 1px rgba(0, 0, 0, 0.15);\n",
              "      filter: drop-shadow(0px 1px 2px rgba(0, 0, 0, 0.3));\n",
              "      fill: #FFFFFF;\n",
              "    }\n",
              "  </style>\n",
              "\n",
              "      <script>\n",
              "        const buttonEl =\n",
              "          document.querySelector('#df-06f49001-db96-4e5e-9b6b-1048c16198be button.colab-df-convert');\n",
              "        buttonEl.style.display =\n",
              "          google.colab.kernel.accessAllowed ? 'block' : 'none';\n",
              "\n",
              "        async function convertToInteractive(key) {\n",
              "          const element = document.querySelector('#df-06f49001-db96-4e5e-9b6b-1048c16198be');\n",
              "          const dataTable =\n",
              "            await google.colab.kernel.invokeFunction('convertToInteractive',\n",
              "                                                     [key], {});\n",
              "          if (!dataTable) return;\n",
              "\n",
              "          const docLinkHtml = 'Like what you see? Visit the ' +\n",
              "            '<a target=\"_blank\" href=https://colab.research.google.com/notebooks/data_table.ipynb>data table notebook</a>'\n",
              "            + ' to learn more about interactive tables.';\n",
              "          element.innerHTML = '';\n",
              "          dataTable['output_type'] = 'display_data';\n",
              "          await google.colab.output.renderOutput(dataTable, element);\n",
              "          const docLink = document.createElement('div');\n",
              "          docLink.innerHTML = docLinkHtml;\n",
              "          element.appendChild(docLink);\n",
              "        }\n",
              "      </script>\n",
              "    </div>\n",
              "  </div>\n",
              "  "
            ],
            "text/plain": [
              "      statuses_count  ...  label\n",
              "0              20370  ...      1\n",
              "1               3131  ...      1\n",
              "2               4024  ...      1\n",
              "3              40586  ...      1\n",
              "4               2016  ...      1\n",
              "...              ...  ...    ...\n",
              "4150               1  ...      0\n",
              "4151               0  ...      0\n",
              "4152               2  ...      0\n",
              "4153               2  ...      0\n",
              "4154               0  ...      0\n",
              "\n",
              "[4155 rows x 18 columns]"
            ]
          },
          "metadata": {},
          "execution_count": 29
        }
      ]
    },
    {
      "cell_type": "code",
      "source": [
        "df_1.shape"
      ],
      "metadata": {
        "colab": {
          "base_uri": "https://localhost:8080/"
        },
        "id": "jBrBU9wHOKcm",
        "outputId": "8be69041-e902-4988-ee2e-e0c7048a00c6"
      },
      "execution_count": 30,
      "outputs": [
        {
          "output_type": "execute_result",
          "data": {
            "text/plain": [
              "(4155, 18)"
            ]
          },
          "metadata": {},
          "execution_count": 30
        }
      ]
    },
    {
      "cell_type": "code",
      "source": [
        "df_1.isnull().sum()"
      ],
      "metadata": {
        "colab": {
          "base_uri": "https://localhost:8080/"
        },
        "id": "x_ue5nCjOOKX",
        "outputId": "ebfb5eb9-710a-4e8a-cae5-28929229ff95"
      },
      "execution_count": 31,
      "outputs": [
        {
          "output_type": "execute_result",
          "data": {
            "text/plain": [
              "statuses_count                  0\n",
              "followers_count                 0\n",
              "friends_count                   0\n",
              "favourites_count                0\n",
              "listed_count                    0\n",
              "lang                            0\n",
              "time_zone                       0\n",
              "geo_enabled                     0\n",
              "profile_use_background_image    0\n",
              "profile_text_color              0\n",
              "profile_sidebar_border_color    0\n",
              "profile_background_tile         0\n",
              "profile_sidebar_fill_color      0\n",
              "profile_background_color        0\n",
              "profile_link_color              0\n",
              "utc_offset                      0\n",
              "description                     0\n",
              "label                           0\n",
              "dtype: int64"
            ]
          },
          "metadata": {},
          "execution_count": 31
        }
      ]
    },
    {
      "cell_type": "code",
      "source": [
        "df_1.info()"
      ],
      "metadata": {
        "colab": {
          "base_uri": "https://localhost:8080/"
        },
        "id": "4Oz00hRmuPBq",
        "outputId": "102f79c1-9b48-4026-b462-b90d65bd2888"
      },
      "execution_count": 32,
      "outputs": [
        {
          "output_type": "stream",
          "name": "stdout",
          "text": [
            "<class 'pandas.core.frame.DataFrame'>\n",
            "RangeIndex: 4155 entries, 0 to 4154\n",
            "Data columns (total 18 columns):\n",
            " #   Column                        Non-Null Count  Dtype \n",
            "---  ------                        --------------  ----- \n",
            " 0   statuses_count                4155 non-null   int64 \n",
            " 1   followers_count               4155 non-null   int64 \n",
            " 2   friends_count                 4155 non-null   int64 \n",
            " 3   favourites_count              4155 non-null   int64 \n",
            " 4   listed_count                  4155 non-null   int64 \n",
            " 5   lang                          4155 non-null   object\n",
            " 6   time_zone                     4155 non-null   object\n",
            " 7   geo_enabled                   4155 non-null   int64 \n",
            " 8   profile_use_background_image  4155 non-null   object\n",
            " 9   profile_text_color            4155 non-null   object\n",
            " 10  profile_sidebar_border_color  4155 non-null   object\n",
            " 11  profile_background_tile       4155 non-null   object\n",
            " 12  profile_sidebar_fill_color    4155 non-null   object\n",
            " 13  profile_background_color      4155 non-null   object\n",
            " 14  profile_link_color            4155 non-null   object\n",
            " 15  utc_offset                    4155 non-null   object\n",
            " 16  description                   4155 non-null   object\n",
            " 17  label                         4155 non-null   int64 \n",
            "dtypes: int64(7), object(11)\n",
            "memory usage: 584.4+ KB\n"
          ]
        }
      ]
    },
    {
      "cell_type": "code",
      "source": [
        "sns.countplot(x='label', data=df_1)"
      ],
      "metadata": {
        "colab": {
          "base_uri": "https://localhost:8080/",
          "height": 71
        },
        "id": "StIUo-wKg_O_",
        "outputId": "0acddb3c-96b1-4689-e6c4-4880d794425f"
      },
      "execution_count": 33,
      "outputs": [
        {
          "output_type": "execute_result",
          "data": {
            "text/plain": [
              "<matplotlib.axes._subplots.AxesSubplot at 0x7feee54ef510>"
            ]
          },
          "metadata": {},
          "execution_count": 33
        },
        {
          "output_type": "display_data",
          "data": {
            "image/png": "[encoded data removed]",
            "text/plain": [
              "<Figure size 432x288 with 1 Axes>"
            ]
          },
          "metadata": {
            "needs_background": "light"
          }
        }
      ]
    },
    {
      "cell_type": "markdown",
      "source": [
        "##save manual test dataset"
      ],
      "metadata": {
        "id": "ogxHYK29OYnt"
      }
    },
    {
      "cell_type": "code",
      "source": [
        "df_testing = df_1.copy()"
      ],
      "metadata": {
        "id": "pblw5R22hVOr"
      },
      "execution_count": 34,
      "outputs": []
    },
    {
      "cell_type": "code",
      "source": [
        "df_testing.drop(columns='label',axis=0,inplace=True)"
      ],
      "metadata": {
        "id": "1hE5-SfRhZ7Z"
      },
      "execution_count": 35,
      "outputs": []
    },
    {
      "cell_type": "code",
      "source": [
        "df_testing"
      ],
      "metadata": {
        "colab": {
          "base_uri": "https://localhost:8080/",
          "height": 619
        },
        "id": "ENFQU1-ghoM1",
        "outputId": "ab93aa87-e5f9-494d-bafd-a1c6ec307284"
      },
      "execution_count": 36,
      "outputs": [
        {
          "output_type": "execute_result",
          "data": {
            "text/html": [
              "\n",
              "  <div id=\"df-e9cdae72-4b0d-4f7e-a604-b922cbcdffda\">\n",
              "    <div class=\"colab-df-container\">\n",
              "      <div>\n",
              "<style scoped>\n",
              "    .dataframe tbody tr th:only-of-type {\n",
              "        vertical-align: middle;\n",
              "    }\n",
              "\n",
              "    .dataframe tbody tr th {\n",
              "        vertical-align: top;\n",
              "    }\n",
              "\n",
              "    .dataframe thead th {\n",
              "        text-align: right;\n",
              "    }\n",
              "</style>\n",
              "<table border=\"1\" class=\"dataframe\">\n",
              "  <thead>\n",
              "    <tr style=\"text-align: right;\">\n",
              "      <th></th>\n",
              "      <th>statuses_count</th>\n",
              "      <th>followers_count</th>\n",
              "      <th>friends_count</th>\n",
              "      <th>favourites_count</th>\n",
              "      <th>listed_count</th>\n",
              "      <th>lang</th>\n",
              "      <th>time_zone</th>\n",
              "      <th>geo_enabled</th>\n",
              "      <th>profile_use_background_image</th>\n",
              "      <th>profile_text_color</th>\n",
              "      <th>profile_sidebar_border_color</th>\n",
              "      <th>profile_background_tile</th>\n",
              "      <th>profile_sidebar_fill_color</th>\n",
              "      <th>profile_background_color</th>\n",
              "      <th>profile_link_color</th>\n",
              "      <th>utc_offset</th>\n",
              "      <th>description</th>\n",
              "    </tr>\n",
              "  </thead>\n",
              "  <tbody>\n",
              "    <tr>\n",
              "      <th>0</th>\n",
              "      <td>20370</td>\n",
              "      <td>5470</td>\n",
              "      <td>2385</td>\n",
              "      <td>145</td>\n",
              "      <td>52</td>\n",
              "      <td>it</td>\n",
              "      <td>Rome</td>\n",
              "      <td>0</td>\n",
              "      <td>1</td>\n",
              "      <td>0C3E53</td>\n",
              "      <td>F2E195</td>\n",
              "      <td>0</td>\n",
              "      <td>FFF7CC</td>\n",
              "      <td>BADFCD</td>\n",
              "      <td>FF0000</td>\n",
              "      <td>3600</td>\n",
              "      <td>Founder of http://www.screenweek.it &amp; http://w...</td>\n",
              "    </tr>\n",
              "    <tr>\n",
              "      <th>1</th>\n",
              "      <td>3131</td>\n",
              "      <td>506</td>\n",
              "      <td>381</td>\n",
              "      <td>9</td>\n",
              "      <td>40</td>\n",
              "      <td>en</td>\n",
              "      <td>Rome</td>\n",
              "      <td>0</td>\n",
              "      <td>1</td>\n",
              "      <td>333333</td>\n",
              "      <td>FFFFFF</td>\n",
              "      <td>0</td>\n",
              "      <td>DDEEF6</td>\n",
              "      <td>C0DEED</td>\n",
              "      <td>0084B4</td>\n",
              "      <td>3600</td>\n",
              "      <td>BSc degree (cum laude) in Computer Engineering...</td>\n",
              "    </tr>\n",
              "    <tr>\n",
              "      <th>2</th>\n",
              "      <td>4024</td>\n",
              "      <td>264</td>\n",
              "      <td>87</td>\n",
              "      <td>323</td>\n",
              "      <td>16</td>\n",
              "      <td>en</td>\n",
              "      <td>Rome</td>\n",
              "      <td>0</td>\n",
              "      <td>1</td>\n",
              "      <td>666666</td>\n",
              "      <td>181A1E</td>\n",
              "      <td>1</td>\n",
              "      <td>0</td>\n",
              "      <td>1A1B1F</td>\n",
              "      <td>2FC2EF</td>\n",
              "      <td>3600</td>\n",
              "      <td>Cogito ergo bestemmio.</td>\n",
              "    </tr>\n",
              "    <tr>\n",
              "      <th>3</th>\n",
              "      <td>40586</td>\n",
              "      <td>640</td>\n",
              "      <td>622</td>\n",
              "      <td>1118</td>\n",
              "      <td>32</td>\n",
              "      <td>en</td>\n",
              "      <td>Rome</td>\n",
              "      <td>1</td>\n",
              "      <td>1</td>\n",
              "      <td>3C3940</td>\n",
              "      <td>FFFFFF</td>\n",
              "      <td>0</td>\n",
              "      <td>95E8EC</td>\n",
              "      <td>0099B9</td>\n",
              "      <td>0099B9</td>\n",
              "      <td>3600</td>\n",
              "      <td>Se la vita ti dأ  sarde, scapocciale!</td>\n",
              "    </tr>\n",
              "    <tr>\n",
              "      <th>4</th>\n",
              "      <td>2016</td>\n",
              "      <td>62</td>\n",
              "      <td>64</td>\n",
              "      <td>13</td>\n",
              "      <td>0</td>\n",
              "      <td>it</td>\n",
              "      <td>Rome</td>\n",
              "      <td>1</td>\n",
              "      <td>1</td>\n",
              "      <td>333333</td>\n",
              "      <td>EEEEEE</td>\n",
              "      <td>0</td>\n",
              "      <td>F6F6F6</td>\n",
              "      <td>ACDED6</td>\n",
              "      <td>38543</td>\n",
              "      <td>3600</td>\n",
              "      <td>Je me souviens</td>\n",
              "    </tr>\n",
              "    <tr>\n",
              "      <th>...</th>\n",
              "      <td>...</td>\n",
              "      <td>...</td>\n",
              "      <td>...</td>\n",
              "      <td>...</td>\n",
              "      <td>...</td>\n",
              "      <td>...</td>\n",
              "      <td>...</td>\n",
              "      <td>...</td>\n",
              "      <td>...</td>\n",
              "      <td>...</td>\n",
              "      <td>...</td>\n",
              "      <td>...</td>\n",
              "      <td>...</td>\n",
              "      <td>...</td>\n",
              "      <td>...</td>\n",
              "      <td>...</td>\n",
              "      <td>...</td>\n",
              "    </tr>\n",
              "    <tr>\n",
              "      <th>4150</th>\n",
              "      <td>1</td>\n",
              "      <td>0</td>\n",
              "      <td>17</td>\n",
              "      <td>0</td>\n",
              "      <td>0</td>\n",
              "      <td>en</td>\n",
              "      <td>Chennai</td>\n",
              "      <td>1</td>\n",
              "      <td>1</td>\n",
              "      <td>333333</td>\n",
              "      <td>C0DEED</td>\n",
              "      <td>1</td>\n",
              "      <td>DDEEF6</td>\n",
              "      <td>C0DEED</td>\n",
              "      <td>0084B4</td>\n",
              "      <td>19800</td>\n",
              "      <td>I have been in business onlin and offline for ...</td>\n",
              "    </tr>\n",
              "    <tr>\n",
              "      <th>4151</th>\n",
              "      <td>0</td>\n",
              "      <td>1</td>\n",
              "      <td>17</td>\n",
              "      <td>0</td>\n",
              "      <td>0</td>\n",
              "      <td>en</td>\n",
              "      <td>Chennai</td>\n",
              "      <td>1</td>\n",
              "      <td>1</td>\n",
              "      <td>333333</td>\n",
              "      <td>C0DEED</td>\n",
              "      <td>1</td>\n",
              "      <td>DDEEF6</td>\n",
              "      <td>C0DEED</td>\n",
              "      <td>0084B4</td>\n",
              "      <td>19800</td>\n",
              "      <td>blank</td>\n",
              "    </tr>\n",
              "    <tr>\n",
              "      <th>4152</th>\n",
              "      <td>2</td>\n",
              "      <td>0</td>\n",
              "      <td>15</td>\n",
              "      <td>0</td>\n",
              "      <td>0</td>\n",
              "      <td>en</td>\n",
              "      <td>Chennai</td>\n",
              "      <td>1</td>\n",
              "      <td>1</td>\n",
              "      <td>333333</td>\n",
              "      <td>C0DEED</td>\n",
              "      <td>1</td>\n",
              "      <td>DDEEF6</td>\n",
              "      <td>C0DEED</td>\n",
              "      <td>0084B4</td>\n",
              "      <td>19800</td>\n",
              "      <td>blank</td>\n",
              "    </tr>\n",
              "    <tr>\n",
              "      <th>4153</th>\n",
              "      <td>2</td>\n",
              "      <td>0</td>\n",
              "      <td>16</td>\n",
              "      <td>0</td>\n",
              "      <td>0</td>\n",
              "      <td>en</td>\n",
              "      <td>Chennai</td>\n",
              "      <td>1</td>\n",
              "      <td>1</td>\n",
              "      <td>333333</td>\n",
              "      <td>C0DEED</td>\n",
              "      <td>1</td>\n",
              "      <td>DDEEF6</td>\n",
              "      <td>C0DEED</td>\n",
              "      <td>0084B4</td>\n",
              "      <td>19800</td>\n",
              "      <td>blank</td>\n",
              "    </tr>\n",
              "    <tr>\n",
              "      <th>4154</th>\n",
              "      <td>0</td>\n",
              "      <td>0</td>\n",
              "      <td>17</td>\n",
              "      <td>0</td>\n",
              "      <td>0</td>\n",
              "      <td>en</td>\n",
              "      <td>Chennai</td>\n",
              "      <td>1</td>\n",
              "      <td>1</td>\n",
              "      <td>333333</td>\n",
              "      <td>C0DEED</td>\n",
              "      <td>1</td>\n",
              "      <td>DDEEF6</td>\n",
              "      <td>C0DEED</td>\n",
              "      <td>0084B4</td>\n",
              "      <td>19800</td>\n",
              "      <td>Hello!im a BELIEBER! IM A HUGE FAN OF JUSTIN B...</td>\n",
              "    </tr>\n",
              "  </tbody>\n",
              "</table>\n",
              "<p>4155 rows × 17 columns</p>\n",
              "</div>\n",
              "      <button class=\"colab-df-convert\" onclick=\"convertToInteractive('df-e9cdae72-4b0d-4f7e-a604-b922cbcdffda')\"\n",
              "              title=\"Convert this dataframe to an interactive table.\"\n",
              "              style=\"display:none;\">\n",
              "        \n",
              "  <svg xmlns=\"http://www.w3.org/2000/svg\" height=\"24px\"viewBox=\"0 0 24 24\"\n",
              "       width=\"24px\">\n",
              "    <path d=\"M0 0h24v24H0V0z\" fill=\"none\"/>\n",
              "    <path d=\"M18.56 5.44l.94 2.06.94-2.06 2.06-.94-2.06-.94-.94-2.06-.94 2.06-2.06.94zm-11 1L8.5 8.5l.94-2.06 2.06-.94-2.06-.94L8.5 2.5l-.94 2.06-2.06.94zm10 10l.94 2.06.94-2.06 2.06-.94-2.06-.94-.94-2.06-.94 2.06-2.06.94z\"/><path d=\"M17.41 7.96l-1.37-1.37c-.4-.4-.92-.59-1.43-.59-.52 0-1.04.2-1.43.59L10.3 9.45l-7.72 7.72c-.78.78-.78 2.05 0 2.83L4 21.41c.39.39.9.59 1.41.59.51 0 1.02-.2 1.41-.59l7.78-7.78 2.81-2.81c.8-.78.8-2.07 0-2.86zM5.41 20L4 18.59l7.72-7.72 1.47 1.35L5.41 20z\"/>\n",
              "  </svg>\n",
              "      </button>\n",
              "      \n",
              "  <style>\n",
              "    .colab-df-container {\n",
              "      display:flex;\n",
              "      flex-wrap:wrap;\n",
              "      gap: 12px;\n",
              "    }\n",
              "\n",
              "    .colab-df-convert {\n",
              "      background-color: #E8F0FE;\n",
              "      border: none;\n",
              "      border-radius: 50%;\n",
              "      cursor: pointer;\n",
              "      display: none;\n",
              "      fill: #1967D2;\n",
              "      height: 32px;\n",
              "      padding: 0 0 0 0;\n",
              "      width: 32px;\n",
              "    }\n",
              "\n",
              "    .colab-df-convert:hover {\n",
              "      background-color: #E2EBFA;\n",
              "      box-shadow: 0px 1px 2px rgba(60, 64, 67, 0.3), 0px 1px 3px 1px rgba(60, 64, 67, 0.15);\n",
              "      fill: #174EA6;\n",
              "    }\n",
              "\n",
              "    [theme=dark] .colab-df-convert {\n",
              "      background-color: #3B4455;\n",
              "      fill: #D2E3FC;\n",
              "    }\n",
              "\n",
              "    [theme=dark] .colab-df-convert:hover {\n",
              "      background-color: #434B5C;\n",
              "      box-shadow: 0px 1px 3px 1px rgba(0, 0, 0, 0.15);\n",
              "      filter: drop-shadow(0px 1px 2px rgba(0, 0, 0, 0.3));\n",
              "      fill: #FFFFFF;\n",
              "    }\n",
              "  </style>\n",
              "\n",
              "      <script>\n",
              "        const buttonEl =\n",
              "          document.querySelector('#df-e9cdae72-4b0d-4f7e-a604-b922cbcdffda button.colab-df-convert');\n",
              "        buttonEl.style.display =\n",
              "          google.colab.kernel.accessAllowed ? 'block' : 'none';\n",
              "\n",
              "        async function convertToInteractive(key) {\n",
              "          const element = document.querySelector('#df-e9cdae72-4b0d-4f7e-a604-b922cbcdffda');\n",
              "          const dataTable =\n",
              "            await google.colab.kernel.invokeFunction('convertToInteractive',\n",
              "                                                     [key], {});\n",
              "          if (!dataTable) return;\n",
              "\n",
              "          const docLinkHtml = 'Like what you see? Visit the ' +\n",
              "            '<a target=\"_blank\" href=https://colab.research.google.com/notebooks/data_table.ipynb>data table notebook</a>'\n",
              "            + ' to learn more about interactive tables.';\n",
              "          element.innerHTML = '';\n",
              "          dataTable['output_type'] = 'display_data';\n",
              "          await google.colab.output.renderOutput(dataTable, element);\n",
              "          const docLink = document.createElement('div');\n",
              "          docLink.innerHTML = docLinkHtml;\n",
              "          element.appendChild(docLink);\n",
              "        }\n",
              "      </script>\n",
              "    </div>\n",
              "  </div>\n",
              "  "
            ],
            "text/plain": [
              "      statuses_count  ...                                        description\n",
              "0              20370  ...  Founder of http://www.screenweek.it & http://w...\n",
              "1               3131  ...  BSc degree (cum laude) in Computer Engineering...\n",
              "2               4024  ...                             Cogito ergo bestemmio.\n",
              "3              40586  ...              Se la vita ti dأ  sarde, scapocciale!\n",
              "4               2016  ...                                     Je me souviens\n",
              "...              ...  ...                                                ...\n",
              "4150               1  ...  I have been in business onlin and offline for ...\n",
              "4151               0  ...                                              blank\n",
              "4152               2  ...                                              blank\n",
              "4153               2  ...                                              blank\n",
              "4154               0  ...  Hello!im a BELIEBER! IM A HUGE FAN OF JUSTIN B...\n",
              "\n",
              "[4155 rows x 17 columns]"
            ]
          },
          "metadata": {},
          "execution_count": 36
        }
      ]
    },
    {
      "cell_type": "code",
      "source": [
        "df_fake = df_testing.tail(1)\n",
        "for i in range(4154,4153,-1):\n",
        "  df_testing.drop([i],axis=0,inplace=True) "
      ],
      "metadata": {
        "id": "anC1XQeEQl5w"
      },
      "execution_count": 37,
      "outputs": []
    },
    {
      "cell_type": "code",
      "source": [
        "df_fake.to_csv(\"fake_testing.csv\")"
      ],
      "metadata": {
        "id": "rOgyoTPaeWUM"
      },
      "execution_count": 38,
      "outputs": []
    },
    {
      "cell_type": "code",
      "source": [
        "df_true = df_testing.head(1)\n",
        "for i in range(1,0,-1):\n",
        "  df_testing.drop([i],axis=0,inplace=True)"
      ],
      "metadata": {
        "id": "zyB-XsESQnml"
      },
      "execution_count": 39,
      "outputs": []
    },
    {
      "cell_type": "code",
      "source": [
        "df_true.to_csv(\"true_testing.csv\")"
      ],
      "metadata": {
        "id": "DIRrwacvQ8_g"
      },
      "execution_count": 40,
      "outputs": []
    },
    {
      "cell_type": "markdown",
      "source": [
        "##WordNetLemmatizer"
      ],
      "metadata": {
        "id": "A15_vvb9SLQA"
      }
    },
    {
      "cell_type": "code",
      "source": [
        "df_1['description'].head(10)"
      ],
      "metadata": {
        "colab": {
          "base_uri": "https://localhost:8080/"
        },
        "id": "V5gK_lZPSMdr",
        "outputId": "60c3048f-b447-406a-ab26-a3a4e4cf86cb"
      },
      "execution_count": 41,
      "outputs": [
        {
          "output_type": "execute_result",
          "data": {
            "text/plain": [
              "0    Founder of http://www.screenweek.it & http://w...\n",
              "1    BSc degree (cum laude) in Computer Engineering...\n",
              "2                               Cogito ergo bestemmio.\n",
              "3                Se la vita ti dأ  sarde, scapocciale!\n",
              "4                                       Je me souviens\n",
              "5                Swiper non rubare, Swiper non rubare!\n",
              "6    I never saw a wild thing sorry for itself.A sm...\n",
              "7    La vita أ¨ quello che accade mentre sei impegn...\n",
              "8    Founder e CEO di http://hagakure.it e autore d...\n",
              "9    Sono timido come Sushi, pigro come Dado e russ...\n",
              "Name: description, dtype: object"
            ]
          },
          "metadata": {},
          "execution_count": 41
        }
      ]
    },
    {
      "cell_type": "code",
      "source": [
        "nltk.download(\"stopwords\")"
      ],
      "metadata": {
        "colab": {
          "base_uri": "https://localhost:8080/"
        },
        "id": "Ag3iZW2Xff06",
        "outputId": "7ec899d5-5b54-4166-e86d-e5a4754de896"
      },
      "execution_count": 42,
      "outputs": [
        {
          "output_type": "stream",
          "name": "stdout",
          "text": [
            "[nltk_data] Downloading package stopwords to /root/nltk_data...\n",
            "[nltk_data]   Package stopwords is already up-to-date!\n"
          ]
        },
        {
          "output_type": "execute_result",
          "data": {
            "text/plain": [
              "True"
            ]
          },
          "metadata": {},
          "execution_count": 42
        }
      ]
    },
    {
      "cell_type": "code",
      "source": [
        "df_1['lang'].value_counts()"
      ],
      "metadata": {
        "colab": {
          "base_uri": "https://localhost:8080/"
        },
        "id": "oJ4dfQkefsl5",
        "outputId": "445fa29b-5167-415c-fcc0-567488abf009"
      },
      "execution_count": 43,
      "outputs": [
        {
          "output_type": "execute_result",
          "data": {
            "text/plain": [
              "en    2838\n",
              "it    1296\n",
              "es      12\n",
              "fr       3\n",
              "de       2\n",
              "nl       1\n",
              "0        1\n",
              "tr       1\n",
              "gl       1\n",
              "Name: lang, dtype: int64"
            ]
          },
          "metadata": {},
          "execution_count": 43
        }
      ]
    },
    {
      "cell_type": "code",
      "source": [
        "stop_words1 = set(stopwords.words(['italian','english','spanish','french','german','dutch','turkish']))\n",
        "print(stop_words1)"
      ],
      "metadata": {
        "colab": {
          "base_uri": "https://localhost:8080/"
        },
        "id": "GrgkHHTNf23C",
        "outputId": "ae081eda-3ec6-448e-83a3-5caf60697491"
      },
      "execution_count": 44,
      "outputs": [
        {
          "output_type": "stream",
          "name": "stdout",
          "text": [
            "{'heb', 'meiner', 'tuo', 'faceva', 'dieselbe', 'unsere', 'door', \"mustn't\", 'am', 'sie', 'sí', \"you've\", 'by', 'cuando', 'avesse', 'y', 'estarán', 'ayants', 'dein', 'mais', 'che', 'aura', 'ebbero', 'diesem', 'fossi', 'yo', 'es', 'allen', 'welche', 'avevate', 'these', 'wollen', \"aren't\", \"shan't\", 'somos', 'meinem', 'above', 'estada', 'mightn', 'tienen', 'des', 'te', 'habré', 'nous', 'sarei', 'fai', 'deinem', 'ja', 't', 'furono', 'muss', 'hubiese', 'until', 'stiano', 'tendríais', 'dich', 'gli', 'which', 'él', 'vuestro', 'tuvisteis', 'tuviera', 'per', 'avais', 'seiner', 'daar', 'stavo', 'habrían', 'habiendo', 'sul', 'into', 'tra', 'eravamo', \"should've\", 'míos', 'anderen', 'deze', 'kim', 'şey', 'll', 'dei', 'starà', 'damit', 'this', 'jeden', 'éramos', 'himself', 'steste', 'avrebbe', 'einmal', 'then', 'serais', 'avevano', 'hers', 'estuvieron', 'been', 'd', 'nuestras', 'tendríamos', 'derer', 'dies', \"hadn't\", 'she', 'ile', 'auf', 'durch', 'ander', 'einiges', 'nuestro', 'estas', 'ihren', 'kann', 'neden', 'does', 'there', 'kunnen', 'sei', 'stiamo', 'ces', 'allem', 'feci', 'eusse', 'sarete', 'stando', 'gegen', 'zum', 'sur', 'mio', 'doing', 'so', 'unter', 'soll', 'against', 'estuviéramos', 'tenía', 'dort', 'estuviera', 'facessimo', 'stavi', 'hatte', 'auriez', 'habrás', 'diye', 'hayas', 'being', 'uno', 'seas', 'uit', 'fecero', 'auront', 'kan', 'eusses', 'hun', 'hayan', 'siz', 'facemmo', 'tuviesen', 'saresti', 'étante', 'mich', 'tú', 'on', 'zwar', 'nei', 'facevate', 'the', 'haya', 'habéis', 'einige', 'sentidos', 'einigen', 'meine', 'it', 'l', 'faccia', 'both', \"didn't\", 'jene', 'ellos', 'faceste', 'down', 'habría', 'war', 'ayez', 'ihres', 'ait', 'yours', 'nostra', 'voi', 'çünkü', 'our', 'avrà', 'but', 'serían', 'tue', 'estén', 'bist', 'li', 'zelf', 'mucho', 'tendrán', 'abbia', 'machen', 'biri', 'na', 'in', 'than', 'poco', 'también', 'aan', 'sullo', 'tuvieron', 'estarías', 'won', 'pas', 'por', 'naar', 'sarebbe', 'mon', 'nicht', 'cui', 'iemand', 'ese', 'im', 'zich', 'solches', 'esa', 'tu', 'auch', 'few', 'fusses', 'otra', 'diesen', 'zal', 'acaba', 'şu', 'würden', 'habíamos', 'tenían', 'aus', 'zur', 'stareste', 'esté', 'suyos', 'dieses', 'welches', 'stesti', 'qué', 'nada', 'tengan', 'lo', 'his', 'dans', 'miei', 'again', 'tendrían', 'dem', 'col', 'stia', 'eine', 'ik', 'itself', 's', 'sería', 'ourselves', 'entre', 'sind', 'op', 'este', 'étée', 'had', 'staranno', 'agl', 'ton', 'könnte', 'ma', 'e', 'hubiesen', 'serez', 'hem', 'tus', 'welchem', 'mia', 'during', 'fuimos', 'serait', 'coi', 'nell', 'su', 'bis', 'wasn', 'weg', 'facciano', 'en', 'stetti', 'tanto', 'mie', 'alla', 'più', 'stemmo', 'saranno', 'elle', 'vosotros', 'über', 'jede', 'sobre', 'fueseis', 'seríamos', 'facevano', 'ils', 'suya', 'mía', 'loro', 'fuésemos', 'hier', 'faccio', 'hasta', 'welchen', 'ihre', 'met', 'estás', 'tuvieses', 'come', 'avreste', 'mes', 'mein', 'est', 'deiner', 'con', 'meer', 'manchem', 'fussiez', 'um', 'farebbe', 'wil', 'nach', 'dall', 'estuve', 'suo', 'of', 'todo', 'anders', 'after', 'viel', 'welcher', 'les', 'unserem', 'tuyos', 'toch', 'n', 'tutto', 'eravate', 'siano', 'eras', 'una', 'sea', 'fut', 'seremos', 'ayante', 'jeder', 'mí', 'are', 'sono', 'yourself', 'avemmo', 'stavamo', 'teníais', 'avions', 'also', 'mir', 'hij', 'todos', 'whom', \"weren't\", \"it's\", 'sich', 'esos', 'ses', 'esta', 'tenemos', 'shouldn', 'estuvieses', 'omdat', 'estáis', 'ni', 'zonder', 'van', 'estaríais', 'hubieseis', 'habríais', 'erano', 'solchem', 'ce', 'avait', \"shouldn't\", 'dass', 'tüm', 'vostro', 'estuvieran', 'was', 'iets', 'fossimo', 'moet', 'anderem', 'seine', 'don', 'tuyo', 'own', 'tuviésemos', 'having', 'eussions', 'sta', 'antes', 'ons', 'me', 'está', \"won't\", 'estuvimos', 'du', 'sera', 'om', 'avrei', 'toi', 'sonst', 'biz', 'further', 'için', 'vostre', 'seáis', 'under', 'par', 'nerede', 'siamo', 'questo', 'staresti', 'estando', 'uns', 'eues', 'alles', 'avevo', 'where', 'ho', 'hoe', 'teníamos', 'hubo', 'fueran', 'tendrá', 'habido', 'tienes', 'dello', 'anderer', 'cual', 'ob', 'aslında', 'soyons', 'birkaç', 'some', 'nereye', 'tenida', 'eux', 'avevamo', 'seinem', 'starò', 'fueses', 'estábamos', 'euch', 'seré', 'unseres', 'quien', 'hiç', 'between', 'sareste', 'siate', 'from', 'niet', 'suis', 'abbiate', 'auraient', 'ein', 'ci', 'dov', 'eri', 'aren', 'u', 'eût', 'ge', 'weren', 'fuerais', 'estabais', 'ta', 'quelle', 'hubieron', 'agli', 'sintiendo', \"couldn't\", 'can', 'tendré', 'sulle', 'with', 'aviez', 'einem', 'ich', 'une', 'stava', 'hubieras', 'das', 'ze', 'nu', \"wasn't\", 'während', 'non', 'quale', 'eens', 'tes', 'stai', 'siete', 'habrías', 'avesti', 'quello', 'keiner', 'now', 'faresti', 'tendrás', 'hab', 'estará', 'sehr', 'fuisteis', 'lui', 'sin', 'tuvimos', 'hepsi', 'fosse', 'dalle', 'quanta', 'eus', 'wie', 'her', 'están', 'à', 'needn', 'veya', 'facessi', 'los', 'habían', 'della', 'sentido', 'how', 'seréis', 'facciate', 'pero', 'ou', 'dal', 'abbiano', 'fuéramos', 'derselbe', 'sugl', 'oder', 'hep', 'avuta', 'que', 'fu', 'solcher', 'haben', 'sua', 'questa', 'its', 'should', 'mu', 'want', 'facesse', 'un', 'mío', 'étés', 'doesn', 'die', 'si', 'dasselbe', 'man', 'farà', 'stiate', 'your', 'before', 'tengo', 'ki', 'delle', 'siente', 'auras', 'andere', 'können', 'avrai', 'otras', 'ya', 'werde', 'ihn', 'teniendo', 'geweest', 'fussent', 'tuve', 'anche', 'facevo', 'fue', 'estaban', 'no', 'habréis', 'del', 'saremo', 'kein', 'dat', 'ad', 'alle', 'shan', 'ante', 'tenías', 'einiger', 'mías', 'nur', 'dagli', 'eûmes', 'unos', 'any', 'quelli', 'notre', 'seamos', 'estoy', 'wird', 'el', 'abbiamo', 'dus', 'mı', 'vuestros', 'onder', 'serás', 'myself', 'sto', 'tengamos', 'facessero', 'au', \"you'll\", 'jenen', 'hat', 'not', 'contra', 'tuyas', 'wollte', 'if', 'stavano', 'bin', 'i', 'wirst', 'dagl', 'ihnen', 'heeft', 'estado', 'sus', 'eue', 'farei', 'einigem', 'het', 'seraient', 'nelle', 'avendo', 'mi', 'avrete', 'otro', 'eure', 'reeds', 'nos', 'quanti', 'euer', 'very', 'estos', 'serías', 'hai', 'stanno', 'couldn', 'habrán', 'tuvo', 'az', 'pour', 'diese', 'dan', 'below', 'keine', 'bazı', 'toen', 'solchen', 'qui', \"isn't\", 'hubieses', 'nello', 'facevi', 'seríais', 'wat', 're', 'gewesen', 'avessimo', 'staremo', 'you', 'eran', 'dieser', 'ihm', 'fossero', 'tengáis', 'estuviesen', 'or', 'once', 'doen', 'estés', 'ben', 'quanto', 'otros', 'meines', 'just', 'sa', 'o', 'desselben', 'at', 'jedes', 'serons', 'sia', 'esas', 'niçin', 'fuiste', 'hubimos', 'sein', 'their', 'será', 'avessero', 'out', \"wouldn't\", 'avrebbero', 'facevamo', 'nel', 'aurai', 'soyez', 'était', 'nor', 'who', 'habidas', 'er', 'avec', 'ihrer', 'geen', 'unseren', 'tendremos', 'estuvieseis', 'deine', 'manchen', 'defa', 'al', 'estar', 'ise', 'for', 'fusse', 'dazu', 'hanno', 'étaient', 'belki', 'habremos', 'même', 'more', 'over', 'jenes', 'und', 'birşey', 'étant', 'keines', 'zu', 'c', 'tuvieseis', 'estados', 'quella', \"don't\", 'quienes', 'vostra', 'ellas', 'mü', 'only', 'denn', 'çok', \"that'll\", 'my', 'what', 'ain', 'veel', 'era', 'sarò', 'como', 'eussent', 'yani', 'ti', 'estamos', 'wouldn', 'solche', 'aurait', 'hebben', 'dit', 'étiez', 'tuvieras', 'because', 'avuto', 'estaremos', 'estuvieras', 'été', 'hayáis', 'aies', 'ella', 'di', 'stavate', 'étantes', 'aient', 'sentid', 'facendo', 'altijd', 'eussiez', 'negli', 'they', 'questi', 'algunas', 'son', 'sugli', 'estabas', 'moi', 'ai', 'de', 'da', 'sull', 'quante', 'an', 'las', \"you'd\", \"needn't\", 'os', 'habidos', 'sentidas', 'daß', 'derselben', 'más', 'estad', 'nun', 'ihrem', 'estaba', 'fareste', 'estadas', 'zwischen', 'm', 'mij', 'did', 'noch', 'sean', 'fummo', 'estaríamos', 'tuya', 'io', 'contro', 'stessi', 've', 'aux', 'lei', 'vos', 'aurez', 'eres', 'warst', 'estemos', 'farai', 'furent', 'estarás', 'eines', 'fanno', 'negl', 'fosti', 'serions', 'è', 'faremo', 'nostri', 'estarían', 'avute', 'dai', 'sue', 'euren', 'aurais', 'eğer', \"doesn't\", 'porque', 'nostre', 'bei', 'seront', 'bij', 'hubierais', 'dell', 'aller', 'hubiésemos', 'tuvierais', 'tendréis', 'starebbe', 'manche', 'haar', 'tiene', 'farò', 'dieselben', 'mijn', 'faranno', 'niye', \"haven't\", 'wo', 'dann', 'through', 'daha', 'sanki', 'serai', 'we', 'starebbero', 'sont', 'denselben', 'había', 'manches', 'have', 'etwas', 'ist', 'ebbi', 'starei', 'most', 'hube', 'all', 'dalla', 'themselves', 'étants', 'estaréis', 'fuese', 'vous', 'ayantes', 'meinen', 'why', 'wir', 'j', 'eurer', 'ihr', 'hay', 'unser', 'fûtes', 'them', 'avresti', 'hayamos', 'tot', 'queste', 'aurions', 'deinen', 'eu', 'tua', 'ne', 'ed', 'tegen', 'degli', 'habías', 'nerde', 'fece', 'für', 'seines', 'vi', 'als', 'andern', 'tened', 'herself', 'habíais', 'ook', 'avremo', 'do', 'and', 'einig', 'nella', 'tuviese', 'hatten', 'dallo', 'fui', 'wezen', 'each', 'tenido', 'seras', 'hubisteis', 'estuvo', 'estuviste', 'durante', 'sondern', 'le', 'aveva', 'stettero', 'too', 'vuestras', \"mightn't\", 'estuviese', 'hubieran', 'a', 'aveste', 'eut', 'dir', 'maar', 'jetzt', 'tendrías', 'eurem', 'anderr', 'la', 'avessi', 'yourselves', 'men', 'tenidos', 'isn', 'fûmes', 'algunos', 'faremmo', 'fus', 'avaient', 'ohne', 'jenem', 'deines', 'nosotras', 'mis', 'fussions', 'von', 'fuera', 'nuestros', 'ours', 'estéis', 'tenéis', 'be', 'didn', 'sui', 'stessimo', \"hasn't\", 'leur', 'der', 'he', 'habe', 'avrò', 'up', 'zou', 'ayant', 'zijn', 'farete', 'him', 'esto', 'estuvierais', 'ins', 'habrá', 'algo', 'uw', 'vuestra', 'anderm', 'avranno', 'keinem', 'sollte', \"you're\", 'avez', 'avevi', 'wenn', 'off', 'se', 'mustn', 'donde', 'stesse', 'soy', 'waren', 'facciamo', 'den', 'is', 'soit', 'erais', 'degl', 'avremmo', 'desde', 'weil', 'tuviéramos', 'aie', 'keinen', 'demselben', 'hin', 'seinen', 'jener', 'hinter', 'tenga', 'avons', 'würde', 'étées', 'nichts', 'een', 'avuti', 'voor', 'to', 'jedem', 'aurons', 'musste', 'il', 'has', 'saremmo', 'votre', 'ont', 'zo', 'perché', 'einer', 'hasn', 'allo', 'facesti', 'muchos', 'suyas', 'when', 'nosotros', 'hemos', 'habríamos', 'tuoi', 'hubiéramos', 'serán', 'fuesen', 'étions', 'aber', 'zij', 'soient', 'tendría', 'avete', 'stessero', 'sois', 'sommes', 'ha', 'niets', 'starete', 'estuvisteis', 'wieder', 'eurent', 'fueras', 'qu', 'while', 'hubiste', 'anderes', 'doch', 'haven', 'eures', 'those', 'weiter', 'tutti', 'estaré', 'tenidas', 'einen', 'ero', 'mit', 'farebbero', 'chi', 'that', 'tuvieran', 'staremmo', 'other', 'estuviésemos', 'dessen', 'nog', 'mancher', 'kez', 'will', 'estaría', 'tuviste', 'nasıl', 'nostro', \"she's\", 'indem', 'et', 'muy', 'selbst', 'vom', 'werd', 'êtes', 'vosotras', 'ama', 'essendo', 'sentida', 'sarai', 'such', 'as', 'kon', 'theirs', 'wordt', 'foste', 'hubiera', 'seriez', 'nuestra', 'suyo', 'about', 'same', 'starai', 'hadn', 'étais', 'ayons', 'han', 'werden', 'vostri', 'habida', 'eûtes', 'je', 'sulla', 'vor', 'fueron', 'noi', 'eso', 'here', 'worden', 'ebbe', 'sarebbero', 'tengas', 'sarà', 'bu', 'gibi', 'dove', 'were', 'para', 'suoi', 'fût', 'stette'}\n"
          ]
        }
      ]
    },
    {
      "cell_type": "code",
      "source": [
        "wordnet = WordNetLemmatizer()\n",
        "\n",
        "def prepare_description(x):\n",
        "  x = x.lower()\n",
        "  x = ' '.join([word for word in x.split(' ') if word not in stop_words1])\n",
        "  x = x.encode('utf-8').decode()\n",
        "  x = re.sub(r'https*\\S+',' ',x)\n",
        "  x = re.sub(r'@\\S+',' ',x)\n",
        "  x = re.sub(r'#\\S+',' ',x)\n",
        "  x = re.sub(r'\\'\\w+',' ',x)\n",
        "  x = re.sub('[%s]' % re.escape(string.punctuation),' ',x)\n",
        "  x = re.sub(r'\\w*\\d+\\w*',' ',x)\n",
        "  x = re.sub(r'\\s{2,}',' ',x)\n",
        "  return x"
      ],
      "metadata": {
        "id": "rqPEpseAgHpU"
      },
      "execution_count": 45,
      "outputs": []
    },
    {
      "cell_type": "code",
      "source": [
        "df_1['description'] = df_1['description'].apply(prepare_description)\n",
        "df_1"
      ],
      "metadata": {
        "colab": {
          "base_uri": "https://localhost:8080/",
          "height": 738
        },
        "id": "VkYzR4VUgigR",
        "outputId": "607430f7-1319-45fb-8a06-f49c594d3309"
      },
      "execution_count": 46,
      "outputs": [
        {
          "output_type": "execute_result",
          "data": {
            "text/html": [
              "\n",
              "  <div id=\"df-79268419-f4b9-4d71-a3e2-c157d8342cc2\">\n",
              "    <div class=\"colab-df-container\">\n",
              "      <div>\n",
              "<style scoped>\n",
              "    .dataframe tbody tr th:only-of-type {\n",
              "        vertical-align: middle;\n",
              "    }\n",
              "\n",
              "    .dataframe tbody tr th {\n",
              "        vertical-align: top;\n",
              "    }\n",
              "\n",
              "    .dataframe thead th {\n",
              "        text-align: right;\n",
              "    }\n",
              "</style>\n",
              "<table border=\"1\" class=\"dataframe\">\n",
              "  <thead>\n",
              "    <tr style=\"text-align: right;\">\n",
              "      <th></th>\n",
              "      <th>statuses_count</th>\n",
              "      <th>followers_count</th>\n",
              "      <th>friends_count</th>\n",
              "      <th>favourites_count</th>\n",
              "      <th>listed_count</th>\n",
              "      <th>lang</th>\n",
              "      <th>time_zone</th>\n",
              "      <th>geo_enabled</th>\n",
              "      <th>profile_use_background_image</th>\n",
              "      <th>profile_text_color</th>\n",
              "      <th>profile_sidebar_border_color</th>\n",
              "      <th>profile_background_tile</th>\n",
              "      <th>profile_sidebar_fill_color</th>\n",
              "      <th>profile_background_color</th>\n",
              "      <th>profile_link_color</th>\n",
              "      <th>utc_offset</th>\n",
              "      <th>description</th>\n",
              "      <th>label</th>\n",
              "    </tr>\n",
              "  </thead>\n",
              "  <tbody>\n",
              "    <tr>\n",
              "      <th>0</th>\n",
              "      <td>20370</td>\n",
              "      <td>5470</td>\n",
              "      <td>2385</td>\n",
              "      <td>145</td>\n",
              "      <td>52</td>\n",
              "      <td>it</td>\n",
              "      <td>Rome</td>\n",
              "      <td>0</td>\n",
              "      <td>1</td>\n",
              "      <td>0C3E53</td>\n",
              "      <td>F2E195</td>\n",
              "      <td>0</td>\n",
              "      <td>FFF7CC</td>\n",
              "      <td>BADFCD</td>\n",
              "      <td>FF0000</td>\n",
              "      <td>3600</td>\n",
              "      <td>founder apple movie lover find rebelmouse</td>\n",
              "      <td>1</td>\n",
              "    </tr>\n",
              "    <tr>\n",
              "      <th>1</th>\n",
              "      <td>3131</td>\n",
              "      <td>506</td>\n",
              "      <td>381</td>\n",
              "      <td>9</td>\n",
              "      <td>40</td>\n",
              "      <td>en</td>\n",
              "      <td>Rome</td>\n",
              "      <td>0</td>\n",
              "      <td>1</td>\n",
              "      <td>333333</td>\n",
              "      <td>FFFFFF</td>\n",
              "      <td>0</td>\n",
              "      <td>DDEEF6</td>\n",
              "      <td>C0DEED</td>\n",
              "      <td>0084B4</td>\n",
              "      <td>3600</td>\n",
              "      <td>bsc degree cum laude computer engineering co f...</td>\n",
              "      <td>1</td>\n",
              "    </tr>\n",
              "    <tr>\n",
              "      <th>2</th>\n",
              "      <td>4024</td>\n",
              "      <td>264</td>\n",
              "      <td>87</td>\n",
              "      <td>323</td>\n",
              "      <td>16</td>\n",
              "      <td>en</td>\n",
              "      <td>Rome</td>\n",
              "      <td>0</td>\n",
              "      <td>1</td>\n",
              "      <td>666666</td>\n",
              "      <td>181A1E</td>\n",
              "      <td>1</td>\n",
              "      <td>0</td>\n",
              "      <td>1A1B1F</td>\n",
              "      <td>2FC2EF</td>\n",
              "      <td>3600</td>\n",
              "      <td>cogito ergo bestemmio</td>\n",
              "      <td>1</td>\n",
              "    </tr>\n",
              "    <tr>\n",
              "      <th>3</th>\n",
              "      <td>40586</td>\n",
              "      <td>640</td>\n",
              "      <td>622</td>\n",
              "      <td>1118</td>\n",
              "      <td>32</td>\n",
              "      <td>en</td>\n",
              "      <td>Rome</td>\n",
              "      <td>1</td>\n",
              "      <td>1</td>\n",
              "      <td>3C3940</td>\n",
              "      <td>FFFFFF</td>\n",
              "      <td>0</td>\n",
              "      <td>95E8EC</td>\n",
              "      <td>0099B9</td>\n",
              "      <td>0099B9</td>\n",
              "      <td>3600</td>\n",
              "      <td>vita dأ sarde scapocciale</td>\n",
              "      <td>1</td>\n",
              "    </tr>\n",
              "    <tr>\n",
              "      <th>4</th>\n",
              "      <td>2016</td>\n",
              "      <td>62</td>\n",
              "      <td>64</td>\n",
              "      <td>13</td>\n",
              "      <td>0</td>\n",
              "      <td>it</td>\n",
              "      <td>Rome</td>\n",
              "      <td>1</td>\n",
              "      <td>1</td>\n",
              "      <td>333333</td>\n",
              "      <td>EEEEEE</td>\n",
              "      <td>0</td>\n",
              "      <td>F6F6F6</td>\n",
              "      <td>ACDED6</td>\n",
              "      <td>38543</td>\n",
              "      <td>3600</td>\n",
              "      <td>souviens</td>\n",
              "      <td>1</td>\n",
              "    </tr>\n",
              "    <tr>\n",
              "      <th>...</th>\n",
              "      <td>...</td>\n",
              "      <td>...</td>\n",
              "      <td>...</td>\n",
              "      <td>...</td>\n",
              "      <td>...</td>\n",
              "      <td>...</td>\n",
              "      <td>...</td>\n",
              "      <td>...</td>\n",
              "      <td>...</td>\n",
              "      <td>...</td>\n",
              "      <td>...</td>\n",
              "      <td>...</td>\n",
              "      <td>...</td>\n",
              "      <td>...</td>\n",
              "      <td>...</td>\n",
              "      <td>...</td>\n",
              "      <td>...</td>\n",
              "      <td>...</td>\n",
              "    </tr>\n",
              "    <tr>\n",
              "      <th>4150</th>\n",
              "      <td>1</td>\n",
              "      <td>0</td>\n",
              "      <td>17</td>\n",
              "      <td>0</td>\n",
              "      <td>0</td>\n",
              "      <td>en</td>\n",
              "      <td>Chennai</td>\n",
              "      <td>1</td>\n",
              "      <td>1</td>\n",
              "      <td>333333</td>\n",
              "      <td>C0DEED</td>\n",
              "      <td>1</td>\n",
              "      <td>DDEEF6</td>\n",
              "      <td>C0DEED</td>\n",
              "      <td>0084B4</td>\n",
              "      <td>19800</td>\n",
              "      <td>business onlin offline years i enjoy traveling...</td>\n",
              "      <td>0</td>\n",
              "    </tr>\n",
              "    <tr>\n",
              "      <th>4151</th>\n",
              "      <td>0</td>\n",
              "      <td>1</td>\n",
              "      <td>17</td>\n",
              "      <td>0</td>\n",
              "      <td>0</td>\n",
              "      <td>en</td>\n",
              "      <td>Chennai</td>\n",
              "      <td>1</td>\n",
              "      <td>1</td>\n",
              "      <td>333333</td>\n",
              "      <td>C0DEED</td>\n",
              "      <td>1</td>\n",
              "      <td>DDEEF6</td>\n",
              "      <td>C0DEED</td>\n",
              "      <td>0084B4</td>\n",
              "      <td>19800</td>\n",
              "      <td>blank</td>\n",
              "      <td>0</td>\n",
              "    </tr>\n",
              "    <tr>\n",
              "      <th>4152</th>\n",
              "      <td>2</td>\n",
              "      <td>0</td>\n",
              "      <td>15</td>\n",
              "      <td>0</td>\n",
              "      <td>0</td>\n",
              "      <td>en</td>\n",
              "      <td>Chennai</td>\n",
              "      <td>1</td>\n",
              "      <td>1</td>\n",
              "      <td>333333</td>\n",
              "      <td>C0DEED</td>\n",
              "      <td>1</td>\n",
              "      <td>DDEEF6</td>\n",
              "      <td>C0DEED</td>\n",
              "      <td>0084B4</td>\n",
              "      <td>19800</td>\n",
              "      <td>blank</td>\n",
              "      <td>0</td>\n",
              "    </tr>\n",
              "    <tr>\n",
              "      <th>4153</th>\n",
              "      <td>2</td>\n",
              "      <td>0</td>\n",
              "      <td>16</td>\n",
              "      <td>0</td>\n",
              "      <td>0</td>\n",
              "      <td>en</td>\n",
              "      <td>Chennai</td>\n",
              "      <td>1</td>\n",
              "      <td>1</td>\n",
              "      <td>333333</td>\n",
              "      <td>C0DEED</td>\n",
              "      <td>1</td>\n",
              "      <td>DDEEF6</td>\n",
              "      <td>C0DEED</td>\n",
              "      <td>0084B4</td>\n",
              "      <td>19800</td>\n",
              "      <td>blank</td>\n",
              "      <td>0</td>\n",
              "    </tr>\n",
              "    <tr>\n",
              "      <th>4154</th>\n",
              "      <td>0</td>\n",
              "      <td>0</td>\n",
              "      <td>17</td>\n",
              "      <td>0</td>\n",
              "      <td>0</td>\n",
              "      <td>en</td>\n",
              "      <td>Chennai</td>\n",
              "      <td>1</td>\n",
              "      <td>1</td>\n",
              "      <td>333333</td>\n",
              "      <td>C0DEED</td>\n",
              "      <td>1</td>\n",
              "      <td>DDEEF6</td>\n",
              "      <td>C0DEED</td>\n",
              "      <td>0084B4</td>\n",
              "      <td>19800</td>\n",
              "      <td>hello im belieber huge fan justin bieber inspi...</td>\n",
              "      <td>0</td>\n",
              "    </tr>\n",
              "  </tbody>\n",
              "</table>\n",
              "<p>4155 rows × 18 columns</p>\n",
              "</div>\n",
              "      <button class=\"colab-df-convert\" onclick=\"convertToInteractive('df-79268419-f4b9-4d71-a3e2-c157d8342cc2')\"\n",
              "              title=\"Convert this dataframe to an interactive table.\"\n",
              "              style=\"display:none;\">\n",
              "        \n",
              "  <svg xmlns=\"http://www.w3.org/2000/svg\" height=\"24px\"viewBox=\"0 0 24 24\"\n",
              "       width=\"24px\">\n",
              "    <path d=\"M0 0h24v24H0V0z\" fill=\"none\"/>\n",
              "    <path d=\"M18.56 5.44l.94 2.06.94-2.06 2.06-.94-2.06-.94-.94-2.06-.94 2.06-2.06.94zm-11 1L8.5 8.5l.94-2.06 2.06-.94-2.06-.94L8.5 2.5l-.94 2.06-2.06.94zm10 10l.94 2.06.94-2.06 2.06-.94-2.06-.94-.94-2.06-.94 2.06-2.06.94z\"/><path d=\"M17.41 7.96l-1.37-1.37c-.4-.4-.92-.59-1.43-.59-.52 0-1.04.2-1.43.59L10.3 9.45l-7.72 7.72c-.78.78-.78 2.05 0 2.83L4 21.41c.39.39.9.59 1.41.59.51 0 1.02-.2 1.41-.59l7.78-7.78 2.81-2.81c.8-.78.8-2.07 0-2.86zM5.41 20L4 18.59l7.72-7.72 1.47 1.35L5.41 20z\"/>\n",
              "  </svg>\n",
              "      </button>\n",
              "      \n",
              "  <style>\n",
              "    .colab-df-container {\n",
              "      display:flex;\n",
              "      flex-wrap:wrap;\n",
              "      gap: 12px;\n",
              "    }\n",
              "\n",
              "    .colab-df-convert {\n",
              "      background-color: #E8F0FE;\n",
              "      border: none;\n",
              "      border-radius: 50%;\n",
              "      cursor: pointer;\n",
              "      display: none;\n",
              "      fill: #1967D2;\n",
              "      height: 32px;\n",
              "      padding: 0 0 0 0;\n",
              "      width: 32px;\n",
              "    }\n",
              "\n",
              "    .colab-df-convert:hover {\n",
              "      background-color: #E2EBFA;\n",
              "      box-shadow: 0px 1px 2px rgba(60, 64, 67, 0.3), 0px 1px 3px 1px rgba(60, 64, 67, 0.15);\n",
              "      fill: #174EA6;\n",
              "    }\n",
              "\n",
              "    [theme=dark] .colab-df-convert {\n",
              "      background-color: #3B4455;\n",
              "      fill: #D2E3FC;\n",
              "    }\n",
              "\n",
              "    [theme=dark] .colab-df-convert:hover {\n",
              "      background-color: #434B5C;\n",
              "      box-shadow: 0px 1px 3px 1px rgba(0, 0, 0, 0.15);\n",
              "      filter: drop-shadow(0px 1px 2px rgba(0, 0, 0, 0.3));\n",
              "      fill: #FFFFFF;\n",
              "    }\n",
              "  </style>\n",
              "\n",
              "      <script>\n",
              "        const buttonEl =\n",
              "          document.querySelector('#df-79268419-f4b9-4d71-a3e2-c157d8342cc2 button.colab-df-convert');\n",
              "        buttonEl.style.display =\n",
              "          google.colab.kernel.accessAllowed ? 'block' : 'none';\n",
              "\n",
              "        async function convertToInteractive(key) {\n",
              "          const element = document.querySelector('#df-79268419-f4b9-4d71-a3e2-c157d8342cc2');\n",
              "          const dataTable =\n",
              "            await google.colab.kernel.invokeFunction('convertToInteractive',\n",
              "                                                     [key], {});\n",
              "          if (!dataTable) return;\n",
              "\n",
              "          const docLinkHtml = 'Like what you see? Visit the ' +\n",
              "            '<a target=\"_blank\" href=https://colab.research.google.com/notebooks/data_table.ipynb>data table notebook</a>'\n",
              "            + ' to learn more about interactive tables.';\n",
              "          element.innerHTML = '';\n",
              "          dataTable['output_type'] = 'display_data';\n",
              "          await google.colab.output.renderOutput(dataTable, element);\n",
              "          const docLink = document.createElement('div');\n",
              "          docLink.innerHTML = docLinkHtml;\n",
              "          element.appendChild(docLink);\n",
              "        }\n",
              "      </script>\n",
              "    </div>\n",
              "  </div>\n",
              "  "
            ],
            "text/plain": [
              "      statuses_count  ...  label\n",
              "0              20370  ...      1\n",
              "1               3131  ...      1\n",
              "2               4024  ...      1\n",
              "3              40586  ...      1\n",
              "4               2016  ...      1\n",
              "...              ...  ...    ...\n",
              "4150               1  ...      0\n",
              "4151               0  ...      0\n",
              "4152               2  ...      0\n",
              "4153               2  ...      0\n",
              "4154               0  ...      0\n",
              "\n",
              "[4155 rows x 18 columns]"
            ]
          },
          "metadata": {},
          "execution_count": 46
        }
      ]
    },
    {
      "cell_type": "code",
      "source": [
        "df_1.info()"
      ],
      "metadata": {
        "colab": {
          "base_uri": "https://localhost:8080/"
        },
        "id": "X4DK-PDKK1EU",
        "outputId": "39a4355c-7dbd-4a39-edea-ed18643439a3"
      },
      "execution_count": 47,
      "outputs": [
        {
          "output_type": "stream",
          "name": "stdout",
          "text": [
            "<class 'pandas.core.frame.DataFrame'>\n",
            "RangeIndex: 4155 entries, 0 to 4154\n",
            "Data columns (total 18 columns):\n",
            " #   Column                        Non-Null Count  Dtype \n",
            "---  ------                        --------------  ----- \n",
            " 0   statuses_count                4155 non-null   int64 \n",
            " 1   followers_count               4155 non-null   int64 \n",
            " 2   friends_count                 4155 non-null   int64 \n",
            " 3   favourites_count              4155 non-null   int64 \n",
            " 4   listed_count                  4155 non-null   int64 \n",
            " 5   lang                          4155 non-null   object\n",
            " 6   time_zone                     4155 non-null   object\n",
            " 7   geo_enabled                   4155 non-null   int64 \n",
            " 8   profile_use_background_image  4155 non-null   object\n",
            " 9   profile_text_color            4155 non-null   object\n",
            " 10  profile_sidebar_border_color  4155 non-null   object\n",
            " 11  profile_background_tile       4155 non-null   object\n",
            " 12  profile_sidebar_fill_color    4155 non-null   object\n",
            " 13  profile_background_color      4155 non-null   object\n",
            " 14  profile_link_color            4155 non-null   object\n",
            " 15  utc_offset                    4155 non-null   object\n",
            " 16  description                   4155 non-null   object\n",
            " 17  label                         4155 non-null   int64 \n",
            "dtypes: int64(7), object(11)\n",
            "memory usage: 584.4+ KB\n"
          ]
        }
      ]
    },
    {
      "cell_type": "markdown",
      "source": [
        "##merging the data"
      ],
      "metadata": {
        "id": "oi_5suW3DpQi"
      }
    },
    {
      "cell_type": "code",
      "source": [
        "df_1['content'] = str(df_1['statuses_count'])+' '+str(df_1['followers_count'])+' '+str(df_1['friends_count'])+' '+str(df_1['favourites_count'])+' '+str(df_1['listed_count'])+' '+df_1['lang']+' '+df_1['time_zone']+' '+str(df_1['geo_enabled'])+' '+df_1['profile_use_background_image']+' '+df_1['profile_text_color']+' '+df_1['profile_sidebar_border_color']+' '+df_1['profile_background_tile']+' '+df_1['profile_sidebar_fill_color']+' '+df_1['profile_background_color']+' '+df_1['profile_link_color']+' '+df_1['utc_offset']+' '+df_1['description']\n",
        "df_1['content']"
      ],
      "metadata": {
        "colab": {
          "base_uri": "https://localhost:8080/"
        },
        "id": "7zy57VC1Dtjt",
        "outputId": "cd3dc647-8096-4cab-ff2f-4928e482150f"
      },
      "execution_count": 48,
      "outputs": [
        {
          "output_type": "execute_result",
          "data": {
            "text/plain": [
              "0       0       20370\\n1        3131\\n2        4024\\n3...\n",
              "1       0       20370\\n1        3131\\n2        4024\\n3...\n",
              "2       0       20370\\n1        3131\\n2        4024\\n3...\n",
              "3       0       20370\\n1        3131\\n2        4024\\n3...\n",
              "4       0       20370\\n1        3131\\n2        4024\\n3...\n",
              "                              ...                        \n",
              "4150    0       20370\\n1        3131\\n2        4024\\n3...\n",
              "4151    0       20370\\n1        3131\\n2        4024\\n3...\n",
              "4152    0       20370\\n1        3131\\n2        4024\\n3...\n",
              "4153    0       20370\\n1        3131\\n2        4024\\n3...\n",
              "4154    0       20370\\n1        3131\\n2        4024\\n3...\n",
              "Name: content, Length: 4155, dtype: object"
            ]
          },
          "metadata": {},
          "execution_count": 48
        }
      ]
    },
    {
      "cell_type": "markdown",
      "source": [
        "##vector"
      ],
      "metadata": {
        "id": "m9u4coBFtqFL"
      }
    },
    {
      "cell_type": "code",
      "source": [
        "vector = TfidfVectorizer(stop_words=stop_words1,lowercase=False)\n",
        "vector"
      ],
      "metadata": {
        "id": "p2ZEvbDCtsjT",
        "colab": {
          "base_uri": "https://localhost:8080/"
        },
        "outputId": "d678138b-8238-4618-cce4-15411641ddd8"
      },
      "execution_count": 49,
      "outputs": [
        {
          "output_type": "execute_result",
          "data": {
            "text/plain": [
              "TfidfVectorizer(lowercase=False,\n",
              "                stop_words={'a', 'aan', 'abbia', 'abbiamo', 'abbiano',\n",
              "                            'abbiate', 'aber', 'about', 'above', 'acaba', 'ad',\n",
              "                            'after', 'again', 'against', 'agl', 'agli', 'ai',\n",
              "                            'aie', 'aient', 'aies', 'ain', 'ait', 'al', 'algo',\n",
              "                            'algunas', 'algunos', 'all', 'alla', 'alle',\n",
              "                            'allem', ...})"
            ]
          },
          "metadata": {},
          "execution_count": 49
        }
      ]
    },
    {
      "cell_type": "code",
      "source": [
        "df_tf = vector.fit_transform(df_1['content'])\n",
        "df_tf"
      ],
      "metadata": {
        "colab": {
          "base_uri": "https://localhost:8080/"
        },
        "id": "DJ1QSEAM3OPr",
        "outputId": "bdba2616-7933-4c67-d375-728bbdfd8a48"
      },
      "execution_count": 50,
      "outputs": [
        {
          "output_type": "execute_result",
          "data": {
            "text/plain": [
              "<4155x10761 sparse matrix of type '<class 'numpy.float64'>'\n",
              "\twith 221578 stored elements in Compressed Sparse Row format>"
            ]
          },
          "metadata": {},
          "execution_count": 50
        }
      ]
    },
    {
      "cell_type": "markdown",
      "source": [
        "##x,y"
      ],
      "metadata": {
        "id": "9Bsc5iNj2eLU"
      }
    },
    {
      "cell_type": "code",
      "source": [
        "x1 = df_tf\n",
        "x1"
      ],
      "metadata": {
        "colab": {
          "base_uri": "https://localhost:8080/"
        },
        "id": "sKF0VrBP2bgI",
        "outputId": "c515f108-f9c5-45d3-b0e7-f0d1d980b551"
      },
      "execution_count": 51,
      "outputs": [
        {
          "output_type": "execute_result",
          "data": {
            "text/plain": [
              "<4155x10761 sparse matrix of type '<class 'numpy.float64'>'\n",
              "\twith 221578 stored elements in Compressed Sparse Row format>"
            ]
          },
          "metadata": {},
          "execution_count": 51
        }
      ]
    },
    {
      "cell_type": "code",
      "source": [
        "y1 = df_1['label'].values\n",
        "y1"
      ],
      "metadata": {
        "colab": {
          "base_uri": "https://localhost:8080/"
        },
        "id": "TQbKgRiJ2rY6",
        "outputId": "6c9c98cf-42d9-49bc-ba0d-70497a7cd0df"
      },
      "execution_count": 52,
      "outputs": [
        {
          "output_type": "execute_result",
          "data": {
            "text/plain": [
              "array([1, 1, 1, ..., 0, 0, 0])"
            ]
          },
          "metadata": {},
          "execution_count": 52
        }
      ]
    },
    {
      "cell_type": "markdown",
      "source": [
        "##Test algorithms accuracy's score(before fitting)"
      ],
      "metadata": {
        "id": "faEQwUlHm5X9"
      }
    },
    {
      "cell_type": "code",
      "source": [
        "models = []\n",
        "models.append((\"LR\",linear_model.LogisticRegression()))\n",
        "models.append((\"XGB\",xgb.XGBClassifier()))\n",
        "models.append((\"Grand\",GradientBoostingClassifier()))\n",
        "models.append((\"SVM\",svm.SVC()))\n",
        "models.append((\"Forest\",RandomForestClassifier()))\n",
        "\n",
        "results = []\n",
        "names = []\n",
        "scoring = 'accuracy'\n",
        "\n",
        "for name,model in models:\n",
        "  kfold = model_selection.KFold(n_splits=10)\n",
        "  cv_results = model_selection.cross_val_score(model,x1,y1,cv=kfold,scoring=scoring)\n",
        "  results.append(cv_results)\n",
        "  names.append(name)\n",
        "  msg = \"%s: %f (%f)\" % (name, cv_results.mean(), cv_results.std())\n",
        "  print(msg)"
      ],
      "metadata": {
        "colab": {
          "base_uri": "https://localhost:8080/"
        },
        "id": "akrgww2vm9li",
        "outputId": "e111637a-2046-44a7-e573-f4ff271293c7"
      },
      "execution_count": 53,
      "outputs": [
        {
          "output_type": "stream",
          "name": "stdout",
          "text": [
            "LR: 0.991809 (0.009469)\n",
            "XGB: 0.997351 (0.005945)\n",
            "Grand: 0.996870 (0.006818)\n",
            "SVM: 0.994461 (0.006099)\n",
            "Forest: 0.992052 (0.008419)\n"
          ]
        }
      ]
    },
    {
      "cell_type": "code",
      "source": [
        "fig = plt.figure()\n",
        "fig.suptitle('Algorithm Comparison')\n",
        "ax = fig.add_subplot(111)\n",
        "plt.boxplot(results)\n",
        "ax.set_xticklabels(names)\n",
        "plt.show()"
      ],
      "metadata": {
        "colab": {
          "base_uri": "https://localhost:8080/",
          "height": 294
        },
        "id": "msTZDuaKUI38",
        "outputId": "79a4eee0-f079-4b19-95db-5a3b68b9f432"
      },
      "execution_count": 54,
      "outputs": [
        {
          "output_type": "display_data",
          "data": {
            "image/png": "[encoded data removed]",
            "text/plain": [
              "<Figure size 432x288 with 1 Axes>"
            ]
          },
          "metadata": {
            "needs_background": "light"
          }
        }
      ]
    },
    {
      "cell_type": "markdown",
      "source": [
        "##split dataset into train and test"
      ],
      "metadata": {
        "id": "bOWF1zB8jBsL"
      }
    },
    {
      "cell_type": "code",
      "source": [
        "x1_train,x1_test,y1_train,y1_test = model_selection.train_test_split(\n",
        "    x1,y1,\n",
        "    test_size=0.3,\n",
        "    random_state=42,\n",
        "    shuffle=True,\n",
        "    stratify=y1\n",
        ")\n",
        "\n",
        "x1_train.shape,x1_test.shape,y1_train.shape,y1_test.shape"
      ],
      "metadata": {
        "colab": {
          "base_uri": "https://localhost:8080/"
        },
        "id": "gWL58BlwUAAQ",
        "outputId": "ad54602f-1cc4-4fd6-ca64-40fffa2d254e"
      },
      "execution_count": 55,
      "outputs": [
        {
          "output_type": "execute_result",
          "data": {
            "text/plain": [
              "((2908, 10761), (1247, 10761), (2908,), (1247,))"
            ]
          },
          "metadata": {},
          "execution_count": 55
        }
      ]
    },
    {
      "cell_type": "markdown",
      "source": [
        "##Logistic regression "
      ],
      "metadata": {
        "id": "lZo8HqrNlz-f"
      }
    },
    {
      "cell_type": "code",
      "source": [
        "logistic_model_1 = linear_model.LogisticRegression()\n",
        "logistic_model_1.fit(x1_train,y1_train)"
      ],
      "metadata": {
        "colab": {
          "base_uri": "https://localhost:8080/"
        },
        "id": "D96EeD20l8LZ",
        "outputId": "b2577173-a965-4b4d-fb66-bfe8530eebd7"
      },
      "execution_count": 60,
      "outputs": [
        {
          "output_type": "execute_result",
          "data": {
            "text/plain": [
              "LogisticRegression()"
            ]
          },
          "metadata": {},
          "execution_count": 60
        }
      ]
    },
    {
      "cell_type": "code",
      "source": [
        "log_pred1_train = logistic_model_1.predict(x1_train)\n",
        "log_pred1_test = logistic_model_1.predict(x1_test)"
      ],
      "metadata": {
        "id": "phE5VCYux11D"
      },
      "execution_count": 61,
      "outputs": []
    },
    {
      "cell_type": "code",
      "source": [
        "print(f'Training Score: \\n{metrics.classification_report(y1_train,log_pred1_train)}')"
      ],
      "metadata": {
        "colab": {
          "base_uri": "https://localhost:8080/"
        },
        "id": "q1CXvqcf24Xc",
        "outputId": "5f697a34-c7e1-4001-851b-d2b7d8224d75"
      },
      "execution_count": 62,
      "outputs": [
        {
          "output_type": "stream",
          "name": "stdout",
          "text": [
            "Training Score: \n",
            "              precision    recall  f1-score   support\n",
            "\n",
            "           0       1.00      0.99      1.00       936\n",
            "           1       1.00      1.00      1.00      1972\n",
            "\n",
            "    accuracy                           1.00      2908\n",
            "   macro avg       1.00      1.00      1.00      2908\n",
            "weighted avg       1.00      1.00      1.00      2908\n",
            "\n"
          ]
        }
      ]
    },
    {
      "cell_type": "code",
      "source": [
        "print(f'Testing Score: \\n{metrics.classification_report(y1_test,log_pred1_test)}')"
      ],
      "metadata": {
        "colab": {
          "base_uri": "https://localhost:8080/"
        },
        "id": "n-0DJ-1-1tGN",
        "outputId": "0d117081-0b72-419b-8c81-6b2030a67040"
      },
      "execution_count": 63,
      "outputs": [
        {
          "output_type": "stream",
          "name": "stdout",
          "text": [
            "Testing Score: \n",
            "              precision    recall  f1-score   support\n",
            "\n",
            "           0       0.99      0.99      0.99       401\n",
            "           1       0.99      1.00      1.00       846\n",
            "\n",
            "    accuracy                           0.99      1247\n",
            "   macro avg       0.99      0.99      0.99      1247\n",
            "weighted avg       0.99      0.99      0.99      1247\n",
            "\n"
          ]
        }
      ]
    },
    {
      "cell_type": "code",
      "source": [
        "confusion_matrix=metrics.confusion_matrix(y1_test,log_pred1_test)\n",
        "fig= plot_confusion_matrix(conf_mat=confusion_matrix,cmap=plt.cm.bone_r,figsize=(10,10))\n",
        "plt.xlabel('Prediction',fontsize=16)\n",
        "plt.ylabel('Actual',fontsize=16)\n",
        "plt.title('Confusion Matrix',fontsize=16)\n",
        "plt.show()"
      ],
      "metadata": {
        "colab": {
          "base_uri": "https://localhost:8080/",
          "height": 656
        },
        "id": "26lu9uge1_0J",
        "outputId": "c377b46f-f4e4-4428-8d0f-ec7a49876133"
      },
      "execution_count": 64,
      "outputs": [
        {
          "output_type": "display_data",
          "data": {
            "image/png": "[encoded data removed]",
            "text/plain": [
              "<Figure size 720x720 with 1 Axes>"
            ]
          },
          "metadata": {
            "needs_background": "light"
          }
        }
      ]
    },
    {
      "cell_type": "markdown",
      "source": [
        "##XGBoost"
      ],
      "metadata": {
        "id": "8bapB2PYkWoD"
      }
    },
    {
      "cell_type": "code",
      "source": [
        "xgb_model_1 = xgb.XGBClassifier()\n",
        "xgb_model_1.fit(x1_train,y1_train)"
      ],
      "metadata": {
        "colab": {
          "base_uri": "https://localhost:8080/"
        },
        "id": "iRotvIwdkfbC",
        "outputId": "5bd424e9-9d98-413e-dc4f-877187bcc39d"
      },
      "execution_count": 65,
      "outputs": [
        {
          "output_type": "execute_result",
          "data": {
            "text/plain": [
              "XGBClassifier()"
            ]
          },
          "metadata": {},
          "execution_count": 65
        }
      ]
    },
    {
      "cell_type": "code",
      "source": [
        "xgb_pred1_train = xgb_model_1.predict(x1_train)\n",
        "xgb_pred1_test = xgb_model_1.predict(x1_test)"
      ],
      "metadata": {
        "id": "3tlR3WS_3kJR"
      },
      "execution_count": 66,
      "outputs": []
    },
    {
      "cell_type": "code",
      "source": [
        "print(f'Training Score: \\n{metrics.classification_report(y1_train,xgb_pred1_train)}')"
      ],
      "metadata": {
        "colab": {
          "base_uri": "https://localhost:8080/"
        },
        "id": "xnnw3kBi4PcZ",
        "outputId": "0a69d776-8039-47a8-ef9e-c704607ec6ff"
      },
      "execution_count": 67,
      "outputs": [
        {
          "output_type": "stream",
          "name": "stdout",
          "text": [
            "Training Score: \n",
            "              precision    recall  f1-score   support\n",
            "\n",
            "           0       1.00      1.00      1.00       936\n",
            "           1       1.00      1.00      1.00      1972\n",
            "\n",
            "    accuracy                           1.00      2908\n",
            "   macro avg       1.00      1.00      1.00      2908\n",
            "weighted avg       1.00      1.00      1.00      2908\n",
            "\n"
          ]
        }
      ]
    },
    {
      "cell_type": "code",
      "source": [
        "print(f'Testing Score: \\n{metrics.classification_report(y1_test,xgb_pred1_test)}')"
      ],
      "metadata": {
        "colab": {
          "base_uri": "https://localhost:8080/"
        },
        "id": "BQFY0s6h4nvC",
        "outputId": "118b61fe-c7e1-4bd3-bcc8-bfda9bef7692"
      },
      "execution_count": 68,
      "outputs": [
        {
          "output_type": "stream",
          "name": "stdout",
          "text": [
            "Testing Score: \n",
            "              precision    recall  f1-score   support\n",
            "\n",
            "           0       1.00      1.00      1.00       401\n",
            "           1       1.00      1.00      1.00       846\n",
            "\n",
            "    accuracy                           1.00      1247\n",
            "   macro avg       1.00      1.00      1.00      1247\n",
            "weighted avg       1.00      1.00      1.00      1247\n",
            "\n"
          ]
        }
      ]
    },
    {
      "cell_type": "code",
      "source": [
        "confusion_matrix=metrics.confusion_matrix(y1_test,xgb_pred1_test)\n",
        "fig= plot_confusion_matrix(conf_mat=confusion_matrix,cmap=plt.cm.bone_r,figsize=(10,10))\n",
        "plt.xlabel('Prediction',fontsize=16)\n",
        "plt.ylabel('Actual',fontsize=16)\n",
        "plt.title('Confusion Matrix',fontsize=16)\n",
        "plt.show()"
      ],
      "metadata": {
        "colab": {
          "base_uri": "https://localhost:8080/",
          "height": 656
        },
        "id": "j8eA7TOS4wdK",
        "outputId": "0eab6e27-10f6-4960-a182-31476999ace2"
      },
      "execution_count": 69,
      "outputs": [
        {
          "output_type": "display_data",
          "data": {
            "image/png": "[encoded data removed]",
            "text/plain": [
              "<Figure size 720x720 with 1 Axes>"
            ]
          },
          "metadata": {
            "needs_background": "light"
          }
        }
      ]
    },
    {
      "cell_type": "markdown",
      "source": [
        "##Gradient Boosting"
      ],
      "metadata": {
        "id": "VOdShLdx-TSf"
      }
    },
    {
      "cell_type": "code",
      "source": [
        "grad_model_1 = GradientBoostingClassifier()\n",
        "grad_model_1.fit(x1_train,y1_train)"
      ],
      "metadata": {
        "colab": {
          "base_uri": "https://localhost:8080/"
        },
        "id": "4FjBPsLY-V07",
        "outputId": "9046add1-a8bc-4589-c91a-688ff29b462c"
      },
      "execution_count": 70,
      "outputs": [
        {
          "output_type": "execute_result",
          "data": {
            "text/plain": [
              "GradientBoostingClassifier()"
            ]
          },
          "metadata": {},
          "execution_count": 70
        }
      ]
    },
    {
      "cell_type": "code",
      "source": [
        "grad_pred1_train = grad_model_1.predict(x1_train)\n",
        "grad_pred1_test = grad_model_1.predict(x1_test)"
      ],
      "metadata": {
        "id": "2xsxOra3-rst"
      },
      "execution_count": 71,
      "outputs": []
    },
    {
      "cell_type": "code",
      "source": [
        "print(f'Training Score: \\n{metrics.classification_report(y1_train,grad_pred1_train)}')"
      ],
      "metadata": {
        "colab": {
          "base_uri": "https://localhost:8080/"
        },
        "id": "o2FtcD3a_C3D",
        "outputId": "3e91cbe4-8439-45ad-efe1-d1b92721250f"
      },
      "execution_count": 72,
      "outputs": [
        {
          "output_type": "stream",
          "name": "stdout",
          "text": [
            "Training Score: \n",
            "              precision    recall  f1-score   support\n",
            "\n",
            "           0       1.00      1.00      1.00       936\n",
            "           1       1.00      1.00      1.00      1972\n",
            "\n",
            "    accuracy                           1.00      2908\n",
            "   macro avg       1.00      1.00      1.00      2908\n",
            "weighted avg       1.00      1.00      1.00      2908\n",
            "\n"
          ]
        }
      ]
    },
    {
      "cell_type": "code",
      "source": [
        "print(f'Testing Score: \\n{metrics.classification_report(y1_test,grad_pred1_test)}')"
      ],
      "metadata": {
        "colab": {
          "base_uri": "https://localhost:8080/"
        },
        "id": "KxbOByDh_I1I",
        "outputId": "b8be4585-a4f2-47d4-dfca-31c9e9220745"
      },
      "execution_count": 73,
      "outputs": [
        {
          "output_type": "stream",
          "name": "stdout",
          "text": [
            "Testing Score: \n",
            "              precision    recall  f1-score   support\n",
            "\n",
            "           0       1.00      1.00      1.00       401\n",
            "           1       1.00      1.00      1.00       846\n",
            "\n",
            "    accuracy                           1.00      1247\n",
            "   macro avg       1.00      1.00      1.00      1247\n",
            "weighted avg       1.00      1.00      1.00      1247\n",
            "\n"
          ]
        }
      ]
    },
    {
      "cell_type": "code",
      "source": [
        "confusion_matrix=metrics.confusion_matrix(y1_test,grad_pred1_test)\n",
        "fig= plot_confusion_matrix(conf_mat=confusion_matrix,cmap=plt.cm.bone_r,figsize=(10,10))\n",
        "plt.xlabel('Prediction',fontsize=16)\n",
        "plt.ylabel('Actual',fontsize=16)\n",
        "plt.title('Confusion Matrix',fontsize=16)\n",
        "plt.show()"
      ],
      "metadata": {
        "colab": {
          "base_uri": "https://localhost:8080/",
          "height": 656
        },
        "id": "90QJeA6B_PUo",
        "outputId": "4df613dc-756b-4831-a35b-99f54379c2e5"
      },
      "execution_count": 74,
      "outputs": [
        {
          "output_type": "display_data",
          "data": {
            "image/png": "[encoded data removed]",
            "text/plain": [
              "<Figure size 720x720 with 1 Axes>"
            ]
          },
          "metadata": {
            "needs_background": "light"
          }
        }
      ]
    },
    {
      "cell_type": "markdown",
      "source": [
        "##SVM"
      ],
      "metadata": {
        "id": "qKFTbNZ18Krd"
      }
    },
    {
      "cell_type": "code",
      "source": [
        "svm_model_1 = svm.SVC()\n",
        "svm_model_1.fit(x1_train,y1_train)"
      ],
      "metadata": {
        "colab": {
          "base_uri": "https://localhost:8080/"
        },
        "id": "40G1f-dh8MQv",
        "outputId": "82a8c64f-0467-4013-a803-4a32100972b3"
      },
      "execution_count": 75,
      "outputs": [
        {
          "output_type": "execute_result",
          "data": {
            "text/plain": [
              "SVC()"
            ]
          },
          "metadata": {},
          "execution_count": 75
        }
      ]
    },
    {
      "cell_type": "code",
      "source": [
        "svm_pred1_train = svm_model_1.predict(x1_train)\n",
        "svm_pred1_test = svm_model_1.predict(x1_test)"
      ],
      "metadata": {
        "id": "5HyHvU6W8aiC"
      },
      "execution_count": 76,
      "outputs": []
    },
    {
      "cell_type": "code",
      "source": [
        "print(f'Training Score: \\n{metrics.classification_report(y1_train,svm_pred1_train)}')"
      ],
      "metadata": {
        "colab": {
          "base_uri": "https://localhost:8080/"
        },
        "id": "Y5Ktt3J78wrK",
        "outputId": "57b3b06a-3f07-4dd1-c3e5-2a53f5fe206b"
      },
      "execution_count": 77,
      "outputs": [
        {
          "output_type": "stream",
          "name": "stdout",
          "text": [
            "Training Score: \n",
            "              precision    recall  f1-score   support\n",
            "\n",
            "           0       1.00      1.00      1.00       936\n",
            "           1       1.00      1.00      1.00      1972\n",
            "\n",
            "    accuracy                           1.00      2908\n",
            "   macro avg       1.00      1.00      1.00      2908\n",
            "weighted avg       1.00      1.00      1.00      2908\n",
            "\n"
          ]
        }
      ]
    },
    {
      "cell_type": "code",
      "source": [
        "print(f'Testing Score: \\n{metrics.classification_report(y1_test,svm_pred1_test)}')"
      ],
      "metadata": {
        "colab": {
          "base_uri": "https://localhost:8080/"
        },
        "id": "-F5KQDXg837k",
        "outputId": "0966cd3a-d530-42c7-e4f7-888288c3868d"
      },
      "execution_count": 78,
      "outputs": [
        {
          "output_type": "stream",
          "name": "stdout",
          "text": [
            "Testing Score: \n",
            "              precision    recall  f1-score   support\n",
            "\n",
            "           0       0.99      0.99      0.99       401\n",
            "           1       1.00      1.00      1.00       846\n",
            "\n",
            "    accuracy                           0.99      1247\n",
            "   macro avg       0.99      0.99      0.99      1247\n",
            "weighted avg       0.99      0.99      0.99      1247\n",
            "\n"
          ]
        }
      ]
    },
    {
      "cell_type": "code",
      "source": [
        "confusion_matrix=metrics.confusion_matrix(y1_test,svm_pred1_test)\n",
        "fig= plot_confusion_matrix(conf_mat=confusion_matrix,cmap=plt.cm.bone_r,figsize=(10,10))\n",
        "plt.xlabel('Prediction',fontsize=16)\n",
        "plt.ylabel('Actual',fontsize=16)\n",
        "plt.title('Confusion Matrix',fontsize=16)\n",
        "plt.show()"
      ],
      "metadata": {
        "colab": {
          "base_uri": "https://localhost:8080/",
          "height": 656
        },
        "id": "tWQJL4n_9A5t",
        "outputId": "8ea71f87-e0ab-4745-b115-a7c9cda843dc"
      },
      "execution_count": 79,
      "outputs": [
        {
          "output_type": "display_data",
          "data": {
            "image/png": "[encoded data removed]",
            "text/plain": [
              "<Figure size 720x720 with 1 Axes>"
            ]
          },
          "metadata": {
            "needs_background": "light"
          }
        }
      ]
    },
    {
      "cell_type": "markdown",
      "source": [
        "##Random Forest"
      ],
      "metadata": {
        "id": "w-msRYupuz4R"
      }
    },
    {
      "cell_type": "code",
      "source": [
        "forest_1 = RandomForestClassifier()\n",
        "forest_1.fit(x1_train,y1_train)"
      ],
      "metadata": {
        "colab": {
          "base_uri": "https://localhost:8080/"
        },
        "id": "JebBKaRxu3PH",
        "outputId": "485c2003-4bfc-47e3-8fd9-e18c4860a8f7"
      },
      "execution_count": 80,
      "outputs": [
        {
          "output_type": "execute_result",
          "data": {
            "text/plain": [
              "RandomForestClassifier()"
            ]
          },
          "metadata": {},
          "execution_count": 80
        }
      ]
    },
    {
      "cell_type": "code",
      "source": [
        "forest_pred1_train = forest_1.predict(x1_train)\n",
        "forest_pred1_test = forest_1.predict(x1_test)"
      ],
      "metadata": {
        "id": "PRiqeQEawJzQ"
      },
      "execution_count": 81,
      "outputs": []
    },
    {
      "cell_type": "code",
      "source": [
        "print(f'Training Score: \\n{metrics.classification_report(y1_train,forest_pred1_train)}')"
      ],
      "metadata": {
        "colab": {
          "base_uri": "https://localhost:8080/"
        },
        "id": "5XkVB3JGwkty",
        "outputId": "e3b3c084-50a5-43e7-ee16-77941f5c05b1"
      },
      "execution_count": 82,
      "outputs": [
        {
          "output_type": "stream",
          "name": "stdout",
          "text": [
            "Training Score: \n",
            "              precision    recall  f1-score   support\n",
            "\n",
            "           0       1.00      1.00      1.00       936\n",
            "           1       1.00      1.00      1.00      1972\n",
            "\n",
            "    accuracy                           1.00      2908\n",
            "   macro avg       1.00      1.00      1.00      2908\n",
            "weighted avg       1.00      1.00      1.00      2908\n",
            "\n"
          ]
        }
      ]
    },
    {
      "cell_type": "code",
      "source": [
        "print(f'Testing Score: \\n{metrics.classification_report(y1_test,forest_pred1_test)}')"
      ],
      "metadata": {
        "colab": {
          "base_uri": "https://localhost:8080/"
        },
        "id": "q61YwGVZw0vR",
        "outputId": "292977fe-dc8b-4ceb-9d6f-3e8e3029009c"
      },
      "execution_count": 83,
      "outputs": [
        {
          "output_type": "stream",
          "name": "stdout",
          "text": [
            "Testing Score: \n",
            "              precision    recall  f1-score   support\n",
            "\n",
            "           0       0.99      0.99      0.99       401\n",
            "           1       0.99      1.00      1.00       846\n",
            "\n",
            "    accuracy                           0.99      1247\n",
            "   macro avg       0.99      0.99      0.99      1247\n",
            "weighted avg       0.99      0.99      0.99      1247\n",
            "\n"
          ]
        }
      ]
    },
    {
      "cell_type": "code",
      "source": [
        "confusion_matrix=metrics.confusion_matrix(y1_test,forest_pred1_test)\n",
        "fig= plot_confusion_matrix(conf_mat=confusion_matrix,cmap=plt.cm.bone_r,figsize=(10,10))\n",
        "plt.xlabel('Prediction',fontsize=16)\n",
        "plt.ylabel('Actual',fontsize=16)\n",
        "plt.title('Confusion Matrix',fontsize=16)\n",
        "plt.show()"
      ],
      "metadata": {
        "colab": {
          "base_uri": "https://localhost:8080/",
          "height": 656
        },
        "id": "JvN-hiGIw7m9",
        "outputId": "6164dc2e-3e35-4399-b507-4d11e52f25ab"
      },
      "execution_count": 84,
      "outputs": [
        {
          "output_type": "display_data",
          "data": {
            "image/png": "[encoded data removed]",
            "text/plain": [
              "<Figure size 720x720 with 1 Axes>"
            ]
          },
          "metadata": {
            "needs_background": "light"
          }
        }
      ]
    },
    {
      "cell_type": "markdown",
      "source": [
        "##Testing new data "
      ],
      "metadata": {
        "id": "BhW75pddzimi"
      }
    },
    {
      "cell_type": "code",
      "source": [
        "def output_label(n):\n",
        "  if n == 0:\n",
        "    return \"Fake Acoount\"\n",
        "  elif n ==1:\n",
        "    return \"Not Fake Account\"  "
      ],
      "metadata": {
        "id": "AjnR1lkcznKX"
      },
      "execution_count": 85,
      "outputs": []
    },
    {
      "cell_type": "code",
      "source": [
        "def Prediction(statuses_count,followers_count,friends_count,\n",
        "               favourites_count,listed_count,lang,\n",
        "               time_zone,geo_enabled,profile_use_background_image,\n",
        "               profile_text_color,profile_sidebar_border_color,\n",
        "               profile_background_tile,profile_sidebar_fill_color,\n",
        "               profile_background_color,profile_link_color,\n",
        "               utc_offset,description):\n",
        "\n",
        "\n",
        "  a = {\"statuses_count\":[statuses_count]} \n",
        "  new_a = pd.DataFrame(a)\n",
        "  new_a_test = new_a[\"statuses_count\"]\n",
        "\n",
        "  b = {\"followers_count\":[followers_count]}\n",
        "  new_b = pd.DataFrame(b)\n",
        "  new_b_test = new_b[\"followers_count\"]\n",
        "\n",
        "  c = {\"friends_count\":[friends_count]}\n",
        "  new_c = pd.DataFrame(c)\n",
        "  new_c_test = new_c[\"friends_count\"]\n",
        "\n",
        "  d = {\"favourites_count\":[favourites_count]}\n",
        "  new_d = pd.DataFrame(d)\n",
        "  new_d_test = new_d[\"favourites_count\"]\n",
        "\n",
        "  e = {\"listed_count\":[listed_count]}\n",
        "  new_e = pd.DataFrame(e)\n",
        "  new_e_test = new_e[\"listed_count\"]\n",
        "\n",
        "  f = {\"lang\":[lang]}\n",
        "  new_f = pd.DataFrame(f)\n",
        "  new_f_test = new_f[\"lang\"]\n",
        "\n",
        "  g = {\"time_zone\":[time_zone]}\n",
        "  new_g = pd.DataFrame(g)\n",
        "  new_g_test = new_g[\"time_zone\"]\n",
        "\n",
        "  h = {\"geo_enabled\":[geo_enabled]}\n",
        "  new_h = pd.DataFrame(h)\n",
        "  new_h_test = new_h[\"geo_enabled\"]\n",
        "\n",
        "  i = {\"profile_use_background_image\":[profile_use_background_image]}\n",
        "  new_i = pd.DataFrame(i)\n",
        "  new_i_test = new_i[\"profile_use_background_image\"]\n",
        "\n",
        "  j = {\"profile_text_color\":[profile_text_color]}\n",
        "  new_j = pd.DataFrame(j)\n",
        "  new_j_test = new_j[\"profile_text_color\"]\n",
        "\n",
        "  k = {\"profile_sidebar_border_color\":[profile_sidebar_border_color]}\n",
        "  new_k = pd.DataFrame(k)\n",
        "  new_k_test = new_k[\"profile_sidebar_border_color\"]\n",
        "\n",
        "  l = {\"profile_background_tile\":[profile_background_tile]}\n",
        "  new_l = pd.DataFrame(l)\n",
        "  new_l_test = new_l[\"profile_background_tile\"]\n",
        "\n",
        "  m = {\"profile_sidebar_fill_color\":[profile_sidebar_fill_color]}\n",
        "  new_m = pd.DataFrame(m)\n",
        "  new_m_test = new_m[\"profile_sidebar_fill_color\"]\n",
        "\n",
        "  n = {\"profile_background_color\":[profile_background_color]}\n",
        "  new_n = pd.DataFrame(n)\n",
        "  new_n_test = new_n[\"profile_background_color\"]\n",
        "\n",
        "  o = {\"profile_link_color\":[profile_link_color]}\n",
        "  new_o = pd.DataFrame(o)\n",
        "  new_o_test = new_o[\"profile_link_color\"]\n",
        "\n",
        "  p = {\"utc_offset\":[utc_offset]}\n",
        "  new_p = pd.DataFrame(p)\n",
        "  new_p_test = new_p[\"utc_offset\"]\n",
        "\n",
        "  q = {\"description\":[description]}\n",
        "  new_q = pd.DataFrame(q)\n",
        "  new_q[\"description\"] = new_q[\"description\"].apply(prepare_description)\n",
        "  new_q_test = new_q[\"description\"]\n",
        "\n",
        "  new_alldf = new_a_test+' '+new_b_test+' '+new_c_test+' '+new_d_test+' '+new_e_test+' '+new_f_test+' '+new_g_test+' '+new_h_test+' '+new_i_test+' '+new_j_test+' '+new_k_test+' '+new_l_test+' '+new_m_test+' '+new_n_test+' '+new_o_test+' '+new_p_test+' '+new_q_test\n",
        "  new_vector = vector.transform(new_alldf)\n",
        "\n",
        "  grad_pred1_test = grad_model_1.predict(new_vector)\n",
        "\n",
        "  return print(\"\\n\\nPrediction: {}\".format(\n",
        "      output_label(grad_pred1_test)\n",
        "  ))"
      ],
      "metadata": {
        "id": "OrcHdcCE3BFL"
      },
      "execution_count": 86,
      "outputs": []
    },
    {
      "cell_type": "code",
      "source": [
        "statuses_count = str(input())\n",
        "followers_count = str(input())\n",
        "friends_count = str(input())\n",
        "favourites_count = str(input())\n",
        "listed_count = str(input())\n",
        "lang = str(input())\n",
        "time_zone = str(input())\n",
        "geo_enabled = str(input())\n",
        "profile_use_background_image = str(input())\n",
        "profile_text_color = str(input())\n",
        "profile_sidebar_border_color = str(input())\n",
        "profile_background_tile = str(input())\n",
        "profile_sidebar_fill_color = str(input())\n",
        "profile_background_color = str(input())\n",
        "profile_link_color = str(input())\n",
        "utc_offset = str(input())\n",
        "description = str(input())\n",
        "\n",
        "\n",
        "Prediction(statuses_count,followers_count,friends_count,\n",
        "               favourites_count,listed_count,lang,\n",
        "               time_zone,geo_enabled,profile_use_background_image,\n",
        "               profile_text_color,profile_sidebar_border_color,\n",
        "               profile_background_tile,profile_sidebar_fill_color,\n",
        "               profile_background_color,profile_link_color,\n",
        "               utc_offset,description)"
      ],
      "metadata": {
        "colab": {
          "base_uri": "https://localhost:8080/"
        },
        "id": "jcvfSUbGoL7o",
        "outputId": "469cf76a-506f-4126-dd27-5128f4abbe61"
      },
      "execution_count": 87,
      "outputs": [
        {
          "output_type": "stream",
          "name": "stdout",
          "text": [
            "20370\n",
            "5470\n",
            "2385\n",
            "145\n",
            "52\n",
            "it\n",
            "Rome\n",
            "0\n",
            "1\n",
            "0C3E53\n",
            "F2E195\n",
            "0\n",
            "FFF7CC\n",
            "BADFCD\n",
            "FF0000\n",
            "3600\n",
            "Founder of http://www.screenweek.it & http://www.boxofficecup.com - Apple & Movie Lover find me on rebelmouse http://www.rebelmouse.com/davidedellacasa\n",
            "\n",
            "\n",
            "Prediction: Not Fake Account\n"
          ]
        }
      ]
    },
    {
      "cell_type": "markdown",
      "source": [
        "##joblib, Saving best model"
      ],
      "metadata": {
        "id": "5XVf9cHfsNNy"
      }
    },
    {
      "cell_type": "code",
      "source": [
        "from joblib import dump"
      ],
      "metadata": {
        "id": "JrajQlfysVJX"
      },
      "execution_count": 88,
      "outputs": []
    },
    {
      "cell_type": "code",
      "source": [
        "dump(grad_model_1,\"grad_model.joblib\")\n",
        "dump(vector,\"vector.joblib\")"
      ],
      "metadata": {
        "id": "ePBDpji9sZ45",
        "colab": {
          "base_uri": "https://localhost:8080/"
        },
        "outputId": "ecd1b09f-9381-46dd-8787-747baeac3531"
      },
      "execution_count": 89,
      "outputs": [
        {
          "output_type": "execute_result",
          "data": {
            "text/plain": [
              "['vector.joblib']"
            ]
          },
          "metadata": {},
          "execution_count": 89
        }
      ]
    }
  ]
}